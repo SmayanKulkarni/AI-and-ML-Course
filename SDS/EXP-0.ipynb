{
 "cells": [
  {
   "cell_type": "markdown",
   "metadata": {},
   "source": [
    "Question: Write a comment in Python. "
   ]
  },
  {
   "cell_type": "code",
   "execution_count": 1,
   "metadata": {},
   "outputs": [],
   "source": [
    "#this is a comment in python"
   ]
  },
  {
   "cell_type": "markdown",
   "metadata": {},
   "source": [
    "Question: Write a multiline comment/paragraph in Python"
   ]
  },
  {
   "cell_type": "code",
   "execution_count": 2,
   "metadata": {},
   "outputs": [
    {
     "data": {
      "text/plain": [
       "'\\nthis is a multiline comment in python\\n'"
      ]
     },
     "execution_count": 2,
     "metadata": {},
     "output_type": "execute_result"
    }
   ],
   "source": [
    "\"\"\"\n",
    "this is a multiline comment in python\n",
    "\"\"\""
   ]
  },
  {
   "cell_type": "markdown",
   "metadata": {},
   "source": [
    "Question: Write a program to print an integer, float, string, complex number, Boolean, and bytes in Python and display their data type."
   ]
  },
  {
   "cell_type": "code",
   "execution_count": 3,
   "metadata": {},
   "outputs": [
    {
     "name": "stdout",
     "output_type": "stream",
     "text": [
      "5\n",
      "234.12123\n",
      "This is a string\n",
      "(5+3j)\n",
      "True\n"
     ]
    }
   ],
   "source": [
    "i  = 5\n",
    "print(i)\n",
    "i = 234.12123\n",
    "print(i)\n",
    "str = \"This is a string\"\n",
    "print(str)\n",
    "x = 5\n",
    "y = 3\n",
    "print(complex(x, y))\n",
    "a = True\n",
    "print(a)"
   ]
  },
  {
   "cell_type": "markdown",
   "metadata": {},
   "source": [
    "Question: Write a program to create a list. Collect heterogenous data in it."
   ]
  },
  {
   "cell_type": "code",
   "execution_count": 4,
   "metadata": {},
   "outputs": [
    {
     "name": "stdout",
     "output_type": "stream",
     "text": [
      "[4, 2, 1, 'this', True, [3, 5, 3, 1]]\n"
     ]
    }
   ],
   "source": [
    "heterogenous = [4,2,1,\"this\", True, [3,5,3,1]]\n",
    "print(heterogenous)"
   ]
  },
  {
   "cell_type": "markdown",
   "metadata": {},
   "source": [
    "Question: Write a program to print a list."
   ]
  },
  {
   "cell_type": "code",
   "execution_count": 5,
   "metadata": {},
   "outputs": [
    {
     "name": "stdout",
     "output_type": "stream",
     "text": [
      "[4, 2, 1, 'this', True, [3, 5, 3, 1]]\n"
     ]
    }
   ],
   "source": [
    "print(heterogenous)"
   ]
  },
  {
   "cell_type": "markdown",
   "metadata": {},
   "source": [
    "Question: Write a program to print a new list. Append an item in this list"
   ]
  },
  {
   "cell_type": "code",
   "execution_count": 6,
   "metadata": {},
   "outputs": [
    {
     "name": "stdout",
     "output_type": "stream",
     "text": [
      "[4, 2, 1, 'this', True, [3, 5, 3, 1], 34]\n"
     ]
    }
   ],
   "source": [
    "heterogenous.append(34)\n",
    "print(heterogenous)"
   ]
  },
  {
   "cell_type": "markdown",
   "metadata": {},
   "source": [
    "Question: Write a program to make a copy of the previous lis"
   ]
  },
  {
   "cell_type": "code",
   "execution_count": 7,
   "metadata": {},
   "outputs": [
    {
     "name": "stdout",
     "output_type": "stream",
     "text": [
      "[4, 2, 1, 'this', True, [3, 5, 3, 1], 34]\n"
     ]
    }
   ],
   "source": [
    "het = heterogenous.copy()\n",
    "print(het)"
   ]
  },
  {
   "cell_type": "markdown",
   "metadata": {},
   "source": [
    "Question: Write a program to concatenate 2 lists and print the output"
   ]
  },
  {
   "cell_type": "code",
   "execution_count": 8,
   "metadata": {},
   "outputs": [
    {
     "name": "stdout",
     "output_type": "stream",
     "text": [
      "[4, 2, 1, 'this', True, [3, 5, 3, 1], 34, 4, 2, 1, 'this', True, [3, 5, 3, 1], 34]\n"
     ]
    }
   ],
   "source": [
    "list2 = het + heterogenous\n",
    "print(list2)"
   ]
  },
  {
   "cell_type": "markdown",
   "metadata": {},
   "source": [
    "Question: Write a program to count the number of elements present in a list."
   ]
  },
  {
   "cell_type": "code",
   "execution_count": 9,
   "metadata": {},
   "outputs": [
    {
     "name": "stdout",
     "output_type": "stream",
     "text": [
      "[4, 2, 1, 'this', True, [3, 5, 3, 1], 34, 4, 2, 1, 'this', True, [3, 5, 3, 1], 34]\n",
      "The length of the list is:  14\n"
     ]
    }
   ],
   "source": [
    "print(list2)\n",
    "print(\"The length of the list is: \",len(list2))"
   ]
  },
  {
   "cell_type": "markdown",
   "metadata": {},
   "source": [
    "Question: Write a program to print the length of a list."
   ]
  },
  {
   "cell_type": "code",
   "execution_count": 10,
   "metadata": {},
   "outputs": [
    {
     "name": "stdout",
     "output_type": "stream",
     "text": [
      "[4, 2, 1, 'this', True, [3, 5, 3, 1], 34, 4, 2, 1, 'this', True, [3, 5, 3, 1], 34]\n",
      "The length of the list is:  14\n"
     ]
    }
   ],
   "source": [
    "print(list2)\n",
    "print(\"The length of the list is: \",len(list2))"
   ]
  },
  {
   "cell_type": "markdown",
   "metadata": {},
   "source": [
    "Question: Write a program to append more than 1 item in a list."
   ]
  },
  {
   "cell_type": "code",
   "execution_count": 11,
   "metadata": {},
   "outputs": [
    {
     "name": "stdout",
     "output_type": "stream",
     "text": [
      "[4, 2, 1, 'this', True, [3, 5, 3, 1], 34, 4, 2, 1, 'this', True, [3, 5, 3, 1], 34, 5, 4]\n"
     ]
    }
   ],
   "source": [
    "list2.extend([5,4])\n",
    "print(list2)"
   ]
  },
  {
   "cell_type": "markdown",
   "metadata": {},
   "source": [
    "Question: Write a program to extend a list."
   ]
  },
  {
   "cell_type": "code",
   "execution_count": 12,
   "metadata": {},
   "outputs": [
    {
     "name": "stdout",
     "output_type": "stream",
     "text": [
      "[4, 2, 1, 'this', True, [3, 5, 3, 1], 34, 4, 2, 1, 'this', True, [3, 5, 3, 1], 34, 5, 4, 5, 4]\n"
     ]
    }
   ],
   "source": [
    "list2.extend([5,4])\n",
    "print(list2)"
   ]
  },
  {
   "cell_type": "markdown",
   "metadata": {},
   "source": [
    "Question: Write a program to insert a value at a position in a list."
   ]
  },
  {
   "cell_type": "code",
   "execution_count": 13,
   "metadata": {},
   "outputs": [
    {
     "name": "stdout",
     "output_type": "stream",
     "text": [
      "[4, 2, 1, 'this', 3, True, [3, 5, 3, 1], 34, 4, 2, 1, 'this', True, [3, 5, 3, 1], 34, 5, 4, 5, 4]\n"
     ]
    }
   ],
   "source": [
    "list2.insert(4,3)\n",
    "print(list2)"
   ]
  },
  {
   "cell_type": "markdown",
   "metadata": {},
   "source": [
    "Question: Write a program to delete a value at a given position in a list"
   ]
  },
  {
   "cell_type": "code",
   "execution_count": 14,
   "metadata": {},
   "outputs": [
    {
     "name": "stdout",
     "output_type": "stream",
     "text": [
      "[4, 2, 1, 'this', 3, True, [3, 5, 3, 1], 34, 4, 2, 1, 'this', True, [3, 5, 3, 1], 34, 5, 4, 5, 4]\n",
      "[4, 2, 1, 3, True, [3, 5, 3, 1], 34, 4, 2, 1, 'this', True, [3, 5, 3, 1], 34, 5, 4, 5, 4]\n"
     ]
    }
   ],
   "source": [
    "print(list2)\n",
    "del list2[3]\n",
    "print(list2)"
   ]
  },
  {
   "cell_type": "markdown",
   "metadata": {},
   "source": [
    "Question: Write a program to remove a value from the list."
   ]
  },
  {
   "cell_type": "code",
   "execution_count": 15,
   "metadata": {},
   "outputs": [
    {
     "name": "stdout",
     "output_type": "stream",
     "text": [
      "[4, 2, 1, 3, True, [3, 5, 3, 1], 34, 4, 2, 1, 'this', True, [3, 5, 3, 1], 34, 5, 4, 5, 4]\n",
      "[4, 2, 1, 3, True, [3, 5, 3, 1], 34, 4, 2, 1, 'this', True, [3, 5, 3, 1], 34, 5, 4, 5]\n"
     ]
    }
   ],
   "source": [
    "print(list2)\n",
    "list2.pop()\n",
    "print(list2)"
   ]
  },
  {
   "cell_type": "markdown",
   "metadata": {},
   "source": [
    "Question: Write a program to slice the data in a list. "
   ]
  },
  {
   "cell_type": "code",
   "execution_count": 16,
   "metadata": {},
   "outputs": [
    {
     "name": "stdout",
     "output_type": "stream",
     "text": [
      "[True, [3, 5, 3, 1], 34, 4, 2, 1, 'this', True, [3, 5, 3, 1], 34, 5, 4, 5]\n"
     ]
    }
   ],
   "source": [
    "print(list2[4:])"
   ]
  },
  {
   "cell_type": "markdown",
   "metadata": {},
   "source": [
    "Question: Write a program to slice data in a list using positions. "
   ]
  },
  {
   "cell_type": "markdown",
   "metadata": {},
   "source": [
    "Question: Write a program to print the last 8 elements."
   ]
  },
  {
   "cell_type": "code",
   "execution_count": 17,
   "metadata": {},
   "outputs": [
    {
     "name": "stdout",
     "output_type": "stream",
     "text": [
      "[4, 2, 1, 3, True, [3, 5, 3, 1], 34, 4]\n"
     ]
    }
   ],
   "source": [
    "print(list2[:8])"
   ]
  },
  {
   "cell_type": "markdown",
   "metadata": {},
   "source": [
    "Question: Write a program to print the last value of a lis"
   ]
  },
  {
   "cell_type": "code",
   "execution_count": 18,
   "metadata": {},
   "outputs": [
    {
     "name": "stdout",
     "output_type": "stream",
     "text": [
      "5\n"
     ]
    }
   ],
   "source": [
    "print(list2[-1])"
   ]
  },
  {
   "cell_type": "markdown",
   "metadata": {},
   "source": [
    "Question: Write a program to print the central value of a list."
   ]
  },
  {
   "cell_type": "code",
   "execution_count": 19,
   "metadata": {},
   "outputs": [
    {
     "name": "stdout",
     "output_type": "stream",
     "text": [
      "[2]\n"
     ]
    }
   ],
   "source": [
    "def find_middle_elements(arr):\n",
    "    result = []\n",
    "    n = len(arr)\n",
    "    if n % 2 == 0:\n",
    "        result.append(arr[n // 2 - 1])\n",
    "        result.append(arr[n // 2])\n",
    "    else:\n",
    "        result.append(arr[n // 2])\n",
    "\n",
    "    return result\n",
    "\n",
    "middle = find_middle_elements(list2)\n",
    "print(middle)"
   ]
  },
  {
   "cell_type": "markdown",
   "metadata": {},
   "source": [
    "Question: Write a program to create a tuple. Collect heterogenous data in it."
   ]
  },
  {
   "cell_type": "code",
   "execution_count": 20,
   "metadata": {},
   "outputs": [
    {
     "name": "stdout",
     "output_type": "stream",
     "text": [
      "([1, 2, 3, 4], 'This is a string', 3, 2, 1)\n"
     ]
    }
   ],
   "source": [
    "tup = ([1,2,3,4], \"This is a string\", 3,2,1)\n",
    "print(tup)"
   ]
  },
  {
   "cell_type": "markdown",
   "metadata": {},
   "source": [
    "Question: Write a program to print the position of an item in the tuple."
   ]
  },
  {
   "cell_type": "code",
   "execution_count": 21,
   "metadata": {},
   "outputs": [
    {
     "name": "stdout",
     "output_type": "stream",
     "text": [
      "1\n"
     ]
    }
   ],
   "source": [
    "pos = tup.index(\"This is a string\")\n",
    "print(pos)"
   ]
  },
  {
   "cell_type": "markdown",
   "metadata": {},
   "source": [
    "Question: Print a new tuple. Write a program to concatenate two tuples. "
   ]
  },
  {
   "cell_type": "code",
   "execution_count": 22,
   "metadata": {},
   "outputs": [
    {
     "name": "stdout",
     "output_type": "stream",
     "text": [
      "(4, 2, 1, 3, True, [3, 5, 3, 1], 34, 4, 2, 1, 'this', True, [3, 5, 3, 1], 34, 5, 4, 5)\n"
     ]
    }
   ],
   "source": [
    "tup2 = (4,2,1,2,3)\n",
    "ls = list(tup2)\n",
    "# list2 = list(tup) + list(tup2)\n",
    "tup = tuple(list2)\n",
    "print(tup)\n"
   ]
  },
  {
   "cell_type": "markdown",
   "metadata": {},
   "source": [
    "Question: Write a program to print the value at position 2 in the concatenated tuple."
   ]
  },
  {
   "cell_type": "code",
   "execution_count": 23,
   "metadata": {},
   "outputs": [
    {
     "name": "stdout",
     "output_type": "stream",
     "text": [
      "1\n"
     ]
    }
   ],
   "source": [
    "print(tup.index(2))"
   ]
  },
  {
   "cell_type": "markdown",
   "metadata": {},
   "source": [
    "Question: Write a program to change the element of a tuple."
   ]
  },
  {
   "cell_type": "code",
   "execution_count": 24,
   "metadata": {},
   "outputs": [
    {
     "name": "stdout",
     "output_type": "stream",
     "text": [
      "(4, 2, 234, 3, True, [3, 5, 3, 1], 34, 4, 2, 1, 'this', True, [3, 5, 3, 1], 34, 5, 4, 5)\n"
     ]
    }
   ],
   "source": [
    "ls= list(tup)\n",
    "ls[2] = 234\n",
    "tup = tuple(ls)\n",
    "print(tup)"
   ]
  },
  {
   "cell_type": "markdown",
   "metadata": {},
   "source": [
    "Question: Write a program to create and print a dictionary."
   ]
  },
  {
   "cell_type": "code",
   "execution_count": 25,
   "metadata": {},
   "outputs": [],
   "source": [
    "dic = {\"Name\" : \"Smayan\", \"id\": 23}"
   ]
  },
  {
   "cell_type": "code",
   "execution_count": 26,
   "metadata": {},
   "outputs": [
    {
     "name": "stdout",
     "output_type": "stream",
     "text": [
      "{'Name': 'Smayan', 'id': 23}\n"
     ]
    }
   ],
   "source": [
    "print(dic)"
   ]
  },
  {
   "cell_type": "markdown",
   "metadata": {},
   "source": [
    "Question: Write a program to print values of a dictionary using keys."
   ]
  },
  {
   "cell_type": "code",
   "execution_count": 27,
   "metadata": {},
   "outputs": [
    {
     "name": "stdout",
     "output_type": "stream",
     "text": [
      "Smayan\n"
     ]
    }
   ],
   "source": [
    "print(dic[\"Name\"])"
   ]
  },
  {
   "cell_type": "markdown",
   "metadata": {},
   "source": [
    "Question: Write a program to create a multidimensional dictionary."
   ]
  },
  {
   "cell_type": "code",
   "execution_count": 28,
   "metadata": {},
   "outputs": [
    {
     "name": "stdout",
     "output_type": "stream",
     "text": [
      "{'Id': {'Name': 'smayan'}, 'age': 24}\n"
     ]
    }
   ],
   "source": [
    "dic2 = {\"Id\" : {\"Name\" : \"smayan\" }, \"age\" : 24}\n",
    "print(dic2)"
   ]
  },
  {
   "cell_type": "markdown",
   "metadata": {},
   "source": [
    "Question: Write a program to print values from the multidimensional dictionary using keys."
   ]
  },
  {
   "cell_type": "code",
   "execution_count": 29,
   "metadata": {},
   "outputs": [
    {
     "name": "stdout",
     "output_type": "stream",
     "text": [
      "{'Id': {'Name': 'smayan'}, 'age': 24}\n",
      "smayan\n"
     ]
    }
   ],
   "source": [
    "print(dic2)\n",
    "print(dic2[\"Id\"][\"Name\"])"
   ]
  },
  {
   "cell_type": "markdown",
   "metadata": {},
   "source": [
    "Question: Brother is 12 years old. Sister is 15 years old. Write a program that prints who is older using if-else statement."
   ]
  },
  {
   "cell_type": "code",
   "execution_count": 30,
   "metadata": {},
   "outputs": [
    {
     "name": "stdout",
     "output_type": "stream",
     "text": [
      "Sister is older than brother\n"
     ]
    }
   ],
   "source": [
    "b = 12\n",
    "s = 15\n",
    "if(b>s): print(\"Brother is older than sister\")\n",
    "else : print(\"Sister is older than brother\")"
   ]
  },
  {
   "cell_type": "markdown",
   "metadata": {},
   "source": [
    "Question: Take the input of ages from the user. Write a program that prints who is older using if-else statement"
   ]
  },
  {
   "cell_type": "code",
   "execution_count": 31,
   "metadata": {},
   "outputs": [
    {
     "name": "stdout",
     "output_type": "stream",
     "text": [
      "Brother is older than sister\n"
     ]
    }
   ],
   "source": [
    "b = input(\"Enter brothers age\")\n",
    "s = input(\"Enter sisters age\")\n",
    "if(b>s): print(\"Brother is older than sister\")\n",
    "else : print(\"Sister is older than brother\")"
   ]
  },
  {
   "cell_type": "markdown",
   "metadata": {},
   "source": [
    "Question: Write a program that prints the elements of a list using for loop."
   ]
  },
  {
   "cell_type": "code",
   "execution_count": 32,
   "metadata": {},
   "outputs": [
    {
     "name": "stdout",
     "output_type": "stream",
     "text": [
      "4\n",
      "2\n",
      "1\n",
      "3\n",
      "True\n",
      "[3, 5, 3, 1]\n",
      "34\n",
      "4\n",
      "2\n",
      "1\n",
      "this\n",
      "True\n",
      "[3, 5, 3, 1]\n",
      "34\n",
      "5\n",
      "4\n",
      "5\n"
     ]
    }
   ],
   "source": [
    "for i in range(len(list2)):\n",
    "    print(list2[i])"
   ]
  },
  {
   "cell_type": "markdown",
   "metadata": {},
   "source": [
    "Question: Write a program that enumerates and prints the elements of a list using for loop."
   ]
  },
  {
   "cell_type": "code",
   "execution_count": 33,
   "metadata": {},
   "outputs": [
    {
     "name": "stdout",
     "output_type": "stream",
     "text": [
      "4\n",
      "2\n",
      "1\n",
      "3\n",
      "True\n",
      "[3, 5, 3, 1]\n",
      "34\n",
      "4\n",
      "2\n",
      "1\n",
      "this\n",
      "True\n",
      "[3, 5, 3, 1]\n",
      "34\n",
      "5\n",
      "4\n",
      "5\n"
     ]
    }
   ],
   "source": [
    "for i,val in enumerate(list2):\n",
    "    print(val)"
   ]
  },
  {
   "cell_type": "markdown",
   "metadata": {},
   "source": [
    "Question: Write a program to create a function."
   ]
  },
  {
   "cell_type": "code",
   "execution_count": 34,
   "metadata": {},
   "outputs": [
    {
     "name": "stdout",
     "output_type": "stream",
     "text": [
      "This does absolutely nothing\n"
     ]
    }
   ],
   "source": [
    "def func():\n",
    "    print(\"This does absolutely nothing\")\n",
    "\n",
    "func()"
   ]
  },
  {
   "cell_type": "markdown",
   "metadata": {},
   "source": [
    "Question: Create a function that adds two numbers. "
   ]
  },
  {
   "cell_type": "code",
   "execution_count": 35,
   "metadata": {},
   "outputs": [
    {
     "name": "stdout",
     "output_type": "stream",
     "text": [
      "7\n"
     ]
    }
   ],
   "source": [
    "def add(x,y):\n",
    "    return x+y\n",
    "a = add(4,3)\n",
    "print(a)"
   ]
  },
  {
   "cell_type": "markdown",
   "metadata": {},
   "source": [
    "Question: Create a function that adds two numbers. Take input from the user."
   ]
  },
  {
   "cell_type": "code",
   "execution_count": 36,
   "metadata": {},
   "outputs": [
    {
     "name": "stdout",
     "output_type": "stream",
     "text": [
      "23\n"
     ]
    }
   ],
   "source": [
    "a = int(input(\"Enter a number\"))\n",
    "b = int(input(\"Enter a number\"))\n",
    "c = add(a,b)\n",
    "print(c)"
   ]
  },
  {
   "cell_type": "markdown",
   "metadata": {},
   "source": [
    "Question: Create a function that adds two strings. Take input from the user."
   ]
  },
  {
   "cell_type": "code",
   "execution_count": 37,
   "metadata": {},
   "outputs": [
    {
     "name": "stdout",
     "output_type": "stream",
     "text": [
      "This is str1  This is str2\n"
     ]
    }
   ],
   "source": [
    "def adstr(s1,s2):\n",
    "    return s1+s2\n",
    "\n",
    "s3 = adstr(\"This is str1 \", \" This is str2\")\n",
    "print(s3)"
   ]
  },
  {
   "cell_type": "markdown",
   "metadata": {},
   "source": [
    "Question: Write a program to create and print a set"
   ]
  },
  {
   "cell_type": "code",
   "execution_count": 38,
   "metadata": {},
   "outputs": [
    {
     "name": "stdout",
     "output_type": "stream",
     "text": [
      "{1, 2, 3, 4} <class 'set'>\n"
     ]
    }
   ],
   "source": [
    "s = {3,2,1,4,2}\n",
    "print(s, type(s))"
   ]
  },
  {
   "cell_type": "markdown",
   "metadata": {},
   "source": [
    "Question: Write a program to print a set with duplicate values. "
   ]
  },
  {
   "cell_type": "code",
   "execution_count": 39,
   "metadata": {},
   "outputs": [
    {
     "data": {
      "text/plain": [
       "'\\nIt is not possible to do this function in python\\n'"
      ]
     },
     "execution_count": 39,
     "metadata": {},
     "output_type": "execute_result"
    }
   ],
   "source": [
    "\"\"\"\n",
    "It is not possible to do this function in python\n",
    "\"\"\""
   ]
  },
  {
   "cell_type": "markdown",
   "metadata": {},
   "source": [
    "Question: Write a program to print the length of a set"
   ]
  },
  {
   "cell_type": "code",
   "execution_count": 40,
   "metadata": {},
   "outputs": [
    {
     "name": "stdout",
     "output_type": "stream",
     "text": [
      "4\n"
     ]
    }
   ],
   "source": [
    "print(len(s))"
   ]
  },
  {
   "cell_type": "markdown",
   "metadata": {},
   "source": [
    "\n",
    "Question: Write a program to create a set and print its data typ\n"
   ]
  },
  {
   "cell_type": "code",
   "execution_count": 41,
   "metadata": {},
   "outputs": [
    {
     "name": "stdout",
     "output_type": "stream",
     "text": [
      "{1, 2, 3, 4} <class 'set'>\n"
     ]
    }
   ],
   "source": [
    "s = {3,2,1,4,2}\n",
    "print(s, type(s))"
   ]
  },
  {
   "cell_type": "markdown",
   "metadata": {},
   "source": [
    "Question: Write a program to check if a set takes duplicate values with different capitalization/formatting. "
   ]
  },
  {
   "cell_type": "code",
   "execution_count": 42,
   "metadata": {},
   "outputs": [
    {
     "name": "stdout",
     "output_type": "stream",
     "text": [
      "{'is pssible ', 'Yes', 'yes', 'it'}\n"
     ]
    }
   ],
   "source": [
    "se = {\"Yes\", \"yes\", \"it\", \"is pssible \"}\n",
    "print(se)"
   ]
  }
 ],
 "metadata": {
  "kernelspec": {
   "display_name": "Python 3",
   "language": "python",
   "name": "python3"
  },
  "language_info": {
   "codemirror_mode": {
    "name": "ipython",
    "version": 3
   },
   "file_extension": ".py",
   "mimetype": "text/x-python",
   "name": "python",
   "nbconvert_exporter": "python",
   "pygments_lexer": "ipython3",
   "version": "3.11.11"
  }
 },
 "nbformat": 4,
 "nbformat_minor": 2
}
