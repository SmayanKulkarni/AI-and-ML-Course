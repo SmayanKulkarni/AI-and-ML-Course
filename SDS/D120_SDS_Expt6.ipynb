{
  "cells": [
    {
      "cell_type": "markdown",
      "metadata": {
        "id": "view-in-github",
        "colab_type": "text"
      },
      "source": [
        "<a href=\"https://colab.research.google.com/github/SmayanKulkarni/AI-and-ML-Course/blob/master/SDS/D120_SDS_Expt6.ipynb\" target=\"_parent\"><img src=\"https://colab.research.google.com/assets/colab-badge.svg\" alt=\"Open In Colab\"/></a>"
      ]
    },
    {
      "cell_type": "markdown",
      "metadata": {
        "id": "7JQ6bfWZ5ol0"
      },
      "source": [
        "Name: Smayan Kulkarni\\\n",
        "SapID: 60009230142\\\n",
        "RollNo: D100"
      ]
    },
    {
      "cell_type": "markdown",
      "source": [
        "https://colab.research.google.com/github/SmayanKulkarni/AI-and-ML-Course/blob/master/SDS/D120_SDS_Expt6.ipynb"
      ],
      "metadata": {
        "id": "49QMd9H5agdy"
      }
    },
    {
      "cell_type": "markdown",
      "metadata": {
        "id": "ct4Vtsju5uJp"
      },
      "source": [
        "Question 1: Out of 500 students, 410 students pass the exam. Test the hypothesis that more than 80% of students pass the exam.\\\n",
        "Level of significance = 5%"
      ]
    },
    {
      "cell_type": "code",
      "execution_count": null,
      "metadata": {
        "colab": {
          "base_uri": "https://localhost:8080/"
        },
        "id": "UgCZ74OA5ntX",
        "outputId": "72d9d58d-d78a-4986-a0b5-4e051f60f1aa"
      },
      "outputs": [
        {
          "name": "stdout",
          "output_type": "stream",
          "text": [
            "Z-statistic: 1.1180\n",
            "P-value: 0.1318\n",
            "Decision: Fail to reject H0\n"
          ]
        }
      ],
      "source": [
        "from scipy.stats import norm,ttest_rel\n",
        "import numpy as np\n",
        "import scipy.stats as stats\n",
        "n = 500\n",
        "x = 410\n",
        "p0 = 0.8\n",
        "p_hat = x / n\n",
        "se = np.sqrt(p0 * (1 - p0) / n)\n",
        "z_stat = (p_hat - p0) / se\n",
        "p_value = 1 - norm.cdf(z_stat)\n",
        "alpha = 0.05\n",
        "result = \"Reject H0\" if p_value < alpha else \"Fail to reject H0\"\n",
        "\n",
        "print(f\"Z-statistic: {z_stat:.4f}\")\n",
        "print(f\"P-value: {p_value:.4f}\")\n",
        "print(f\"Decision: {result}\")"
      ]
    },
    {
      "cell_type": "markdown",
      "metadata": {
        "id": "i9hK_s2350Gt"
      },
      "source": [
        "Question 2: A random sample of 35 individuals selected from a certain population showed that 6 of them are left-handed.\\\n",
        "Find 95% and 99% confidence limits for the proportions of left-handed person in the population"
      ]
    },
    {
      "cell_type": "code",
      "execution_count": null,
      "metadata": {
        "colab": {
          "base_uri": "https://localhost:8080/"
        },
        "id": "ZvD7OSU5531w",
        "outputId": "c3ab1085-b3cc-4025-acc2-4fc291564613"
      },
      "outputs": [
        {
          "name": "stdout",
          "output_type": "stream",
          "text": [
            "95% Confidence Interval: (np.float64(0.04656934249155212), np.float64(0.29628780036559077))\n",
            "99% Confidence Interval: (np.float64(0.007335729288939441), np.float64(0.3355214135682034))\n"
          ]
        }
      ],
      "source": [
        "n_sample = 35\n",
        "x_sample = 6\n",
        "p_hat_sample = x_sample / n_sample\n",
        "se_sample = np.sqrt(p_hat_sample * (1 - p_hat_sample) / n_sample)\n",
        "\n",
        "z_95 = norm.ppf(0.975)\n",
        "z_99 = norm.ppf(0.995)\n",
        "\n",
        "ci_95 = (p_hat_sample - z_95 * se_sample, p_hat_sample + z_95 * se_sample)\n",
        "ci_99 = (p_hat_sample - z_99 * se_sample, p_hat_sample + z_99 * se_sample)\n",
        "\n",
        "print(f\"95% Confidence Interval: {ci_95}\")\n",
        "print(f\"99% Confidence Interval: {ci_99}\")"
      ]
    },
    {
      "cell_type": "markdown",
      "metadata": {
        "id": "qFq1GKZK55B2"
      },
      "source": [
        "Question 3: The manufacturer of patent medicine claimed that it was 90℅ effective in relieving allergy for a period of 8 hours.\\\n",
        "In a sample of 200 people who had the allergy, the medicine provided relief for 160 people.\\\n",
        "Determine whether manufacturer's claim is legitimate."
      ]
    },
    {
      "cell_type": "code",
      "execution_count": null,
      "metadata": {
        "colab": {
          "base_uri": "https://localhost:8080/"
        },
        "id": "E8DPg56m52Dq",
        "outputId": "b43ba318-76e4-454b-cac7-90ea023e23d5"
      },
      "outputs": [
        {
          "name": "stdout",
          "output_type": "stream",
          "text": [
            "Z-score (Medicine): -4.7140\n",
            "P-value (Medicine): 0.0000\n",
            "Decision (Medicine): Reject H0\n"
          ]
        }
      ],
      "source": [
        "n = 200\n",
        "x = 160\n",
        "p0 = 0.9\n",
        "\n",
        "p_hat = x / n\n",
        "se = np.sqrt(p0 * (1 - p0) / n)\n",
        "z = (p_hat - p0) / se\n",
        "p_val = 2 * (1 - norm.cdf(abs(z)))\n",
        "\n",
        "decision = \"Reject H0\" if p_val < alpha else \"Fail to reject H0\"\n",
        "\n",
        "print(f\"Z-score (Medicine): {z:.4f}\")\n",
        "print(f\"P-value (Medicine): {p_val:.4f}\")\n",
        "print(f\"Decision (Medicine): {decision}\")"
      ]
    },
    {
      "cell_type": "markdown",
      "metadata": {
        "id": "IdnT-Znj59KV"
      },
      "source": [
        "Question 4: From one class of 500 students, 410 students passed. From other class of 400 students, 379 students passed.\\\n",
        "Test the hypothesis that both samples have same proportions. Level of significance = 0.025"
      ]
    },
    {
      "cell_type": "code",
      "execution_count": null,
      "metadata": {
        "colab": {
          "base_uri": "https://localhost:8080/"
        },
        "id": "RKXEjMhK6ALx",
        "outputId": "d5ab6a71-f70f-40a1-cdc4-703e2578b255"
      },
      "outputs": [
        {
          "name": "stdout",
          "output_type": "stream",
          "text": [
            "Z-score (Two-Sample): -5.7802\n",
            "P-value (Two-Sample): 0.0000\n",
            "Decision (Two-Sample): Reject H0\n"
          ]
        }
      ],
      "source": [
        "n1, x1 = 500, 410\n",
        "n2, x2 = 400, 379\n",
        "\n",
        "p1, p2 = x1 / n1, x2 / n2\n",
        "p_combined = (x1 + x2) / (n1 + n2)\n",
        "se_combined = np.sqrt(p_combined * (1 - p_combined) * (1/n1 + 1/n2))\n",
        "\n",
        "z = (p1 - p2) / se_combined\n",
        "p_val = 2 * (1 - norm.cdf(abs(z)))\n",
        "\n",
        "alpha = 0.025\n",
        "decision = \"Reject H0\" if p_val < alpha else \"Fail to reject H0\"\n",
        "\n",
        "print(f\"Z-score (Two-Sample): {z:.4f}\")\n",
        "print(f\"P-value (Two-Sample): {p_val:.4f}\")\n",
        "print(f\"Decision (Two-Sample): {decision}\")"
      ]
    },
    {
      "cell_type": "markdown",
      "metadata": {
        "id": "VhgMmfiX5_3F"
      },
      "source": [
        "Question 5: Two groups, A and B, each consists of 100 people who have a disease. A serum is given to group A but not group B; otherwise both the groups are treated identically. It's found that in group A and group B, 75 and 65 people respectively, recover from the disease.\\\n",
        "Test the hypothesis that serum helps to cure the disease using a level of significance (a) 0.01 (b) 0.1."
      ]
    },
    {
      "cell_type": "code",
      "execution_count": null,
      "metadata": {
        "colab": {
          "base_uri": "https://localhost:8080/"
        },
        "id": "duEpC9pg6DJM",
        "outputId": "9a37013f-bd90-4afc-9cc3-ce007fabecfc"
      },
      "outputs": [
        {
          "name": "stdout",
          "output_type": "stream",
          "text": [
            "Z-score (Serum): 1.5430\n",
            "P-value (Serum): 0.1228\n",
            "\n",
            "Decision at α=0.01: Fail to reject H0\n",
            "Decision at α=0.1: Fail to reject H0\n"
          ]
        }
      ],
      "source": [
        "n1, x1 = 100, 75\n",
        "n2, x2 = 100, 65\n",
        "\n",
        "p1, p2 = x1 / n1, x2 / n2\n",
        "p_combined = (x1 + x2) / (n1 + n2)\n",
        "se_combined = np.sqrt(p_combined * (1 - p_combined) * (1/n1 + 1/n2))\n",
        "\n",
        "z = (p1 - p2) / se_combined\n",
        "p_val = 2 * (1 - norm.cdf(abs(z)))\n",
        "\n",
        "alpha_1 = 0.01\n",
        "alpha_2 = 0.1\n",
        "decision_1 = \"Reject H0\" if p_val < alpha_1 else \"Fail to reject H0\"\n",
        "decision_2 = \"Reject H0\" if p_val < alpha_2 else \"Fail to reject H0\"\n",
        "\n",
        "print(f\"Z-score (Serum): {z:.4f}\")\n",
        "print(f\"P-value (Serum): {p_val:.4f}\")\n",
        "print()\n",
        "print(f\"Decision at α=0.01: {decision_1}\")\n",
        "print(f\"Decision at α=0.1: {decision_2}\")"
      ]
    },
    {
      "cell_type": "markdown",
      "metadata": {
        "id": "aKJ2H1QM6Dfm"
      },
      "source": [
        "Question 6: Check the hypothesis that blood pressure before treatment has a mean value of 156 for the given dataset."
      ]
    },
    {
      "cell_type": "code",
      "execution_count": null,
      "metadata": {
        "colab": {
          "base_uri": "https://localhost:8080/"
        },
        "id": "6eHgS0kV6HTr",
        "outputId": "39699a00-3dad-4f01-92f2-0ebd6d79a8f4"
      },
      "outputs": [
        {
          "name": "stdout",
          "output_type": "stream",
          "text": [
            "Z-score (Blood Pressure): -249.7406\n",
            "P-value (Blood Pressure): 0.0000\n",
            "Decision (Blood Pressure): Reject H0\n"
          ]
        }
      ],
      "source": [
        "df = pd.read_csv(\"student_health_data.csv\")\n",
        "\n",
        "mu0 = 156\n",
        "\n",
        "sample_mean = df[\"Blood_Pressure_Diastolic\"].mean()\n",
        "sample_std = df[\"Blood_Pressure_Diastolic\"].std()\n",
        "n = len(df)\n",
        "\n",
        "se = sample_std / np.sqrt(n)\n",
        "z = (sample_mean - mu0) / se\n",
        "p_val = 2 * (1 - norm.cdf(abs(z)))\n",
        "\n",
        "decision = \"Reject H0\" if p_val < alpha else \"Fail to reject H0\"\n",
        "\n",
        "print(f\"Z-score (Blood Pressure): {z:.4f}\")\n",
        "print(f\"P-value (Blood Pressure): {p_val:.4f}\")\n",
        "print(f\"Decision (Blood Pressure): {decision}\")\n"
      ]
    },
    {
      "cell_type": "markdown",
      "metadata": {
        "id": "_MpRiRCc6Hym"
      },
      "source": [
        "Question 7: Can we say that the systolic blood pressure measured on arm has mean value of 125 mmHg from the given dataset?"
      ]
    },
    {
      "cell_type": "code",
      "execution_count": null,
      "metadata": {
        "colab": {
          "base_uri": "https://localhost:8080/"
        },
        "id": "x-gXU1I66J83",
        "outputId": "03c0bad7-a612-4357-a15f-9be0fcba6ea2"
      },
      "outputs": [
        {
          "name": "stdout",
          "output_type": "stream",
          "text": [
            "Z-score (Blood Pressure): -11.1830\n",
            "P-value (Blood Pressure): 0.0000\n",
            "Decision (Blood Pressure): Reject H0\n"
          ]
        }
      ],
      "source": [
        "mu0 = 125\n",
        "\n",
        "sample_mean = df[\"Blood_Pressure_Systolic\"].mean()\n",
        "sample_std = df[\"Blood_Pressure_Systolic\"].std()\n",
        "n = len(df)\n",
        "\n",
        "se = sample_std / np.sqrt(n)\n",
        "z = (sample_mean - mu0) / se\n",
        "p_val = 2 * (1 - norm.cdf(abs(z)))\n",
        "\n",
        "decision = \"Reject H0\" if p_val < alpha else \"Fail to reject H0\"\n",
        "\n",
        "print(f\"Z-score (Blood Pressure): {z:.4f}\")\n",
        "print(f\"P-value (Blood Pressure): {p_val:.4f}\")\n",
        "print(f\"Decision (Blood Pressure): {decision}\")"
      ]
    },
    {
      "cell_type": "markdown",
      "metadata": {
        "id": "otSl7P9t6JrM"
      },
      "source": [
        "Question 8: A sample of 50 pieces of certain type of string was tested. The mean breaking strength turned out to be 14.5 pounds. Test whether the sample is from a batch of string having mean breaking strength of 15.6 pounds and standard deviation of 2.2 pounds."
      ]
    },
    {
      "cell_type": "code",
      "execution_count": null,
      "metadata": {
        "colab": {
          "base_uri": "https://localhost:8080/"
        },
        "id": "WfRU7H256NJ0",
        "outputId": "ef4e3cdf-069b-4a31-8829-ff1f92a67bce"
      },
      "outputs": [
        {
          "name": "stdout",
          "output_type": "stream",
          "text": [
            "Z-score (Breaking Strength): -3.5355\n",
            "P-value (Breaking Strength): 0.0004\n",
            "Decision (Breaking Strength): Reject H0\n"
          ]
        }
      ],
      "source": [
        "n = 50\n",
        "sample_mean = 14.5\n",
        "mu0 = 15.6\n",
        "sigma = 2.2\n",
        "\n",
        "se = sigma / np.sqrt(n)\n",
        "z = (sample_mean - mu0) / se\n",
        "p_val = 2 * (1 - norm.cdf(abs(z)))\n",
        "\n",
        "decision = \"Reject H0\" if p_val < alpha else \"Fail to reject H0\"\n",
        "\n",
        "print(f\"Z-score (Breaking Strength): {z:.4f}\")\n",
        "print(f\"P-value (Breaking Strength): {p_val:.4f}\")\n",
        "print(f\"Decision (Breaking Strength): {decision}\")"
      ]
    },
    {
      "cell_type": "markdown",
      "metadata": {
        "id": "oc5AgPMC6NX0"
      },
      "source": [
        "Question 9: Check the hypothesis that mean value of systolic blood pressure measured on arm and finger are the same."
      ]
    },
    {
      "cell_type": "code",
      "execution_count": null,
      "metadata": {
        "colab": {
          "base_uri": "https://localhost:8080/"
        },
        "id": "5hyDGRXI6PUQ",
        "outputId": "5d523934-93f2-4786-cf29-637cf19f7468"
      },
      "outputs": [
        {
          "name": "stdout",
          "output_type": "stream",
          "text": [
            "T-statistic (Arm vs Finger BP): 0.5926\n",
            "P-value (Arm vs Finger BP): 0.5580\n",
            "Decision (Arm vs Finger BP): Fail to reject H0\n"
          ]
        }
      ],
      "source": [
        "np.random.seed(42)\n",
        "data = {\n",
        "    \"Arm_BP\": np.random.normal(loc=120, scale=10, size=30),\n",
        "    \"Finger_BP\": np.random.normal(loc=118, scale=10, size=30)\n",
        "}\n",
        "\n",
        "df = pd.DataFrame(data)\n",
        "df.to_csv(\"blood_pressure_comparison.csv\", index=False)\n",
        "\n",
        "df = pd.read_csv(\"blood_pressure_comparison.csv\")\n",
        "t_stat, p_val = ttest_rel(df[\"Arm_BP\"], df[\"Finger_BP\"])\n",
        "\n",
        "decision = \"Reject H0\" if p_val < alpha else \"Fail to reject H0\"\n",
        "\n",
        "print(f\"T-statistic (Arm vs Finger BP): {t_stat:.4f}\")\n",
        "print(f\"P-value (Arm vs Finger BP): {p_val:.4f}\")\n",
        "print(f\"Decision (Arm vs Finger BP): {decision}\")"
      ]
    },
    {
      "cell_type": "markdown",
      "metadata": {
        "id": "BYo1zqg66PmY"
      },
      "source": [
        "Question 10: A common perception about COVID-19 is that warm climate is more resistant to the corona outbreak. Verify this using hypothesis testing."
      ]
    },
    {
      "cell_type": "code",
      "execution_count": null,
      "metadata": {
        "colab": {
          "base_uri": "https://localhost:8080/"
        },
        "id": "hnm-sy2d6RHq",
        "outputId": "6e473846-42c9-4742-e3ba-5c031cceef85"
      },
      "outputs": [
        {
          "name": "stdout",
          "output_type": "stream",
          "text": [
            "Warm regions case rates: [150 170 160]\n",
            "Cold regions case rates: [450 500 470]\n",
            "T-statistic: -20.0409\n",
            "P-value: 0.0006\n",
            "Reject the null hypothesis: There is a significant difference in COVID-19 Cases between Warm and Cold Climates.\n"
          ]
        }
      ],
      "source": [
        "from scipy.stats import ttest_ind\n",
        "\n",
        "# Example data: Replace with actual data\n",
        "data = {\n",
        "    'region': ['Region1', 'Region2', 'Region3', 'Region4', 'Region5', 'Region6'],\n",
        "    'avg_temp': [30, 28, 15, 10, 32, 12],\n",
        "    'cases_per_100k': [150, 170, 450, 500, 160, 470]\n",
        "}\n",
        "\n",
        "df = pd.DataFrame(data)\n",
        "\n",
        "# Define warm and cold climates\n",
        "warm = df[df['avg_temp'] >= 25]['cases_per_100k']\n",
        "cold = df[df['avg_temp'] < 25]['cases_per_100k']\n",
        "\n",
        "# Two-sample t-test (independent)\n",
        "t_stat, p_value = ttest_ind(warm, cold, equal_var=False)\n",
        "\n",
        "print(\"Warm regions case rates:\", warm.values)\n",
        "print(\"Cold regions case rates:\", cold.values)\n",
        "print(f\"T-statistic: {t_stat:.4f}\")\n",
        "print(f\"P-value: {p_value:.4f}\")\n",
        "\n",
        "if p_value < 0.05:\n",
        "    print(\"Reject the null hypothesis: There is a significant difference in COVID-19 Cases between Warm and Cold Climates.\")\n",
        "else:\n",
        "    print(\"Fail to reject the null hypothesis: There is no significant difference in COVID-19 Cases between Warm and Cold Climates.\")"
      ]
    },
    {
      "cell_type": "markdown",
      "metadata": {
        "id": "VKuy2ALW6RcL"
      },
      "source": [
        "Question 11: The mean consumption of food grains among 400 samples middle class consumers is 380 grams per day per person with a standard deviation of 120 grams. A similar sample survey of 600 working class consumers gave a mean of 410 grams with standard deviation of 80 grams. Are we justified in saying that the difference between the averages of the two classes is 40? Use 5℅ level of significance."
      ]
    },
    {
      "cell_type": "code",
      "execution_count": null,
      "metadata": {
        "colab": {
          "base_uri": "https://localhost:8080/"
        },
        "id": "Wai-Glnk6Tl2",
        "outputId": "961b2c33-ff85-4fd1-d1e6-6f6f5b31b938"
      },
      "outputs": [
        {
          "name": "stdout",
          "output_type": "stream",
          "text": [
            "z-statistic = 1.4638501094227998, p-value = 0.14323490752466972, Decision: Fail to Reject the null hypothesis (Yes)\n"
          ]
        }
      ],
      "source": [
        "n1, mean1, std1 = 400, 380, 120\n",
        "n2, mean2, std2 = 600, 410, 80\n",
        "diff = 40\n",
        "\n",
        "se = np.sqrt((std1**2 / n1) + (std2**2 / n2))\n",
        "z_stat_11 = (mean1 - mean2 + diff) / se\n",
        "p_value_11 = 2 * (1 - stats.norm.cdf(abs(z_stat_11)))\n",
        "\n",
        "result_11 = \"Reject\" if p_value_11 < alpha else \"Fail to Reject\"\n",
        "yes_no_11 = \"No\" if result_11 == \"Reject\" else \"Yes\"\n",
        "\n",
        "print(f\"z-statistic = {z_stat_11}, p-value = {p_value_11}, Decision: {result_11} the null hypothesis ({yes_no_11})\")"
      ]
    },
    {
      "cell_type": "markdown",
      "metadata": {
        "id": "FMCmFdqv6UGm"
      },
      "source": [
        "Question 12: Two populations have same mean but the standard deviation of one is twice that of the other. Show that in samples, each of size 500, drawn under simple random conditions, the difference of the means will not exceed 0.3 σ, where σ is the smaller standard deviation."
      ]
    },
    {
      "cell_type": "code",
      "execution_count": null,
      "metadata": {
        "colab": {
          "base_uri": "https://localhost:8080/"
        },
        "id": "pc6BKICP6V0M",
        "outputId": "92761d9d-78f6-4b74-f72a-2f0e0cb2f547"
      },
      "outputs": [
        {
          "name": "stdout",
          "output_type": "stream",
          "text": [
            "Maximum expected difference of means = 0.2241402727604947, which does not exceed 0.3σ (0.3)\n"
          ]
        }
      ],
      "source": [
        "n = 500\n",
        "sigma = 1  # Assume smaller standard deviation as σ\n",
        "sigma2 = 2 * sigma  # Larger standard deviation\n",
        "\n",
        "se_12 = np.sqrt((sigma**2 / n) + (sigma2**2 / n))\n",
        "z_critical = stats.norm.ppf(1 - alpha / 2)\n",
        "max_diff = z_critical * se_12\n",
        "\n",
        "print(f\"Maximum expected difference of means = {max_diff}, which does not exceed 0.3σ ({0.3 * sigma})\")"
      ]
    }
  ],
  "metadata": {
    "colab": {
      "provenance": [],
      "include_colab_link": true
    },
    "kernelspec": {
      "display_name": ".venv",
      "language": "python",
      "name": "python3"
    },
    "language_info": {
      "codemirror_mode": {
        "name": "ipython",
        "version": 3
      },
      "file_extension": ".py",
      "mimetype": "text/x-python",
      "name": "python",
      "nbconvert_exporter": "python",
      "pygments_lexer": "ipython3",
      "version": "3.12.7"
    }
  },
  "nbformat": 4,
  "nbformat_minor": 0
}