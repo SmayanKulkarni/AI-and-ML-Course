{
  "cells": [
    {
      "cell_type": "markdown",
      "id": "ead1e44c",
      "metadata": {
        "id": "ead1e44c"
      },
      "source": [
        "Name: Smayan Kulkarni\\\n",
        "SapID: 60009230142\\\n",
        "RollNo: D100"
      ]
    },
    {
      "cell_type": "markdown",
      "source": [
        "Colab Link : https://colab.research.google.com/github/SmayanKulkarni/AI-and-ML-Course/blob/master/SDS/D120_SDS_Lab9.ipynb"
      ],
      "metadata": {
        "id": "6B_-wJ5yeziz"
      },
      "id": "6B_-wJ5yeziz"
    },
    {
      "cell_type": "code",
      "execution_count": null,
      "id": "aa817f7f",
      "metadata": {
        "id": "aa817f7f"
      },
      "outputs": [],
      "source": [
        "import numpy as np\n",
        "import matplotlib.pyplot as plt\n",
        "from sklearn.preprocessing import StandardScaler\n",
        "from sklearn.discriminant_analysis import LinearDiscriminantAnalysis as LDA"
      ]
    },
    {
      "cell_type": "code",
      "execution_count": null,
      "id": "a4986d8f",
      "metadata": {
        "id": "a4986d8f"
      },
      "outputs": [],
      "source": [
        "# Step 1: Create dataset\n",
        "X = np.array([[4,2], [2,4], [2,3], [3, 6], [4,4], [9,10], [6,8], [9,5], [8,7], [10,8]])\n",
        "y = np.array([0, 0, 0, 0, 0, 1, 1, 1, 1, 1])  # Class A: 0, Class B: 1"
      ]
    },
    {
      "cell_type": "code",
      "execution_count": null,
      "id": "87eefcfd",
      "metadata": {
        "id": "87eefcfd"
      },
      "outputs": [],
      "source": [
        "# Step 2: Compute mean vectors\n",
        "mean_vectors = [np.mean(X[y == cl], axis=0) for cl in [0, 1]]\n",
        "mu_A, mu_B = mean_vectors"
      ]
    },
    {
      "cell_type": "code",
      "execution_count": null,
      "id": "06edf7d8",
      "metadata": {
        "id": "06edf7d8",
        "outputId": "742428f7-bb6a-4c70-fed1-330d62ee76ac"
      },
      "outputs": [
        {
          "name": "stdout",
          "output_type": "stream",
          "text": [
            "[[29.16 20.52]\n",
            " [20.52 14.44]]\n"
          ]
        }
      ],
      "source": [
        "# Step 3: Between-class scatter matrix\n",
        "mean_diff = (mu_A - mu_B).reshape(2, 1)\n",
        "S_B = np.dot(mean_diff, mean_diff.T)\n",
        "print(S_B)"
      ]
    },
    {
      "cell_type": "code",
      "execution_count": null,
      "id": "44be73e6",
      "metadata": {
        "id": "44be73e6",
        "outputId": "f3bc7afd-214a-4978-f904-0c9c1477725f"
      },
      "outputs": [
        {
          "name": "stdout",
          "output_type": "stream",
          "text": [
            "[[13.2 -1.2]\n",
            " [-1.2 22. ]]\n"
          ]
        }
      ],
      "source": [
        "# Step 4: Within-class scatter matrix\n",
        "S_W = np.zeros((2, 2))\n",
        "for cl, mu in zip([0, 1], mean_vectors):\n",
        "    class_sc_mat = np.zeros((2, 2))  # scatter matrix for each class\n",
        "    for row in X[y == cl]:\n",
        "        row, mu = row.reshape(2, 1), mu.reshape(2, 1)\n",
        "        class_sc_mat += (row - mu).dot((row - mu).T)\n",
        "    S_W += class_sc_mat  # sum class scatter matrices\n",
        "print(S_W)"
      ]
    },
    {
      "cell_type": "code",
      "execution_count": null,
      "id": "79a9be38",
      "metadata": {
        "id": "79a9be38",
        "outputId": "e505359e-16a4-4b98-e859-50d5faa26314"
      },
      "outputs": [
        {
          "name": "stdout",
          "output_type": "stream",
          "text": [
            "[[-0.4269103 ]\n",
            " [-0.19601329]]\n"
          ]
        }
      ],
      "source": [
        "# Step 5: Fisher's Discriminant Vector\n",
        "S_W_inv = np.linalg.inv(S_W)\n",
        "w_fisher = np.dot(S_W_inv, (mu_A - mu_B).reshape(2, 1))\n",
        "print(w_fisher)"
      ]
    },
    {
      "cell_type": "code",
      "execution_count": null,
      "id": "df2d5bb5",
      "metadata": {
        "id": "df2d5bb5",
        "outputId": "98291b7c-3f7d-44ef-b1df-80efd0858201"
      },
      "outputs": [
        {
          "name": "stdout",
          "output_type": "stream",
          "text": [
            "[3.05016611 0.        ]\n",
            "[[ 0.90878558 -0.57549341]\n",
            " [ 0.41726342  0.81780642]]\n"
          ]
        }
      ],
      "source": [
        "# Step 6: Eigenvalues and Eigenvectors\n",
        "eig_vals, eig_vecs = np.linalg.eig(np.dot(S_W_inv, S_B))\n",
        "\n",
        "print(eig_vals)\n",
        "print(eig_vecs)"
      ]
    },
    {
      "cell_type": "code",
      "execution_count": null,
      "id": "d041f6f0",
      "metadata": {
        "id": "d041f6f0",
        "outputId": "7f016362-6193-447a-80cf-0018e2f24b1a"
      },
      "outputs": [
        {
          "name": "stdout",
          "output_type": "stream",
          "text": [
            "[[0.90878558]\n",
            " [0.41726342]]\n"
          ]
        }
      ],
      "source": [
        "# Step 7: Select eigenvector with largest eigenvalue\n",
        "idx = np.argmax(eig_vals.real)\n",
        "w = eig_vecs[:, idx].real.reshape(2, 1)\n",
        "print(w)"
      ]
    },
    {
      "cell_type": "code",
      "execution_count": null,
      "id": "73f0689c",
      "metadata": {
        "id": "73f0689c",
        "outputId": "8af7a490-b00d-4b5c-b30d-f07b4240c74b"
      },
      "outputs": [
        {
          "name": "stdout",
          "output_type": "stream",
          "text": [
            "[[ 4.46966918]\n",
            " [ 3.48662485]\n",
            " [ 3.06936143]\n",
            " [ 5.22993727]\n",
            " [ 5.30419602]\n",
            " [12.35170446]\n",
            " [ 8.79082087]\n",
            " [10.26538736]\n",
            " [10.19112861]\n",
            " [12.4259632 ]]\n"
          ]
        }
      ],
      "source": [
        "# Step 8: Project data\n",
        "X_lda = X.dot(w)\n",
        "print(X_lda)"
      ]
    },
    {
      "cell_type": "code",
      "execution_count": null,
      "id": "2d21ba29",
      "metadata": {
        "id": "2d21ba29",
        "outputId": "0df46557-fbbb-439c-a5d9-e11604701b11"
      },
      "outputs": [
        {
          "data": {
            "image/png": "[encoded data removed]",
            "text/plain": [
              "<Figure size 800x500 with 1 Axes>"
            ]
          },
          "metadata": {},
          "output_type": "display_data"
        }
      ],
      "source": [
        "# Step 9: Plot projection\n",
        "plt.figure(figsize=(8, 5))\n",
        "for label in np.unique(y):\n",
        "    plt.hist(X_lda[y == label], label=f'Class {label}', alpha=0.6, bins=5)\n",
        "plt.title('LDA Projection')\n",
        "plt.xlabel('Projected values')\n",
        "plt.ylabel('Frequency')\n",
        "plt.legend()\n",
        "plt.grid(True)\n",
        "plt.tight_layout()\n",
        "plt.show()"
      ]
    }
  ],
  "metadata": {
    "colab": {
      "provenance": []
    },
    "kernelspec": {
      "display_name": ".venv",
      "language": "python",
      "name": "python3"
    },
    "language_info": {
      "codemirror_mode": {
        "name": "ipython",
        "version": 3
      },
      "file_extension": ".py",
      "mimetype": "text/x-python",
      "name": "python",
      "nbconvert_exporter": "python",
      "pygments_lexer": "ipython3",
      "version": "3.12.7"
    }
  },
  "nbformat": 4,
  "nbformat_minor": 5
}