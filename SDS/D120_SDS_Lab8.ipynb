{
  "cells": [
    {
      "cell_type": "markdown",
      "metadata": {
        "id": "view-in-github",
        "colab_type": "text"
      },
      "source": [
        "<a href=\"https://colab.research.google.com/github/SmayanKulkarni/AI-and-ML-Course/blob/master/SDS/D120_SDS_Lab8.ipynb\" target=\"_parent\"><img src=\"https://colab.research.google.com/assets/colab-badge.svg\" alt=\"Open In Colab\"/></a>"
      ]
    },
    {
      "cell_type": "markdown",
      "id": "5075e44d",
      "metadata": {
        "id": "5075e44d"
      },
      "source": [
        "Name: Smayan Kulkarni\\\n",
        "SapID: 60009230142\\\n",
        "RollNo: D100"
      ]
    },
    {
      "cell_type": "markdown",
      "source": [
        "Colab Link : https://colab.research.google.com/github/SmayanKulkarni/AI-and-ML-Course/blob/master/SDS/D120_SDS_Lab8.ipynb"
      ],
      "metadata": {
        "id": "WnXddICxcXzG"
      },
      "id": "WnXddICxcXzG"
    },
    {
      "cell_type": "markdown",
      "id": "Pf010XSym0YO",
      "metadata": {
        "id": "Pf010XSym0YO"
      },
      "source": [
        "### Question 1. For a given Titanic dataset, can it be concluded that gender and survival of passengers are related to each other?\n"
      ]
    },
    {
      "cell_type": "code",
      "execution_count": null,
      "id": "ZxUYxMgum0YQ",
      "metadata": {
        "id": "ZxUYxMgum0YQ",
        "outputId": "571a64a5-5ace-43ea-8c06-f800a3fc97a0"
      },
      "outputs": [
        {
          "name": "stdout",
          "output_type": "stream",
          "text": [
            "Chi2: 260.71702016732104 p-value: 1.1973570627755645e-58\n",
            "Conclusion: Dependent\n"
          ]
        }
      ],
      "source": [
        "import pandas as pd\n",
        "from scipy.stats import chi2_contingency\n",
        "\n",
        "# Load Titanic dataset\n",
        "df = pd.read_csv(\"https://raw.githubusercontent.com/datasciencedojo/datasets/master/titanic.csv\")\n",
        "table = pd.crosstab(df['Sex'], df['Survived'])\n",
        "\n",
        "chi2, p, dof, expected = chi2_contingency(table)\n",
        "print(\"Chi2:\", chi2, \"p-value:\", p)\n",
        "print(\"Conclusion:\", \"Dependent\" if p < 0.05 else \"Independent\")"
      ]
    },
    {
      "cell_type": "markdown",
      "id": "npZ2jiFsm0YS",
      "metadata": {
        "id": "npZ2jiFsm0YS"
      },
      "source": [
        "### Question 2. For a given Titanic dataset, can it be concluded that class and survival of passengers are related to each other?\n"
      ]
    },
    {
      "cell_type": "code",
      "execution_count": null,
      "id": "XpZX8Q6Wm0YS",
      "metadata": {
        "id": "XpZX8Q6Wm0YS",
        "outputId": "c4c3acae-87ce-4b3c-fbb6-6cf5aca1c229"
      },
      "outputs": [
        {
          "name": "stdout",
          "output_type": "stream",
          "text": [
            "Chi2: 102.88898875696056 p-value: 4.549251711298793e-23\n",
            "Conclusion: Dependent\n"
          ]
        }
      ],
      "source": [
        "table = pd.crosstab(df['Pclass'], df['Survived'])\n",
        "\n",
        "chi2, p, dof, expected = chi2_contingency(table)\n",
        "print(\"Chi2:\", chi2, \"p-value:\", p)\n",
        "print(\"Conclusion:\", \"Dependent\" if p < 0.05 else \"Independent\")"
      ]
    },
    {
      "cell_type": "markdown",
      "id": "zIezVdRpm0YS",
      "metadata": {
        "id": "zIezVdRpm0YS"
      },
      "source": [
        "### Question 3. A table shows the number of men and women buying different types of pets. Can it be concluded that gender and choice of pet are related to each other?\n"
      ]
    },
    {
      "cell_type": "code",
      "execution_count": null,
      "id": "k9NDtanum0YT",
      "metadata": {
        "id": "k9NDtanum0YT",
        "outputId": "8f4fb8fb-9641-47e6-d2df-53e99638c927"
      },
      "outputs": [
        {
          "name": "stdout",
          "output_type": "stream",
          "text": [
            "Chi2: 8.189933523266857 p-value: 0.01665629990190977\n",
            "Conclusion: Dependent\n"
          ]
        }
      ],
      "source": [
        "# Example data\n",
        "data = [[20, 10, 15], [25, 30, 10]]  # Rows: Male, Female; Columns: Dog, Cat, Fish\n",
        "chi2, p, dof, expected = chi2_contingency(data)\n",
        "print(\"Chi2:\", chi2, \"p-value:\", p)\n",
        "print(\"Conclusion:\", \"Dependent\" if p < 0.05 else \"Independent\")"
      ]
    },
    {
      "cell_type": "markdown",
      "id": "t40B0FtNm0YT",
      "metadata": {
        "id": "t40B0FtNm0YT"
      },
      "source": [
        "### Question 4. For the given drug data, can we conclude that treatment is effective?\n"
      ]
    },
    {
      "cell_type": "code",
      "execution_count": null,
      "id": "GK-x_MXIm0YT",
      "metadata": {
        "id": "GK-x_MXIm0YT",
        "outputId": "0cfb0d85-5be6-49bf-d7ba-733d0e48676e"
      },
      "outputs": [
        {
          "name": "stdout",
          "output_type": "stream",
          "text": [
            "Chi2: 4.32 p-value: 0.03766692222862869\n",
            "Conclusion: Effective\n"
          ]
        }
      ],
      "source": [
        "# Example data: Treatment vs Outcome\n",
        "data = [[30, 10], [20, 20]]  # Rows: Drug, Placebo; Columns: Recovered, Not Recovered\n",
        "chi2, p, dof, expected = chi2_contingency(data)\n",
        "print(\"Chi2:\", chi2, \"p-value:\", p)\n",
        "print(\"Conclusion:\", \"Effective\" if p < 0.05 else \"Not Effective\")"
      ]
    },
    {
      "cell_type": "markdown",
      "id": "cZWRVPJOm0YU",
      "metadata": {
        "id": "cZWRVPJOm0YU"
      },
      "source": [
        "### Question 5. The table below is an exit poll which displays the joint responses to 2 categorical variables: people in categories from 18–29, 30–44, 45–64 and >65 years, and their political affiliation. Create data corresponding to this information. Is there any evidence of a relationship between the age group and their political affiliation, at 5% significant level?\n"
      ]
    },
    {
      "cell_type": "code",
      "execution_count": null,
      "id": "rYOgRqq7m0YU",
      "metadata": {
        "id": "rYOgRqq7m0YU",
        "outputId": "989fdd3a-f4f6-4dc4-e138-5eefab77d8ea"
      },
      "outputs": [
        {
          "name": "stdout",
          "output_type": "stream",
          "text": [
            "Chi2: 8.96969696969697 p-value: 0.17528947829333746\n",
            "Conclusion: Not Related\n"
          ]
        }
      ],
      "source": [
        "# Example synthetic data\n",
        "data = [[30, 15, 5], [20, 25, 5], [25, 20, 10], [10, 15, 5]]  # Rows: Age Groups; Columns: Conservative, Socialist, Other\n",
        "chi2, p, dof, expected = chi2_contingency(data)\n",
        "print(\"Chi2:\", chi2, \"p-value:\", p)\n",
        "print(\"Conclusion:\", \"Related\" if p < 0.05 else \"Not Related\")"
      ]
    },
    {
      "cell_type": "markdown",
      "id": "iFCKvEOxm0YV",
      "metadata": {
        "id": "iFCKvEOxm0YV"
      },
      "source": [
        "### Question 6. A researcher takes a random sample and picks 123 students about their party affiliation. Out of them 57 vote for party A, 26 vote for party B and 40 for Others. Generally, 41.5% vote for A, 25.7% for B and 32.8% for Others. Test the hypothesis that sample data follows the given distribution.\n"
      ]
    },
    {
      "cell_type": "code",
      "execution_count": null,
      "id": "MSCQwx_mm0YV",
      "metadata": {
        "id": "MSCQwx_mm0YV",
        "outputId": "8bdeecfc-51ea-4223-b76f-d449c646f37f"
      },
      "outputs": [
        {
          "name": "stdout",
          "output_type": "stream",
          "text": [
            "Chi2: 1.693614940576721 p-value: 0.42878164729702506\n",
            "Conclusion: Fits distribution\n"
          ]
        }
      ],
      "source": [
        "from scipy.stats import chisquare\n",
        "\n",
        "observed = [57, 26, 40]\n",
        "total = sum(observed)\n",
        "expected = [0.415 * total, 0.257 * total, 0.328 * total]\n",
        "\n",
        "chi2, p = chisquare(observed, f_exp=expected)\n",
        "print(\"Chi2:\", chi2, \"p-value:\", p)\n",
        "print(\"Conclusion:\", \"Fits distribution\" if p > 0.05 else \"Does not fit\")"
      ]
    },
    {
      "cell_type": "markdown",
      "id": "lSLWVzuTm0YV",
      "metadata": {
        "id": "lSLWVzuTm0YV"
      },
      "source": [
        "### Question 7. A bulb manufacturer wants to know whether the life of the bulbs follows the normal distribution. Forty bulbs are randomly sampled, and their life, in months, are observed.\n"
      ]
    },
    {
      "cell_type": "code",
      "execution_count": null,
      "id": "8QV04OMrm0YV",
      "metadata": {
        "id": "8QV04OMrm0YV",
        "outputId": "dfbd16de-2bce-4f47-b70b-0c10723e7389"
      },
      "outputs": [
        {
          "name": "stdout",
          "output_type": "stream",
          "text": [
            "Statistic: 1.8498878177553109 p-value: 0.3965536615911317\n",
            "Conclusion: Normal\n"
          ]
        }
      ],
      "source": [
        "from scipy.stats import normaltest\n",
        "\n",
        "# Example data\n",
        "life = np.random.normal(1000, 100, 40)  # replace with actual data\n",
        "stat, p = normaltest(life)\n",
        "print(\"Statistic:\", stat, \"p-value:\", p)\n",
        "print(\"Conclusion:\", \"Normal\" if p > 0.05 else \"Not Normal\")"
      ]
    },
    {
      "cell_type": "markdown",
      "id": "gPtHEFp0m0YW",
      "metadata": {
        "id": "gPtHEFp0m0YW"
      },
      "source": [
        "### Question 8. Check whether the dice is unbiased. It is tossed 90 times and the counts of outcomes are given in the table.\n"
      ]
    },
    {
      "cell_type": "code",
      "execution_count": null,
      "id": "xAs6U7yim0YW",
      "metadata": {
        "id": "xAs6U7yim0YW",
        "outputId": "2470997f-c836-4c60-965e-9fdc1fb08919"
      },
      "outputs": [
        {
          "name": "stdout",
          "output_type": "stream",
          "text": [
            "Chi2: 0.6666666666666667 p-value: 0.984747879018509\n",
            "Conclusion: Unbiased\n"
          ]
        }
      ],
      "source": [
        "observed = [16, 14, 15, 13, 17, 15]  # example counts\n",
        "expected = [15] * 6\n",
        "\n",
        "chi2, p = chisquare(observed, f_exp=expected)\n",
        "print(\"Chi2:\", chi2, \"p-value:\", p)\n",
        "print(\"Conclusion:\", \"Unbiased\" if p > 0.05 else \"Biased\")"
      ]
    }
  ],
  "metadata": {
    "colab": {
      "provenance": [],
      "include_colab_link": true
    },
    "kernelspec": {
      "display_name": ".venv",
      "language": "python",
      "name": "python3"
    },
    "language_info": {
      "codemirror_mode": {
        "name": "ipython",
        "version": 3
      },
      "file_extension": ".py",
      "mimetype": "text/x-python",
      "name": "python",
      "nbconvert_exporter": "python",
      "pygments_lexer": "ipython3",
      "version": "3.12.7"
    }
  },
  "nbformat": 4,
  "nbformat_minor": 5
}