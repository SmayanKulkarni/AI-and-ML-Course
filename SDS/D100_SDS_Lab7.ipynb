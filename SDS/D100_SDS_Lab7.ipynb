{
  "cells": [
    {
      "cell_type": "markdown",
      "source": [
        "Name: Smayan Kulkarni\\\n",
        "SapID: 60009230142\\\n",
        "RollNo: D100"
      ],
      "metadata": {
        "id": "oGc8uvlzbTa7"
      }
    },
    {
      "cell_type": "markdown",
      "source": [
        "Colab Link : https://colab.research.google.com/github/SmayanKulkarni/AI-and-ML-Course/blob/master/SDS/D120_SDS_Lab7.ipynb"
      ],
      "metadata": {
        "id": "h_p7aYT8bgj-"
      }
    },
    {
      "cell_type": "code",
      "execution_count": null,
      "metadata": {
        "colab": {
          "base_uri": "https://localhost:8080/"
        },
        "id": "CST32tRzaUKL",
        "outputId": "34f89c3f-16b7-4b9f-8d5e-e90e270baf69"
      },
      "outputs": [
        {
          "name": "stdout",
          "output_type": "stream",
          "text": [
            "Z-stat: 1.5491933384829668 P-value: 0.06066762517924107\n"
          ]
        }
      ],
      "source": [
        "import numpy as np\n",
        "from scipy import stats\n",
        "\n",
        "mu = 1200\n",
        "sigma = 250\n",
        "n = 60\n",
        "x = 1250\n",
        "\n",
        "z = (x - mu) / (sigma / np.sqrt(n))\n",
        "p = 1 - stats.norm.cdf(z)\n",
        "print(\"Z-stat:\", z, \"P-value:\", p)"
      ]
    },
    {
      "cell_type": "code",
      "execution_count": null,
      "metadata": {
        "colab": {
          "base_uri": "https://localhost:8080/"
        },
        "id": "6oUgOTmLbuOf",
        "outputId": "cf578460-e0da-48bc-e147-f9d56b0fa7c5"
      },
      "outputs": [
        {
          "name": "stdout",
          "output_type": "stream",
          "text": [
            "P(120 < Sn < 160): 0.7857389716610226\n"
          ]
        }
      ],
      "source": [
        "lamb = 2\n",
        "n = 75\n",
        "mu = n * lamb\n",
        "sigma = np.sqrt(n * lamb)\n",
        "\n",
        "p = stats.norm.cdf(160, mu, sigma) - stats.norm.cdf(120, mu, sigma)\n",
        "print(\"P(120 < Sn < 160):\", p)"
      ]
    },
    {
      "cell_type": "code",
      "execution_count": null,
      "metadata": {
        "colab": {
          "base_uri": "https://localhost:8080/"
        },
        "id": "Ksn9VaxAb3cY",
        "outputId": "c410193b-19be-47ca-a0d7-a8236a36ea52"
      },
      "outputs": [
        {
          "name": "stdout",
          "output_type": "stream",
          "text": [
            "Required sample size: 24\n"
          ]
        }
      ],
      "source": [
        "from scipy.stats import norm\n",
        "\n",
        "sigma = np.sqrt(1.5)\n",
        "z = norm.ppf(0.975)\n",
        "e = 0.5\n",
        "\n",
        "n = (z * sigma / e) ** 2\n",
        "print(\"Required sample size:\", int(np.ceil(n)))"
      ]
    }
  ],
  "metadata": {
    "colab": {
      "provenance": []
    },
    "kernelspec": {
      "display_name": ".venv",
      "language": "python",
      "name": "python3"
    },
    "language_info": {
      "codemirror_mode": {
        "name": "ipython",
        "version": 3
      },
      "file_extension": ".py",
      "mimetype": "text/x-python",
      "name": "python",
      "nbconvert_exporter": "python",
      "pygments_lexer": "ipython3",
      "version": "3.12.7"
    }
  },
  "nbformat": 4,
  "nbformat_minor": 0
}