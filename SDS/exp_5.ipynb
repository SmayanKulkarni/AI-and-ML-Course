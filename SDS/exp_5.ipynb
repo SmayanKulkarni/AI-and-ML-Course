{
 "cells": [
  {
   "cell_type": "code",
   "execution_count": null,
   "id": "37477cbf",
   "metadata": {},
   "outputs": [],
   "source": [
    "import scipy.stats as stats\n",
    "import math\n",
    "import numpy as np"
   ]
  },
  {
   "cell_type": "code",
   "execution_count": null,
   "id": "48d9a6f1",
   "metadata": {},
   "outputs": [
    {
     "name": "stdout",
     "output_type": "stream",
     "text": [
      "(i) P(Z < 1.5) = 0.9332\n",
      "(ii) P(Z > 0.5) = 0.3085\n",
      "(iii) P(|Z| < 1.5) = 0.8664\n",
      "(iv) P(|Z| > 0.5) = 0.6171\n",
      "(v) P(-2.2 < Z < 1) = 0.8274\n",
      "\n",
      "\n"
     ]
    }
   ],
   "source": [
    "prob_1i = stats.norm.cdf(1.5)\n",
    "print(f\"(i) P(Z < 1.5) = {prob_1i:.4f}\")\n",
    "\n",
    "prob_1ii = 1 - stats.norm.cdf(0.5)\n",
    "print(f\"(ii) P(Z > 0.5) = {prob_1ii:.4f}\")\n",
    "\n",
    "prob_1iii = stats.norm.cdf(1.5) - stats.norm.cdf(-1.5)\n",
    "print(f\"(iii) P(|Z| < 1.5) = {prob_1iii:.4f}\")\n",
    "\n",
    "prob_1iv = 1 - (stats.norm.cdf(0.5) - stats.norm.cdf(-0.5))\n",
    "print(f\"(iv) P(|Z| > 0.5) = {prob_1iv:.4f}\")\n",
    "\n",
    "prob_1v = stats.norm.cdf(1) - stats.norm.cdf(-2.2)\n",
    "print(f\"(v) P(-2.2 < Z < 1) = {prob_1v:.4f}\")\n",
    "print(\"\\n\")"
   ]
  },
  {
   "cell_type": "code",
   "execution_count": 16,
   "id": "ce18c9ee",
   "metadata": {},
   "outputs": [
    {
     "name": "stdout",
     "output_type": "stream",
     "text": [
      "(i) Z0 for P(Z < Z0) = 0.90 is 1.2816\n",
      "(ii) Z0 for P(Z < Z0) = 0.95 is 1.6449\n",
      "(iii) Z0 for P(Z < Z0) = 0.99 is 2.3263\n",
      "(iv) Z0 for P(|Z| < Z0) = 0.90 is 1.6449\n",
      "(v) Z0 for P(|Z| < Z0) = 0.95 is 1.9600\n",
      "(vi) Z0 for P(|Z| < Z0) = 0.99 is 2.5758\n",
      "\n",
      "\n"
     ]
    }
   ],
   "source": [
    "z0_2i = stats.norm.ppf(0.90)\n",
    "print(f\"(i) Z0 for P(Z < Z0) = 0.90 is {z0_2i:.4f}\")\n",
    "\n",
    "z0_2ii = stats.norm.ppf(0.95)\n",
    "print(f\"(ii) Z0 for P(Z < Z0) = 0.95 is {z0_2ii:.4f}\")\n",
    "\n",
    "z0_2iii = stats.norm.ppf(0.99)\n",
    "print(f\"(iii) Z0 for P(Z < Z0) = 0.99 is {z0_2iii:.4f}\")\n",
    "\n",
    "z0_2iv = stats.norm.ppf(0.90 + (1 - 0.90) / 2)\n",
    "print(f\"(iv) Z0 for P(|Z| < Z0) = 0.90 is {z0_2iv:.4f}\")\n",
    "\n",
    "z0_2v = stats.norm.ppf(0.95 + (1 - 0.95) / 2)\n",
    "print(f\"(v) Z0 for P(|Z| < Z0) = 0.95 is {z0_2v:.4f}\")\n",
    "\n",
    "z0_2vi = stats.norm.ppf(0.99 + (1 - 0.99) / 2)\n",
    "print(f\"(vi) Z0 for P(|Z| < Z0) = 0.99 is {z0_2vi:.4f}\")\n",
    "print(\"\\n\")"
   ]
  },
  {
   "cell_type": "code",
   "execution_count": 18,
   "id": "896e6baf",
   "metadata": {},
   "outputs": [
    {
     "name": "stdout",
     "output_type": "stream",
     "text": [
      "(i) P(t < 1.5) with df=20 = 0.9254\n",
      "(ii) P(t > 0.5) with df=15 = 0.3122\n",
      "(iii) P(|t| < 1.5) with df=25 = 0.8539\n",
      "(iv) P(|t| > 0.5) with df=35 = 0.6202\n",
      "(v) P(-2.2 < t < 1) with df=42 = 0.8218\n",
      "\n",
      "\n"
     ]
    }
   ],
   "source": [
    "df_3i = 20\n",
    "prob_3i = stats.t.cdf(1.5, df=df_3i)\n",
    "print(f\"(i) P(t < 1.5) with df={df_3i} = {prob_3i:.4f}\")\n",
    "\n",
    "df_3ii = 15\n",
    "prob_3ii = 1 - stats.t.cdf(0.5, df=df_3ii)\n",
    "print(f\"(ii) P(t > 0.5) with df={df_3ii} = {prob_3ii:.4f}\")\n",
    "df_3iii = 25\n",
    "prob_3iii = stats.t.cdf(1.5, df=df_3iii) - stats.t.cdf(-1.5, df=df_3iii)\n",
    "print(f\"(iii) P(|t| < 1.5) with df={df_3iii} = {prob_3iii:.4f}\")\n",
    "\n",
    "df_3iv = 35\n",
    "prob_3iv = 1 - (stats.t.cdf(0.5, df=df_3iv) - stats.t.cdf(-0.5, df=df_3iv))\n",
    "print(f\"(iv) P(|t| > 0.5) with df={df_3iv} = {prob_3iv:.4f}\")\n",
    "\n",
    "df_3v = 42\n",
    "prob_3v = stats.t.cdf(1, df=df_3v) - stats.t.cdf(-2.2, df=df_3v)\n",
    "print(f\"(v) P(-2.2 < t < 1) with df={df_3v} = {prob_3v:.4f}\")\n",
    "print(\"\\n\")"
   ]
  },
  {
   "cell_type": "code",
   "execution_count": 19,
   "id": "a451b941",
   "metadata": {},
   "outputs": [
    {
     "name": "stdout",
     "output_type": "stream",
     "text": [
      "(i) t0 for P(t < t0) = 0.90 with df=20 is 1.3253\n",
      "(ii) t0 for P(t < t0) = 0.95 with df=15 is 1.7531\n",
      "(iii) t0 for P(t < t0) = 0.99 with df=25 is 2.4851\n",
      "(iv) t0 for P(|t| < t0) = 0.90 with df=30 is 1.6973\n",
      "(v) t0 for P(|t| < t0) = 0.95 with df=42 is 2.0181\n",
      "(vi) t0 for P(|t| < t0) = 0.99 with df=10 is 3.1693\n",
      "\n",
      "\n"
     ]
    }
   ],
   "source": [
    "df_4i = 20\n",
    "t0_4i = stats.t.ppf(0.90, df=df_4i)\n",
    "print(f\"(i) t0 for P(t < t0) = 0.90 with df={df_4i} is {t0_4i:.4f}\")\n",
    "\n",
    "df_4ii = 15\n",
    "t0_4ii = stats.t.ppf(0.95, df=df_4ii)\n",
    "print(f\"(ii) t0 for P(t < t0) = 0.95 with df={df_4ii} is {t0_4ii:.4f}\")\n",
    "\n",
    "df_4iii = 25\n",
    "t0_4iii = stats.t.ppf(0.99, df=df_4iii)\n",
    "print(f\"(iii) t0 for P(t < t0) = 0.99 with df={df_4iii} is {t0_4iii:.4f}\")\n",
    "\n",
    "df_4iv = 30\n",
    "t0_4iv = stats.t.ppf(0.90 + (1 - 0.90) / 2, df=df_4iv)\n",
    "print(f\"(iv) t0 for P(|t| < t0) = 0.90 with df={df_4iv} is {t0_4iv:.4f}\")\n",
    "\n",
    "df_4v = 42\n",
    "t0_4v = stats.t.ppf(0.95 + (1 - 0.95) / 2, df=df_4v)\n",
    "print(f\"(v) t0 for P(|t| < t0) = 0.95 with df={df_4v} is {t0_4v:.4f}\")\n",
    "\n",
    "df_4vi = 10\n",
    "t0_4vi = stats.t.ppf(0.99 + (1 - 0.99) / 2, df=df_4vi)\n",
    "print(f\"(vi) t0 for P(|t| < t0) = 0.99 with df={df_4vi} is {t0_4vi:.4f}\")\n",
    "print(\"\\n\")"
   ]
  },
  {
   "cell_type": "code",
   "execution_count": 20,
   "id": "78289d8f",
   "metadata": {},
   "outputs": [
    {
     "name": "stdout",
     "output_type": "stream",
     "text": [
      "(i) P(F < 1.5) with df1=5, df2=14 = 0.7481\n",
      "(ii) P(F > 2.5) with df1=15, df2=14 = 0.0473\n",
      "(iii) P(0.5 < F < 4.1) with df1=13, df2=17 = 0.8911\n",
      "\n",
      "\n"
     ]
    }
   ],
   "source": [
    "df1_5i, df2_5i = 5, 14\n",
    "prob_5i = stats.f.cdf(1.5, dfn=df1_5i, dfd=df2_5i)\n",
    "print(f\"(i) P(F < 1.5) with df1={df1_5i}, df2={df2_5i} = {prob_5i:.4f}\")\n",
    "\n",
    "df1_5ii, df2_5ii = 15, 14\n",
    "prob_5ii = 1 - stats.f.cdf(2.5, dfn=df1_5ii, dfd=df2_5ii)\n",
    "print(f\"(ii) P(F > 2.5) with df1={df1_5ii}, df2={df2_5ii} = {prob_5ii:.4f}\")\n",
    "\n",
    "df1_5iii, df2_5iii = 13, 17\n",
    "prob_5iii = stats.f.cdf(4.1, dfn=df1_5iii, dfd=df2_5iii) - stats.f.cdf(0.5, dfn=df1_5iii, dfd=df2_5iii)\n",
    "print(f\"(iii) P(0.5 < F < 4.1) with df1={df1_5iii}, df2={df2_5iii} = {prob_5iii:.4f}\")\n",
    "print(\"\\n\")"
   ]
  },
  {
   "cell_type": "code",
   "execution_count": 21,
   "id": "bbd9683f",
   "metadata": {},
   "outputs": [
    {
     "name": "stdout",
     "output_type": "stream",
     "text": [
      "(i) F0 for P(F < F0) = 0.90 with df1=5, df2=14 is 2.3069\n",
      "(ii) F0 for P(F < F0) = 0.95 with df1=15, df2=13 is 2.5331\n",
      "(iii) F0 for P(F < F0) = 0.99 with df1=25, df2=28 is 2.5060\n",
      "\n",
      "\n"
     ]
    }
   ],
   "source": [
    "df1_6i, df2_6i = 5, 14\n",
    "f0_6i = stats.f.ppf(0.90, dfn=df1_6i, dfd=df2_6i)\n",
    "print(f\"(i) F0 for P(F < F0) = 0.90 with df1={df1_6i}, df2={df2_6i} is {f0_6i:.4f}\")\n",
    "\n",
    "df1_6ii, df2_6ii = 15, 13\n",
    "f0_6ii = stats.f.ppf(0.95, dfn=df1_6ii, dfd=df2_6ii)\n",
    "print(f\"(ii) F0 for P(F < F0) = 0.95 with df1={df1_6ii}, df2={df2_6ii} is {f0_6ii:.4f}\")\n",
    "\n",
    "df1_6iii, df2_6iii = 25, 28\n",
    "f0_6iii = stats.f.ppf(0.99, dfn=df1_6iii, dfd=df2_6iii)\n",
    "print(f\"(iii) F0 for P(F < F0) = 0.99 with df1={df1_6iii}, df2={df2_6iii} is {f0_6iii:.4f}\")\n",
    "print(\"\\n\")\n",
    "\n"
   ]
  },
  {
   "cell_type": "code",
   "execution_count": 22,
   "id": "d8bf908e",
   "metadata": {},
   "outputs": [
    {
     "name": "stdout",
     "output_type": "stream",
     "text": [
      "(i) P(X < 1.5) with df=10 = 0.0011\n",
      "(ii) P(X > 2.5) with df=5 = 0.7765\n",
      "(iii) P(0.5 < X < 4.1) with df=2 = 0.6501\n",
      "\n",
      "\n"
     ]
    }
   ],
   "source": [
    "df_7i = 10\n",
    "prob_7i = stats.chi2.cdf(1.5, df=df_7i)\n",
    "print(f\"(i) P(X < 1.5) with df={df_7i} = {prob_7i:.4f}\")\n",
    "\n",
    "df_7ii = 5\n",
    "prob_7ii = 1 - stats.chi2.cdf(2.5, df=df_7ii)\n",
    "print(f\"(ii) P(X > 2.5) with df={df_7ii} = {prob_7ii:.4f}\")\n",
    "\n",
    "df_7iii = 2\n",
    "prob_7iii = stats.chi2.cdf(4.1, df=df_7iii) - stats.chi2.cdf(0.5, df=df_7iii)\n",
    "print(f\"(iii) P(0.5 < X < 4.1) with df={df_7iii} = {prob_7iii:.4f}\")\n",
    "print(\"\\n\")\n",
    "\n"
   ]
  },
  {
   "cell_type": "code",
   "execution_count": 23,
   "id": "c0065664",
   "metadata": {},
   "outputs": [
    {
     "name": "stdout",
     "output_type": "stream",
     "text": [
      "(i) X0 for P(X < X0) = 0.90 with df=1 is 2.7055\n",
      "(ii) X0 for P(X < X0) = 0.95 with df=3 is 7.8147\n",
      "(iii) X0 for P(X < X0) = 0.99 with df=2 is 9.2103\n",
      "(iv) X0 for P(X < X0) = 0.05 with df=1 is 0.0039\n",
      "(v) X0 for P(X < X0) = 0.025 with df=3 is 0.2158\n",
      "(vi) X0 for P(X < X0) = 0.005 with df=2 is 0.0100\n",
      "\n",
      "\n"
     ]
    }
   ],
   "source": [
    "df_8i = 1\n",
    "x0_8i = stats.chi2.ppf(0.90, df=df_8i)\n",
    "print(f\"(i) X0 for P(X < X0) = 0.90 with df={df_8i} is {x0_8i:.4f}\")\n",
    "\n",
    "df_8ii = 3\n",
    "x0_8ii = stats.chi2.ppf(0.95, df=df_8ii)\n",
    "print(f\"(ii) X0 for P(X < X0) = 0.95 with df={df_8ii} is {x0_8ii:.4f}\")\n",
    "\n",
    "df_8iii = 2\n",
    "x0_8iii = stats.chi2.ppf(0.99, df=df_8iii)\n",
    "print(f\"(iii) X0 for P(X < X0) = 0.99 with df={df_8iii} is {x0_8iii:.4f}\")\n",
    "\n",
    "df_8iv = 1\n",
    "x0_8iv = stats.chi2.ppf(0.05, df=df_8iv)\n",
    "print(f\"(iv) X0 for P(X < X0) = 0.05 with df={df_8iv} is {x0_8iv:.4f}\")\n",
    "\n",
    "df_8v = 3\n",
    "x0_8v = stats.chi2.ppf(0.025, df=df_8v)\n",
    "print(f\"(v) X0 for P(X < X0) = 0.025 with df={df_8v} is {x0_8v:.4f}\")\n",
    "\n",
    "df_8vi = 2\n",
    "x0_8vi = stats.chi2.ppf(0.005, df=df_8vi)\n",
    "print(f\"(vi) X0 for P(X < X0) = 0.005 with df={df_8vi} is {x0_8vi:.4f}\")\n",
    "print(\"\\n\")\n",
    "\n"
   ]
  },
  {
   "cell_type": "code",
   "execution_count": null,
   "id": "d92672e1",
   "metadata": {},
   "outputs": [
    {
     "name": "stdout",
     "output_type": "stream",
     "text": [
      "Sample Mean: 101.82\n",
      "Population Std Dev: 1.2\n",
      "Sample Size: 6\n",
      "Confidence Level: 95.0%\n",
      "Z-critical value: 1.9600\n",
      "Margin of Error: 0.9602\n",
      "95% Confidence Interval: (100.8598, 102.7802)\n",
      "\n",
      "\n"
     ]
    }
   ],
   "source": [
    "sample_mean_9 = 101.82\n",
    "pop_std_dev_9 = 1.2\n",
    "n_9 = 6\n",
    "confidence_level_9 = 0.95\n",
    "alpha_9 = 1 - confidence_level_9\n",
    "\n",
    "z_critical_9 = stats.norm.ppf(1 - alpha_9 / 2)\n",
    "\n",
    "margin_of_error_9 = z_critical_9 * (pop_std_dev_9 / math.sqrt(n_9))\n",
    "\n",
    "ci_lower_9 = sample_mean_9 - margin_of_error_9\n",
    "ci_upper_9 = sample_mean_9 + margin_of_error_9\n",
    "\n",
    "print(f\"Sample Mean: {sample_mean_9}\")\n",
    "print(f\"Population Std Dev: {pop_std_dev_9}\")\n",
    "print(f\"Sample Size: {n_9}\")\n",
    "print(f\"Confidence Level: {confidence_level_9*100}%\")\n",
    "print(f\"Z-critical value: {z_critical_9:.4f}\")\n",
    "print(f\"Margin of Error: {margin_of_error_9:.4f}\")\n",
    "print(f\"95% Confidence Interval: ({ci_lower_9:.4f}, {ci_upper_9:.4f})\")\n",
    "print(\"\\n\")"
   ]
  },
  {
   "cell_type": "code",
   "execution_count": 25,
   "id": "7ea3ba4a",
   "metadata": {},
   "outputs": [
    {
     "name": "stdout",
     "output_type": "stream",
     "text": [
      "Data: [45, 55, 67, 45, 68, 79, 98, 87, 84, 82]\n",
      "Sample Mean: 71.0000\n",
      "Sample Std Dev: 18.1720\n",
      "Sample Size: 10\n",
      "Degrees of Freedom: 9\n",
      "Confidence Level: 98.0%\n",
      "t-critical value: 2.8214\n",
      "Margin of Error: 16.2134\n",
      "98% Confidence Interval: (54.7866, 87.2134)\n",
      "\n",
      "\n"
     ]
    }
   ],
   "source": [
    "\n",
    "data_10 = [45, 55, 67, 45, 68, 79, 98, 87, 84, 82]\n",
    "n_10 = len(data_10)\n",
    "sample_mean_10 = np.mean(data_10)\n",
    "sample_std_dev_10 = np.std(data_10, ddof=1) \n",
    "confidence_level_10 = 0.98\n",
    "alpha_10 = 1 - confidence_level_10\n",
    "df_10 = n_10 - 1\n",
    "\n",
    "t_critical_10 = stats.t.ppf(1 - alpha_10 / 2, df=df_10)\n",
    "\n",
    "margin_of_error_10 = t_critical_10 * (sample_std_dev_10 / math.sqrt(n_10))\n",
    "\n",
    "ci_lower_10 = sample_mean_10 - margin_of_error_10\n",
    "ci_upper_10 = sample_mean_10 + margin_of_error_10\n",
    "\n",
    "print(f\"Data: {data_10}\")\n",
    "print(f\"Sample Mean: {sample_mean_10:.4f}\")\n",
    "print(f\"Sample Std Dev: {sample_std_dev_10:.4f}\")\n",
    "print(f\"Sample Size: {n_10}\")\n",
    "print(f\"Degrees of Freedom: {df_10}\")\n",
    "print(f\"Confidence Level: {confidence_level_10*100}%\")\n",
    "print(f\"t-critical value: {t_critical_10:.4f}\")\n",
    "print(f\"Margin of Error: {margin_of_error_10:.4f}\")\n",
    "print(f\"98% Confidence Interval: ({ci_lower_10:.4f}, {ci_upper_10:.4f})\")\n",
    "print(\"\\n\")\n",
    "\n"
   ]
  },
  {
   "cell_type": "code",
   "execution_count": null,
   "id": "1623dc8a",
   "metadata": {},
   "outputs": [
    {
     "name": "stdout",
     "output_type": "stream",
     "text": [
      "Total Applicants (n): 510\n",
      "Number of Men (x): 57\n",
      "Sample Proportion (p_hat): 0.1118\n",
      "Confidence Level: 90.0%\n",
      "Z-critical value: 1.6449\n",
      "Margin of Error: 0.0229\n",
      "90% Confidence Interval for Proportion: (0.0888, 0.1347)\n"
     ]
    }
   ],
   "source": [
    "n_11 = 510 \n",
    "x_11 = 57 \n",
    "confidence_level_11 = 0.90\n",
    "alpha_11 = 1 - confidence_level_11\n",
    "\n",
    "p_hat_11 = x_11 / n_11\n",
    "\n",
    "z_critical_11 = stats.norm.ppf(1 - alpha_11 / 2)\n",
    "\n",
    "margin_of_error_11 = z_critical_11 * math.sqrt((p_hat_11 * (1 - p_hat_11)) / n_11)\n",
    "\n",
    "ci_lower_11 = p_hat_11 - margin_of_error_11\n",
    "ci_upper_11 = p_hat_11 + margin_of_error_11\n",
    "\n",
    "print(f\"Total Applicants (n): {n_11}\")\n",
    "print(f\"Number of Men (x): {x_11}\")\n",
    "print(f\"Sample Proportion (p_hat): {p_hat_11:.4f}\")\n",
    "print(f\"Confidence Level: {confidence_level_11*100}%\")\n",
    "print(f\"Z-critical value: {z_critical_11:.4f}\")\n",
    "print(f\"Margin of Error: {margin_of_error_11:.4f}\")\n",
    "print(f\"90% Confidence Interval for Proportion: ({ci_lower_11:.4f}, {ci_upper_11:.4f})\")"
   ]
  }
 ],
 "metadata": {
  "kernelspec": {
   "display_name": "Python 3",
   "language": "python",
   "name": "python3"
  },
  "language_info": {
   "codemirror_mode": {
    "name": "ipython",
    "version": 3
   },
   "file_extension": ".py",
   "mimetype": "text/x-python",
   "name": "python",
   "nbconvert_exporter": "python",
   "pygments_lexer": "ipython3",
   "version": "3.11.9"
  }
 },
 "nbformat": 4,
 "nbformat_minor": 5
}
