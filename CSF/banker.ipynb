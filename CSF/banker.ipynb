{
 "cells": [
  {
   "cell_type": "code",
   "execution_count": 35,
   "metadata": {},
   "outputs": [],
   "source": [
    "import numpy as np"
   ]
  },
  {
   "cell_type": "code",
   "execution_count": 36,
   "metadata": {},
   "outputs": [],
   "source": [
    "maxprocess = {\"max_vals\" : np.array([3,3,2])}"
   ]
  },
  {
   "cell_type": "code",
   "execution_count": 37,
   "metadata": {},
   "outputs": [],
   "source": [
    "process0 = {'max' : np.array([7,5,3]), 'allocation' : np.array([0,1,0]), 'completed' : False}\n",
    "process1 = {'max' : np.array([3,2,2]), 'allocation' : np.array([2,0,0]),'completed' : False}\n",
    "process2 =  {'max' : np.array([9, 0, 2]), 'allocation' : np.array([3,0,2]),'completed' : False}"
   ]
  },
  {
   "cell_type": "code",
   "execution_count": 38,
   "metadata": {},
   "outputs": [
    {
     "data": {
      "text/plain": [
       "{'max': array([3, 2, 2]),\n",
       " 'allocation': array([2, 0, 0]),\n",
       " 'completed': False,\n",
       " 'need': array([1, 2, 2])}"
      ]
     },
     "execution_count": 38,
     "metadata": {},
     "output_type": "execute_result"
    }
   ],
   "source": [
    "process0['need'] = process0['max'] - process0['allocation']\n",
    "process1['need'] = process1['max'] - process1['allocation']\n",
    "process2['need'] = process2['max'] - process2['allocation']\n",
    "process1"
   ]
  },
  {
   "cell_type": "code",
   "execution_count": 39,
   "metadata": {},
   "outputs": [
    {
     "data": {
      "text/plain": [
       "{'max_vals': array([3, 3, 2]), 'total_allocation': array([5, 1, 2])}"
      ]
     },
     "execution_count": 39,
     "metadata": {},
     "output_type": "execute_result"
    }
   ],
   "source": [
    "maxprocess['total_allocation'] = process0['allocation'] + process1['allocation'] + process2['allocation']\n",
    "maxprocess"
   ]
  },
  {
   "cell_type": "code",
   "execution_count": 40,
   "metadata": {},
   "outputs": [
    {
     "data": {
      "text/plain": [
       "{'max_vals': array([3, 3, 2]),\n",
       " 'total_allocation': array([5, 1, 2]),\n",
       " 'available': array([-2,  2,  0])}"
      ]
     },
     "execution_count": 40,
     "metadata": {},
     "output_type": "execute_result"
    }
   ],
   "source": [
    "maxprocess['available'] = maxprocess['max_vals'] - maxprocess['total_allocation']\n",
    "maxprocess  "
   ]
  },
  {
   "cell_type": "code",
   "execution_count": 41,
   "metadata": {},
   "outputs": [],
   "source": [
    "processes = [process0, process1, process2]"
   ]
  },
  {
   "cell_type": "code",
   "execution_count": 42,
   "metadata": {},
   "outputs": [],
   "source": [
    "def ifany(l):\n",
    "    for flag in l:\n",
    "        if flag == False:\n",
    "            return False\n",
    "    return True   "
   ]
  },
  {
   "cell_type": "code",
   "execution_count": 43,
   "metadata": {},
   "outputs": [],
   "source": [
    "total_allocationans = ifany(process0['need'] <=  maxprocess['available'])\n"
   ]
  },
  {
   "cell_type": "code",
   "execution_count": 44,
   "metadata": {},
   "outputs": [],
   "source": [
    "for i in range(len(processes)):\n",
    "    if not processes[i]['completed'] and ifany(processes[i]['need'] <= maxprocess['available']):\n",
    "        maxprocess['available'] += processes[i]['allocation']\n",
    "        processes[i]['completed'] = True\n",
    "    else: \n",
    "        pass\n",
    "        "
   ]
  },
  {
   "cell_type": "code",
   "execution_count": 45,
   "metadata": {},
   "outputs": [
    {
     "data": {
      "text/plain": [
       "{'max_vals': array([3, 3, 2]),\n",
       " 'total_allocation': array([5, 1, 2]),\n",
       " 'available': array([-2,  2,  0])}"
      ]
     },
     "execution_count": 45,
     "metadata": {},
     "output_type": "execute_result"
    }
   ],
   "source": [
    "maxprocess"
   ]
  },
  {
   "cell_type": "code",
   "execution_count": 46,
   "metadata": {},
   "outputs": [
    {
     "data": {
      "text/plain": [
       "False"
      ]
     },
     "execution_count": 46,
     "metadata": {},
     "output_type": "execute_result"
    }
   ],
   "source": [
    "ifany(process1['need'] <= maxprocess['available'])"
   ]
  },
  {
   "cell_type": "code",
   "execution_count": 47,
   "metadata": {},
   "outputs": [
    {
     "data": {
      "text/plain": [
       "{'max': array([7, 5, 3]),\n",
       " 'allocation': array([0, 1, 0]),\n",
       " 'completed': False,\n",
       " 'need': array([7, 4, 3])}"
      ]
     },
     "execution_count": 47,
     "metadata": {},
     "output_type": "execute_result"
    }
   ],
   "source": [
    "process0"
   ]
  },
  {
   "cell_type": "code",
   "execution_count": 48,
   "metadata": {},
   "outputs": [
    {
     "data": {
      "text/plain": [
       "{'max': array([3, 2, 2]),\n",
       " 'allocation': array([2, 0, 0]),\n",
       " 'completed': False,\n",
       " 'need': array([1, 2, 2])}"
      ]
     },
     "execution_count": 48,
     "metadata": {},
     "output_type": "execute_result"
    }
   ],
   "source": [
    "process1"
   ]
  },
  {
   "cell_type": "code",
   "execution_count": 49,
   "metadata": {},
   "outputs": [
    {
     "data": {
      "text/plain": [
       "{'max': array([9, 0, 2]),\n",
       " 'allocation': array([3, 0, 2]),\n",
       " 'completed': False,\n",
       " 'need': array([6, 0, 0])}"
      ]
     },
     "execution_count": 49,
     "metadata": {},
     "output_type": "execute_result"
    }
   ],
   "source": [
    "process2"
   ]
  },
  {
   "cell_type": "code",
   "execution_count": 50,
   "metadata": {},
   "outputs": [
    {
     "data": {
      "text/plain": [
       "{'max_vals': array([10,  5,  7]),\n",
       " 'total_allocation': array([5, 1, 2]),\n",
       " 'available': array([10,  4,  7])}"
      ]
     },
     "execution_count": 50,
     "metadata": {},
     "output_type": "execute_result"
    }
   ],
   "source": [
    "import numpy as np\n",
    "\n",
    "maxprocess = {\"max_vals\" : np.array([10,5,7])}\n",
    "process0 = {'max' : np.array([7,5,3]), 'allocation' : np.array([0,1,0]), 'completed' : False}\n",
    "process1 = {'max' : np.array([3,2,2]), 'allocation' : np.array([2,0,0]), 'completed' : False}\n",
    "process2 = {'max' : np.array([9, 0, 2]), 'allocation' : np.array([3,0,2]), 'completed' : False}\n",
    "\n",
    "# Calculate the needs\n",
    "process0['need'] = process0['max'] - process0['allocation']\n",
    "process1['need'] = process1['max'] - process1['allocation']\n",
    "process2['need'] = process2['max'] - process2['allocation']\n",
    "\n",
    "# Total allocation\n",
    "maxprocess['total_allocation'] = process0['allocation'] + process1['allocation'] + process2['allocation']\n",
    "\n",
    "# Available resources\n",
    "maxprocess['available'] = maxprocess['max_vals'] - maxprocess['total_allocation']\n",
    "\n",
    "processes = [process0, process1, process2]\n",
    "\n",
    "# Helper function to check if any process still needs resources\n",
    "def ifany(l):\n",
    "    for flag in l:\n",
    "        if flag == False:\n",
    "            return False\n",
    "    return True   \n",
    "\n",
    "# Update available resources based on process needs\n",
    "for i in range(len(processes)):\n",
    "    # Check if the process is not completed and its needs can be satisfied by the available resources\n",
    "    if not processes[i]['completed'] and ifany(processes[i]['need'] <= maxprocess['available']):\n",
    "        # Add its allocation back to available resources\n",
    "        maxprocess['available'] += processes[i]['allocation']\n",
    "        processes[i]['completed'] = True\n",
    "\n",
    "# Final output\n",
    "maxprocess\n"
   ]
  },
  {
   "cell_type": "code",
   "execution_count": null,
   "metadata": {},
   "outputs": [],
   "source": []
  }
 ],
 "metadata": {
  "kernelspec": {
   "display_name": "Python 3 (ipykernel)",
   "language": "python",
   "name": "python3"
  },
  "language_info": {
   "codemirror_mode": {
    "name": "ipython",
    "version": 3
   },
   "file_extension": ".py",
   "mimetype": "text/x-python",
   "name": "python",
   "nbconvert_exporter": "python",
   "pygments_lexer": "ipython3",
   "version": "3.12.4"
  }
 },
 "nbformat": 4,
 "nbformat_minor": 2
}
