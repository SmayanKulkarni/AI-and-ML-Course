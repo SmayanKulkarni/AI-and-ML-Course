{
 "cells": [
  {
   "cell_type": "markdown",
   "metadata": {},
   "source": [
    "\n",
    "About Dataset\n",
    "\n",
    "Context This is a small subset of dataset of Book reviews from Amazon Kindle Store category.\n",
    "\n",
    "Content 5-core dataset of product reviews from Amazon Kindle Store category from May 1996 - July 2014. Contains total of 982619 entries. Each reviewer has at least 5 reviews and each product has at least 5 reviews in this dataset. Columns\n",
    "\n",
    "    asin - ID of the product, like B000FA64PK\n",
    "    helpful - helpfulness rating of the review - example: 2/3.\n",
    "    overall - rating of the product.\n",
    "    reviewText - text of the review (heading).\n",
    "    reviewTime - time of the review (raw).\n",
    "    reviewerID - ID of the reviewer, like A3SPTOKDG7WBLN\n",
    "    reviewerName - name of the reviewer.\n",
    "    summary - summary of the review (description).\n",
    "    unixReviewTime - unix timestamp.\n",
    "\n",
    "Acknowledgements This dataset is taken from Amazon product data, Julian McAuley, UCSD website. http://jmcauley.ucsd.edu/data/amazon/\n",
    "\n",
    "License to the data files belong to them.\n",
    "\n",
    "Inspiration\n",
    "\n",
    "    Sentiment analysis on reviews.\n",
    "    Understanding how people rate usefulness of a review/ What factors influence helpfulness of a review.\n",
    "    Fake reviews/ outliers.\n",
    "    Best rated product IDs, or similarity between products based on reviews alone (not the best idea ikr).\n",
    "    Any other interesting analysis\n",
    "\n",
    "Best Practises\n",
    "\n",
    "    Preprocessing And Cleaning\n",
    "    Train Test Split\n",
    "    BOW,TFIDF,Word2vec\n",
    "    Train ML algorithms\n",
    "\n"
   ]
  },
  {
   "cell_type": "code",
   "execution_count": 62,
   "metadata": {},
   "outputs": [],
   "source": [
    "import pandas as pd\n",
    "import re\n",
    "import nltk\n",
    "from nltk.corpus import stopwords\n",
    "from bs4 import BeautifulSoup\n",
    "\n"
   ]
  },
  {
   "cell_type": "code",
   "execution_count": 63,
   "metadata": {},
   "outputs": [],
   "source": [
    "df = pd.read_csv('all_kindle_review.csv')"
   ]
  },
  {
   "cell_type": "code",
   "execution_count": 64,
   "metadata": {},
   "outputs": [
    {
     "data": {
      "text/html": [
       "<div>\n",
       "<style scoped>\n",
       "    .dataframe tbody tr th:only-of-type {\n",
       "        vertical-align: middle;\n",
       "    }\n",
       "\n",
       "    .dataframe tbody tr th {\n",
       "        vertical-align: top;\n",
       "    }\n",
       "\n",
       "    .dataframe thead th {\n",
       "        text-align: right;\n",
       "    }\n",
       "</style>\n",
       "<table border=\"1\" class=\"dataframe\">\n",
       "  <thead>\n",
       "    <tr style=\"text-align: right;\">\n",
       "      <th></th>\n",
       "      <th>Unnamed: 0.1</th>\n",
       "      <th>Unnamed: 0</th>\n",
       "      <th>asin</th>\n",
       "      <th>helpful</th>\n",
       "      <th>rating</th>\n",
       "      <th>reviewText</th>\n",
       "      <th>reviewTime</th>\n",
       "      <th>reviewerID</th>\n",
       "      <th>reviewerName</th>\n",
       "      <th>summary</th>\n",
       "      <th>unixReviewTime</th>\n",
       "    </tr>\n",
       "  </thead>\n",
       "  <tbody>\n",
       "    <tr>\n",
       "      <th>0</th>\n",
       "      <td>0</td>\n",
       "      <td>11539</td>\n",
       "      <td>B0033UV8HI</td>\n",
       "      <td>[8, 10]</td>\n",
       "      <td>3</td>\n",
       "      <td>Jace Rankin may be short, but he's nothing to ...</td>\n",
       "      <td>09 2, 2010</td>\n",
       "      <td>A3HHXRELK8BHQG</td>\n",
       "      <td>Ridley</td>\n",
       "      <td>Entertaining But Average</td>\n",
       "      <td>1283385600</td>\n",
       "    </tr>\n",
       "    <tr>\n",
       "      <th>1</th>\n",
       "      <td>1</td>\n",
       "      <td>5957</td>\n",
       "      <td>B002HJV4DE</td>\n",
       "      <td>[1, 1]</td>\n",
       "      <td>5</td>\n",
       "      <td>Great short read.  I didn't want to put it dow...</td>\n",
       "      <td>10 8, 2013</td>\n",
       "      <td>A2RGNZ0TRF578I</td>\n",
       "      <td>Holly Butler</td>\n",
       "      <td>Terrific menage scenes!</td>\n",
       "      <td>1381190400</td>\n",
       "    </tr>\n",
       "    <tr>\n",
       "      <th>2</th>\n",
       "      <td>2</td>\n",
       "      <td>9146</td>\n",
       "      <td>B002ZG96I4</td>\n",
       "      <td>[0, 0]</td>\n",
       "      <td>3</td>\n",
       "      <td>I'll start by saying this is the first of four...</td>\n",
       "      <td>04 11, 2014</td>\n",
       "      <td>A3S0H2HV6U1I7F</td>\n",
       "      <td>Merissa</td>\n",
       "      <td>Snapdragon Alley</td>\n",
       "      <td>1397174400</td>\n",
       "    </tr>\n",
       "    <tr>\n",
       "      <th>3</th>\n",
       "      <td>3</td>\n",
       "      <td>7038</td>\n",
       "      <td>B002QHWOEU</td>\n",
       "      <td>[1, 3]</td>\n",
       "      <td>3</td>\n",
       "      <td>Aggie is Angela Lansbury who carries pocketboo...</td>\n",
       "      <td>07 5, 2014</td>\n",
       "      <td>AC4OQW3GZ919J</td>\n",
       "      <td>Cleargrace</td>\n",
       "      <td>very light murder cozy</td>\n",
       "      <td>1404518400</td>\n",
       "    </tr>\n",
       "    <tr>\n",
       "      <th>4</th>\n",
       "      <td>4</td>\n",
       "      <td>1776</td>\n",
       "      <td>B001A06VJ8</td>\n",
       "      <td>[0, 1]</td>\n",
       "      <td>4</td>\n",
       "      <td>I did not expect this type of book to be in li...</td>\n",
       "      <td>12 31, 2012</td>\n",
       "      <td>A3C9V987IQHOQD</td>\n",
       "      <td>Rjostler</td>\n",
       "      <td>Book</td>\n",
       "      <td>1356912000</td>\n",
       "    </tr>\n",
       "    <tr>\n",
       "      <th>...</th>\n",
       "      <td>...</td>\n",
       "      <td>...</td>\n",
       "      <td>...</td>\n",
       "      <td>...</td>\n",
       "      <td>...</td>\n",
       "      <td>...</td>\n",
       "      <td>...</td>\n",
       "      <td>...</td>\n",
       "      <td>...</td>\n",
       "      <td>...</td>\n",
       "      <td>...</td>\n",
       "    </tr>\n",
       "    <tr>\n",
       "      <th>11995</th>\n",
       "      <td>11995</td>\n",
       "      <td>2183</td>\n",
       "      <td>B001DUGORO</td>\n",
       "      <td>[0, 0]</td>\n",
       "      <td>4</td>\n",
       "      <td>Valentine cupid is a vampire- Jena and Ian ano...</td>\n",
       "      <td>02 28, 2014</td>\n",
       "      <td>A1OKS5Q1HD8WQC</td>\n",
       "      <td>lisa jon jung</td>\n",
       "      <td>jena</td>\n",
       "      <td>1393545600</td>\n",
       "    </tr>\n",
       "    <tr>\n",
       "      <th>11996</th>\n",
       "      <td>11996</td>\n",
       "      <td>6272</td>\n",
       "      <td>B002JCSFSQ</td>\n",
       "      <td>[2, 2]</td>\n",
       "      <td>5</td>\n",
       "      <td>I have read all seven books in this series. Ap...</td>\n",
       "      <td>05 16, 2011</td>\n",
       "      <td>AQRSPXLNEQAMA</td>\n",
       "      <td>TerryLP</td>\n",
       "      <td>Peacekeepers Series</td>\n",
       "      <td>1305504000</td>\n",
       "    </tr>\n",
       "    <tr>\n",
       "      <th>11997</th>\n",
       "      <td>11997</td>\n",
       "      <td>12483</td>\n",
       "      <td>B0035N1V7K</td>\n",
       "      <td>[0, 1]</td>\n",
       "      <td>3</td>\n",
       "      <td>This book really just wasn't my cuppa.  The si...</td>\n",
       "      <td>07 26, 2013</td>\n",
       "      <td>A2T5QLT5VXOJAK</td>\n",
       "      <td>hwilson</td>\n",
       "      <td>a little creepy</td>\n",
       "      <td>1374796800</td>\n",
       "    </tr>\n",
       "    <tr>\n",
       "      <th>11998</th>\n",
       "      <td>11998</td>\n",
       "      <td>3640</td>\n",
       "      <td>B001W1XT40</td>\n",
       "      <td>[1, 2]</td>\n",
       "      <td>1</td>\n",
       "      <td>tried to use it to charge my kindle, it didn't...</td>\n",
       "      <td>09 17, 2013</td>\n",
       "      <td>A28MHD2DDY6DXB</td>\n",
       "      <td>Allison A. Slater \"Gryphon50\"</td>\n",
       "      <td>didn't work</td>\n",
       "      <td>1379376000</td>\n",
       "    </tr>\n",
       "    <tr>\n",
       "      <th>11999</th>\n",
       "      <td>11999</td>\n",
       "      <td>11398</td>\n",
       "      <td>B003370JUS</td>\n",
       "      <td>[5, 6]</td>\n",
       "      <td>3</td>\n",
       "      <td>Taking Instruction is a look into the often hi...</td>\n",
       "      <td>07 5, 2012</td>\n",
       "      <td>A3JUXLB4K9ZXCC</td>\n",
       "      <td>Dafna Yee</td>\n",
       "      <td>If you like BDSM with a touch of romance, this...</td>\n",
       "      <td>1341446400</td>\n",
       "    </tr>\n",
       "  </tbody>\n",
       "</table>\n",
       "<p>12000 rows × 11 columns</p>\n",
       "</div>"
      ],
      "text/plain": [
       "       Unnamed: 0.1  Unnamed: 0        asin  helpful  rating  \\\n",
       "0                 0       11539  B0033UV8HI  [8, 10]       3   \n",
       "1                 1        5957  B002HJV4DE   [1, 1]       5   \n",
       "2                 2        9146  B002ZG96I4   [0, 0]       3   \n",
       "3                 3        7038  B002QHWOEU   [1, 3]       3   \n",
       "4                 4        1776  B001A06VJ8   [0, 1]       4   \n",
       "...             ...         ...         ...      ...     ...   \n",
       "11995         11995        2183  B001DUGORO   [0, 0]       4   \n",
       "11996         11996        6272  B002JCSFSQ   [2, 2]       5   \n",
       "11997         11997       12483  B0035N1V7K   [0, 1]       3   \n",
       "11998         11998        3640  B001W1XT40   [1, 2]       1   \n",
       "11999         11999       11398  B003370JUS   [5, 6]       3   \n",
       "\n",
       "                                              reviewText   reviewTime  \\\n",
       "0      Jace Rankin may be short, but he's nothing to ...   09 2, 2010   \n",
       "1      Great short read.  I didn't want to put it dow...   10 8, 2013   \n",
       "2      I'll start by saying this is the first of four...  04 11, 2014   \n",
       "3      Aggie is Angela Lansbury who carries pocketboo...   07 5, 2014   \n",
       "4      I did not expect this type of book to be in li...  12 31, 2012   \n",
       "...                                                  ...          ...   \n",
       "11995  Valentine cupid is a vampire- Jena and Ian ano...  02 28, 2014   \n",
       "11996  I have read all seven books in this series. Ap...  05 16, 2011   \n",
       "11997  This book really just wasn't my cuppa.  The si...  07 26, 2013   \n",
       "11998  tried to use it to charge my kindle, it didn't...  09 17, 2013   \n",
       "11999  Taking Instruction is a look into the often hi...   07 5, 2012   \n",
       "\n",
       "           reviewerID                   reviewerName  \\\n",
       "0      A3HHXRELK8BHQG                         Ridley   \n",
       "1      A2RGNZ0TRF578I                   Holly Butler   \n",
       "2      A3S0H2HV6U1I7F                        Merissa   \n",
       "3       AC4OQW3GZ919J                     Cleargrace   \n",
       "4      A3C9V987IQHOQD                       Rjostler   \n",
       "...               ...                            ...   \n",
       "11995  A1OKS5Q1HD8WQC                  lisa jon jung   \n",
       "11996   AQRSPXLNEQAMA                        TerryLP   \n",
       "11997  A2T5QLT5VXOJAK                        hwilson   \n",
       "11998  A28MHD2DDY6DXB  Allison A. Slater \"Gryphon50\"   \n",
       "11999  A3JUXLB4K9ZXCC                      Dafna Yee   \n",
       "\n",
       "                                                 summary  unixReviewTime  \n",
       "0                               Entertaining But Average      1283385600  \n",
       "1                                Terrific menage scenes!      1381190400  \n",
       "2                                       Snapdragon Alley      1397174400  \n",
       "3                                 very light murder cozy      1404518400  \n",
       "4                                                   Book      1356912000  \n",
       "...                                                  ...             ...  \n",
       "11995                                               jena      1393545600  \n",
       "11996                                Peacekeepers Series      1305504000  \n",
       "11997                                    a little creepy      1374796800  \n",
       "11998                                        didn't work      1379376000  \n",
       "11999  If you like BDSM with a touch of romance, this...      1341446400  \n",
       "\n",
       "[12000 rows x 11 columns]"
      ]
     },
     "execution_count": 64,
     "metadata": {},
     "output_type": "execute_result"
    }
   ],
   "source": [
    "df"
   ]
  },
  {
   "cell_type": "code",
   "execution_count": 65,
   "metadata": {},
   "outputs": [],
   "source": [
    "df = df[['reviewText', 'rating']]"
   ]
  },
  {
   "cell_type": "code",
   "execution_count": 66,
   "metadata": {},
   "outputs": [
    {
     "data": {
      "text/html": [
       "<div>\n",
       "<style scoped>\n",
       "    .dataframe tbody tr th:only-of-type {\n",
       "        vertical-align: middle;\n",
       "    }\n",
       "\n",
       "    .dataframe tbody tr th {\n",
       "        vertical-align: top;\n",
       "    }\n",
       "\n",
       "    .dataframe thead th {\n",
       "        text-align: right;\n",
       "    }\n",
       "</style>\n",
       "<table border=\"1\" class=\"dataframe\">\n",
       "  <thead>\n",
       "    <tr style=\"text-align: right;\">\n",
       "      <th></th>\n",
       "      <th>reviewText</th>\n",
       "      <th>rating</th>\n",
       "    </tr>\n",
       "  </thead>\n",
       "  <tbody>\n",
       "    <tr>\n",
       "      <th>0</th>\n",
       "      <td>Jace Rankin may be short, but he's nothing to ...</td>\n",
       "      <td>3</td>\n",
       "    </tr>\n",
       "    <tr>\n",
       "      <th>1</th>\n",
       "      <td>Great short read.  I didn't want to put it dow...</td>\n",
       "      <td>5</td>\n",
       "    </tr>\n",
       "    <tr>\n",
       "      <th>2</th>\n",
       "      <td>I'll start by saying this is the first of four...</td>\n",
       "      <td>3</td>\n",
       "    </tr>\n",
       "    <tr>\n",
       "      <th>3</th>\n",
       "      <td>Aggie is Angela Lansbury who carries pocketboo...</td>\n",
       "      <td>3</td>\n",
       "    </tr>\n",
       "    <tr>\n",
       "      <th>4</th>\n",
       "      <td>I did not expect this type of book to be in li...</td>\n",
       "      <td>4</td>\n",
       "    </tr>\n",
       "  </tbody>\n",
       "</table>\n",
       "</div>"
      ],
      "text/plain": [
       "                                          reviewText  rating\n",
       "0  Jace Rankin may be short, but he's nothing to ...       3\n",
       "1  Great short read.  I didn't want to put it dow...       5\n",
       "2  I'll start by saying this is the first of four...       3\n",
       "3  Aggie is Angela Lansbury who carries pocketboo...       3\n",
       "4  I did not expect this type of book to be in li...       4"
      ]
     },
     "execution_count": 66,
     "metadata": {},
     "output_type": "execute_result"
    }
   ],
   "source": [
    "df.head()"
   ]
  },
  {
   "cell_type": "code",
   "execution_count": 67,
   "metadata": {},
   "outputs": [
    {
     "data": {
      "text/plain": [
       "(12000, 2)"
      ]
     },
     "execution_count": 67,
     "metadata": {},
     "output_type": "execute_result"
    }
   ],
   "source": [
    "df.shape"
   ]
  },
  {
   "cell_type": "code",
   "execution_count": 68,
   "metadata": {},
   "outputs": [
    {
     "data": {
      "text/plain": [
       "reviewText    0\n",
       "rating        0\n",
       "dtype: int64"
      ]
     },
     "execution_count": 68,
     "metadata": {},
     "output_type": "execute_result"
    }
   ],
   "source": [
    "df.isna().sum()"
   ]
  },
  {
   "cell_type": "code",
   "execution_count": 69,
   "metadata": {},
   "outputs": [
    {
     "data": {
      "text/plain": [
       "array([3, 5, 4, 2, 1])"
      ]
     },
     "execution_count": 69,
     "metadata": {},
     "output_type": "execute_result"
    }
   ],
   "source": [
    "df['rating'].unique()"
   ]
  },
  {
   "cell_type": "code",
   "execution_count": 70,
   "metadata": {},
   "outputs": [
    {
     "data": {
      "text/plain": [
       "rating\n",
       "5    3000\n",
       "4    3000\n",
       "3    2000\n",
       "2    2000\n",
       "1    2000\n",
       "Name: count, dtype: int64"
      ]
     },
     "execution_count": 70,
     "metadata": {},
     "output_type": "execute_result"
    }
   ],
   "source": [
    "df['rating'].value_counts()"
   ]
  },
  {
   "cell_type": "markdown",
   "metadata": {},
   "source": [
    "### **Preprocessing and Cleaning**"
   ]
  },
  {
   "cell_type": "code",
   "execution_count": 71,
   "metadata": {},
   "outputs": [
    {
     "name": "stderr",
     "output_type": "stream",
     "text": [
      "/tmp/ipykernel_9661/874010074.py:1: SettingWithCopyWarning: \n",
      "A value is trying to be set on a copy of a slice from a DataFrame.\n",
      "Try using .loc[row_indexer,col_indexer] = value instead\n",
      "\n",
      "See the caveats in the documentation: https://pandas.pydata.org/pandas-docs/stable/user_guide/indexing.html#returning-a-view-versus-a-copy\n",
      "  df['rating'] = df['rating'].apply(lambda x : 0 if x<3 else 1)\n"
     ]
    }
   ],
   "source": [
    "df['rating'] = df['rating'].apply(lambda x : 0 if x<3 else 1)"
   ]
  },
  {
   "cell_type": "code",
   "execution_count": 72,
   "metadata": {},
   "outputs": [
    {
     "data": {
      "text/plain": [
       "rating\n",
       "1    8000\n",
       "0    4000\n",
       "Name: count, dtype: int64"
      ]
     },
     "execution_count": 72,
     "metadata": {},
     "output_type": "execute_result"
    }
   ],
   "source": [
    "df['rating'].value_counts()"
   ]
  },
  {
   "cell_type": "code",
   "execution_count": 73,
   "metadata": {},
   "outputs": [
    {
     "name": "stderr",
     "output_type": "stream",
     "text": [
      "/tmp/ipykernel_9661/996257607.py:1: SettingWithCopyWarning: \n",
      "A value is trying to be set on a copy of a slice from a DataFrame.\n",
      "Try using .loc[row_indexer,col_indexer] = value instead\n",
      "\n",
      "See the caveats in the documentation: https://pandas.pydata.org/pandas-docs/stable/user_guide/indexing.html#returning-a-view-versus-a-copy\n",
      "  df['reviewText']  = df['reviewText'].str.lower()\n"
     ]
    }
   ],
   "source": [
    "df['reviewText']  = df['reviewText'].str.lower()"
   ]
  },
  {
   "cell_type": "code",
   "execution_count": 74,
   "metadata": {},
   "outputs": [
    {
     "data": {
      "text/html": [
       "<div>\n",
       "<style scoped>\n",
       "    .dataframe tbody tr th:only-of-type {\n",
       "        vertical-align: middle;\n",
       "    }\n",
       "\n",
       "    .dataframe tbody tr th {\n",
       "        vertical-align: top;\n",
       "    }\n",
       "\n",
       "    .dataframe thead th {\n",
       "        text-align: right;\n",
       "    }\n",
       "</style>\n",
       "<table border=\"1\" class=\"dataframe\">\n",
       "  <thead>\n",
       "    <tr style=\"text-align: right;\">\n",
       "      <th></th>\n",
       "      <th>reviewText</th>\n",
       "      <th>rating</th>\n",
       "    </tr>\n",
       "  </thead>\n",
       "  <tbody>\n",
       "    <tr>\n",
       "      <th>0</th>\n",
       "      <td>jace rankin may be short, but he's nothing to ...</td>\n",
       "      <td>1</td>\n",
       "    </tr>\n",
       "    <tr>\n",
       "      <th>1</th>\n",
       "      <td>great short read.  i didn't want to put it dow...</td>\n",
       "      <td>1</td>\n",
       "    </tr>\n",
       "    <tr>\n",
       "      <th>2</th>\n",
       "      <td>i'll start by saying this is the first of four...</td>\n",
       "      <td>1</td>\n",
       "    </tr>\n",
       "    <tr>\n",
       "      <th>3</th>\n",
       "      <td>aggie is angela lansbury who carries pocketboo...</td>\n",
       "      <td>1</td>\n",
       "    </tr>\n",
       "    <tr>\n",
       "      <th>4</th>\n",
       "      <td>i did not expect this type of book to be in li...</td>\n",
       "      <td>1</td>\n",
       "    </tr>\n",
       "  </tbody>\n",
       "</table>\n",
       "</div>"
      ],
      "text/plain": [
       "                                          reviewText  rating\n",
       "0  jace rankin may be short, but he's nothing to ...       1\n",
       "1  great short read.  i didn't want to put it dow...       1\n",
       "2  i'll start by saying this is the first of four...       1\n",
       "3  aggie is angela lansbury who carries pocketboo...       1\n",
       "4  i did not expect this type of book to be in li...       1"
      ]
     },
     "execution_count": 74,
     "metadata": {},
     "output_type": "execute_result"
    }
   ],
   "source": [
    "df.head()"
   ]
  },
  {
   "cell_type": "markdown",
   "metadata": {},
   "source": [
    "### **Data Cleaning**"
   ]
  },
  {
   "cell_type": "code",
   "execution_count": 75,
   "metadata": {},
   "outputs": [
    {
     "name": "stderr",
     "output_type": "stream",
     "text": [
      "/tmp/ipykernel_9661/3551487871.py:1: SettingWithCopyWarning: \n",
      "A value is trying to be set on a copy of a slice from a DataFrame.\n",
      "Try using .loc[row_indexer,col_indexer] = value instead\n",
      "\n",
      "See the caveats in the documentation: https://pandas.pydata.org/pandas-docs/stable/user_guide/indexing.html#returning-a-view-versus-a-copy\n",
      "  df['reviewText'] = df['reviewText'].apply(lambda x:re.sub('[^^a-z A-Z 0-9]+', '', x))\n"
     ]
    }
   ],
   "source": [
    "df['reviewText'] = df['reviewText'].apply(lambda x:re.sub('[^^a-z A-Z 0-9]+', '', x))"
   ]
  },
  {
   "cell_type": "code",
   "execution_count": 76,
   "metadata": {},
   "outputs": [
    {
     "name": "stderr",
     "output_type": "stream",
     "text": [
      "/tmp/ipykernel_9661/349245991.py:1: SettingWithCopyWarning: \n",
      "A value is trying to be set on a copy of a slice from a DataFrame.\n",
      "Try using .loc[row_indexer,col_indexer] = value instead\n",
      "\n",
      "See the caveats in the documentation: https://pandas.pydata.org/pandas-docs/stable/user_guide/indexing.html#returning-a-view-versus-a-copy\n",
      "  df['reviewText'] = df['reviewText'].apply(lambda x:\" \".join([y for y in x.split() if y not in stopwords.words('english')]))\n"
     ]
    }
   ],
   "source": [
    "df['reviewText'] = df['reviewText'].apply(lambda x:\" \".join([y for y in x.split() if y not in stopwords.words('english')]))"
   ]
  },
  {
   "cell_type": "code",
   "execution_count": 77,
   "metadata": {},
   "outputs": [
    {
     "name": "stderr",
     "output_type": "stream",
     "text": [
      "/tmp/ipykernel_9661/2015794547.py:1: SettingWithCopyWarning: \n",
      "A value is trying to be set on a copy of a slice from a DataFrame.\n",
      "Try using .loc[row_indexer,col_indexer] = value instead\n",
      "\n",
      "See the caveats in the documentation: https://pandas.pydata.org/pandas-docs/stable/user_guide/indexing.html#returning-a-view-versus-a-copy\n",
      "  df['reviewText']=df['reviewText'].apply(lambda x: re.sub(r'(http|https|ftp|ssh)://([\\w_-]+(?:(?:\\.[\\w_-]+)+))([\\w.,@?^=%&:/~+#-]*[\\w@?^=%&/~+#-])?', '' , str(x)))\n"
     ]
    }
   ],
   "source": [
    "df['reviewText']=df['reviewText'].apply(lambda x: re.sub(r'(http|https|ftp|ssh)://([\\w_-]+(?:(?:\\.[\\w_-]+)+))([\\w.,@?^=%&:/~+#-]*[\\w@?^=%&/~+#-])?', '' , str(x)))\n"
   ]
  },
  {
   "cell_type": "code",
   "execution_count": 78,
   "metadata": {},
   "outputs": [
    {
     "name": "stderr",
     "output_type": "stream",
     "text": [
      "/tmp/ipykernel_9661/4311170.py:1: SettingWithCopyWarning: \n",
      "A value is trying to be set on a copy of a slice from a DataFrame.\n",
      "Try using .loc[row_indexer,col_indexer] = value instead\n",
      "\n",
      "See the caveats in the documentation: https://pandas.pydata.org/pandas-docs/stable/user_guide/indexing.html#returning-a-view-versus-a-copy\n",
      "  df['reviewText'] = df['reviewText'].apply(lambda x: BeautifulSoup(x, 'html.parser').get_text())\n"
     ]
    }
   ],
   "source": [
    "df['reviewText'] = df['reviewText'].apply(lambda x: BeautifulSoup(x, 'html.parser').get_text())"
   ]
  },
  {
   "cell_type": "code",
   "execution_count": 79,
   "metadata": {},
   "outputs": [
    {
     "name": "stderr",
     "output_type": "stream",
     "text": [
      "/tmp/ipykernel_9661/731363273.py:1: SettingWithCopyWarning: \n",
      "A value is trying to be set on a copy of a slice from a DataFrame.\n",
      "Try using .loc[row_indexer,col_indexer] = value instead\n",
      "\n",
      "See the caveats in the documentation: https://pandas.pydata.org/pandas-docs/stable/user_guide/indexing.html#returning-a-view-versus-a-copy\n",
      "  df['reviewText']=df['reviewText'].apply(lambda x: \" \".join(x.split()))\n"
     ]
    }
   ],
   "source": [
    "df['reviewText']=df['reviewText'].apply(lambda x: \" \".join(x.split()))"
   ]
  },
  {
   "cell_type": "code",
   "execution_count": 80,
   "metadata": {},
   "outputs": [
    {
     "data": {
      "text/html": [
       "<div>\n",
       "<style scoped>\n",
       "    .dataframe tbody tr th:only-of-type {\n",
       "        vertical-align: middle;\n",
       "    }\n",
       "\n",
       "    .dataframe tbody tr th {\n",
       "        vertical-align: top;\n",
       "    }\n",
       "\n",
       "    .dataframe thead th {\n",
       "        text-align: right;\n",
       "    }\n",
       "</style>\n",
       "<table border=\"1\" class=\"dataframe\">\n",
       "  <thead>\n",
       "    <tr style=\"text-align: right;\">\n",
       "      <th></th>\n",
       "      <th>reviewText</th>\n",
       "      <th>rating</th>\n",
       "    </tr>\n",
       "  </thead>\n",
       "  <tbody>\n",
       "    <tr>\n",
       "      <th>0</th>\n",
       "      <td>jace rankin may short hes nothing mess man hau...</td>\n",
       "      <td>1</td>\n",
       "    </tr>\n",
       "    <tr>\n",
       "      <th>1</th>\n",
       "      <td>great short read didnt want put read one sitti...</td>\n",
       "      <td>1</td>\n",
       "    </tr>\n",
       "    <tr>\n",
       "      <th>2</th>\n",
       "      <td>ill start saying first four books wasnt expect...</td>\n",
       "      <td>1</td>\n",
       "    </tr>\n",
       "    <tr>\n",
       "      <th>3</th>\n",
       "      <td>aggie angela lansbury carries pocketbooks inst...</td>\n",
       "      <td>1</td>\n",
       "    </tr>\n",
       "    <tr>\n",
       "      <th>4</th>\n",
       "      <td>expect type book library pleased find price right</td>\n",
       "      <td>1</td>\n",
       "    </tr>\n",
       "  </tbody>\n",
       "</table>\n",
       "</div>"
      ],
      "text/plain": [
       "                                          reviewText  rating\n",
       "0  jace rankin may short hes nothing mess man hau...       1\n",
       "1  great short read didnt want put read one sitti...       1\n",
       "2  ill start saying first four books wasnt expect...       1\n",
       "3  aggie angela lansbury carries pocketbooks inst...       1\n",
       "4  expect type book library pleased find price right       1"
      ]
     },
     "execution_count": 80,
     "metadata": {},
     "output_type": "execute_result"
    }
   ],
   "source": [
    "df.head()"
   ]
  },
  {
   "cell_type": "code",
   "execution_count": 81,
   "metadata": {},
   "outputs": [],
   "source": [
    "from nltk.stem import WordNetLemmatizer\n",
    "lemmatizer = WordNetLemmatizer()"
   ]
  },
  {
   "cell_type": "code",
   "execution_count": 82,
   "metadata": {},
   "outputs": [],
   "source": [
    "def lemmatize_words(text):\n",
    "    return \" \".join([lemmatizer.lemmatize(word) for word in text.split()])"
   ]
  },
  {
   "cell_type": "code",
   "execution_count": 83,
   "metadata": {},
   "outputs": [
    {
     "name": "stderr",
     "output_type": "stream",
     "text": [
      "/tmp/ipykernel_9661/3266273754.py:1: SettingWithCopyWarning: \n",
      "A value is trying to be set on a copy of a slice from a DataFrame.\n",
      "Try using .loc[row_indexer,col_indexer] = value instead\n",
      "\n",
      "See the caveats in the documentation: https://pandas.pydata.org/pandas-docs/stable/user_guide/indexing.html#returning-a-view-versus-a-copy\n",
      "  df['reviewText']=df['reviewText'].apply(lambda x: lemmatize_words(x))\n"
     ]
    }
   ],
   "source": [
    "df['reviewText']=df['reviewText'].apply(lambda x: lemmatize_words(x))"
   ]
  },
  {
   "cell_type": "code",
   "execution_count": 84,
   "metadata": {},
   "outputs": [],
   "source": [
    "from sklearn.model_selection import train_test_split"
   ]
  },
  {
   "cell_type": "code",
   "execution_count": 85,
   "metadata": {},
   "outputs": [],
   "source": [
    "X_train,X_test,y_train,y_test = train_test_split(df['reviewText'], df['rating'], test_size=0.20)"
   ]
  },
  {
   "cell_type": "code",
   "execution_count": 86,
   "metadata": {},
   "outputs": [],
   "source": [
    "from sklearn.feature_extraction.text import CountVectorizer"
   ]
  },
  {
   "cell_type": "code",
   "execution_count": 87,
   "metadata": {},
   "outputs": [],
   "source": [
    "bow = CountVectorizer()"
   ]
  },
  {
   "cell_type": "code",
   "execution_count": 88,
   "metadata": {},
   "outputs": [],
   "source": [
    "X_train_bow = bow.fit_transform(X_train).toarray()"
   ]
  },
  {
   "cell_type": "code",
   "execution_count": 89,
   "metadata": {},
   "outputs": [],
   "source": [
    "X_test_bow = bow.transform(X_test).toarray()"
   ]
  },
  {
   "cell_type": "code",
   "execution_count": 90,
   "metadata": {},
   "outputs": [],
   "source": [
    "from sklearn.feature_extraction.text import TfidfVectorizer\n",
    "tfidf = TfidfVectorizer()\n",
    "X_train_tfidf = tfidf.fit_transform(X_train).toarray()\n",
    "X_test_tfidf = tfidf.transform(X_test).toarray()"
   ]
  },
  {
   "cell_type": "code",
   "execution_count": 91,
   "metadata": {},
   "outputs": [
    {
     "data": {
      "text/plain": [
       "array([[0, 0, 0, ..., 0, 0, 0],\n",
       "       [0, 0, 0, ..., 0, 0, 0],\n",
       "       [0, 0, 0, ..., 0, 0, 0],\n",
       "       ...,\n",
       "       [0, 0, 0, ..., 0, 0, 0],\n",
       "       [0, 0, 0, ..., 0, 0, 0],\n",
       "       [0, 0, 0, ..., 0, 0, 0]])"
      ]
     },
     "execution_count": 91,
     "metadata": {},
     "output_type": "execute_result"
    }
   ],
   "source": [
    "X_train_bow"
   ]
  },
  {
   "cell_type": "code",
   "execution_count": 92,
   "metadata": {},
   "outputs": [],
   "source": [
    "from sklearn.naive_bayes import GaussianNB"
   ]
  },
  {
   "cell_type": "code",
   "execution_count": 93,
   "metadata": {},
   "outputs": [],
   "source": [
    "nb_model_bow = GaussianNB().fit(X_train_bow,y_train)\n",
    "nb_model_tfidf = GaussianNB().fit(X_train_tfidf,y_train)"
   ]
  },
  {
   "cell_type": "code",
   "execution_count": 94,
   "metadata": {},
   "outputs": [],
   "source": [
    "from sklearn.metrics import confusion_matrix, classification_report, accuracy_score"
   ]
  },
  {
   "cell_type": "code",
   "execution_count": 95,
   "metadata": {},
   "outputs": [],
   "source": [
    "y_pred_bow = nb_model_bow.predict(X_test_bow)"
   ]
  },
  {
   "cell_type": "code",
   "execution_count": 96,
   "metadata": {},
   "outputs": [],
   "source": [
    "y_pred_tfidf= nb_model_bow.predict(X_test_tfidf)"
   ]
  },
  {
   "cell_type": "code",
   "execution_count": 97,
   "metadata": {},
   "outputs": [
    {
     "name": "stdout",
     "output_type": "stream",
     "text": [
      "BOW Accuracy:  0.58125\n"
     ]
    }
   ],
   "source": [
    "print(\"BOW Accuracy: \", accuracy_score(y_test, y_pred_bow))"
   ]
  },
  {
   "cell_type": "code",
   "execution_count": 98,
   "metadata": {},
   "outputs": [
    {
     "name": "stdout",
     "output_type": "stream",
     "text": [
      "[[514 284]\n",
      " [721 881]]\n"
     ]
    }
   ],
   "source": [
    "print(confusion_matrix(y_test, y_pred_bow))"
   ]
  },
  {
   "cell_type": "code",
   "execution_count": 99,
   "metadata": {},
   "outputs": [
    {
     "name": "stdout",
     "output_type": "stream",
     "text": [
      "TFIDF Accuracy:  0.5804166666666667\n"
     ]
    }
   ],
   "source": [
    "print(\"TFIDF Accuracy: \", accuracy_score(y_test, y_pred_tfidf))"
   ]
  },
  {
   "cell_type": "code",
   "execution_count": 100,
   "metadata": {},
   "outputs": [
    {
     "name": "stdout",
     "output_type": "stream",
     "text": [
      "[[506 292]\n",
      " [715 887]]\n"
     ]
    }
   ],
   "source": [
    "print(confusion_matrix(y_test, y_pred_tfidf))"
   ]
  },
  {
   "cell_type": "code",
   "execution_count": 101,
   "metadata": {},
   "outputs": [
    {
     "name": "stdout",
     "output_type": "stream",
     "text": [
      "              precision    recall  f1-score   support\n",
      "\n",
      "           0       0.41      0.63      0.50       798\n",
      "           1       0.75      0.55      0.64      1602\n",
      "\n",
      "    accuracy                           0.58      2400\n",
      "   macro avg       0.58      0.59      0.57      2400\n",
      "weighted avg       0.64      0.58      0.59      2400\n",
      "\n"
     ]
    }
   ],
   "source": [
    "print(classification_report(y_test, y_pred_tfidf))"
   ]
  },
  {
   "cell_type": "code",
   "execution_count": 102,
   "metadata": {},
   "outputs": [],
   "source": [
    "from gensim.models import Word2Vec\n",
    "from nltk.stem import WordNetLemmatizer\n",
    "from nltk.tokenize import word_tokenize\n",
    "wnl = WordNetLemmatizer()"
   ]
  },
  {
   "cell_type": "code",
   "execution_count": 103,
   "metadata": {},
   "outputs": [
    {
     "data": {
      "text/html": [
       "<div>\n",
       "<style scoped>\n",
       "    .dataframe tbody tr th:only-of-type {\n",
       "        vertical-align: middle;\n",
       "    }\n",
       "\n",
       "    .dataframe tbody tr th {\n",
       "        vertical-align: top;\n",
       "    }\n",
       "\n",
       "    .dataframe thead th {\n",
       "        text-align: right;\n",
       "    }\n",
       "</style>\n",
       "<table border=\"1\" class=\"dataframe\">\n",
       "  <thead>\n",
       "    <tr style=\"text-align: right;\">\n",
       "      <th></th>\n",
       "      <th>reviewText</th>\n",
       "      <th>rating</th>\n",
       "    </tr>\n",
       "  </thead>\n",
       "  <tbody>\n",
       "    <tr>\n",
       "      <th>0</th>\n",
       "      <td>jace rankin may short he nothing mess man haul...</td>\n",
       "      <td>1</td>\n",
       "    </tr>\n",
       "    <tr>\n",
       "      <th>1</th>\n",
       "      <td>great short read didnt want put read one sitti...</td>\n",
       "      <td>1</td>\n",
       "    </tr>\n",
       "    <tr>\n",
       "      <th>2</th>\n",
       "      <td>ill start saying first four book wasnt expecti...</td>\n",
       "      <td>1</td>\n",
       "    </tr>\n",
       "    <tr>\n",
       "      <th>3</th>\n",
       "      <td>aggie angela lansbury carry pocketbook instead...</td>\n",
       "      <td>1</td>\n",
       "    </tr>\n",
       "    <tr>\n",
       "      <th>4</th>\n",
       "      <td>expect type book library pleased find price right</td>\n",
       "      <td>1</td>\n",
       "    </tr>\n",
       "  </tbody>\n",
       "</table>\n",
       "</div>"
      ],
      "text/plain": [
       "                                          reviewText  rating\n",
       "0  jace rankin may short he nothing mess man haul...       1\n",
       "1  great short read didnt want put read one sitti...       1\n",
       "2  ill start saying first four book wasnt expecti...       1\n",
       "3  aggie angela lansbury carry pocketbook instead...       1\n",
       "4  expect type book library pleased find price right       1"
      ]
     },
     "execution_count": 103,
     "metadata": {},
     "output_type": "execute_result"
    }
   ],
   "source": [
    "df.head()"
   ]
  },
  {
   "cell_type": "code",
   "execution_count": 104,
   "metadata": {},
   "outputs": [],
   "source": [
    "\n",
    "w2v_model = Word2Vec(sentences=df['reviewText'], vector_size=300, window=5, min_count=2, workers=4, epochs=20)\n",
    "\n",
    "\n",
    "def get_avg_word2vec(tokens, model, vector_size):\n",
    "    embeddings = [model.wv[word] for word in tokens if word in model.wv]\n",
    "    if len(embeddings) == 0: \n",
    "        return np.zeros(vector_size)\n",
    "    return np.mean(embeddings, axis=0)\n"
   ]
  },
  {
   "cell_type": "code",
   "execution_count": 106,
   "metadata": {},
   "outputs": [
    {
     "name": "stderr",
     "output_type": "stream",
     "text": [
      "/tmp/ipykernel_9661/1412478705.py:3: SettingWithCopyWarning: \n",
      "A value is trying to be set on a copy of a slice from a DataFrame.\n",
      "Try using .loc[row_indexer,col_indexer] = value instead\n",
      "\n",
      "See the caveats in the documentation: https://pandas.pydata.org/pandas-docs/stable/user_guide/indexing.html#returning-a-view-versus-a-copy\n",
      "  df['features'] = df['reviewText'].apply(lambda x: get_avg_word2vec(x, w2v_model, vector_size))\n"
     ]
    }
   ],
   "source": [
    "import numpy as np\n",
    "vector_size = 300\n",
    "df['features'] = df['reviewText'].apply(lambda x: get_avg_word2vec(x, w2v_model, vector_size))\n",
    "\n",
    "# Convert the features column into a NumPy array for modeling\n",
    "X = np.vstack(df['features'].values)\n"
   ]
  },
  {
   "cell_type": "code",
   "execution_count": 107,
   "metadata": {},
   "outputs": [],
   "source": [
    "# Assuming 'label' is the target column for classification\n",
    "y = df['rating'].values  # Replace 'label' with your target column name\n",
    "\n",
    "# Split into training and test sets\n",
    "X_train, X_test, y_train, y_test = train_test_split(X, y, test_size=0.2, random_state=42)\n"
   ]
  },
  {
   "cell_type": "code",
   "execution_count": 108,
   "metadata": {},
   "outputs": [],
   "source": [
    "from sklearn.ensemble import RandomForestClassifier\n",
    "clf = RandomForestClassifier(n_estimators=100, random_state=42)\n",
    "clf.fit(X_train, y_train)\n",
    "\n",
    "# Predict on the test set\n",
    "y_pred = clf.predict(X_test)\n"
   ]
  },
  {
   "cell_type": "code",
   "execution_count": 109,
   "metadata": {},
   "outputs": [
    {
     "name": "stdout",
     "output_type": "stream",
     "text": [
      "Accuracy: 0.6658333333333334\n",
      "Classification Report:\n",
      "               precision    recall  f1-score   support\n",
      "\n",
      "           0       0.50      0.14      0.22       803\n",
      "           1       0.68      0.93      0.79      1597\n",
      "\n",
      "    accuracy                           0.67      2400\n",
      "   macro avg       0.59      0.54      0.50      2400\n",
      "weighted avg       0.62      0.67      0.60      2400\n",
      "\n"
     ]
    }
   ],
   "source": [
    "# Print classification metrics\n",
    "print(\"Accuracy:\", accuracy_score(y_test, y_pred))\n",
    "print(\"Classification Report:\\n\", classification_report(y_test, y_pred))\n"
   ]
  },
  {
   "cell_type": "code",
   "execution_count": 110,
   "metadata": {},
   "outputs": [
    {
     "data": {
      "text/html": [
       "<div>\n",
       "<style scoped>\n",
       "    .dataframe tbody tr th:only-of-type {\n",
       "        vertical-align: middle;\n",
       "    }\n",
       "\n",
       "    .dataframe tbody tr th {\n",
       "        vertical-align: top;\n",
       "    }\n",
       "\n",
       "    .dataframe thead th {\n",
       "        text-align: right;\n",
       "    }\n",
       "</style>\n",
       "<table border=\"1\" class=\"dataframe\">\n",
       "  <thead>\n",
       "    <tr style=\"text-align: right;\">\n",
       "      <th></th>\n",
       "      <th>reviewText</th>\n",
       "      <th>rating</th>\n",
       "      <th>features</th>\n",
       "    </tr>\n",
       "  </thead>\n",
       "  <tbody>\n",
       "    <tr>\n",
       "      <th>0</th>\n",
       "      <td>jace rankin may short he nothing mess man haul...</td>\n",
       "      <td>1</td>\n",
       "      <td>[0.07710363, -0.05014663, 0.04704434, -0.00139...</td>\n",
       "    </tr>\n",
       "    <tr>\n",
       "      <th>1</th>\n",
       "      <td>great short read didnt want put read one sitti...</td>\n",
       "      <td>1</td>\n",
       "      <td>[0.058643878, -0.039134175, 0.058156658, 0.008...</td>\n",
       "    </tr>\n",
       "    <tr>\n",
       "      <th>2</th>\n",
       "      <td>ill start saying first four book wasnt expecti...</td>\n",
       "      <td>1</td>\n",
       "      <td>[0.06670615, -0.029150214, 0.03179433, -0.0212...</td>\n",
       "    </tr>\n",
       "    <tr>\n",
       "      <th>3</th>\n",
       "      <td>aggie angela lansbury carry pocketbook instead...</td>\n",
       "      <td>1</td>\n",
       "      <td>[0.10576137, -0.058694758, 0.06331291, 0.01168...</td>\n",
       "    </tr>\n",
       "    <tr>\n",
       "      <th>4</th>\n",
       "      <td>expect type book library pleased find price right</td>\n",
       "      <td>1</td>\n",
       "      <td>[0.09811809, -0.0138768, 0.075832054, 0.010857...</td>\n",
       "    </tr>\n",
       "    <tr>\n",
       "      <th>5</th>\n",
       "      <td>aislinn little girl big dream death older brot...</td>\n",
       "      <td>1</td>\n",
       "      <td>[0.07945215, -0.04896187, 0.04113943, -0.00218...</td>\n",
       "    </tr>\n",
       "    <tr>\n",
       "      <th>6</th>\n",
       "      <td>making good story unfortunately disappointsit ...</td>\n",
       "      <td>0</td>\n",
       "      <td>[0.05247315, -0.033264287, 0.06979315, 0.00977...</td>\n",
       "    </tr>\n",
       "    <tr>\n",
       "      <th>7</th>\n",
       "      <td>got like collaborated short story alot time tw...</td>\n",
       "      <td>1</td>\n",
       "      <td>[0.05743053, -0.04119679, 0.07223986, 0.005971...</td>\n",
       "    </tr>\n",
       "    <tr>\n",
       "      <th>8</th>\n",
       "      <td>loved book hooked series hope kelsey maxwell r...</td>\n",
       "      <td>1</td>\n",
       "      <td>[0.060038377, -0.052558836, 0.063253604, 0.000...</td>\n",
       "    </tr>\n",
       "    <tr>\n",
       "      <th>9</th>\n",
       "      <td>thats good thing short sweet tease give everyt...</td>\n",
       "      <td>1</td>\n",
       "      <td>[0.025032574, -0.04087352, 0.043399636, 0.0071...</td>\n",
       "    </tr>\n",
       "    <tr>\n",
       "      <th>10</th>\n",
       "      <td>received copy book review secret society fanat...</td>\n",
       "      <td>0</td>\n",
       "      <td>[0.072694145, -0.043639448, 0.09751176, 0.0175...</td>\n",
       "    </tr>\n",
       "    <tr>\n",
       "      <th>11</th>\n",
       "      <td>even though already know outcome still enjoyab...</td>\n",
       "      <td>1</td>\n",
       "      <td>[0.050157376, -0.047654517, 0.08757069, 0.0040...</td>\n",
       "    </tr>\n",
       "    <tr>\n",
       "      <th>12</th>\n",
       "      <td>read review decided give try despite review la...</td>\n",
       "      <td>0</td>\n",
       "      <td>[0.11338506, -0.06679194, 0.058804147, 0.00625...</td>\n",
       "    </tr>\n",
       "    <tr>\n",
       "      <th>13</th>\n",
       "      <td>finished reread wicked garden say wow even nov...</td>\n",
       "      <td>1</td>\n",
       "      <td>[0.07129635, -0.04269717, 0.05504021, -0.00147...</td>\n",
       "    </tr>\n",
       "    <tr>\n",
       "      <th>14</th>\n",
       "      <td>king james version far tell may know 1611 kjv ...</td>\n",
       "      <td>1</td>\n",
       "      <td>[0.07503705, -0.06265112, 0.02588809, -0.00399...</td>\n",
       "    </tr>\n",
       "    <tr>\n",
       "      <th>15</th>\n",
       "      <td>disappointed book anything blond one figured 5...</td>\n",
       "      <td>0</td>\n",
       "      <td>[0.065996386, -0.052249413, 0.029073691, -0.01...</td>\n",
       "    </tr>\n",
       "    <tr>\n",
       "      <th>16</th>\n",
       "      <td>super quick book wish would longer really like...</td>\n",
       "      <td>1</td>\n",
       "      <td>[0.06418447, -0.04160963, 0.0438166, -0.007456...</td>\n",
       "    </tr>\n",
       "    <tr>\n",
       "      <th>17</th>\n",
       "      <td>many time author going get amazon delete add c...</td>\n",
       "      <td>0</td>\n",
       "      <td>[0.08471943, -0.053475313, 0.08172887, 0.01790...</td>\n",
       "    </tr>\n",
       "    <tr>\n",
       "      <th>18</th>\n",
       "      <td>love jr ward book story completely awsome zsad...</td>\n",
       "      <td>1</td>\n",
       "      <td>[0.048597265, -0.024467062, 0.035090644, -0.00...</td>\n",
       "    </tr>\n",
       "    <tr>\n",
       "      <th>19</th>\n",
       "      <td>first author thoroughly enjoyed iti say concep...</td>\n",
       "      <td>1</td>\n",
       "      <td>[0.06085104, -0.033213392, 0.057702385, 0.0061...</td>\n",
       "    </tr>\n",
       "  </tbody>\n",
       "</table>\n",
       "</div>"
      ],
      "text/plain": [
       "                                           reviewText  rating  \\\n",
       "0   jace rankin may short he nothing mess man haul...       1   \n",
       "1   great short read didnt want put read one sitti...       1   \n",
       "2   ill start saying first four book wasnt expecti...       1   \n",
       "3   aggie angela lansbury carry pocketbook instead...       1   \n",
       "4   expect type book library pleased find price right       1   \n",
       "5   aislinn little girl big dream death older brot...       1   \n",
       "6   making good story unfortunately disappointsit ...       0   \n",
       "7   got like collaborated short story alot time tw...       1   \n",
       "8   loved book hooked series hope kelsey maxwell r...       1   \n",
       "9   thats good thing short sweet tease give everyt...       1   \n",
       "10  received copy book review secret society fanat...       0   \n",
       "11  even though already know outcome still enjoyab...       1   \n",
       "12  read review decided give try despite review la...       0   \n",
       "13  finished reread wicked garden say wow even nov...       1   \n",
       "14  king james version far tell may know 1611 kjv ...       1   \n",
       "15  disappointed book anything blond one figured 5...       0   \n",
       "16  super quick book wish would longer really like...       1   \n",
       "17  many time author going get amazon delete add c...       0   \n",
       "18  love jr ward book story completely awsome zsad...       1   \n",
       "19  first author thoroughly enjoyed iti say concep...       1   \n",
       "\n",
       "                                             features  \n",
       "0   [0.07710363, -0.05014663, 0.04704434, -0.00139...  \n",
       "1   [0.058643878, -0.039134175, 0.058156658, 0.008...  \n",
       "2   [0.06670615, -0.029150214, 0.03179433, -0.0212...  \n",
       "3   [0.10576137, -0.058694758, 0.06331291, 0.01168...  \n",
       "4   [0.09811809, -0.0138768, 0.075832054, 0.010857...  \n",
       "5   [0.07945215, -0.04896187, 0.04113943, -0.00218...  \n",
       "6   [0.05247315, -0.033264287, 0.06979315, 0.00977...  \n",
       "7   [0.05743053, -0.04119679, 0.07223986, 0.005971...  \n",
       "8   [0.060038377, -0.052558836, 0.063253604, 0.000...  \n",
       "9   [0.025032574, -0.04087352, 0.043399636, 0.0071...  \n",
       "10  [0.072694145, -0.043639448, 0.09751176, 0.0175...  \n",
       "11  [0.050157376, -0.047654517, 0.08757069, 0.0040...  \n",
       "12  [0.11338506, -0.06679194, 0.058804147, 0.00625...  \n",
       "13  [0.07129635, -0.04269717, 0.05504021, -0.00147...  \n",
       "14  [0.07503705, -0.06265112, 0.02588809, -0.00399...  \n",
       "15  [0.065996386, -0.052249413, 0.029073691, -0.01...  \n",
       "16  [0.06418447, -0.04160963, 0.0438166, -0.007456...  \n",
       "17  [0.08471943, -0.053475313, 0.08172887, 0.01790...  \n",
       "18  [0.048597265, -0.024467062, 0.035090644, -0.00...  \n",
       "19  [0.06085104, -0.033213392, 0.057702385, 0.0061...  "
      ]
     },
     "execution_count": 110,
     "metadata": {},
     "output_type": "execute_result"
    }
   ],
   "source": [
    "df.head(20)"
   ]
  },
  {
   "cell_type": "code",
   "execution_count": 111,
   "metadata": {},
   "outputs": [
    {
     "data": {
      "text/plain": [
       "array([ 5.86438775e-02, -3.91341746e-02,  5.81566580e-02,  8.51483084e-03,\n",
       "       -4.56769727e-02, -8.90014619e-02, -4.92667034e-03,  9.37074330e-03,\n",
       "       -5.79264760e-02,  6.01703823e-02, -5.88222453e-03, -9.21399239e-03,\n",
       "       -4.76080645e-03, -5.10470755e-02, -4.60236222e-02,  4.61870432e-02,\n",
       "       -1.20519204e-02,  1.82161983e-02,  5.42591140e-02, -5.28790578e-02,\n",
       "        2.88611911e-02, -2.67466288e-02,  3.01528852e-02, -7.43439049e-02,\n",
       "       -2.73390990e-02, -5.08542284e-02,  9.21592768e-03, -7.26802042e-03,\n",
       "        2.75604445e-02, -8.72816518e-02,  8.55335221e-02, -2.24691518e-02,\n",
       "        8.81183594e-02, -1.57913193e-02,  1.57783069e-02, -3.38024311e-02,\n",
       "        4.52070013e-02, -1.59591716e-02, -2.43460238e-02, -6.78110421e-02,\n",
       "        1.46678425e-02, -7.18758926e-02,  6.20402209e-02, -5.78501001e-02,\n",
       "       -7.39179179e-03,  4.72676009e-02, -2.87069231e-02, -4.68664095e-02,\n",
       "        4.80017811e-02, -3.74289863e-02, -5.25697507e-02, -7.19723612e-05,\n",
       "        8.68518464e-03,  5.82851432e-02,  3.13272774e-02,  2.69844048e-02,\n",
       "        6.96574664e-03, -4.92048562e-02,  1.72333308e-02, -1.84954647e-02,\n",
       "        3.27170789e-02, -7.24536320e-03,  4.30991221e-03,  3.56991701e-02,\n",
       "       -1.65030044e-02,  2.45928802e-02, -2.75531169e-02, -2.34289411e-02,\n",
       "       -4.59426083e-02,  7.89545327e-02, -9.94932465e-03, -4.06515487e-02,\n",
       "        5.39141297e-02, -1.46794105e-02,  6.39120266e-02, -3.95748951e-02,\n",
       "       -2.56351717e-02,  1.94764733e-02, -6.16181158e-02, -1.14509631e-02,\n",
       "       -3.01439185e-02, -2.87415162e-02, -6.12035766e-02,  1.80571452e-01,\n",
       "        2.52148099e-02,  1.00379279e-02,  1.59610547e-02, -5.99722005e-02,\n",
       "        5.85294478e-02,  4.25058566e-02,  9.91036836e-03, -7.52805918e-02,\n",
       "        2.35052430e-03,  8.26707855e-03,  2.61694193e-02,  3.40735018e-02,\n",
       "        1.15645472e-02, -5.83515652e-02, -4.42687720e-02, -1.04694068e-02,\n",
       "        1.48951286e-03,  7.77822966e-03, -4.62645441e-02,  6.20065480e-02,\n",
       "       -3.19166891e-02, -7.79059008e-02, -3.25817205e-02,  5.98177761e-02,\n",
       "       -4.35865894e-02, -5.34136631e-02, -1.03551835e-01, -6.72317669e-02,\n",
       "        1.28130254e-03,  3.69168036e-02,  3.42919715e-02,  5.98700903e-02,\n",
       "        3.77958529e-02,  4.34887670e-02, -2.21917387e-02, -7.36710429e-02,\n",
       "        2.60364022e-02,  2.58060731e-02,  5.16903959e-02, -3.38081233e-02,\n",
       "        3.05829495e-02,  6.28993586e-02, -1.12624288e-01, -8.20730999e-02,\n",
       "        8.61007813e-03,  1.62200164e-03,  7.41022313e-03,  7.53080007e-03,\n",
       "       -2.51700077e-02,  3.74978036e-03, -3.27969678e-02,  6.55000880e-02,\n",
       "        1.28335115e-02,  8.97077005e-03, -1.64929312e-03, -3.16077769e-02,\n",
       "        3.02846022e-02,  7.48780149e-04, -6.99478062e-03, -2.13798955e-02,\n",
       "       -1.14945415e-02,  1.59951020e-02, -9.86558292e-03, -2.88463645e-02,\n",
       "        3.82205136e-02,  7.15797069e-03, -4.04554717e-02, -4.82400730e-02,\n",
       "        1.76917035e-02, -3.00106350e-02, -1.43412771e-02,  1.31691406e-02,\n",
       "       -6.99412730e-03,  1.73406005e-02, -2.27145683e-02,  3.12616639e-02,\n",
       "        1.90822035e-02,  2.13572439e-02, -1.08684395e-02, -1.51065262e-02,\n",
       "        4.27763127e-02,  2.89149024e-02,  1.74539890e-02,  4.15869802e-03,\n",
       "        9.23493784e-03, -7.40447431e-05, -3.13914604e-02, -1.19281039e-02,\n",
       "        8.77478439e-03,  9.35721770e-03, -5.99398790e-03, -2.77173873e-02,\n",
       "       -6.78652083e-04,  3.84511519e-03,  4.67179865e-02, -5.31959310e-02,\n",
       "       -3.86816710e-02, -1.84341508e-03, -1.75896753e-02, -1.77240148e-02,\n",
       "       -1.92827284e-02, -7.40140304e-03,  5.39938770e-02,  5.56808338e-03,\n",
       "        3.03545520e-02, -1.91410519e-02,  6.53300434e-02,  1.07574202e-02,\n",
       "        2.50464771e-03,  4.20241915e-02, -2.09560096e-02, -1.33243622e-02,\n",
       "       -3.46051827e-02, -3.13842222e-02,  3.64174135e-02, -7.95556139e-03,\n",
       "        2.93213455e-03,  2.30340324e-02,  1.58014670e-02, -6.27590809e-03,\n",
       "        8.02220702e-02, -1.97073184e-02,  4.62432280e-02,  2.51674019e-02,\n",
       "        1.26832072e-02,  1.41224498e-02,  3.37466551e-03, -6.34653047e-02,\n",
       "        6.83779037e-03, -3.85565087e-02, -3.12880753e-03,  1.52425002e-02,\n",
       "       -2.21105199e-02, -7.72349164e-02, -1.62026333e-03, -4.95015644e-02,\n",
       "        5.48959337e-02,  6.15809783e-02,  2.35451162e-02, -2.79143360e-02,\n",
       "       -3.40578333e-02,  7.84116313e-02, -8.27467591e-02, -1.04635088e-02,\n",
       "        2.80264243e-02, -1.42523302e-02, -1.89824030e-02,  2.31406130e-02,\n",
       "        4.44062203e-02,  9.81480777e-02, -8.28186702e-03,  5.13920886e-03,\n",
       "        1.96886193e-02,  1.04676401e-02,  2.70826258e-02,  1.70607888e-03,\n",
       "        4.64605503e-02,  1.85766201e-02,  2.32324284e-02,  4.52260533e-03,\n",
       "        2.97338981e-02, -1.40759405e-02, -8.12651869e-03,  1.46152750e-02,\n",
       "        1.24878259e-02,  6.08648267e-03, -4.29151729e-02,  4.13675010e-02,\n",
       "        3.58854420e-02,  4.15171385e-02,  1.00693643e-01,  2.70932559e-02,\n",
       "        7.48809129e-02,  9.02409898e-04, -9.43140767e-04, -3.07161696e-02,\n",
       "       -2.66705453e-02, -2.97847558e-02,  6.62384182e-02, -1.74317602e-02,\n",
       "       -9.57635939e-02,  2.67414190e-02,  5.73671982e-02,  3.39423940e-02,\n",
       "       -4.64909710e-03,  2.95537654e-02, -2.14529820e-02, -1.55111691e-02,\n",
       "        7.66725466e-03,  4.16470245e-02,  2.06966437e-02, -1.72286592e-02,\n",
       "        3.95711474e-02,  1.71364844e-02, -6.15938380e-02,  1.10798329e-02,\n",
       "        4.80353134e-03, -1.58193894e-02,  9.23112326e-04, -5.72498608e-03,\n",
       "        1.67510565e-02, -3.70456395e-03,  3.48598994e-02,  3.00896820e-02,\n",
       "       -4.22684886e-02,  3.60947065e-02,  6.43929243e-02,  6.03829063e-02,\n",
       "        2.49222331e-02,  3.30091119e-02,  1.07129164e-01,  3.69886681e-02,\n",
       "        3.39440666e-02,  3.25060636e-02, -1.35381222e-02, -8.55401624e-03],\n",
       "      dtype=float32)"
      ]
     },
     "execution_count": 111,
     "metadata": {},
     "output_type": "execute_result"
    }
   ],
   "source": [
    "df['features'][1]"
   ]
  },
  {
   "cell_type": "code",
   "execution_count": null,
   "metadata": {},
   "outputs": [],
   "source": []
  }
 ],
 "metadata": {
  "kernelspec": {
   "display_name": "Python 3",
   "language": "python",
   "name": "python3"
  },
  "language_info": {
   "codemirror_mode": {
    "name": "ipython",
    "version": 3
   },
   "file_extension": ".py",
   "mimetype": "text/x-python",
   "name": "python",
   "nbconvert_exporter": "python",
   "pygments_lexer": "ipython3",
   "version": "3.11.10"
  }
 },
 "nbformat": 4,
 "nbformat_minor": 2
}
