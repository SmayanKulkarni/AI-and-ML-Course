{
  "cells": [
    {
      "cell_type": "markdown",
      "metadata": {
        "id": "TOekX-GOEkrA"
      },
      "source": [
        "Name: Smayan Kulkarni\n",
        "\n",
        "Roll No.: D100\n",
        "\n",
        "SAP ID: 60009230142\n",
        "\n",
        "Batch: D2-2\n",
        "\n",
        "Colab Link: "
      ]
    },
    {
      "cell_type": "markdown",
      "metadata": {
        "id": "rnSWiW2dGB-J"
      },
      "source": [
        "Task 1: On synthetic dataset"
      ]
    },
    {
      "cell_type": "code",
      "execution_count": 1,
      "metadata": {
        "id": "Oq1hBVWNE-Z3"
      },
      "outputs": [],
      "source": [
        "import pandas as pd\n",
        "import numpy as np\n",
        "import matplotlib.pyplot as plt\n",
        "import seaborn as sns\n",
        "import warnings\n",
        "from sklearn.model_selection import train_test_split\n",
        "from sklearn.metrics import accuracy_score, classification_report, confusion_matrix\n",
        "warnings.filterwarnings('ignore')"
      ]
    },
    {
      "cell_type": "markdown",
      "metadata": {
        "id": "E60mKPJhGNEk"
      },
      "source": [
        "Generating a synthetic dataset"
      ]
    },
    {
      "cell_type": "code",
      "execution_count": 2,
      "metadata": {
        "colab": {
          "base_uri": "https://localhost:8080/"
        },
        "id": "v05P3r2lGKk9",
        "outputId": "4dc425c8-7807-44a5-c750-73e6f5b43b1d"
      },
      "outputs": [
        {
          "data": {
            "text/html": [
              "<div>\n",
              "<style scoped>\n",
              "    .dataframe tbody tr th:only-of-type {\n",
              "        vertical-align: middle;\n",
              "    }\n",
              "\n",
              "    .dataframe tbody tr th {\n",
              "        vertical-align: top;\n",
              "    }\n",
              "\n",
              "    .dataframe thead th {\n",
              "        text-align: right;\n",
              "    }\n",
              "</style>\n",
              "<table border=\"1\" class=\"dataframe\">\n",
              "  <thead>\n",
              "    <tr style=\"text-align: right;\">\n",
              "      <th></th>\n",
              "      <th>Age</th>\n",
              "      <th>Income</th>\n",
              "      <th>Previous_Purchases</th>\n",
              "      <th>Purchase</th>\n",
              "      <th>North</th>\n",
              "      <th>South</th>\n",
              "      <th>West</th>\n",
              "    </tr>\n",
              "  </thead>\n",
              "  <tbody>\n",
              "    <tr>\n",
              "      <th>0</th>\n",
              "      <td>56</td>\n",
              "      <td>25287</td>\n",
              "      <td>7</td>\n",
              "      <td>1</td>\n",
              "      <td>False</td>\n",
              "      <td>False</td>\n",
              "      <td>True</td>\n",
              "    </tr>\n",
              "    <tr>\n",
              "      <th>1</th>\n",
              "      <td>46</td>\n",
              "      <td>54387</td>\n",
              "      <td>15</td>\n",
              "      <td>1</td>\n",
              "      <td>False</td>\n",
              "      <td>False</td>\n",
              "      <td>True</td>\n",
              "    </tr>\n",
              "    <tr>\n",
              "      <th>2</th>\n",
              "      <td>32</td>\n",
              "      <td>28512</td>\n",
              "      <td>9</td>\n",
              "      <td>0</td>\n",
              "      <td>False</td>\n",
              "      <td>False</td>\n",
              "      <td>True</td>\n",
              "    </tr>\n",
              "    <tr>\n",
              "      <th>3</th>\n",
              "      <td>60</td>\n",
              "      <td>21342</td>\n",
              "      <td>3</td>\n",
              "      <td>0</td>\n",
              "      <td>True</td>\n",
              "      <td>False</td>\n",
              "      <td>False</td>\n",
              "    </tr>\n",
              "    <tr>\n",
              "      <th>4</th>\n",
              "      <td>25</td>\n",
              "      <td>83076</td>\n",
              "      <td>17</td>\n",
              "      <td>1</td>\n",
              "      <td>True</td>\n",
              "      <td>False</td>\n",
              "      <td>False</td>\n",
              "    </tr>\n",
              "  </tbody>\n",
              "</table>\n",
              "</div>"
            ],
            "text/plain": [
              "   Age  Income  Previous_Purchases  Purchase  North  South   West\n",
              "0   56   25287                   7         1  False  False   True\n",
              "1   46   54387                  15         1  False  False   True\n",
              "2   32   28512                   9         0  False  False   True\n",
              "3   60   21342                   3         0   True  False  False\n",
              "4   25   83076                  17         1   True  False  False"
            ]
          },
          "execution_count": 2,
          "metadata": {},
          "output_type": "execute_result"
        }
      ],
      "source": [
        "np.random.seed(42)\n",
        "\n",
        "n_samples = 1000\n",
        "\n",
        "age = np.random.randint(18, 65, size=n_samples)  \n",
        "income = np.random.randint(20000, 100000, size=n_samples)  \n",
        "previous_purchases = np.random.randint(0, 20, size=n_samples) \n",
        "region = np.random.choice([\"North\", \"South\", \"East\", \"West\"], size=n_samples)  \n",
        "\n",
        "region_encoded = pd.get_dummies(region, drop_first=True)\n",
        "\n",
        "# Generate binary target variable (purchase: 1, no purchase: 0) based on a logistic function\n",
        "prob = 1 / (1 + np.exp(-(0.02 * age + 0.00005 * income + 0.1 * previous_purchases - 2)))\n",
        "purchase = np.random.binomial(1, prob, size=n_samples)\n",
        "\n",
        "df = pd.DataFrame({\n",
        "    \"Age\": age,\n",
        "    \"Income\": income,\n",
        "    \"Previous_Purchases\": previous_purchases,\n",
        "    \"Region\": region,\n",
        "    \"Purchase\": purchase\n",
        "})\n",
        "\n",
        "df = pd.concat([df, region_encoded], axis=1)\n",
        "\n",
        "df.drop(columns=[\"Region\"], inplace=True)\n",
        "\n",
        "df.to_csv(\"synthetic_logistic_data.csv\", index=False)\n",
        "\n",
        "df.head()"
      ]
    },
    {
      "cell_type": "markdown",
      "metadata": {
        "id": "e7Vn9CgqGUzF"
      },
      "source": [
        "Performing Logistic Regression from scratch"
      ]
    },
    {
      "cell_type": "code",
      "execution_count": 3,
      "metadata": {
        "id": "IjeFg0uRE_Dx"
      },
      "outputs": [],
      "source": [
        "from scipy.special import expit  # Safe sigmoid function\n",
        "from sklearn.preprocessing import StandardScaler  # Feature scaling\n",
        "\n",
        "class LogisticRegression:\n",
        "    def __init__(self, lr=0.01, epochs=1000):\n",
        "        self.lr = lr\n",
        "        self.epochs = epochs\n",
        "        self.weights = None\n",
        "        self.bias = None\n",
        "\n",
        "    def sigmoid(self, z):\n",
        "        return expit(z)  # More stable than np.exp\n",
        "\n",
        "    def fit(self, X, y):\n",
        "        n_samples, n_features = X.shape\n",
        "        self.weights = np.zeros(n_features)\n",
        "        self.bias = 0\n",
        "\n",
        "        for _ in range(self.epochs):\n",
        "            linear_model = np.dot(X, self.weights) + self.bias\n",
        "            predictions = self.sigmoid(linear_model)\n",
        "\n",
        "            dw = (1 / n_samples) * np.dot(X.T, (predictions - y))\n",
        "            db = (1 / n_samples) * np.sum(predictions - y)\n",
        "\n",
        "            self.weights -= self.lr * dw\n",
        "            self.bias -= self.lr * db\n",
        "\n",
        "    def predict(self, X):\n",
        "        linear_model = np.dot(X, self.weights) + self.bias\n",
        "        predictions = self.sigmoid(linear_model)\n",
        "        return np.array([1 if p > 0.5 else 0 for p in predictions])"
      ]
    },
    {
      "cell_type": "code",
      "execution_count": 4,
      "metadata": {
        "id": "6x7QqoENGZto"
      },
      "outputs": [],
      "source": [
        "df[[\"North\", \"South\", \"West\"]] = df[[\"North\", \"South\", \"West\"]].astype(int)\n",
        "\n",
        "# Step 2: Separate features (X) and target (y)\n",
        "X = df.drop(columns=[\"Purchase\"]).values  # Convert features to NumPy array\n",
        "y = df[\"Purchase\"].values  # Target variable\n",
        "\n",
        "# Step 3: Ensure all data is float64\n",
        "X = np.array(X, dtype=np.float64)\n",
        "y = np.array(y, dtype=np.float64).flatten()"
      ]
    },
    {
      "cell_type": "code",
      "execution_count": 5,
      "metadata": {
        "id": "8sJ6m7GgGd1O"
      },
      "outputs": [],
      "source": [
        "# Train custom model\n",
        "custom_model = LogisticRegression()\n",
        "custom_model.fit(X, y)\n",
        "\n",
        "# Predict with custom model\n",
        "y_pred_custom = custom_model.predict(X)"
      ]
    },
    {
      "cell_type": "markdown",
      "metadata": {
        "id": "OYKlZAKEGlb6"
      },
      "source": [
        "With in-built libraries"
      ]
    },
    {
      "cell_type": "code",
      "execution_count": 6,
      "metadata": {
        "id": "VXatEpOxGhPu"
      },
      "outputs": [],
      "source": [
        "from sklearn.linear_model import LogisticRegression\n",
        "sklearn_model = LogisticRegression()\n",
        "sklearn_model.fit(X, y)\n",
        "\n",
        "y_pred_sklearn = sklearn_model.predict(X)"
      ]
    },
    {
      "cell_type": "code",
      "execution_count": 7,
      "metadata": {
        "colab": {
          "base_uri": "https://localhost:8080/"
        },
        "id": "P5wKBQC7Gn3-",
        "outputId": "8ac7fa85-a5c6-43b4-c550-23ac4d1659e4"
      },
      "outputs": [
        {
          "name": "stdout",
          "output_type": "stream",
          "text": [
            "F1 Score (Custom Model): 0.9517819706498952\n",
            "F1 Score (Scikit-learn Model): 0.9517819706498952\n"
          ]
        }
      ],
      "source": [
        "from sklearn.metrics import f1_score\n",
        "\n",
        "f1_custom = f1_score(y, y_pred_custom)\n",
        "print(f\"F1 Score (Custom Model): {f1_custom}\")\n",
        "\n",
        "f1_sklearn = f1_score(y, y_pred_sklearn)\n",
        "print(f\"F1 Score (Scikit-learn Model): {f1_sklearn}\")"
      ]
    },
    {
      "cell_type": "markdown",
      "metadata": {
        "id": "yMVELOI1Gu_Z"
      },
      "source": [
        "Task 2: Multimodal classification"
      ]
    },
    {
      "cell_type": "code",
      "execution_count": 8,
      "metadata": {
        "id": "g0A6Qa01GrjZ"
      },
      "outputs": [],
      "source": [
        "df = pd.read_csv(\"Iris.csv\")"
      ]
    },
    {
      "cell_type": "code",
      "execution_count": 9,
      "metadata": {
        "colab": {
          "base_uri": "https://localhost:8080/",
          "height": 206
        },
        "id": "KkcAqUpDHHlk",
        "outputId": "c12c33d5-0a40-4b89-9900-7c003dea2f54"
      },
      "outputs": [
        {
          "data": {
            "text/html": [
              "<div>\n",
              "<style scoped>\n",
              "    .dataframe tbody tr th:only-of-type {\n",
              "        vertical-align: middle;\n",
              "    }\n",
              "\n",
              "    .dataframe tbody tr th {\n",
              "        vertical-align: top;\n",
              "    }\n",
              "\n",
              "    .dataframe thead th {\n",
              "        text-align: right;\n",
              "    }\n",
              "</style>\n",
              "<table border=\"1\" class=\"dataframe\">\n",
              "  <thead>\n",
              "    <tr style=\"text-align: right;\">\n",
              "      <th></th>\n",
              "      <th>Id</th>\n",
              "      <th>SepalLengthCm</th>\n",
              "      <th>SepalWidthCm</th>\n",
              "      <th>PetalLengthCm</th>\n",
              "      <th>PetalWidthCm</th>\n",
              "      <th>Species</th>\n",
              "    </tr>\n",
              "  </thead>\n",
              "  <tbody>\n",
              "    <tr>\n",
              "      <th>0</th>\n",
              "      <td>1</td>\n",
              "      <td>5.1</td>\n",
              "      <td>3.5</td>\n",
              "      <td>1.4</td>\n",
              "      <td>0.2</td>\n",
              "      <td>Iris-setosa</td>\n",
              "    </tr>\n",
              "    <tr>\n",
              "      <th>1</th>\n",
              "      <td>2</td>\n",
              "      <td>4.9</td>\n",
              "      <td>3.0</td>\n",
              "      <td>1.4</td>\n",
              "      <td>0.2</td>\n",
              "      <td>Iris-setosa</td>\n",
              "    </tr>\n",
              "    <tr>\n",
              "      <th>2</th>\n",
              "      <td>3</td>\n",
              "      <td>4.7</td>\n",
              "      <td>3.2</td>\n",
              "      <td>1.3</td>\n",
              "      <td>0.2</td>\n",
              "      <td>Iris-setosa</td>\n",
              "    </tr>\n",
              "    <tr>\n",
              "      <th>3</th>\n",
              "      <td>4</td>\n",
              "      <td>4.6</td>\n",
              "      <td>3.1</td>\n",
              "      <td>1.5</td>\n",
              "      <td>0.2</td>\n",
              "      <td>Iris-setosa</td>\n",
              "    </tr>\n",
              "    <tr>\n",
              "      <th>4</th>\n",
              "      <td>5</td>\n",
              "      <td>5.0</td>\n",
              "      <td>3.6</td>\n",
              "      <td>1.4</td>\n",
              "      <td>0.2</td>\n",
              "      <td>Iris-setosa</td>\n",
              "    </tr>\n",
              "  </tbody>\n",
              "</table>\n",
              "</div>"
            ],
            "text/plain": [
              "   Id  SepalLengthCm  SepalWidthCm  PetalLengthCm  PetalWidthCm      Species\n",
              "0   1            5.1           3.5            1.4           0.2  Iris-setosa\n",
              "1   2            4.9           3.0            1.4           0.2  Iris-setosa\n",
              "2   3            4.7           3.2            1.3           0.2  Iris-setosa\n",
              "3   4            4.6           3.1            1.5           0.2  Iris-setosa\n",
              "4   5            5.0           3.6            1.4           0.2  Iris-setosa"
            ]
          },
          "execution_count": 9,
          "metadata": {},
          "output_type": "execute_result"
        }
      ],
      "source": [
        "df.head(5)"
      ]
    },
    {
      "cell_type": "code",
      "execution_count": 10,
      "metadata": {
        "colab": {
          "base_uri": "https://localhost:8080/"
        },
        "id": "zdjlwno2HJw5",
        "outputId": "6e87ae44-90ed-433e-88f3-d18e16d12d86"
      },
      "outputs": [
        {
          "name": "stdout",
          "output_type": "stream",
          "text": [
            "Overall Accuracy: 1.0\n",
            "Training Accuracy: 0.975\n",
            "Test Accuracy: 1.0\n",
            "Confusion Matrix:\n",
            " [[10  0  0]\n",
            " [ 0  9  0]\n",
            " [ 0  0 11]]\n"
          ]
        }
      ],
      "source": [
        "from sklearn.preprocessing import LabelEncoder\n",
        "\n",
        "le = LabelEncoder()\n",
        "df['Species'] = le.fit_transform(df['Species'])\n",
        "\n",
        "df.drop('Id', axis=1, inplace=True)\n",
        "\n",
        "X_train, X_test, y_train, y_test = train_test_split(df.drop('Species', axis=1), df['Species'], test_size=0.2, random_state=42)\n",
        "\n",
        "clf = LogisticRegression(multi_class='auto', solver='lbfgs', max_iter=200)\n",
        "clf.fit(X_train, y_train)\n",
        "\n",
        "y_pred = clf.predict(X_test)\n",
        "\n",
        "accuracy = accuracy_score(y_test, y_pred)\n",
        "print(\"Overall Accuracy:\", accuracy)\n",
        "\n",
        "train_accuracy = clf.score(X_train, y_train)\n",
        "print(\"Training Accuracy:\", train_accuracy)\n",
        "\n",
        "test_accuracy = clf.score(X_test, y_test)\n",
        "print(\"Test Accuracy:\", test_accuracy)\n",
        "\n",
        "confusion = confusion_matrix(y_test, y_pred)\n",
        "print(\"Confusion Matrix:\\n\", confusion)"
      ]
    },
    {
      "cell_type": "code",
      "execution_count": 11,
      "metadata": {
        "colab": {
          "base_uri": "https://localhost:8080/",
          "height": 410
        },
        "id": "3xsL2qWCHNkg",
        "outputId": "1af1472e-dcfe-4b51-ba3e-54eecc3ed95d"
      },
      "outputs": [
        {
          "data": {
            "image/png": "[encoded data removed]",
            "text/plain": [
              "<Figure size 600x400 with 2 Axes>"
            ]
          },
          "metadata": {},
          "output_type": "display_data"
        }
      ],
      "source": [
        "plt.figure(figsize=(6, 4))\n",
        "sns.heatmap(confusion, annot=True, fmt=\"d\", cmap=\"Blues\",\n",
        "            xticklabels=le.classes_, yticklabels=le.classes_) # Use le.classes_ for labels\n",
        "plt.xlabel(\"Predicted\")\n",
        "plt.ylabel(\"Actual\")\n",
        "plt.title(\"Confusion Matrix\")\n",
        "plt.show()"
      ]
    },
    {
      "cell_type": "code",
      "execution_count": 12,
      "metadata": {
        "colab": {
          "base_uri": "https://localhost:8080/",
          "height": 454
        },
        "id": "CJW3mh3THPzE",
        "outputId": "5860dfd5-858f-4445-e578-44b129fe423c"
      },
      "outputs": [
        {
          "data": {
            "image/png": "[encoded data removed]",
            "text/plain": [
              "<Figure size 640x480 with 1 Axes>"
            ]
          },
          "metadata": {},
          "output_type": "display_data"
        }
      ],
      "source": [
        "from sklearn import datasets\n",
        "from sklearn.preprocessing import StandardScaler\n",
        "\n",
        "iris = datasets.load_iris()\n",
        "X = iris.data[:, [2, 3]]\n",
        "y = iris.target\n",
        "\n",
        "X_train, X_test, y_train, y_test = train_test_split(X, y, test_size=0.3, random_state=0)\n",
        "\n",
        "sc = StandardScaler()\n",
        "sc.fit(X_train)\n",
        "\n",
        "X_train_std = sc.transform(X_train)\n",
        "X_test_std = sc.transform(X_test)\n",
        "\n",
        "weights, params = [], []\n",
        "for c in np.arange(0, 5):\n",
        "   lr = LogisticRegression(C=10**c, random_state=0)\n",
        "   lr.fit(X_train_std, y_train)\n",
        "   weights.append(lr.coef_[1])\n",
        "   params.append(10**c)\n",
        "\n",
        "weights = np.array(weights)\n",
        "\n",
        "plt.plot(params, weights[:, 0], color='blue', marker='x', label='petal length')\n",
        "plt.plot(params, weights[:, 1], color='green',  marker='o', label='petal width')\n",
        "plt.ylabel('weight coefficient')\n",
        "plt.xlabel('C')\n",
        "plt.legend(loc='right')\n",
        "plt.xscale('log')\n",
        "plt.show()"
      ]
    },
    {
      "cell_type": "code",
      "execution_count": 13,
      "metadata": {
        "colab": {
          "base_uri": "https://localhost:8080/"
        },
        "id": "8NQDfmbBHU91",
        "outputId": "f4d65e31-1c49-439d-bc16-95b5a7b8b8b1"
      },
      "outputs": [
        {
          "name": "stdout",
          "output_type": "stream",
          "text": [
            "Coefficients with Regularization:\n",
            " [[-2.4707701  -1.04778253]\n",
            " [ 0.06365796 -0.6475396 ]\n",
            " [ 2.40711214  1.69532213]]\n",
            "Coefficients without Regularization:\n",
            " [[ -6.89309023 -16.87902141]\n",
            " [  0.71298802   4.2537833 ]\n",
            " [  6.18010221  12.62523812]]\n",
            "With Regularization - Accuracy: 0.9777777777777777\n",
            "Without Regularization - Accuracy: 0.9777777777777777\n"
          ]
        }
      ],
      "source": [
        "clf_reg = LogisticRegression(multi_class='auto', solver='lbfgs', max_iter=200, C=1.0)\n",
        "clf_reg.fit(X_train, y_train)\n",
        "\n",
        "clf_no_reg = LogisticRegression(multi_class='auto', solver='lbfgs', max_iter=200, C=1e10)\n",
        "clf_no_reg.fit(X_train, y_train)\n",
        "\n",
        "y_pred_reg = clf_reg.predict(X_test)\n",
        "y_pred_no_reg = clf_no_reg.predict(X_test)\n",
        "\n",
        "accuracy_reg = accuracy_score(y_test, y_pred_reg)\n",
        "accuracy_no_reg = accuracy_score(y_test, y_pred_no_reg)\n",
        "\n",
        "print(\"Coefficients with Regularization:\\n\", clf_reg.coef_)\n",
        "print(\"Coefficients without Regularization:\\n\", clf_no_reg.coef_)\n",
        "\n",
        "print(\"With Regularization - Accuracy:\", accuracy_reg)\n",
        "print(\"Without Regularization - Accuracy:\", accuracy_no_reg)\n",
        "\n",
        "confusion_reg = confusion_matrix(y_test, y_pred_reg)\n",
        "confusion_no_reg = confusion_matrix(y_test, y_pred_no_reg)"
      ]
    },
    {
      "cell_type": "code",
      "execution_count": 14,
      "metadata": {
        "colab": {
          "base_uri": "https://localhost:8080/",
          "height": 607
        },
        "id": "oASis3kSHXp3",
        "outputId": "81570bd8-65a8-4399-ba27-cdd25f51de05"
      },
      "outputs": [
        {
          "data": {
            "image/png": "[encoded data removed]",
            "text/plain": [
              "<Figure size 1200x600 with 4 Axes>"
            ]
          },
          "metadata": {},
          "output_type": "display_data"
        }
      ],
      "source": [
        "fig, axes = plt.subplots(1, 2, figsize=(12, 6))\n",
        "\n",
        "# Confusion matrix with regularization\n",
        "sns.heatmap(confusion_reg, annot=True, fmt=\"d\", cmap=\"Blues\", ax=axes[0],\n",
        "            xticklabels=le.classes_, yticklabels=le.classes_)\n",
        "axes[0].set_xlabel(\"Predicted\")\n",
        "axes[0].set_ylabel(\"Actual\")\n",
        "axes[0].set_title(\"Confusion Matrix (with Regularization)\")\n",
        "\n",
        "# Confusion matrix without regularization\n",
        "sns.heatmap(confusion_no_reg, annot=True, fmt=\"d\", cmap=\"Blues\", ax=axes[1],\n",
        "            xticklabels=le.classes_, yticklabels=le.classes_)\n",
        "axes[1].set_xlabel(\"Predicted\")\n",
        "axes[1].set_ylabel(\"Actual\")\n",
        "axes[1].set_title(\"Confusion Matrix (without Regularization)\")\n",
        "\n",
        "plt.tight_layout()\n",
        "plt.show()"
      ]
    }
  ],
  "metadata": {
    "colab": {
      "provenance": []
    },
    "kernelspec": {
      "display_name": "Python 3",
      "name": "python3"
    },
    "language_info": {
      "codemirror_mode": {
        "name": "ipython",
        "version": 3
      },
      "file_extension": ".py",
      "mimetype": "text/x-python",
      "name": "python",
      "nbconvert_exporter": "python",
      "pygments_lexer": "ipython3",
      "version": "3.11.9"
    }
  },
  "nbformat": 4,
  "nbformat_minor": 0
}
