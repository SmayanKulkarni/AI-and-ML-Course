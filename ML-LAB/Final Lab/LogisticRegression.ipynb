{
 "cells": [
  {
   "cell_type": "markdown",
   "id": "01ed38d9",
   "metadata": {},
   "source": [
    "## Creating Linear Regression from Start"
   ]
  },
  {
   "cell_type": "code",
   "execution_count": 1,
   "id": "9341b74a",
   "metadata": {},
   "outputs": [],
   "source": [
    "import numpy as np\n",
    "import matplotlib.pyplot as plt\n",
    "import seaborn as sns"
   ]
  },
  {
   "cell_type": "markdown",
   "id": "600229ca",
   "metadata": {
    "vscode": {
     "languageId": "plaintext"
    }
   },
   "source": [
    "**Steps:** \n",
    "1. Define function for prediction\n",
    "2. Define Cost Function\n",
    "3. Define function to calculate gradients\n",
    "4. Define function to get gradient descent\n",
    "5. Run prediction function on weights and bias found using Gradient Descent"
   ]
  },
  {
   "cell_type": "markdown",
   "id": "e1ccd205",
   "metadata": {},
   "source": [
    "### Step 1."
   ]
  },
  {
   "cell_type": "markdown",
   "id": "861cdc60",
   "metadata": {},
   "source": [
    "<a name=\"2.3\"></a>\n",
    "### 2.3  Sigmoid function\n",
    "\n",
    "Recall that for logistic regression, the model is represented as\n",
    "\n",
    "$$ f_{\\mathbf{w},b}(x) = g(\\mathbf{w}\\cdot \\mathbf{x} + b)$$\n",
    "where function $g$ is the sigmoid function. The sigmoid function is defined as:\n",
    "\n",
    "$$g(z) = \\frac{1}{1+e^{-z}}$$"
   ]
  },
  {
   "cell_type": "code",
   "execution_count": 2,
   "id": "ea8e197f",
   "metadata": {},
   "outputs": [],
   "source": [
    "def sigmoid(z):\n",
    "    \"\"\"\n",
    "    Compute the sigmoid of z\n",
    "\n",
    "    Args:\n",
    "        z (ndarray): A scalar, numpy array of any size.\n",
    "\n",
    "    Returns:\n",
    "        g (ndarray): sigmoid(z), with the same shape as z\n",
    "         \n",
    "    \"\"\"\n",
    "          \n",
    "    g = 1 / (1+np.exp(-z))\n",
    "        \n",
    "    return g"
   ]
  },
  {
   "cell_type": "markdown",
   "id": "50290fb2",
   "metadata": {},
   "source": [
    "<a name=\"toc_15456_3\"></a>\n",
    "# Model Prediction With Multiple Variables\n",
    "The model's prediction with multiple variables is given by the linear model:\n",
    "\n",
    "$$ f_{\\mathbf{w},b}(\\mathbf{x}) =  w_0x_0 + w_1x_1 +... + w_{n-1}x_{n-1} + b \\tag{1}$$\n",
    "or in vector notation:\n",
    "$$ f_{\\mathbf{w},b}(\\mathbf{x}) = \\mathbf{w} \\cdot \\mathbf{x} + b  \\tag{2} $$ \n",
    "where $\\cdot$ is a vector `dot product`\n",
    "\n",
    "To demonstrate the dot product, we will implement prediction using (1) and (2)."
   ]
  },
  {
   "cell_type": "code",
   "execution_count": 3,
   "id": "6576b8b4",
   "metadata": {},
   "outputs": [],
   "source": [
    "def predict(w, b, x):\n",
    "\n",
    "    \"\"\"\n",
    "    Function to calculate the predictions for Linear Regression Model\n",
    "    Args:\n",
    "    x : Example with multiple features\n",
    "    b : model bias\n",
    "    w : model weights\n",
    "    Returns:\n",
    "        p (scalar): The prediction for the given inputs\n",
    "    \"\"\"\n",
    "    m, n = x.shape   \n",
    "    p = np.zeros(m)\n",
    "    z_wb = 0    \n",
    "\n",
    "    for i in range(m):   \n",
    "        z_wb = 0    \n",
    "        z_wb += np.dot(x[i], w) + b\n",
    "        f_wb = sigmoid(z_wb)\n",
    "        p[i] = f_wb >=0.6\n",
    "    return p"
   ]
  },
  {
   "cell_type": "markdown",
   "id": "a966e526",
   "metadata": {},
   "source": [
    "### Step 2: \n",
    "\n",
    "\n",
    "<a name=\"toc_15456_4\"></a>\n",
    "# Compute Cost With Multiple Variables\n",
    "The equation for the cost function with multiple variables $J(\\mathbf{w},b)$ is:\n",
    "$$J(\\mathbf{w},b) = \\frac{1}{2m} \\sum\\limits_{i = 0}^{m-1} (f_{\\mathbf{w},b}(\\mathbf{x}^{(i)}) - y^{(i)})^2 \\tag{3}$$ \n",
    "where:\n",
    "$$ f_{\\mathbf{w},b}(\\mathbf{x}^{(i)}) = \\mathbf{w} \\cdot \\mathbf{x}^{(i)} + b  \\tag{4} $$ \n",
    "\n",
    "\n",
    "In contrast to previous labs, $\\mathbf{w}$ and $\\mathbf{x}^{(i)}$ are vectors rather than scalars supporting multiple features."
   ]
  },
  {
   "cell_type": "code",
   "execution_count": 4,
   "id": "8b47e7d0",
   "metadata": {},
   "outputs": [],
   "source": [
    "def cost(w,b,x,y):\n",
    "    m = len(x)\n",
    "    cost = 0.0\n",
    "    for i in range(m):\n",
    "        z_i = np.dot(w, x[i]) +b\n",
    "        f_wb_i = sigmoid(z_i)\n",
    "        cost = cost + -y[i]*np.log(f_wb_i + 1e-15) - (1-y[i])*np.log(1-f_wb_i + 1e-15)\n",
    "    cost = cost/(m)\n",
    "    return cost"
   ]
  },
  {
   "cell_type": "markdown",
   "id": "7bd000e0",
   "metadata": {},
   "source": [
    "### Step 3 and 4:"
   ]
  },
  {
   "cell_type": "markdown",
   "id": "0fe727e8",
   "metadata": {},
   "source": [
    "<a name=\"toc_15456_5\"></a>\n",
    "# Gradient Descent With Multiple Variables\n",
    "\n",
    "\n",
    "where, n is the number of features, parameters $w_j$,  $b$, are updated simultaneously and where  \n",
    "\n",
    "$$\n",
    "\\begin{align}\n",
    "\\frac{\\partial J(\\mathbf{w},b)}{\\partial w_j}  &= \\frac{1}{m} \\sum\\limits_{i = 0}^{m-1} (f_{\\mathbf{w},b}(\\mathbf{x}^{(i)}) - y^{(i)})x_{j}^{(i)} \\tag{6}  \\\\\n",
    "\\frac{\\partial J(\\mathbf{w},b)}{\\partial b}  &= \\frac{1}{m} \\sum\\limits_{i = 0}^{m-1} (f_{\\mathbf{w},b}(\\mathbf{x}^{(i)}) - y^{(i)}) \\tag{7}\n",
    "\\end{align}\n",
    "$$\n",
    "* m is the number of training examples in the data set\n",
    "\n",
    "    \n",
    "*  $f_{\\mathbf{w},b}(\\mathbf{x}^{(i)})$ is the model's prediction, while $y^{(i)}$ is the target value\n"
   ]
  },
  {
   "cell_type": "code",
   "execution_count": 5,
   "id": "04e382fd",
   "metadata": {},
   "outputs": [],
   "source": [
    "def compute_gradient(w,b,x,y):\n",
    "    \"\"\"\n",
    "    Computes the gradient for linear regression \n",
    "    Args:\n",
    "      x (ndarray (m,n)): Data, m examples with n features\n",
    "      y (ndarray (m,)) : target values\n",
    "      w (ndarray (n,)) : model parameters  \n",
    "      b (scalar)       : model parameter\n",
    "      \n",
    "    Returns:\n",
    "      dj_dw (ndarray (n,)): The gradient of the cost w.r.t. the parameters w. \n",
    "      dj_db (scalar):       The gradient of the cost w.r.t. the parameter b. \n",
    "    \"\"\"\n",
    "    m,n = x.shape\n",
    "    dj_dw = np.zeros((n,))\n",
    "    dj_db = 0\n",
    "\n",
    "    for i in range(m):\n",
    "        z_i = np.dot(w,x[i]) + b\n",
    "        f_wb_i = sigmoid(z_i)\n",
    "        err = f_wb_i - y[i]\n",
    "\n",
    "        for j in range(n):\n",
    "            dj_dw[j] = dj_dw[j] + err * x[i,j]\n",
    "        dj_db = dj_db + err\n",
    "    dj_db = dj_db /m\n",
    "    dj_dw = dj_dw /m\n",
    "\n",
    "    return dj_db, dj_dw"
   ]
  },
  {
   "cell_type": "markdown",
   "id": "0b78a944",
   "metadata": {},
   "source": [
    "Gradient descent for multiple variables:\n",
    "\n",
    "$$\\begin{align*} \\text{repeat}&\\text{ until convergence:} \\; \\lbrace \\newline\\;\n",
    "& w_j = w_j -  \\alpha \\frac{\\partial J(\\mathbf{w},b)}{\\partial w_j} \\tag{5}  \\; & \\text{for j = 0..n-1}\\newline\n",
    "&b\\ \\ = b -  \\alpha \\frac{\\partial J(\\mathbf{w},b)}{\\partial b}  \\newline \\rbrace\n",
    "\\end{align*}$$"
   ]
  },
  {
   "cell_type": "code",
   "execution_count": 6,
   "id": "bd54bc6b",
   "metadata": {},
   "outputs": [],
   "source": [
    "import copy\n",
    "def gradient_descent(x,y,w_in,b_in, alpha, num_iters, cost = cost, compute_gradient = compute_gradient):\n",
    "        \"\"\"\n",
    "    Performs batch gradient descent to learn w and b. Updates w and b by taking \n",
    "    num_iters gradient steps with learning rate alpha\n",
    "    \n",
    "    Args:\n",
    "      x (ndarray (m,n))   : Data, m examples with n features\n",
    "      y (ndarray (m,))    : target values\n",
    "      w_in (ndarray (n,)) : initial model parameters  \n",
    "      b_in (scalar)       : initial model parameter\n",
    "      cost       : function to compute cost\n",
    "      compute_gradient   : function to compute the gradient\n",
    "      alpha (float)       : Learning rate\n",
    "      num_iters (int)     : number of iterations to run gradient descent\n",
    "      \n",
    "    Returns:\n",
    "      w (ndarray (n,)) : Updated values of parameters \n",
    "      b (scalar)       : Updated value of parameter \n",
    "      \"\"\"\n",
    "\n",
    "        w = copy.deepcopy(w_in)\n",
    "        b = b_in\n",
    "\n",
    "        m = len(x)\n",
    "\n",
    "        for i in range(num_iters):\n",
    "            dj_db, dj_dw = compute_gradient(w,b,x,y)\n",
    "  \n",
    "            w = w - alpha * dj_dw\n",
    "            b = b - alpha * dj_db\n",
    "\n",
    "        \n",
    "        return w,b\n"
   ]
  },
  {
   "cell_type": "code",
   "execution_count": 7,
   "id": "6e56fc87",
   "metadata": {},
   "outputs": [],
   "source": [
    "import pandas as pd"
   ]
  },
  {
   "cell_type": "code",
   "execution_count": 8,
   "id": "36abe5cf",
   "metadata": {},
   "outputs": [],
   "source": [
    "df = pd.read_csv('loan_data.csv')"
   ]
  },
  {
   "cell_type": "code",
   "execution_count": 9,
   "id": "5e09431a",
   "metadata": {},
   "outputs": [
    {
     "data": {
      "text/html": [
       "<div>\n",
       "<style scoped>\n",
       "    .dataframe tbody tr th:only-of-type {\n",
       "        vertical-align: middle;\n",
       "    }\n",
       "\n",
       "    .dataframe tbody tr th {\n",
       "        vertical-align: top;\n",
       "    }\n",
       "\n",
       "    .dataframe thead th {\n",
       "        text-align: right;\n",
       "    }\n",
       "</style>\n",
       "<table border=\"1\" class=\"dataframe\">\n",
       "  <thead>\n",
       "    <tr style=\"text-align: right;\">\n",
       "      <th></th>\n",
       "      <th>person_age</th>\n",
       "      <th>person_gender</th>\n",
       "      <th>person_education</th>\n",
       "      <th>person_income</th>\n",
       "      <th>person_emp_exp</th>\n",
       "      <th>person_home_ownership</th>\n",
       "      <th>loan_amnt</th>\n",
       "      <th>loan_intent</th>\n",
       "      <th>loan_int_rate</th>\n",
       "      <th>loan_percent_income</th>\n",
       "      <th>cb_person_cred_hist_length</th>\n",
       "      <th>credit_score</th>\n",
       "      <th>previous_loan_defaults_on_file</th>\n",
       "      <th>loan_status</th>\n",
       "    </tr>\n",
       "  </thead>\n",
       "  <tbody>\n",
       "    <tr>\n",
       "      <th>0</th>\n",
       "      <td>22.0</td>\n",
       "      <td>female</td>\n",
       "      <td>Master</td>\n",
       "      <td>71948.0</td>\n",
       "      <td>0</td>\n",
       "      <td>RENT</td>\n",
       "      <td>35000.0</td>\n",
       "      <td>PERSONAL</td>\n",
       "      <td>16.02</td>\n",
       "      <td>0.49</td>\n",
       "      <td>3.0</td>\n",
       "      <td>561</td>\n",
       "      <td>No</td>\n",
       "      <td>1</td>\n",
       "    </tr>\n",
       "    <tr>\n",
       "      <th>1</th>\n",
       "      <td>21.0</td>\n",
       "      <td>female</td>\n",
       "      <td>High School</td>\n",
       "      <td>12282.0</td>\n",
       "      <td>0</td>\n",
       "      <td>OWN</td>\n",
       "      <td>1000.0</td>\n",
       "      <td>EDUCATION</td>\n",
       "      <td>11.14</td>\n",
       "      <td>0.08</td>\n",
       "      <td>2.0</td>\n",
       "      <td>504</td>\n",
       "      <td>Yes</td>\n",
       "      <td>0</td>\n",
       "    </tr>\n",
       "    <tr>\n",
       "      <th>2</th>\n",
       "      <td>25.0</td>\n",
       "      <td>female</td>\n",
       "      <td>High School</td>\n",
       "      <td>12438.0</td>\n",
       "      <td>3</td>\n",
       "      <td>MORTGAGE</td>\n",
       "      <td>5500.0</td>\n",
       "      <td>MEDICAL</td>\n",
       "      <td>12.87</td>\n",
       "      <td>0.44</td>\n",
       "      <td>3.0</td>\n",
       "      <td>635</td>\n",
       "      <td>No</td>\n",
       "      <td>1</td>\n",
       "    </tr>\n",
       "    <tr>\n",
       "      <th>3</th>\n",
       "      <td>23.0</td>\n",
       "      <td>female</td>\n",
       "      <td>Bachelor</td>\n",
       "      <td>79753.0</td>\n",
       "      <td>0</td>\n",
       "      <td>RENT</td>\n",
       "      <td>35000.0</td>\n",
       "      <td>MEDICAL</td>\n",
       "      <td>15.23</td>\n",
       "      <td>0.44</td>\n",
       "      <td>2.0</td>\n",
       "      <td>675</td>\n",
       "      <td>No</td>\n",
       "      <td>1</td>\n",
       "    </tr>\n",
       "    <tr>\n",
       "      <th>4</th>\n",
       "      <td>24.0</td>\n",
       "      <td>male</td>\n",
       "      <td>Master</td>\n",
       "      <td>66135.0</td>\n",
       "      <td>1</td>\n",
       "      <td>RENT</td>\n",
       "      <td>35000.0</td>\n",
       "      <td>MEDICAL</td>\n",
       "      <td>14.27</td>\n",
       "      <td>0.53</td>\n",
       "      <td>4.0</td>\n",
       "      <td>586</td>\n",
       "      <td>No</td>\n",
       "      <td>1</td>\n",
       "    </tr>\n",
       "  </tbody>\n",
       "</table>\n",
       "</div>"
      ],
      "text/plain": [
       "   person_age person_gender person_education  person_income  person_emp_exp  \\\n",
       "0        22.0        female           Master        71948.0               0   \n",
       "1        21.0        female      High School        12282.0               0   \n",
       "2        25.0        female      High School        12438.0               3   \n",
       "3        23.0        female         Bachelor        79753.0               0   \n",
       "4        24.0          male           Master        66135.0               1   \n",
       "\n",
       "  person_home_ownership  loan_amnt loan_intent  loan_int_rate  \\\n",
       "0                  RENT    35000.0    PERSONAL          16.02   \n",
       "1                   OWN     1000.0   EDUCATION          11.14   \n",
       "2              MORTGAGE     5500.0     MEDICAL          12.87   \n",
       "3                  RENT    35000.0     MEDICAL          15.23   \n",
       "4                  RENT    35000.0     MEDICAL          14.27   \n",
       "\n",
       "   loan_percent_income  cb_person_cred_hist_length  credit_score  \\\n",
       "0                 0.49                         3.0           561   \n",
       "1                 0.08                         2.0           504   \n",
       "2                 0.44                         3.0           635   \n",
       "3                 0.44                         2.0           675   \n",
       "4                 0.53                         4.0           586   \n",
       "\n",
       "  previous_loan_defaults_on_file  loan_status  \n",
       "0                             No            1  \n",
       "1                            Yes            0  \n",
       "2                             No            1  \n",
       "3                             No            1  \n",
       "4                             No            1  "
      ]
     },
     "execution_count": 9,
     "metadata": {},
     "output_type": "execute_result"
    }
   ],
   "source": [
    "df.head()"
   ]
  },
  {
   "cell_type": "code",
   "execution_count": 10,
   "id": "36a6af11",
   "metadata": {},
   "outputs": [
    {
     "data": {
      "text/plain": [
       "Index(['person_age', 'person_gender', 'person_education', 'person_income',\n",
       "       'person_emp_exp', 'person_home_ownership', 'loan_amnt', 'loan_intent',\n",
       "       'loan_int_rate', 'loan_percent_income', 'cb_person_cred_hist_length',\n",
       "       'credit_score', 'previous_loan_defaults_on_file', 'loan_status'],\n",
       "      dtype='object')"
      ]
     },
     "execution_count": 10,
     "metadata": {},
     "output_type": "execute_result"
    }
   ],
   "source": [
    "df.columns"
   ]
  },
  {
   "cell_type": "code",
   "execution_count": 11,
   "id": "8274f64b",
   "metadata": {},
   "outputs": [],
   "source": [
    "columns_encoded = ['person_gender','person_education','person_home_ownership','loan_intent','previous_loan_defaults_on_file']"
   ]
  },
  {
   "cell_type": "code",
   "execution_count": 12,
   "id": "7bd11f9a",
   "metadata": {},
   "outputs": [],
   "source": [
    "from sklearn.preprocessing import LabelEncoder, StandardScaler\n",
    "le = LabelEncoder()\n",
    "scaler  = StandardScaler()"
   ]
  },
  {
   "cell_type": "code",
   "execution_count": 13,
   "id": "a21dd7a5",
   "metadata": {},
   "outputs": [],
   "source": [
    "for column in columns_encoded:\n",
    "    df[column] = le.fit_transform(df[column])"
   ]
  },
  {
   "cell_type": "code",
   "execution_count": 14,
   "id": "3533a4cf",
   "metadata": {},
   "outputs": [
    {
     "data": {
      "text/html": [
       "<div>\n",
       "<style scoped>\n",
       "    .dataframe tbody tr th:only-of-type {\n",
       "        vertical-align: middle;\n",
       "    }\n",
       "\n",
       "    .dataframe tbody tr th {\n",
       "        vertical-align: top;\n",
       "    }\n",
       "\n",
       "    .dataframe thead th {\n",
       "        text-align: right;\n",
       "    }\n",
       "</style>\n",
       "<table border=\"1\" class=\"dataframe\">\n",
       "  <thead>\n",
       "    <tr style=\"text-align: right;\">\n",
       "      <th></th>\n",
       "      <th>person_age</th>\n",
       "      <th>person_gender</th>\n",
       "      <th>person_education</th>\n",
       "      <th>person_income</th>\n",
       "      <th>person_emp_exp</th>\n",
       "      <th>person_home_ownership</th>\n",
       "      <th>loan_amnt</th>\n",
       "      <th>loan_intent</th>\n",
       "      <th>loan_int_rate</th>\n",
       "      <th>loan_percent_income</th>\n",
       "      <th>cb_person_cred_hist_length</th>\n",
       "      <th>credit_score</th>\n",
       "      <th>previous_loan_defaults_on_file</th>\n",
       "      <th>loan_status</th>\n",
       "    </tr>\n",
       "  </thead>\n",
       "  <tbody>\n",
       "    <tr>\n",
       "      <th>0</th>\n",
       "      <td>22.0</td>\n",
       "      <td>0</td>\n",
       "      <td>4</td>\n",
       "      <td>71948.0</td>\n",
       "      <td>0</td>\n",
       "      <td>3</td>\n",
       "      <td>35000.0</td>\n",
       "      <td>4</td>\n",
       "      <td>16.02</td>\n",
       "      <td>0.49</td>\n",
       "      <td>3.0</td>\n",
       "      <td>561</td>\n",
       "      <td>0</td>\n",
       "      <td>1</td>\n",
       "    </tr>\n",
       "    <tr>\n",
       "      <th>1</th>\n",
       "      <td>21.0</td>\n",
       "      <td>0</td>\n",
       "      <td>3</td>\n",
       "      <td>12282.0</td>\n",
       "      <td>0</td>\n",
       "      <td>2</td>\n",
       "      <td>1000.0</td>\n",
       "      <td>1</td>\n",
       "      <td>11.14</td>\n",
       "      <td>0.08</td>\n",
       "      <td>2.0</td>\n",
       "      <td>504</td>\n",
       "      <td>1</td>\n",
       "      <td>0</td>\n",
       "    </tr>\n",
       "    <tr>\n",
       "      <th>2</th>\n",
       "      <td>25.0</td>\n",
       "      <td>0</td>\n",
       "      <td>3</td>\n",
       "      <td>12438.0</td>\n",
       "      <td>3</td>\n",
       "      <td>0</td>\n",
       "      <td>5500.0</td>\n",
       "      <td>3</td>\n",
       "      <td>12.87</td>\n",
       "      <td>0.44</td>\n",
       "      <td>3.0</td>\n",
       "      <td>635</td>\n",
       "      <td>0</td>\n",
       "      <td>1</td>\n",
       "    </tr>\n",
       "    <tr>\n",
       "      <th>3</th>\n",
       "      <td>23.0</td>\n",
       "      <td>0</td>\n",
       "      <td>1</td>\n",
       "      <td>79753.0</td>\n",
       "      <td>0</td>\n",
       "      <td>3</td>\n",
       "      <td>35000.0</td>\n",
       "      <td>3</td>\n",
       "      <td>15.23</td>\n",
       "      <td>0.44</td>\n",
       "      <td>2.0</td>\n",
       "      <td>675</td>\n",
       "      <td>0</td>\n",
       "      <td>1</td>\n",
       "    </tr>\n",
       "    <tr>\n",
       "      <th>4</th>\n",
       "      <td>24.0</td>\n",
       "      <td>1</td>\n",
       "      <td>4</td>\n",
       "      <td>66135.0</td>\n",
       "      <td>1</td>\n",
       "      <td>3</td>\n",
       "      <td>35000.0</td>\n",
       "      <td>3</td>\n",
       "      <td>14.27</td>\n",
       "      <td>0.53</td>\n",
       "      <td>4.0</td>\n",
       "      <td>586</td>\n",
       "      <td>0</td>\n",
       "      <td>1</td>\n",
       "    </tr>\n",
       "  </tbody>\n",
       "</table>\n",
       "</div>"
      ],
      "text/plain": [
       "   person_age  person_gender  person_education  person_income  person_emp_exp  \\\n",
       "0        22.0              0                 4        71948.0               0   \n",
       "1        21.0              0                 3        12282.0               0   \n",
       "2        25.0              0                 3        12438.0               3   \n",
       "3        23.0              0                 1        79753.0               0   \n",
       "4        24.0              1                 4        66135.0               1   \n",
       "\n",
       "   person_home_ownership  loan_amnt  loan_intent  loan_int_rate  \\\n",
       "0                      3    35000.0            4          16.02   \n",
       "1                      2     1000.0            1          11.14   \n",
       "2                      0     5500.0            3          12.87   \n",
       "3                      3    35000.0            3          15.23   \n",
       "4                      3    35000.0            3          14.27   \n",
       "\n",
       "   loan_percent_income  cb_person_cred_hist_length  credit_score  \\\n",
       "0                 0.49                         3.0           561   \n",
       "1                 0.08                         2.0           504   \n",
       "2                 0.44                         3.0           635   \n",
       "3                 0.44                         2.0           675   \n",
       "4                 0.53                         4.0           586   \n",
       "\n",
       "   previous_loan_defaults_on_file  loan_status  \n",
       "0                               0            1  \n",
       "1                               1            0  \n",
       "2                               0            1  \n",
       "3                               0            1  \n",
       "4                               0            1  "
      ]
     },
     "execution_count": 14,
     "metadata": {},
     "output_type": "execute_result"
    }
   ],
   "source": [
    "df.head()"
   ]
  },
  {
   "cell_type": "code",
   "execution_count": 15,
   "id": "7220574e",
   "metadata": {},
   "outputs": [],
   "source": [
    "X = df.drop('loan_status', axis = 1)\n",
    "y = df['loan_status'].to_numpy()"
   ]
  },
  {
   "cell_type": "code",
   "execution_count": 16,
   "id": "537ba89b",
   "metadata": {},
   "outputs": [],
   "source": [
    "from sklearn.model_selection import train_test_split\n",
    "\n",
    "X_train, X_test, y_train, y_test = train_test_split(X, y, test_size=0.3, random_state=234)"
   ]
  },
  {
   "cell_type": "code",
   "execution_count": 17,
   "id": "32c435d5",
   "metadata": {},
   "outputs": [],
   "source": [
    "X_train_scaled = scaler.fit_transform(X_train)\n",
    "X_test_scaled = scaler.transform(X_test)"
   ]
  },
  {
   "cell_type": "code",
   "execution_count": 18,
   "id": "e83789a4",
   "metadata": {},
   "outputs": [],
   "source": [
    "m,n = X.shape\n",
    "w_in = np.zeros((n,))\n",
    "b_in = 3.23423"
   ]
  },
  {
   "cell_type": "code",
   "execution_count": 27,
   "id": "905e5ee8",
   "metadata": {},
   "outputs": [],
   "source": [
    "w_final, b_final = gradient_descent(X_train_scaled, y_train, w_in, b_in,alpha=0.01, num_iters=1000)"
   ]
  },
  {
   "cell_type": "code",
   "execution_count": 28,
   "id": "c35209d2",
   "metadata": {},
   "outputs": [],
   "source": [
    "y_preds = predict(w_final, b_final,X_test_scaled)"
   ]
  },
  {
   "cell_type": "code",
   "execution_count": 29,
   "id": "e68af028",
   "metadata": {},
   "outputs": [
    {
     "name": "stdout",
     "output_type": "stream",
     "text": [
      "The accuracy is:  0.8851851851851852\n",
      "The classification_report is:                precision    recall  f1-score   support\n",
      "\n",
      "           0       0.93      0.92      0.93     10510\n",
      "           1       0.73      0.77      0.75      2990\n",
      "\n",
      "    accuracy                           0.89     13500\n",
      "   macro avg       0.83      0.84      0.84     13500\n",
      "weighted avg       0.89      0.89      0.89     13500\n",
      "\n",
      "The recall score is:  0.7692307692307693\n",
      "The f1 score is:  0.7479674796747967\n"
     ]
    },
    {
     "data": {
      "text/plain": [
       "<sklearn.metrics._plot.confusion_matrix.ConfusionMatrixDisplay at 0x7d765d69eb10>"
      ]
     },
     "execution_count": 29,
     "metadata": {},
     "output_type": "execute_result"
    },
    {
     "data": {
      "image/png": "[encoded data removed]",
      "text/plain": [
       "<Figure size 640x480 with 2 Axes>"
      ]
     },
     "metadata": {},
     "output_type": "display_data"
    }
   ],
   "source": [
    "from sklearn.metrics import accuracy_score, classification_report, f1_score, recall_score, auc, roc_curve,RocCurveDisplay, confusion_matrix, ConfusionMatrixDisplay\n",
    "\n",
    "\n",
    "print(\"The accuracy is: \", accuracy_score(y_test, y_preds))\n",
    "print(\"The classification_report is: \", classification_report(y_test, y_preds))\n",
    "print(\"The recall score is: \", recall_score(y_test, y_preds))\n",
    "print(\"The f1 score is: \", f1_score(y_test, y_preds))\n",
    "ConfusionMatrixDisplay(confusion_matrix=confusion_matrix(y_preds, y_test)).plot()"
   ]
  },
  {
   "cell_type": "code",
   "execution_count": 30,
   "id": "4f4fd1fa",
   "metadata": {},
   "outputs": [
    {
     "data": {
      "text/plain": [
       "<sklearn.metrics._plot.roc_curve.RocCurveDisplay at 0x7d765c9437d0>"
      ]
     },
     "execution_count": 30,
     "metadata": {},
     "output_type": "execute_result"
    },
    {
     "data": {
      "image/png": "[encoded data removed]",
      "text/plain": [
       "<Figure size 640x480 with 1 Axes>"
      ]
     },
     "metadata": {},
     "output_type": "display_data"
    }
   ],
   "source": [
    "fpr, tpr, thresholds = roc_curve(y_test, y_preds)\n",
    "roc_auc = auc(fpr, tpr)\n",
    "\n",
    "RocCurveDisplay(fpr=fpr, tpr=tpr, roc_auc=roc_auc, estimator_name=\"Custom LR\").plot( )"
   ]
  },
  {
   "cell_type": "code",
   "execution_count": 32,
   "id": "1037a4b4",
   "metadata": {},
   "outputs": [
    {
     "name": "stdout",
     "output_type": "stream",
     "text": [
      "The accuracy is:  0.8936296296296297\n",
      "The classification_report is:                precision    recall  f1-score   support\n",
      "\n",
      "           0       0.93      0.93      0.93     10510\n",
      "           1       0.76      0.75      0.76      2990\n",
      "\n",
      "    accuracy                           0.89     13500\n",
      "   macro avg       0.85      0.84      0.84     13500\n",
      "weighted avg       0.89      0.89      0.89     13500\n",
      "\n",
      "The recall score is:  0.7508361204013378\n",
      "The f1 score is:  0.7576780290246372\n"
     ]
    },
    {
     "data": {
      "text/plain": [
       "<sklearn.metrics._plot.roc_curve.RocCurveDisplay at 0x7d7659db3a50>"
      ]
     },
     "execution_count": 32,
     "metadata": {},
     "output_type": "execute_result"
    },
    {
     "data": {
      "image/png": "[encoded data removed]",
      "text/plain": [
       "<Figure size 640x480 with 2 Axes>"
      ]
     },
     "metadata": {},
     "output_type": "display_data"
    },
    {
     "data": {
      "image/png": "[encoded data removed]",
      "text/plain": [
       "<Figure size 640x480 with 1 Axes>"
      ]
     },
     "metadata": {},
     "output_type": "display_data"
    }
   ],
   "source": [
    "from sklearn.linear_model import LogisticRegression\n",
    "lr = LogisticRegression()\n",
    "\n",
    "lr.fit(X_train_scaled, y_train) \n",
    "\n",
    "y_preds_lr = lr.predict(X_test_scaled)\n",
    "\n",
    "print(\"The accuracy is: \", accuracy_score(y_test, y_preds_lr))\n",
    "print(\"The classification_report is: \", classification_report(y_test, y_preds_lr))\n",
    "print(\"The recall score is: \", recall_score(y_test, y_preds_lr))\n",
    "print(\"The f1 score is: \", f1_score(y_test, y_preds_lr))\n",
    "ConfusionMatrixDisplay(confusion_matrix=confusion_matrix(y_preds_lr, y_test)).plot()\n",
    "\n",
    "fpr, tpr, thresholds = roc_curve(y_test, y_preds_lr)\n",
    "roc_auc = auc(fpr, tpr)\n",
    "\n",
    "RocCurveDisplay(fpr=fpr, tpr=tpr, roc_auc=roc_auc, estimator_name=\"Custom LR\").plot( )"
   ]
  },
  {
   "cell_type": "markdown",
   "id": "129cc843",
   "metadata": {},
   "source": [
    "### Our Logistic Regression model is comparable to the prebuilt model from sklearn, this we can conclude that we have a fairly stable model for binary classification."
   ]
  },
  {
   "cell_type": "code",
   "execution_count": null,
   "id": "1410acc7",
   "metadata": {},
   "outputs": [],
   "source": []
  }
 ],
 "metadata": {
  "kernelspec": {
   "display_name": "Python 3",
   "language": "python",
   "name": "python3"
  },
  "language_info": {
   "codemirror_mode": {
    "name": "ipython",
    "version": 3
   },
   "file_extension": ".py",
   "mimetype": "text/x-python",
   "name": "python",
   "nbconvert_exporter": "python",
   "pygments_lexer": "ipython3",
   "version": "3.11.9"
  }
 },
 "nbformat": 4,
 "nbformat_minor": 5
}
