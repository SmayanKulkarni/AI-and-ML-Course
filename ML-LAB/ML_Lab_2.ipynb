{
  "cells": [
    {
      "cell_type": "markdown",
      "metadata": {
        "colab_type": "text",
        "id": "view-in-github"
      },
      "source": [
        "<a href=\"https://colab.research.google.com/github/SmayanKulkarni/AI-and-ML-Course/blob/master/ML_Lab_2.ipynb\" target=\"_parent\"><img src=\"https://colab.research.google.com/assets/colab-badge.svg\" alt=\"Open In Colab\"/></a>"
      ]
    },
    {
      "cell_type": "code",
      "execution_count": null,
      "metadata": {
        "id": "kpAuD6OjFLSm"
      },
      "outputs": [],
      "source": [
        "import numpy as np\n",
        "import pandas as pd"
      ]
    },
    {
      "cell_type": "code",
      "execution_count": null,
      "metadata": {
        "id": "T3ELNkL3FTlL"
      },
      "outputs": [],
      "source": [
        "data=pd.read_csv(\"Iris(1).csv\", skiprows=1, header=None, names=col_names)\n",
        "data.head(10)"
      ]
    },
    {
      "cell_type": "code",
      "execution_count": null,
      "metadata": {
        "id": "MEdhOrCiG2TE"
      },
      "outputs": [],
      "source": [
        "class Node():\n",
        "  def __init__(self, feature_index=none, threshold=none, left=none, right=none, info_gain=none, value=none):\n",
        "\n",
        "    #for decision node\n",
        "    self.feature_index=feature_index\n",
        "    self.threshold=threshold\n",
        "    self.left=left\n",
        "    self.right=right\n",
        "    self.info_gain=info_gain\n",
        "\n",
        "    #for leaf node\n",
        "    self.value=value"
      ]
    },
    {
      "cell_type": "code",
      "execution_count": null,
      "metadata": {
        "id": "xGjnnf7rIZ_T"
      },
      "outputs": [],
      "source": [
        "class DecisionTreeClassifier():\n",
        "  def __init__(self, min_samples_split=2, max_depth=2):\n",
        "    \"\"\"constructor\"\"\"\n",
        "\n",
        "    #initialize the root of the tree\n",
        "    self.root=None\n",
        "\n",
        "    #stopping conditions\n",
        "    self.min_samples_split=min_samples_split\n",
        "    self.max_depth=max_depth\n",
        "  def build_tree(self, dataset, curr_depth=0):\n",
        "    \"\"\"recursive function to build the tree\"\"\"\n",
        "    X,Y = dataset[:,:,-1], dataset[:, -1]\n",
        "    num_smples, num_features = np.shape\n",
        "\n",
        "    #split until stooping conditions are set\n",
        "    if num_samples>=self.min_samples_split and curr_depth<=self.max_depth:\n",
        "      #find the"
      ]
    }
  ],
  "metadata": {
    "colab": {
      "include_colab_link": true,
      "provenance": []
    },
    "kernelspec": {
      "display_name": "Python 3",
      "name": "python3"
    },
    "language_info": {
      "name": "python"
    }
  },
  "nbformat": 4,
  "nbformat_minor": 0
}
