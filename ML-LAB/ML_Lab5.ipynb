{
  "cells": [
    {
      "cell_type": "markdown",
      "metadata": {
        "id": "wkI_Efpg59Dj"
      },
      "source": [
        "Name : Smayan Kulkarni\n",
        "Roll No : D100\n",
        "Colab Link : https://colab.research.google.com/github/SmayanKulkarni/AI-and-ML-Course/blob/master/ML-LAB/ML_Lab5.ipynb"
      ]
    },
    {
      "cell_type": "code",
      "execution_count": null,
      "metadata": {
        "id": "YORsO9C_59Dk"
      },
      "outputs": [],
      "source": [
        "import pandas as pd\n",
        "import numpy as np\n",
        "import matplotlib.pyplot as plt\n",
        "from sklearn.model_selection import train_test_split\n",
        "from sklearn.ensemble import RandomForestClassifier\n",
        "from sklearn.tree import DecisionTreeClassifier\n",
        "from sklearn.metrics import accuracy_score, classification_report\n",
        "from sklearn.preprocessing import StandardScaler"
      ]
    },
    {
      "cell_type": "code",
      "execution_count": null,
      "metadata": {
        "id": "ujILlHkF59Dl"
      },
      "outputs": [],
      "source": [
        "df1 = pd.read_csv('/home/smayan/Desktop/AI-ML-DS/AI-and-ML-Course/ML-LAB/Iris.csv')\n",
        "df2 = pd.read_csv('/home/smayan/Desktop/AI-ML-DS/AI-and-ML-Course/ML-LAB/placementdata.csv')"
      ]
    },
    {
      "cell_type": "code",
      "execution_count": null,
      "metadata": {
        "id": "pziQIEsi59Dl",
        "outputId": "439e65db-00b1-4b39-dbe8-3933e9f163dc"
      },
      "outputs": [
        {
          "data": {
            "text/html": [
              "<div>\n",
              "<style scoped>\n",
              "    .dataframe tbody tr th:only-of-type {\n",
              "        vertical-align: middle;\n",
              "    }\n",
              "\n",
              "    .dataframe tbody tr th {\n",
              "        vertical-align: top;\n",
              "    }\n",
              "\n",
              "    .dataframe thead th {\n",
              "        text-align: right;\n",
              "    }\n",
              "</style>\n",
              "<table border=\"1\" class=\"dataframe\">\n",
              "  <thead>\n",
              "    <tr style=\"text-align: right;\">\n",
              "      <th></th>\n",
              "      <th>Id</th>\n",
              "      <th>SepalLengthCm</th>\n",
              "      <th>SepalWidthCm</th>\n",
              "      <th>PetalLengthCm</th>\n",
              "      <th>PetalWidthCm</th>\n",
              "      <th>Species</th>\n",
              "    </tr>\n",
              "  </thead>\n",
              "  <tbody>\n",
              "    <tr>\n",
              "      <th>0</th>\n",
              "      <td>1</td>\n",
              "      <td>5.1</td>\n",
              "      <td>3.5</td>\n",
              "      <td>1.4</td>\n",
              "      <td>0.2</td>\n",
              "      <td>Iris-setosa</td>\n",
              "    </tr>\n",
              "    <tr>\n",
              "      <th>1</th>\n",
              "      <td>2</td>\n",
              "      <td>4.9</td>\n",
              "      <td>3.0</td>\n",
              "      <td>1.4</td>\n",
              "      <td>0.2</td>\n",
              "      <td>Iris-setosa</td>\n",
              "    </tr>\n",
              "    <tr>\n",
              "      <th>2</th>\n",
              "      <td>3</td>\n",
              "      <td>4.7</td>\n",
              "      <td>3.2</td>\n",
              "      <td>1.3</td>\n",
              "      <td>0.2</td>\n",
              "      <td>Iris-setosa</td>\n",
              "    </tr>\n",
              "    <tr>\n",
              "      <th>3</th>\n",
              "      <td>4</td>\n",
              "      <td>4.6</td>\n",
              "      <td>3.1</td>\n",
              "      <td>1.5</td>\n",
              "      <td>0.2</td>\n",
              "      <td>Iris-setosa</td>\n",
              "    </tr>\n",
              "    <tr>\n",
              "      <th>4</th>\n",
              "      <td>5</td>\n",
              "      <td>5.0</td>\n",
              "      <td>3.6</td>\n",
              "      <td>1.4</td>\n",
              "      <td>0.2</td>\n",
              "      <td>Iris-setosa</td>\n",
              "    </tr>\n",
              "  </tbody>\n",
              "</table>\n",
              "</div>"
            ],
            "text/plain": [
              "   Id  SepalLengthCm  SepalWidthCm  PetalLengthCm  PetalWidthCm      Species\n",
              "0   1            5.1           3.5            1.4           0.2  Iris-setosa\n",
              "1   2            4.9           3.0            1.4           0.2  Iris-setosa\n",
              "2   3            4.7           3.2            1.3           0.2  Iris-setosa\n",
              "3   4            4.6           3.1            1.5           0.2  Iris-setosa\n",
              "4   5            5.0           3.6            1.4           0.2  Iris-setosa"
            ]
          },
          "execution_count": 3,
          "metadata": {},
          "output_type": "execute_result"
        }
      ],
      "source": [
        "df1.head()"
      ]
    },
    {
      "cell_type": "code",
      "execution_count": null,
      "metadata": {
        "id": "ogsvH_j459Dl",
        "outputId": "15e37dad-8b94-4c2e-eb91-ff7b9de1b8e3"
      },
      "outputs": [
        {
          "data": {
            "text/html": [
              "<div>\n",
              "<style scoped>\n",
              "    .dataframe tbody tr th:only-of-type {\n",
              "        vertical-align: middle;\n",
              "    }\n",
              "\n",
              "    .dataframe tbody tr th {\n",
              "        vertical-align: top;\n",
              "    }\n",
              "\n",
              "    .dataframe thead th {\n",
              "        text-align: right;\n",
              "    }\n",
              "</style>\n",
              "<table border=\"1\" class=\"dataframe\">\n",
              "  <thead>\n",
              "    <tr style=\"text-align: right;\">\n",
              "      <th></th>\n",
              "      <th>StudentID</th>\n",
              "      <th>CGPA</th>\n",
              "      <th>Internships</th>\n",
              "      <th>Projects</th>\n",
              "      <th>Workshops/Certifications</th>\n",
              "      <th>AptitudeTestScore</th>\n",
              "      <th>SoftSkillsRating</th>\n",
              "      <th>ExtracurricularActivities</th>\n",
              "      <th>PlacementTraining</th>\n",
              "      <th>SSC_Marks</th>\n",
              "      <th>HSC_Marks</th>\n",
              "      <th>PlacementStatus</th>\n",
              "    </tr>\n",
              "  </thead>\n",
              "  <tbody>\n",
              "    <tr>\n",
              "      <th>0</th>\n",
              "      <td>1</td>\n",
              "      <td>7.5</td>\n",
              "      <td>1</td>\n",
              "      <td>1</td>\n",
              "      <td>1</td>\n",
              "      <td>65</td>\n",
              "      <td>4.4</td>\n",
              "      <td>No</td>\n",
              "      <td>No</td>\n",
              "      <td>61</td>\n",
              "      <td>79</td>\n",
              "      <td>NotPlaced</td>\n",
              "    </tr>\n",
              "    <tr>\n",
              "      <th>1</th>\n",
              "      <td>2</td>\n",
              "      <td>8.9</td>\n",
              "      <td>0</td>\n",
              "      <td>3</td>\n",
              "      <td>2</td>\n",
              "      <td>90</td>\n",
              "      <td>4.0</td>\n",
              "      <td>Yes</td>\n",
              "      <td>Yes</td>\n",
              "      <td>78</td>\n",
              "      <td>82</td>\n",
              "      <td>Placed</td>\n",
              "    </tr>\n",
              "    <tr>\n",
              "      <th>2</th>\n",
              "      <td>3</td>\n",
              "      <td>7.3</td>\n",
              "      <td>1</td>\n",
              "      <td>2</td>\n",
              "      <td>2</td>\n",
              "      <td>82</td>\n",
              "      <td>4.8</td>\n",
              "      <td>Yes</td>\n",
              "      <td>No</td>\n",
              "      <td>79</td>\n",
              "      <td>80</td>\n",
              "      <td>NotPlaced</td>\n",
              "    </tr>\n",
              "    <tr>\n",
              "      <th>3</th>\n",
              "      <td>4</td>\n",
              "      <td>7.5</td>\n",
              "      <td>1</td>\n",
              "      <td>1</td>\n",
              "      <td>2</td>\n",
              "      <td>85</td>\n",
              "      <td>4.4</td>\n",
              "      <td>Yes</td>\n",
              "      <td>Yes</td>\n",
              "      <td>81</td>\n",
              "      <td>80</td>\n",
              "      <td>Placed</td>\n",
              "    </tr>\n",
              "    <tr>\n",
              "      <th>4</th>\n",
              "      <td>5</td>\n",
              "      <td>8.3</td>\n",
              "      <td>1</td>\n",
              "      <td>2</td>\n",
              "      <td>2</td>\n",
              "      <td>86</td>\n",
              "      <td>4.5</td>\n",
              "      <td>Yes</td>\n",
              "      <td>Yes</td>\n",
              "      <td>74</td>\n",
              "      <td>88</td>\n",
              "      <td>Placed</td>\n",
              "    </tr>\n",
              "  </tbody>\n",
              "</table>\n",
              "</div>"
            ],
            "text/plain": [
              "   StudentID  CGPA  Internships  Projects  Workshops/Certifications  \\\n",
              "0          1   7.5            1         1                         1   \n",
              "1          2   8.9            0         3                         2   \n",
              "2          3   7.3            1         2                         2   \n",
              "3          4   7.5            1         1                         2   \n",
              "4          5   8.3            1         2                         2   \n",
              "\n",
              "   AptitudeTestScore  SoftSkillsRating ExtracurricularActivities  \\\n",
              "0                 65               4.4                        No   \n",
              "1                 90               4.0                       Yes   \n",
              "2                 82               4.8                       Yes   \n",
              "3                 85               4.4                       Yes   \n",
              "4                 86               4.5                       Yes   \n",
              "\n",
              "  PlacementTraining  SSC_Marks  HSC_Marks PlacementStatus  \n",
              "0                No         61         79       NotPlaced  \n",
              "1               Yes         78         82          Placed  \n",
              "2                No         79         80       NotPlaced  \n",
              "3               Yes         81         80          Placed  \n",
              "4               Yes         74         88          Placed  "
            ]
          },
          "execution_count": 4,
          "metadata": {},
          "output_type": "execute_result"
        }
      ],
      "source": [
        "df2.head()"
      ]
    },
    {
      "cell_type": "markdown",
      "metadata": {
        "id": "yokT63AM59Dm"
      },
      "source": [
        "DECISION TREE"
      ]
    },
    {
      "cell_type": "markdown",
      "metadata": {
        "id": "CjZOyTlL59Dm"
      },
      "source": [
        "Iris"
      ]
    },
    {
      "cell_type": "code",
      "execution_count": null,
      "metadata": {
        "id": "6XvanhIs59Dm"
      },
      "outputs": [],
      "source": [
        "feature_cols = ['SepalLengthCm','SepalWidthCm','PetalLengthCm','PetalWidthCm']\n",
        "X = df1[feature_cols]\n",
        "y = df1['Species']"
      ]
    },
    {
      "cell_type": "code",
      "execution_count": null,
      "metadata": {
        "id": "feuTWIwI59Dm",
        "outputId": "28b5effb-ef18-4d95-fa1a-5be27a2c5e73"
      },
      "outputs": [
        {
          "name": "stdout",
          "output_type": "stream",
          "text": [
            "Training Accuracy: 1.0\n",
            "Testing Accuracy: 0.9111111111111111\n"
          ]
        }
      ],
      "source": [
        "X_train, X_test, y_train, y_test = train_test_split(X, y, test_size=0.3,random_state=11)\n",
        "clf1 = DecisionTreeClassifier()\n",
        "clf1 = clf1.fit(X_train,y_train)\n",
        "y_pred = clf1.predict(X_test)\n",
        "print(\"Training Accuracy:\",clf1.score(X_train, y_train))\n",
        "print(\"Testing Accuracy:\",accuracy_score(y_test, y_pred))"
      ]
    },
    {
      "cell_type": "markdown",
      "metadata": {
        "id": "eqwhbXNe59Dm"
      },
      "source": [
        "Placement"
      ]
    },
    {
      "cell_type": "code",
      "execution_count": null,
      "metadata": {
        "id": "3YeOovDD59Dm",
        "outputId": "b31af7d0-6e6f-4021-d34a-c445929f15e6"
      },
      "outputs": [
        {
          "name": "stdout",
          "output_type": "stream",
          "text": [
            "<class 'pandas.core.frame.DataFrame'>\n",
            "RangeIndex: 10000 entries, 0 to 9999\n",
            "Data columns (total 12 columns):\n",
            " #   Column                     Non-Null Count  Dtype  \n",
            "---  ------                     --------------  -----  \n",
            " 0   StudentID                  10000 non-null  int64  \n",
            " 1   CGPA                       10000 non-null  float64\n",
            " 2   Internships                10000 non-null  int64  \n",
            " 3   Projects                   10000 non-null  int64  \n",
            " 4   Workshops/Certifications   10000 non-null  int64  \n",
            " 5   AptitudeTestScore          10000 non-null  int64  \n",
            " 6   SoftSkillsRating           10000 non-null  float64\n",
            " 7   ExtracurricularActivities  10000 non-null  object \n",
            " 8   PlacementTraining          10000 non-null  object \n",
            " 9   SSC_Marks                  10000 non-null  int64  \n",
            " 10  HSC_Marks                  10000 non-null  int64  \n",
            " 11  PlacementStatus            10000 non-null  object \n",
            "dtypes: float64(2), int64(7), object(3)\n",
            "memory usage: 937.6+ KB\n"
          ]
        }
      ],
      "source": [
        "df2.info()"
      ]
    },
    {
      "cell_type": "code",
      "execution_count": null,
      "metadata": {
        "id": "3sjIFNk259Dm",
        "outputId": "c32eb0ae-e4b4-4892-8cfc-916d5c37a699"
      },
      "outputs": [
        {
          "name": "stdout",
          "output_type": "stream",
          "text": [
            "Training Accuracy: 0.9995714285714286\n",
            "Testing Accuracy: 0.7136666666666667\n"
          ]
        }
      ],
      "source": [
        "extra_mapping = {'No': 0, 'Yes': 1}\n",
        "df2['ExtracurricularActivities'] = df2['ExtracurricularActivities'].map(extra_mapping)\n",
        "placementtrain_mapping = {'No': 0, 'Yes': 1}\n",
        "df2['PlacementTraining'] = df2['PlacementTraining'].map(placementtrain_mapping)\n",
        "feature_cols = ['CGPA','Internships','Projects','Workshops/Certifications','AptitudeTestScore','SoftSkillsRating','ExtracurricularActivities','PlacementTraining','SSC_Marks','HSC_Marks']\n",
        "X2 = df2[feature_cols]\n",
        "y2 = df2['PlacementStatus']\n",
        "X2_train, X2_test, y2_train, y2_test = train_test_split(X2, y2, test_size=0.3,random_state=11)\n",
        "clf12 = DecisionTreeClassifier()\n",
        "clf12 = clf12.fit(X2_train,y2_train)\n",
        "y2_pred = clf12.predict(X2_test)\n",
        "print(\"Training Accuracy:\",clf12.score(X2_train, y2_train))\n",
        "print(\"Testing Accuracy:\",accuracy_score(y2_test, y2_pred))"
      ]
    },
    {
      "cell_type": "markdown",
      "metadata": {
        "id": "PSKaX5UN59Dm"
      },
      "source": [
        "DECISION TREE WITH FEATURE IMPORTANCE"
      ]
    },
    {
      "cell_type": "markdown",
      "metadata": {
        "id": "P4acKW0S59Dm"
      },
      "source": [
        "Iris"
      ]
    },
    {
      "cell_type": "code",
      "execution_count": null,
      "metadata": {
        "id": "tVO3qqRu59Dm",
        "outputId": "d96c1de4-986d-4be1-cc6d-283be27e4c88"
      },
      "outputs": [
        {
          "data": {
            "text/plain": [
              "0    0.000000\n",
              "1    0.021446\n",
              "2    0.034083\n",
              "3    0.944471\n",
              "dtype: float64"
            ]
          },
          "execution_count": 9,
          "metadata": {},
          "output_type": "execute_result"
        }
      ],
      "source": [
        "imp1=pd.Series(clf1.feature_importances_)\n",
        "imp1"
      ]
    },
    {
      "cell_type": "code",
      "execution_count": null,
      "metadata": {
        "id": "yjfsRCOD59Dn"
      },
      "outputs": [],
      "source": [
        "df1.drop(columns=['SepalLengthCm'],axis=1,inplace=True)\n",
        "X21 = df1.drop('Species', axis=1)\n",
        "y21 = df1['Species']\n",
        "X21_train, X21_test, y21_train, y21_test = train_test_split(X21, y21,test_size=0.3, random_state=11)\n",
        "clf21 = DecisionTreeClassifier()\n",
        "clf21 = clf21.fit(X21_train,y21_train)\n",
        "y21_pred = clf21.predict(X21_test)"
      ]
    },
    {
      "cell_type": "code",
      "execution_count": null,
      "metadata": {
        "id": "IPTLP8nV59Dn",
        "outputId": "116d4997-a858-404f-bc27-6484265f7f4a"
      },
      "outputs": [
        {
          "name": "stdout",
          "output_type": "stream",
          "text": [
            "Training Accuracy: 1.0\n",
            "Testing Accuracy: 1.0\n"
          ]
        }
      ],
      "source": [
        "print(\"Training Accuracy:\",clf21.score(X21_train, y21_train))\n",
        "print(\"Testing Accuracy:\",accuracy_score(y21_test, y21_pred))"
      ]
    },
    {
      "cell_type": "markdown",
      "metadata": {
        "id": "Ba8F6Aps59Dn"
      },
      "source": [
        "Placement"
      ]
    },
    {
      "cell_type": "code",
      "execution_count": null,
      "metadata": {
        "id": "hqPH_BuK59Dn",
        "outputId": "624a3323-5885-49c0-fd08-af1b602aa603"
      },
      "outputs": [
        {
          "data": {
            "text/plain": [
              "0    0.112526\n",
              "1    0.026749\n",
              "2    0.040783\n",
              "3    0.040884\n",
              "4    0.147050\n",
              "5    0.086314\n",
              "6    0.049372\n",
              "7    0.021385\n",
              "8    0.120640\n",
              "9    0.354298\n",
              "dtype: float64"
            ]
          },
          "execution_count": 12,
          "metadata": {},
          "output_type": "execute_result"
        }
      ],
      "source": [
        "imp12=pd.Series(clf12.feature_importances_)\n",
        "imp12"
      ]
    },
    {
      "cell_type": "code",
      "execution_count": null,
      "metadata": {
        "id": "H07rM4n959Dn",
        "outputId": "e9390814-9bde-4613-c17e-aab750f714b1"
      },
      "outputs": [
        {
          "name": "stdout",
          "output_type": "stream",
          "text": [
            "Training Accuracy: 1.0\n",
            "Testing Accuracy: 0.706\n"
          ]
        }
      ],
      "source": [
        "df2.drop(columns=['CGPA'],axis=1,inplace=True)\n",
        "df2.drop(columns=['Internships'],axis=1,inplace=True)\n",
        "df2.drop(columns=['Projects'],axis=1,inplace=True)\n",
        "X22 = df2.drop('PlacementStatus', axis=1)\n",
        "y22 = df2['PlacementStatus']\n",
        "X22_train, X22_test, y22_train, y22_test = train_test_split(X22, y22,test_size=0.3, random_state=11)\n",
        "clf22 = DecisionTreeClassifier()\n",
        "clf22 = clf1.fit(X22_train,y22_train)\n",
        "y22_pred = clf22.predict(X22_test)\n",
        "print(\"Training Accuracy:\",clf22.score(X22_train, y22_train))\n",
        "print(\"Testing Accuracy:\",accuracy_score(y22_test, y22_pred))"
      ]
    },
    {
      "cell_type": "markdown",
      "metadata": {
        "id": "JXGzQKAS59Dn"
      },
      "source": [
        "RANDOM FOREST WITH N ESTIMATORS"
      ]
    },
    {
      "cell_type": "markdown",
      "metadata": {
        "id": "QaUeHpb559Dn"
      },
      "source": [
        "Iris"
      ]
    },
    {
      "cell_type": "code",
      "execution_count": null,
      "metadata": {
        "id": "LrJRjtZN59Dn",
        "outputId": "f64dcf7d-8b59-49b9-c52b-059791a13476"
      },
      "outputs": [
        {
          "name": "stdout",
          "output_type": "stream",
          "text": [
            "Training Accuracy: 1.0\n",
            "Testing Accuracy: 0.9111111111111111\n"
          ]
        }
      ],
      "source": [
        "from sklearn.ensemble import RandomForestClassifier\n",
        "df3=pd.read_csv(\"Iris.csv\")\n",
        "feature_cols = ['SepalLengthCm','SepalWidthCm','PetalLengthCm','PetalWidthCm']\n",
        "X31 = df3[feature_cols]\n",
        "y31 = df3['Species']\n",
        "X31_train, X31_test, y31_train, y31_test = train_test_split(X31, y31,test_size=0.3, random_state=11)\n",
        "clf31 = RandomForestClassifier(n_estimators=100)\n",
        "clf31 = clf31.fit(X31_train,y31_train)\n",
        "y31_pred = clf31.predict(X31_test)\n",
        "print(\"Training Accuracy:\",clf31.score(X31_train, y31_train))\n",
        "print(\"Testing Accuracy:\",accuracy_score(y31_test, y31_pred))"
      ]
    },
    {
      "cell_type": "markdown",
      "metadata": {
        "id": "q9Sh89ie59Do"
      },
      "source": [
        "Placement"
      ]
    },
    {
      "cell_type": "code",
      "execution_count": null,
      "metadata": {
        "id": "i_TiFfd959Do",
        "outputId": "4af42691-6893-4cdc-8770-a782da3e3c09"
      },
      "outputs": [
        {
          "name": "stdout",
          "output_type": "stream",
          "text": [
            "Training Accuracy: 0.9995714285714286\n",
            "Testing Accuracy: 0.7856666666666666\n"
          ]
        }
      ],
      "source": [
        "df4=pd.read_csv(\"placementdata.csv\")\n",
        "extra_mapping = {'No': 0, 'Yes': 1}\n",
        "df4['ExtracurricularActivities'] = df4['ExtracurricularActivities'].map(extra_mapping)\n",
        "placementtrain_mapping = {'No': 0, 'Yes': 1}\n",
        "df4['PlacementTraining'] = df4['PlacementTraining'].map(placementtrain_mapping)\n",
        "X32 = df4.drop(['StudentID','PlacementStatus'], axis=1)\n",
        "y32 = df4['PlacementStatus']\n",
        "X32_train, X32_test, y32_train, y32_test = train_test_split(X32, y32,test_size=0.3, random_state=11)\n",
        "clf32 = RandomForestClassifier(n_estimators=100)\n",
        "clf32 = clf32.fit(X32_train,y32_train)\n",
        "y32_pred = clf32.predict(X32_test)\n",
        "print(\"Training Accuracy:\",clf32.score(X32_train, y32_train))\n",
        "print(\"Testing Accuracy:\",accuracy_score(y32_test, y32_pred))"
      ]
    },
    {
      "cell_type": "markdown",
      "metadata": {
        "id": "bCYlJ96859Do"
      },
      "source": [
        "RANDOM FOREST WITH N ESTIMATORS AND FEATURE IMPORTANCE"
      ]
    },
    {
      "cell_type": "markdown",
      "metadata": {
        "id": "aYdv74GC59Do"
      },
      "source": [
        "Iris"
      ]
    },
    {
      "cell_type": "code",
      "execution_count": null,
      "metadata": {
        "id": "fjqI2UtQ59Do",
        "outputId": "facede78-814d-4610-c22e-d3d05f13fee0"
      },
      "outputs": [
        {
          "data": {
            "text/plain": [
              "0    0.091352\n",
              "1    0.034565\n",
              "2    0.405962\n",
              "3    0.468120\n",
              "dtype: float64"
            ]
          },
          "execution_count": 16,
          "metadata": {},
          "output_type": "execute_result"
        }
      ],
      "source": [
        "imp3=pd.Series(clf31.feature_importances_)\n",
        "imp3"
      ]
    },
    {
      "cell_type": "code",
      "execution_count": null,
      "metadata": {
        "id": "mQKAu7S_59Do",
        "outputId": "f6794de1-4f95-4595-edd1-44c3c1e22d6a"
      },
      "outputs": [
        {
          "name": "stdout",
          "output_type": "stream",
          "text": [
            "Training Accuracy: 1.0\n",
            "Testing Accuracy: 1.0\n"
          ]
        }
      ],
      "source": [
        "df3.drop(columns=['SepalWidthCm'],axis=1,inplace=True)\n",
        "X41 = df1.drop('Species', axis=1)\n",
        "y41 = df1['Species']\n",
        "X41_train, X41_test, y41_train, y41_test = train_test_split(X41, y41,test_size=0.3, random_state=11)\n",
        "clf41 = RandomForestClassifier(n_estimators=100)\n",
        "clf41 = clf41.fit(X41_train,y41_train)\n",
        "y41_pred = clf41.predict(X41_test)\n",
        "print(\"Training Accuracy:\",clf41.score(X41_train, y41_train))\n",
        "print(\"Testing Accuracy:\",accuracy_score(y41_test, y41_pred))"
      ]
    },
    {
      "cell_type": "markdown",
      "metadata": {
        "id": "rzHb1LHM59Do"
      },
      "source": [
        "Placement"
      ]
    },
    {
      "cell_type": "code",
      "execution_count": null,
      "metadata": {
        "id": "iBP__P2P59Do",
        "outputId": "a27e2b05-1e1e-40bf-c3e6-5990c40cfb18"
      },
      "outputs": [
        {
          "data": {
            "text/plain": [
              "0    0.119122\n",
              "1    0.034914\n",
              "2    0.092213\n",
              "3    0.056552\n",
              "4    0.172169\n",
              "5    0.091467\n",
              "6    0.066976\n",
              "7    0.023976\n",
              "8    0.141711\n",
              "9    0.200898\n",
              "dtype: float64"
            ]
          },
          "execution_count": 18,
          "metadata": {},
          "output_type": "execute_result"
        }
      ],
      "source": [
        "imp4=pd.Series(clf32.feature_importances_)\n",
        "imp4"
      ]
    },
    {
      "cell_type": "code",
      "execution_count": null,
      "metadata": {
        "id": "Em1X7D1Z59Do",
        "outputId": "f9594d99-1b0c-42df-b818-2583fa7aa3e0"
      },
      "outputs": [
        {
          "name": "stdout",
          "output_type": "stream",
          "text": [
            "Training Accuracy: 1.0\n",
            "Testing Accuracy: 0.7846666666666666\n"
          ]
        }
      ],
      "source": [
        "df4.drop(columns=['CGPA'],axis=1,inplace=True)\n",
        "df4.drop(columns=['Internships'],axis=1,inplace=True)\n",
        "df4.drop(columns=['PlacementTraining'],axis=1,inplace=True)\n",
        "X42 = df4.drop('PlacementStatus', axis=1)\n",
        "y42 = df4['PlacementStatus']\n",
        "X42_train, X42_test, y42_train, y42_test = train_test_split(X42, y42,test_size=0.3, random_state=11)\n",
        "clf42 = RandomForestClassifier(n_estimators=100)\n",
        "clf42 = clf42.fit(X42_train,y42_train)\n",
        "y42_pred = clf42.predict(X42_test)\n",
        "print(\"Training Accuracy:\",clf42.score(X42_train, y42_train))\n",
        "print(\"Testing Accuracy:\",accuracy_score(y42_test, y42_pred))"
      ]
    }
  ],
  "metadata": {
    "colab": {
      "provenance": []
    },
    "kernelspec": {
      "display_name": "Python 3",
      "language": "python",
      "name": "python3"
    },
    "language_info": {
      "codemirror_mode": {
        "name": "ipython",
        "version": 3
      },
      "file_extension": ".py",
      "mimetype": "text/x-python",
      "name": "python",
      "nbconvert_exporter": "python",
      "pygments_lexer": "ipython3",
      "version": "3.11.9"
    }
  },
  "nbformat": 4,
  "nbformat_minor": 0
}
