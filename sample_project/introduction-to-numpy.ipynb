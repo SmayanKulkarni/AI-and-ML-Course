{
 "cells": [
  {
   "cell_type": "code",
   "execution_count": 1,
   "id": "b1ff9682-e42d-4457-a687-3d53c911aa46",
   "metadata": {},
   "outputs": [],
   "source": [
    "import numpy as np"
   ]
  },
  {
   "cell_type": "markdown",
   "id": "34454309-7de5-4334-8de6-6ae987833c2c",
   "metadata": {},
   "source": [
    "## 1. Datatypes and Attributes"
   ]
  },
  {
   "cell_type": "code",
   "execution_count": 2,
   "id": "47164030-94fd-4827-bacb-7309c6857366",
   "metadata": {},
   "outputs": [
    {
     "data": {
      "text/plain": [
       "array([1, 2, 3])"
      ]
     },
     "execution_count": 2,
     "metadata": {},
     "output_type": "execute_result"
    }
   ],
   "source": [
    "#Numpys main datatype is ndarray\n",
    "a1 = np.array([1,2,3])\n",
    "a1"
   ]
  },
  {
   "cell_type": "code",
   "execution_count": 3,
   "id": "4e6a6c0f-2e09-47c3-a6ab-814eeddd3918",
   "metadata": {},
   "outputs": [
    {
     "data": {
      "text/plain": [
       "numpy.ndarray"
      ]
     },
     "execution_count": 3,
     "metadata": {},
     "output_type": "execute_result"
    }
   ],
   "source": [
    "type(a1)"
   ]
  },
  {
   "cell_type": "code",
   "execution_count": 4,
   "id": "b5970ae5-cb69-4305-bf78-a39fe183f935",
   "metadata": {},
   "outputs": [],
   "source": [
    "a2 = np.array([[1,2,3],[4,5,6]])"
   ]
  },
  {
   "cell_type": "code",
   "execution_count": 5,
   "id": "d0ada82c-5b97-4ce7-a324-e3b3fc8ad2e3",
   "metadata": {},
   "outputs": [],
   "source": [
    "a3 = np.array([[[1,2,3],\n",
    "               [4,5,6],\n",
    "               [7,8,9]],\n",
    "               \n",
    "               [[10,11,12],[13,14,15],[16,17,18]]])"
   ]
  },
  {
   "cell_type": "code",
   "execution_count": 6,
   "id": "18d68c99-9d29-4b13-95e2-0dd2b73028dc",
   "metadata": {},
   "outputs": [
    {
     "data": {
      "text/plain": [
       "array([[[ 1,  2,  3],\n",
       "        [ 4,  5,  6],\n",
       "        [ 7,  8,  9]],\n",
       "\n",
       "       [[10, 11, 12],\n",
       "        [13, 14, 15],\n",
       "        [16, 17, 18]]])"
      ]
     },
     "execution_count": 6,
     "metadata": {},
     "output_type": "execute_result"
    }
   ],
   "source": [
    "a2\n",
    "a3"
   ]
  },
  {
   "cell_type": "code",
   "execution_count": 7,
   "id": "9e3f5bd7-8e24-42c1-a135-fa52779eccc7",
   "metadata": {},
   "outputs": [
    {
     "data": {
      "text/plain": [
       "array([[1, 2, 3],\n",
       "       [4, 5, 6]])"
      ]
     },
     "execution_count": 7,
     "metadata": {},
     "output_type": "execute_result"
    }
   ],
   "source": [
    "a2"
   ]
  },
  {
   "cell_type": "code",
   "execution_count": 8,
   "id": "dd354632-f6a8-45c9-9920-9631d9422272",
   "metadata": {},
   "outputs": [
    {
     "data": {
      "text/plain": [
       "(3,)"
      ]
     },
     "execution_count": 8,
     "metadata": {},
     "output_type": "execute_result"
    }
   ],
   "source": [
    "a1.shape"
   ]
  },
  {
   "cell_type": "code",
   "execution_count": 9,
   "id": "28939c06-18be-4c7e-b726-adc284740658",
   "metadata": {},
   "outputs": [
    {
     "data": {
      "text/plain": [
       "(2, 3)"
      ]
     },
     "execution_count": 9,
     "metadata": {},
     "output_type": "execute_result"
    }
   ],
   "source": [
    "a2.shape"
   ]
  },
  {
   "cell_type": "code",
   "execution_count": 10,
   "id": "5f26c524-549e-4ecf-b352-6868ee6314c4",
   "metadata": {},
   "outputs": [
    {
     "data": {
      "text/plain": [
       "(2, 3, 3)"
      ]
     },
     "execution_count": 10,
     "metadata": {},
     "output_type": "execute_result"
    }
   ],
   "source": [
    "a3.shape"
   ]
  },
  {
   "cell_type": "code",
   "execution_count": 11,
   "id": "0b6ffdfa-06ed-4083-aff2-2dc199db4eeb",
   "metadata": {},
   "outputs": [
    {
     "data": {
      "text/plain": [
       "(1, 2, 3)"
      ]
     },
     "execution_count": 11,
     "metadata": {},
     "output_type": "execute_result"
    }
   ],
   "source": [
    "a1.ndim, a2.ndim, a3.ndim"
   ]
  },
  {
   "cell_type": "code",
   "execution_count": 12,
   "id": "48dae0f3-bd82-4de3-9bf6-1fa8948d5dc4",
   "metadata": {},
   "outputs": [
    {
     "data": {
      "text/plain": [
       "(dtype('int64'), dtype('int64'), dtype('int64'))"
      ]
     },
     "execution_count": 12,
     "metadata": {},
     "output_type": "execute_result"
    }
   ],
   "source": [
    "a1.dtype, a2.dtype, a3.dtype"
   ]
  },
  {
   "cell_type": "code",
   "execution_count": 13,
   "id": "c2a8c4a7-d031-46c7-9827-e64286083714",
   "metadata": {},
   "outputs": [
    {
     "data": {
      "text/plain": [
       "(3, 6, 18)"
      ]
     },
     "execution_count": 13,
     "metadata": {},
     "output_type": "execute_result"
    }
   ],
   "source": [
    "a1.size, a2.size, a3.size"
   ]
  },
  {
   "cell_type": "code",
   "execution_count": 14,
   "id": "9a1773f8-03f9-4f78-a7ea-f39c035bf657",
   "metadata": {},
   "outputs": [],
   "source": [
    "a2\n",
    "import pandas as pd"
   ]
  },
  {
   "cell_type": "code",
   "execution_count": 15,
   "id": "5da4f88e-1b8c-4a1e-bce1-d272cc216304",
   "metadata": {},
   "outputs": [],
   "source": [
    "df = pd.DataFrame(a2)"
   ]
  },
  {
   "cell_type": "code",
   "execution_count": 16,
   "id": "4a8512a0-1963-4d6c-a36a-a41d0daf8417",
   "metadata": {},
   "outputs": [
    {
     "data": {
      "text/html": [
       "<div>\n",
       "<style scoped>\n",
       "    .dataframe tbody tr th:only-of-type {\n",
       "        vertical-align: middle;\n",
       "    }\n",
       "\n",
       "    .dataframe tbody tr th {\n",
       "        vertical-align: top;\n",
       "    }\n",
       "\n",
       "    .dataframe thead th {\n",
       "        text-align: right;\n",
       "    }\n",
       "</style>\n",
       "<table border=\"1\" class=\"dataframe\">\n",
       "  <thead>\n",
       "    <tr style=\"text-align: right;\">\n",
       "      <th></th>\n",
       "      <th>0</th>\n",
       "      <th>1</th>\n",
       "      <th>2</th>\n",
       "    </tr>\n",
       "  </thead>\n",
       "  <tbody>\n",
       "    <tr>\n",
       "      <th>0</th>\n",
       "      <td>1</td>\n",
       "      <td>2</td>\n",
       "      <td>3</td>\n",
       "    </tr>\n",
       "    <tr>\n",
       "      <th>1</th>\n",
       "      <td>4</td>\n",
       "      <td>5</td>\n",
       "      <td>6</td>\n",
       "    </tr>\n",
       "  </tbody>\n",
       "</table>\n",
       "</div>"
      ],
      "text/plain": [
       "   0  1  2\n",
       "0  1  2  3\n",
       "1  4  5  6"
      ]
     },
     "execution_count": 16,
     "metadata": {},
     "output_type": "execute_result"
    }
   ],
   "source": [
    "df"
   ]
  },
  {
   "cell_type": "markdown",
   "id": "2af29f0f-8a96-4751-839c-f8bd1cb1837b",
   "metadata": {},
   "source": [
    "# 2. Creating Numpy Arrays"
   ]
  },
  {
   "cell_type": "code",
   "execution_count": 17,
   "id": "64dc7fca-d478-42f9-a265-f7b9b2b5cbca",
   "metadata": {},
   "outputs": [
    {
     "data": {
      "text/plain": [
       "array([1, 2, 3])"
      ]
     },
     "execution_count": 17,
     "metadata": {},
     "output_type": "execute_result"
    }
   ],
   "source": [
    "sample_array = np.array([1,2,3])\n",
    "sample_array"
   ]
  },
  {
   "cell_type": "code",
   "execution_count": 18,
   "id": "2acab1d6-2989-47f1-a3bb-90e819fe3f02",
   "metadata": {},
   "outputs": [
    {
     "data": {
      "text/plain": [
       "dtype('int64')"
      ]
     },
     "execution_count": 18,
     "metadata": {},
     "output_type": "execute_result"
    }
   ],
   "source": [
    "sample_array.dtype"
   ]
  },
  {
   "cell_type": "code",
   "execution_count": 19,
   "id": "48274490-47c8-4479-a7f0-a089359b3cae",
   "metadata": {},
   "outputs": [],
   "source": [
    "ones = np.ones((2,3))"
   ]
  },
  {
   "cell_type": "code",
   "execution_count": 20,
   "id": "f9c412f5-5565-49bd-9b2c-845206666696",
   "metadata": {},
   "outputs": [
    {
     "data": {
      "text/plain": [
       "array([[1., 1., 1.],\n",
       "       [1., 1., 1.]])"
      ]
     },
     "execution_count": 20,
     "metadata": {},
     "output_type": "execute_result"
    }
   ],
   "source": [
    "ones\n"
   ]
  },
  {
   "cell_type": "code",
   "execution_count": 21,
   "id": "e492b4ab-8775-41b2-b8c7-c99f4b3f5aea",
   "metadata": {},
   "outputs": [
    {
     "data": {
      "text/plain": [
       "dtype('float64')"
      ]
     },
     "execution_count": 21,
     "metadata": {},
     "output_type": "execute_result"
    }
   ],
   "source": [
    "ones.dtype"
   ]
  },
  {
   "cell_type": "code",
   "execution_count": 22,
   "id": "44e3cb15-8144-4cba-aecd-e2613aa989d5",
   "metadata": {},
   "outputs": [
    {
     "data": {
      "text/plain": [
       "numpy.ndarray"
      ]
     },
     "execution_count": 22,
     "metadata": {},
     "output_type": "execute_result"
    }
   ],
   "source": [
    "type(ones)"
   ]
  },
  {
   "cell_type": "code",
   "execution_count": 23,
   "id": "5fa373f1-c0d8-4bcd-8050-103219f19313",
   "metadata": {},
   "outputs": [],
   "source": [
    "zeros = np.zeros((2,3))"
   ]
  },
  {
   "cell_type": "code",
   "execution_count": 24,
   "id": "d4ad9423-ca74-4f86-ae12-6b804bfa56ff",
   "metadata": {},
   "outputs": [
    {
     "data": {
      "text/plain": [
       "array([[0., 0., 0.],\n",
       "       [0., 0., 0.]])"
      ]
     },
     "execution_count": 24,
     "metadata": {},
     "output_type": "execute_result"
    }
   ],
   "source": [
    "zeros"
   ]
  },
  {
   "cell_type": "code",
   "execution_count": 25,
   "id": "3a5c1a91-f994-4f1e-8889-008bf271a1b2",
   "metadata": {},
   "outputs": [],
   "source": [
    "range_array = np.arange(0,10,3)"
   ]
  },
  {
   "cell_type": "code",
   "execution_count": 26,
   "id": "2fdc80b6-b373-42ae-ad76-21ae11bee483",
   "metadata": {},
   "outputs": [
    {
     "data": {
      "text/plain": [
       "array([0, 3, 6, 9])"
      ]
     },
     "execution_count": 26,
     "metadata": {},
     "output_type": "execute_result"
    }
   ],
   "source": [
    "range_array"
   ]
  },
  {
   "cell_type": "code",
   "execution_count": 27,
   "id": "0e37ae9b-8309-4eef-bc86-6485757ebc85",
   "metadata": {},
   "outputs": [],
   "source": [
    "random_array = np.random.randint(0,100, size = (5,6))"
   ]
  },
  {
   "cell_type": "code",
   "execution_count": 28,
   "id": "43ca476c-71e2-482a-b07b-d00b08e99b43",
   "metadata": {},
   "outputs": [
    {
     "data": {
      "text/plain": [
       "array([[77, 49, 37, 50, 51, 89],\n",
       "       [42, 79, 42, 89, 93, 77],\n",
       "       [66, 46, 92, 79,  0, 18],\n",
       "       [84, 39, 66, 14, 14, 27],\n",
       "       [ 2, 58, 45, 26, 78, 89]])"
      ]
     },
     "execution_count": 28,
     "metadata": {},
     "output_type": "execute_result"
    }
   ],
   "source": [
    "random_array"
   ]
  },
  {
   "cell_type": "code",
   "execution_count": 29,
   "id": "aeeac9eb-208a-47b2-b83d-c66438e0fdce",
   "metadata": {},
   "outputs": [],
   "source": [
    "random_arr2 = np.random.random((3,4))"
   ]
  },
  {
   "cell_type": "code",
   "execution_count": 30,
   "id": "41b8e131-3203-4499-8bc0-ed2838ca9ae5",
   "metadata": {},
   "outputs": [
    {
     "data": {
      "text/plain": [
       "(3, 4)"
      ]
     },
     "execution_count": 30,
     "metadata": {},
     "output_type": "execute_result"
    }
   ],
   "source": [
    "random_arr2.shape"
   ]
  },
  {
   "cell_type": "code",
   "execution_count": 31,
   "id": "b297e4da-37ff-44d4-a834-a3fe4bf2e663",
   "metadata": {},
   "outputs": [],
   "source": [
    "random_arr3 = np.random.rand(5,3)"
   ]
  },
  {
   "cell_type": "code",
   "execution_count": 32,
   "id": "0b6d165b-5151-4238-acef-1eff619782c4",
   "metadata": {},
   "outputs": [
    {
     "data": {
      "text/plain": [
       "array([[0.11409168, 0.71133658, 0.4697037 ],\n",
       "       [0.43831218, 0.04300405, 0.72490796],\n",
       "       [0.14382928, 0.75035066, 0.58099187],\n",
       "       [0.46154489, 0.05303726, 0.31251539],\n",
       "       [0.30610098, 0.24742005, 0.74223449]])"
      ]
     },
     "execution_count": 32,
     "metadata": {},
     "output_type": "execute_result"
    }
   ],
   "source": [
    "random_arr3"
   ]
  },
  {
   "cell_type": "code",
   "execution_count": 33,
   "id": "71b294ed-78d2-4fc7-a9e9-e8fe1b10af84",
   "metadata": {},
   "outputs": [],
   "source": [
    "# Psuedo-random numbers"
   ]
  },
  {
   "cell_type": "code",
   "execution_count": 34,
   "id": "f0474523-7fc2-45e9-94c5-0a43210b4398",
   "metadata": {},
   "outputs": [
    {
     "data": {
      "text/plain": [
       "array([[0.07630829, 0.77991879, 0.43840923],\n",
       "       [0.72346518, 0.97798951, 0.53849587],\n",
       "       [0.50112046, 0.07205113, 0.26843898],\n",
       "       [0.4998825 , 0.67923   , 0.80373904],\n",
       "       [0.38094113, 0.06593635, 0.2881456 ]])"
      ]
     },
     "execution_count": 34,
     "metadata": {},
     "output_type": "execute_result"
    }
   ],
   "source": [
    "np.random.seed(seed= 7)\n",
    "random_arr5 = np.random.random((5,3))\n",
    "random_arr5"
   ]
  },
  {
   "cell_type": "markdown",
   "id": "72e2a5b4-98ec-496b-8ecb-ddba73dc5399",
   "metadata": {},
   "source": [
    "## 3. Viewing Arrays and Matrices"
   ]
  },
  {
   "cell_type": "code",
   "execution_count": 36,
   "id": "5ef307ca-41bd-4244-9dd1-ab0e310b40a1",
   "metadata": {},
   "outputs": [
    {
     "data": {
      "text/plain": [
       "array([0.03729912, 0.08402239, 0.0862498 , 0.09998248, 0.29453192,\n",
       "       0.41188494, 0.56489055, 0.76813592, 0.77401334, 0.85781311,\n",
       "       0.91269642, 0.98925846])"
      ]
     },
     "execution_count": 36,
     "metadata": {},
     "output_type": "execute_result"
    }
   ],
   "source": [
    "np.unique(random_arr2)"
   ]
  },
  {
   "cell_type": "code",
   "execution_count": 37,
   "id": "c1104fe2-cba2-40a7-892c-3b26069bbd10",
   "metadata": {},
   "outputs": [
    {
     "data": {
      "text/plain": [
       "array([1, 2, 3])"
      ]
     },
     "execution_count": 37,
     "metadata": {},
     "output_type": "execute_result"
    }
   ],
   "source": [
    "a1\n"
   ]
  },
  {
   "cell_type": "code",
   "execution_count": 38,
   "id": "90b4ad86-eafd-43a1-be36-502613c8ff3c",
   "metadata": {},
   "outputs": [
    {
     "data": {
      "text/plain": [
       "1"
      ]
     },
     "execution_count": 38,
     "metadata": {},
     "output_type": "execute_result"
    }
   ],
   "source": [
    "a1[0]"
   ]
  },
  {
   "cell_type": "code",
   "execution_count": 41,
   "id": "89b75ff8-6c17-4812-875a-81da064c0ac2",
   "metadata": {},
   "outputs": [
    {
     "data": {
      "text/plain": [
       "array([[1, 2, 3],\n",
       "       [4, 5, 6]])"
      ]
     },
     "execution_count": 41,
     "metadata": {},
     "output_type": "execute_result"
    }
   ],
   "source": [
    "a2"
   ]
  },
  {
   "cell_type": "code",
   "execution_count": 39,
   "id": "b35f6e18-0d38-4c7b-a5d4-0ed92d8f7edb",
   "metadata": {},
   "outputs": [
    {
     "data": {
      "text/plain": [
       "array([1, 2, 3])"
      ]
     },
     "execution_count": 39,
     "metadata": {},
     "output_type": "execute_result"
    }
   ],
   "source": [
    "a2[0]"
   ]
  },
  {
   "cell_type": "code",
   "execution_count": 43,
   "id": "07036104-0372-4fa1-882a-c5b30ab18f17",
   "metadata": {},
   "outputs": [
    {
     "data": {
      "text/plain": [
       "array([4, 5, 6])"
      ]
     },
     "execution_count": 43,
     "metadata": {},
     "output_type": "execute_result"
    }
   ],
   "source": [
    "a2[1]"
   ]
  },
  {
   "cell_type": "code",
   "execution_count": 44,
   "id": "54be9567-2751-4970-a39d-f266e64d3b6e",
   "metadata": {},
   "outputs": [
    {
     "data": {
      "text/plain": [
       "array([[[ 1,  2,  3],\n",
       "        [ 4,  5,  6],\n",
       "        [ 7,  8,  9]],\n",
       "\n",
       "       [[10, 11, 12],\n",
       "        [13, 14, 15],\n",
       "        [16, 17, 18]]])"
      ]
     },
     "execution_count": 44,
     "metadata": {},
     "output_type": "execute_result"
    }
   ],
   "source": [
    "a3"
   ]
  },
  {
   "cell_type": "code",
   "execution_count": 45,
   "id": "7f157ec9-eebd-4882-a4c9-a2938f958fd5",
   "metadata": {},
   "outputs": [
    {
     "data": {
      "text/plain": [
       "array([[1, 2, 3],\n",
       "       [4, 5, 6],\n",
       "       [7, 8, 9]])"
      ]
     },
     "execution_count": 45,
     "metadata": {},
     "output_type": "execute_result"
    }
   ],
   "source": [
    "a3[0]"
   ]
  },
  {
   "cell_type": "code",
   "execution_count": 48,
   "id": "014a35db-0a10-4964-ae67-292464f334d5",
   "metadata": {},
   "outputs": [
    {
     "data": {
      "text/plain": [
       "array([[[ 1,  2,  3]],\n",
       "\n",
       "       [[10, 11, 12]]])"
      ]
     },
     "execution_count": 48,
     "metadata": {},
     "output_type": "execute_result"
    }
   ],
   "source": [
    "a3[:2,:1,:3] # Slicing"
   ]
  },
  {
   "cell_type": "code",
   "execution_count": 49,
   "id": "5453e66d-2d06-4a90-b1ba-e6dd14ac8dfa",
   "metadata": {},
   "outputs": [],
   "source": [
    "np.random.seed(seed=120)\n",
    "a4 = np.random.randint(10, size=(2,3,4,5))"
   ]
  },
  {
   "cell_type": "code",
   "execution_count": 50,
   "id": "57069e28-4545-427a-937d-359d59d9b891",
   "metadata": {},
   "outputs": [
    {
     "data": {
      "text/plain": [
       "array([[[[7, 0, 8, 4, 1],\n",
       "         [7, 1, 3, 8, 9],\n",
       "         [4, 9, 9, 6, 7],\n",
       "         [9, 1, 9, 4, 5]],\n",
       "\n",
       "        [[7, 2, 2, 2, 0],\n",
       "         [0, 7, 4, 2, 2],\n",
       "         [4, 8, 5, 6, 4],\n",
       "         [1, 9, 2, 0, 5]],\n",
       "\n",
       "        [[7, 5, 7, 8, 4],\n",
       "         [2, 1, 6, 9, 5],\n",
       "         [6, 1, 5, 7, 8],\n",
       "         [7, 4, 8, 9, 7]]],\n",
       "\n",
       "\n",
       "       [[[8, 5, 6, 0, 5],\n",
       "         [8, 6, 8, 5, 4],\n",
       "         [1, 9, 4, 5, 7],\n",
       "         [9, 1, 2, 9, 5]],\n",
       "\n",
       "        [[5, 8, 9, 2, 1],\n",
       "         [6, 1, 6, 4, 4],\n",
       "         [7, 8, 2, 8, 7],\n",
       "         [3, 4, 4, 5, 3]],\n",
       "\n",
       "        [[8, 6, 1, 6, 5],\n",
       "         [5, 3, 6, 6, 4],\n",
       "         [6, 8, 8, 5, 6],\n",
       "         [3, 3, 7, 8, 0]]]])"
      ]
     },
     "execution_count": 50,
     "metadata": {},
     "output_type": "execute_result"
    }
   ],
   "source": [
    "a4"
   ]
  },
  {
   "cell_type": "code",
   "execution_count": 52,
   "id": "6e1a7a4d-6ffb-4adc-a567-4f949e10b10d",
   "metadata": {},
   "outputs": [
    {
     "data": {
      "text/plain": [
       "((2, 3, 4, 5), 4)"
      ]
     },
     "execution_count": 52,
     "metadata": {},
     "output_type": "execute_result"
    }
   ],
   "source": [
    "a4.shape, a4.ndim"
   ]
  },
  {
   "cell_type": "code",
   "execution_count": 55,
   "id": "8f5d9905-d587-40b2-9487-9cd1c78aebff",
   "metadata": {},
   "outputs": [
    {
     "data": {
      "text/plain": [
       "array([[[[7, 0, 8, 4],\n",
       "         [7, 1, 3, 8],\n",
       "         [4, 9, 9, 6],\n",
       "         [9, 1, 9, 4]],\n",
       "\n",
       "        [[7, 2, 2, 2],\n",
       "         [0, 7, 4, 2],\n",
       "         [4, 8, 5, 6],\n",
       "         [1, 9, 2, 0]],\n",
       "\n",
       "        [[7, 5, 7, 8],\n",
       "         [2, 1, 6, 9],\n",
       "         [6, 1, 5, 7],\n",
       "         [7, 4, 8, 9]]],\n",
       "\n",
       "\n",
       "       [[[8, 5, 6, 0],\n",
       "         [8, 6, 8, 5],\n",
       "         [1, 9, 4, 5],\n",
       "         [9, 1, 2, 9]],\n",
       "\n",
       "        [[5, 8, 9, 2],\n",
       "         [6, 1, 6, 4],\n",
       "         [7, 8, 2, 8],\n",
       "         [3, 4, 4, 5]],\n",
       "\n",
       "        [[8, 6, 1, 6],\n",
       "         [5, 3, 6, 6],\n",
       "         [6, 8, 8, 5],\n",
       "         [3, 3, 7, 8]]]])"
      ]
     },
     "execution_count": 55,
     "metadata": {},
     "output_type": "execute_result"
    }
   ],
   "source": [
    "a4[:,:,:,:4]"
   ]
  },
  {
   "cell_type": "code",
   "execution_count": 56,
   "id": "e6e57062-2302-4f3a-857e-2874dc10da04",
   "metadata": {},
   "outputs": [],
   "source": [
    "a5 = np.random.randint(10, 50, size=(2,3,4,5,6))"
   ]
  },
  {
   "cell_type": "code",
   "execution_count": 57,
   "id": "68a1bd66-052c-410c-bb81-c362b67115ed",
   "metadata": {},
   "outputs": [
    {
     "data": {
      "text/plain": [
       "array([[[[[26, 37, 34, 11, 18, 33],\n",
       "          [24, 11, 13, 40, 15, 25],\n",
       "          [13, 28, 29, 43, 21, 33],\n",
       "          [32, 17, 27, 32, 32, 14],\n",
       "          [23, 20, 29, 48, 12, 25]],\n",
       "\n",
       "         [[46, 19, 32, 39, 46, 37],\n",
       "          [14, 47, 26, 28, 22, 17],\n",
       "          [23, 25, 11, 39, 35, 36],\n",
       "          [44, 41, 16, 14, 28, 34],\n",
       "          [30, 18, 44, 25, 37, 36]],\n",
       "\n",
       "         [[30, 21, 32, 37, 20, 18],\n",
       "          [35, 20, 16, 24, 16, 35],\n",
       "          [18, 38, 48, 30, 29, 33],\n",
       "          [41, 21, 37, 29, 26, 13],\n",
       "          [30, 38, 46, 36, 20, 10]],\n",
       "\n",
       "         [[37, 11, 44, 15, 49, 48],\n",
       "          [47, 39, 40, 29, 37, 26],\n",
       "          [27, 18, 19, 30, 42, 16],\n",
       "          [17, 26, 12, 32, 17, 33],\n",
       "          [37, 42, 42, 38, 10, 46]]],\n",
       "\n",
       "\n",
       "        [[[31, 38, 22, 36, 33, 12],\n",
       "          [33, 30, 17, 12, 47, 12],\n",
       "          [39, 25, 46, 35, 20, 10],\n",
       "          [16, 40, 33, 41, 39, 12],\n",
       "          [35, 18, 31, 21, 21, 26]],\n",
       "\n",
       "         [[49, 48, 39, 16, 28, 15],\n",
       "          [12, 30, 46, 40, 47, 48],\n",
       "          [30, 24, 20, 46, 19, 12],\n",
       "          [46, 13, 15, 30, 23, 45],\n",
       "          [16, 21, 42, 15, 45, 47]],\n",
       "\n",
       "         [[35, 21, 30, 26, 39, 21],\n",
       "          [25, 46, 16, 30, 33, 35],\n",
       "          [35, 47, 18, 19, 37, 45],\n",
       "          [46, 21, 38, 33, 31, 26],\n",
       "          [18, 21, 24, 38, 16, 30]],\n",
       "\n",
       "         [[47, 28, 11, 21, 46, 13],\n",
       "          [38, 48, 18, 36, 36, 23],\n",
       "          [42, 37, 26, 29, 35, 45],\n",
       "          [32, 29, 45, 25, 35, 40],\n",
       "          [23, 10, 19, 32, 19, 10]]],\n",
       "\n",
       "\n",
       "        [[[19, 18, 26, 32, 41, 39],\n",
       "          [18, 45, 38, 34, 34, 22],\n",
       "          [10, 38, 24, 33, 15, 37],\n",
       "          [22, 17, 38, 37, 46, 10],\n",
       "          [23, 45, 31, 26, 29, 10]],\n",
       "\n",
       "         [[14, 46, 27, 16, 19, 23],\n",
       "          [13, 33, 47, 45, 14, 38],\n",
       "          [15, 20, 10, 29, 24, 23],\n",
       "          [33, 47, 19, 44, 37, 23],\n",
       "          [26, 43, 44, 28, 25, 23]],\n",
       "\n",
       "         [[48, 22, 12, 22, 31, 22],\n",
       "          [17, 38, 10, 12, 15, 30],\n",
       "          [32, 25, 10, 26, 36, 21],\n",
       "          [27, 21, 45, 27, 13, 49],\n",
       "          [43, 41, 27, 15, 39, 30]],\n",
       "\n",
       "         [[19, 18, 24, 23, 32, 49],\n",
       "          [19, 10, 21, 21, 27, 19],\n",
       "          [14, 34, 17, 10, 33, 31],\n",
       "          [36, 41, 24, 31, 31, 40],\n",
       "          [34, 29, 32, 45, 25, 35]]]],\n",
       "\n",
       "\n",
       "\n",
       "       [[[[24, 35, 31, 33, 45, 37],\n",
       "          [27, 24, 20, 48, 21, 20],\n",
       "          [35, 40, 24, 30, 42, 26],\n",
       "          [18, 22, 11, 46, 29, 30],\n",
       "          [46, 29, 48, 16, 27, 45]],\n",
       "\n",
       "         [[16, 16, 32, 47, 18, 14],\n",
       "          [34, 16, 29, 13, 18, 39],\n",
       "          [40, 33, 41, 45, 13, 21],\n",
       "          [28, 21, 37, 20, 45, 29],\n",
       "          [32, 42, 24, 34, 43, 22]],\n",
       "\n",
       "         [[45, 39, 17, 38, 22, 35],\n",
       "          [31, 47, 45, 23, 35, 38],\n",
       "          [25, 30, 26, 11, 13, 43],\n",
       "          [26, 16, 46, 33, 43, 35],\n",
       "          [11, 41, 46, 38, 49, 44]],\n",
       "\n",
       "         [[37, 45, 48, 12, 20, 15],\n",
       "          [26, 21, 27, 18, 23, 11],\n",
       "          [39, 38, 10, 11, 15, 23],\n",
       "          [42, 33, 35, 43, 21, 12],\n",
       "          [30, 44, 17, 40, 41, 34]]],\n",
       "\n",
       "\n",
       "        [[[36, 48, 27, 35, 32, 49],\n",
       "          [43, 25, 43, 33, 23, 32],\n",
       "          [21, 15, 11, 28, 37, 24],\n",
       "          [49, 10, 21, 12, 10, 26],\n",
       "          [49, 28, 15, 42, 47, 25]],\n",
       "\n",
       "         [[43, 24, 28, 31, 19, 28],\n",
       "          [21, 24, 42, 19, 16, 40],\n",
       "          [25, 26, 34, 45, 34, 12],\n",
       "          [38, 36, 42, 17, 38, 18],\n",
       "          [17, 10, 17, 12, 19, 14]],\n",
       "\n",
       "         [[26, 33, 27, 38, 42, 42],\n",
       "          [20, 21, 19, 32, 12, 14],\n",
       "          [26, 43, 47, 28, 31, 42],\n",
       "          [44, 28, 42, 40, 39, 41],\n",
       "          [29, 24, 24, 39, 26, 32]],\n",
       "\n",
       "         [[39, 29, 45, 40, 46, 47],\n",
       "          [28, 16, 31, 20, 42, 41],\n",
       "          [10, 31, 48, 20, 28, 14],\n",
       "          [27, 34, 14, 39, 32, 40],\n",
       "          [18, 24, 28, 40, 16, 29]]],\n",
       "\n",
       "\n",
       "        [[[31, 28, 30, 26, 34, 26],\n",
       "          [40, 20, 20, 48, 14, 15],\n",
       "          [38, 12, 24, 36, 49, 31],\n",
       "          [22, 24, 21, 11, 19, 16],\n",
       "          [44, 43, 45, 19, 25, 18]],\n",
       "\n",
       "         [[32, 12, 42, 11, 10, 27],\n",
       "          [18, 22, 36, 43, 45, 36],\n",
       "          [21, 42, 29, 25, 31, 20],\n",
       "          [35, 27, 33, 48, 10, 30],\n",
       "          [20, 27, 44, 47, 24, 47]],\n",
       "\n",
       "         [[10, 30, 11, 46, 49, 46],\n",
       "          [46, 30, 34, 25, 10, 38],\n",
       "          [40, 23, 21, 32, 12, 46],\n",
       "          [30, 21, 37, 35, 13, 25],\n",
       "          [35, 43, 15, 34, 13, 33]],\n",
       "\n",
       "         [[16, 41, 42, 10, 15, 34],\n",
       "          [33, 33, 22, 13, 20, 16],\n",
       "          [14, 48, 44, 36, 25, 28],\n",
       "          [44, 45, 31, 40, 23, 37],\n",
       "          [26, 11, 26, 24, 14, 34]]]]])"
      ]
     },
     "execution_count": 57,
     "metadata": {},
     "output_type": "execute_result"
    }
   ],
   "source": [
    "a5"
   ]
  },
  {
   "cell_type": "code",
   "execution_count": 58,
   "id": "520fa808-97d9-4cec-b427-6ec49b0892c6",
   "metadata": {},
   "outputs": [
    {
     "data": {
      "text/plain": [
       "array([[[[[26, 37, 34],\n",
       "          [24, 11, 13],\n",
       "          [13, 28, 29],\n",
       "          [32, 17, 27]],\n",
       "\n",
       "         [[46, 19, 32],\n",
       "          [14, 47, 26],\n",
       "          [23, 25, 11],\n",
       "          [44, 41, 16]],\n",
       "\n",
       "         [[30, 21, 32],\n",
       "          [35, 20, 16],\n",
       "          [18, 38, 48],\n",
       "          [41, 21, 37]],\n",
       "\n",
       "         [[37, 11, 44],\n",
       "          [47, 39, 40],\n",
       "          [27, 18, 19],\n",
       "          [17, 26, 12]]],\n",
       "\n",
       "\n",
       "        [[[31, 38, 22],\n",
       "          [33, 30, 17],\n",
       "          [39, 25, 46],\n",
       "          [16, 40, 33]],\n",
       "\n",
       "         [[49, 48, 39],\n",
       "          [12, 30, 46],\n",
       "          [30, 24, 20],\n",
       "          [46, 13, 15]],\n",
       "\n",
       "         [[35, 21, 30],\n",
       "          [25, 46, 16],\n",
       "          [35, 47, 18],\n",
       "          [46, 21, 38]],\n",
       "\n",
       "         [[47, 28, 11],\n",
       "          [38, 48, 18],\n",
       "          [42, 37, 26],\n",
       "          [32, 29, 45]]]]])"
      ]
     },
     "execution_count": 58,
     "metadata": {},
     "output_type": "execute_result"
    }
   ],
   "source": [
    "a5[:1,:2,:,:4,:3]"
   ]
  },
  {
   "cell_type": "code",
   "execution_count": null,
   "id": "60151f29-1410-42a8-aa53-7e94eab841a6",
   "metadata": {},
   "outputs": [],
   "source": []
  }
 ],
 "metadata": {
  "kernelspec": {
   "display_name": "Python 3 (ipykernel)",
   "language": "python",
   "name": "python3"
  },
  "language_info": {
   "codemirror_mode": {
    "name": "ipython",
    "version": 3
   },
   "file_extension": ".py",
   "mimetype": "text/x-python",
   "name": "python",
   "nbconvert_exporter": "python",
   "pygments_lexer": "ipython3",
   "version": "3.12.4"
  }
 },
 "nbformat": 4,
 "nbformat_minor": 5
}
