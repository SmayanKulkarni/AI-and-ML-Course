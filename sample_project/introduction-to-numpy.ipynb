{
 "cells": [
  {
   "cell_type": "code",
   "execution_count": 1,
   "id": "b1ff9682-e42d-4457-a687-3d53c911aa46",
   "metadata": {},
   "outputs": [],
   "source": [
    "import numpy as np"
   ]
  },
  {
   "cell_type": "markdown",
   "id": "34454309-7de5-4334-8de6-6ae987833c2c",
   "metadata": {},
   "source": [
    "## 1. Datatypes and Attributes"
   ]
  },
  {
   "cell_type": "code",
   "execution_count": 2,
   "id": "47164030-94fd-4827-bacb-7309c6857366",
   "metadata": {},
   "outputs": [
    {
     "data": {
      "text/plain": [
       "array([1, 2, 3])"
      ]
     },
     "execution_count": 2,
     "metadata": {},
     "output_type": "execute_result"
    }
   ],
   "source": [
    "#Numpys main datatype is ndarray\n",
    "a1 = np.array([1,2,3])\n",
    "a1"
   ]
  },
  {
   "cell_type": "code",
   "execution_count": 3,
   "id": "4e6a6c0f-2e09-47c3-a6ab-814eeddd3918",
   "metadata": {},
   "outputs": [
    {
     "data": {
      "text/plain": [
       "numpy.ndarray"
      ]
     },
     "execution_count": 3,
     "metadata": {},
     "output_type": "execute_result"
    }
   ],
   "source": [
    "type(a1)"
   ]
  },
  {
   "cell_type": "code",
   "execution_count": 4,
   "id": "b5970ae5-cb69-4305-bf78-a39fe183f935",
   "metadata": {},
   "outputs": [],
   "source": [
    "a2 = np.array([[1,2,3],[4,5,6]])"
   ]
  },
  {
   "cell_type": "code",
   "execution_count": 5,
   "id": "d0ada82c-5b97-4ce7-a324-e3b3fc8ad2e3",
   "metadata": {},
   "outputs": [],
   "source": [
    "a3 = np.array([[[1,2,3],\n",
    "               [4,5,6],\n",
    "               [7,8,9]],\n",
    "               \n",
    "               [[10,11,12],[13,14,15],[16,17,18]]])"
   ]
  },
  {
   "cell_type": "code",
   "execution_count": 6,
   "id": "18d68c99-9d29-4b13-95e2-0dd2b73028dc",
   "metadata": {},
   "outputs": [
    {
     "data": {
      "text/plain": [
       "array([[[ 1,  2,  3],\n",
       "        [ 4,  5,  6],\n",
       "        [ 7,  8,  9]],\n",
       "\n",
       "       [[10, 11, 12],\n",
       "        [13, 14, 15],\n",
       "        [16, 17, 18]]])"
      ]
     },
     "execution_count": 6,
     "metadata": {},
     "output_type": "execute_result"
    }
   ],
   "source": [
    "a2\n",
    "a3"
   ]
  },
  {
   "cell_type": "code",
   "execution_count": 7,
   "id": "9e3f5bd7-8e24-42c1-a135-fa52779eccc7",
   "metadata": {},
   "outputs": [
    {
     "data": {
      "text/plain": [
       "array([[1, 2, 3],\n",
       "       [4, 5, 6]])"
      ]
     },
     "execution_count": 7,
     "metadata": {},
     "output_type": "execute_result"
    }
   ],
   "source": [
    "a2"
   ]
  },
  {
   "cell_type": "code",
   "execution_count": 8,
   "id": "dd354632-f6a8-45c9-9920-9631d9422272",
   "metadata": {},
   "outputs": [
    {
     "data": {
      "text/plain": [
       "(3,)"
      ]
     },
     "execution_count": 8,
     "metadata": {},
     "output_type": "execute_result"
    }
   ],
   "source": [
    "a1.shape"
   ]
  },
  {
   "cell_type": "code",
   "execution_count": 9,
   "id": "28939c06-18be-4c7e-b726-adc284740658",
   "metadata": {},
   "outputs": [
    {
     "data": {
      "text/plain": [
       "(2, 3)"
      ]
     },
     "execution_count": 9,
     "metadata": {},
     "output_type": "execute_result"
    }
   ],
   "source": [
    "a2.shape"
   ]
  },
  {
   "cell_type": "code",
   "execution_count": 10,
   "id": "5f26c524-549e-4ecf-b352-6868ee6314c4",
   "metadata": {},
   "outputs": [
    {
     "data": {
      "text/plain": [
       "(2, 3, 3)"
      ]
     },
     "execution_count": 10,
     "metadata": {},
     "output_type": "execute_result"
    }
   ],
   "source": [
    "a3.shape"
   ]
  },
  {
   "cell_type": "code",
   "execution_count": 11,
   "id": "0b6ffdfa-06ed-4083-aff2-2dc199db4eeb",
   "metadata": {},
   "outputs": [
    {
     "data": {
      "text/plain": [
       "(1, 2, 3)"
      ]
     },
     "execution_count": 11,
     "metadata": {},
     "output_type": "execute_result"
    }
   ],
   "source": [
    "a1.ndim, a2.ndim, a3.ndim"
   ]
  },
  {
   "cell_type": "code",
   "execution_count": 12,
   "id": "48dae0f3-bd82-4de3-9bf6-1fa8948d5dc4",
   "metadata": {},
   "outputs": [
    {
     "data": {
      "text/plain": [
       "(dtype('int64'), dtype('int64'), dtype('int64'))"
      ]
     },
     "execution_count": 12,
     "metadata": {},
     "output_type": "execute_result"
    }
   ],
   "source": [
    "a1.dtype, a2.dtype, a3.dtype"
   ]
  },
  {
   "cell_type": "code",
   "execution_count": 13,
   "id": "c2a8c4a7-d031-46c7-9827-e64286083714",
   "metadata": {},
   "outputs": [
    {
     "data": {
      "text/plain": [
       "(3, 6, 18)"
      ]
     },
     "execution_count": 13,
     "metadata": {},
     "output_type": "execute_result"
    }
   ],
   "source": [
    "a1.size, a2.size, a3.size"
   ]
  },
  {
   "cell_type": "code",
   "execution_count": 14,
   "id": "9a1773f8-03f9-4f78-a7ea-f39c035bf657",
   "metadata": {},
   "outputs": [],
   "source": [
    "a2\n",
    "import pandas as pd"
   ]
  },
  {
   "cell_type": "code",
   "execution_count": 15,
   "id": "5da4f88e-1b8c-4a1e-bce1-d272cc216304",
   "metadata": {},
   "outputs": [],
   "source": [
    "df = pd.DataFrame(a2)"
   ]
  },
  {
   "cell_type": "code",
   "execution_count": 16,
   "id": "4a8512a0-1963-4d6c-a36a-a41d0daf8417",
   "metadata": {},
   "outputs": [
    {
     "data": {
      "text/html": [
       "<div>\n",
       "<style scoped>\n",
       "    .dataframe tbody tr th:only-of-type {\n",
       "        vertical-align: middle;\n",
       "    }\n",
       "\n",
       "    .dataframe tbody tr th {\n",
       "        vertical-align: top;\n",
       "    }\n",
       "\n",
       "    .dataframe thead th {\n",
       "        text-align: right;\n",
       "    }\n",
       "</style>\n",
       "<table border=\"1\" class=\"dataframe\">\n",
       "  <thead>\n",
       "    <tr style=\"text-align: right;\">\n",
       "      <th></th>\n",
       "      <th>0</th>\n",
       "      <th>1</th>\n",
       "      <th>2</th>\n",
       "    </tr>\n",
       "  </thead>\n",
       "  <tbody>\n",
       "    <tr>\n",
       "      <th>0</th>\n",
       "      <td>1</td>\n",
       "      <td>2</td>\n",
       "      <td>3</td>\n",
       "    </tr>\n",
       "    <tr>\n",
       "      <th>1</th>\n",
       "      <td>4</td>\n",
       "      <td>5</td>\n",
       "      <td>6</td>\n",
       "    </tr>\n",
       "  </tbody>\n",
       "</table>\n",
       "</div>"
      ],
      "text/plain": [
       "   0  1  2\n",
       "0  1  2  3\n",
       "1  4  5  6"
      ]
     },
     "execution_count": 16,
     "metadata": {},
     "output_type": "execute_result"
    }
   ],
   "source": [
    "df"
   ]
  },
  {
   "cell_type": "markdown",
   "id": "2af29f0f-8a96-4751-839c-f8bd1cb1837b",
   "metadata": {},
   "source": [
    "# 2. Creating Numpy Arrays"
   ]
  },
  {
   "cell_type": "code",
   "execution_count": 17,
   "id": "64dc7fca-d478-42f9-a265-f7b9b2b5cbca",
   "metadata": {},
   "outputs": [
    {
     "data": {
      "text/plain": [
       "array([1, 2, 3])"
      ]
     },
     "execution_count": 17,
     "metadata": {},
     "output_type": "execute_result"
    }
   ],
   "source": [
    "sample_array = np.array([1,2,3])\n",
    "sample_array"
   ]
  },
  {
   "cell_type": "code",
   "execution_count": 18,
   "id": "2acab1d6-2989-47f1-a3bb-90e819fe3f02",
   "metadata": {},
   "outputs": [
    {
     "data": {
      "text/plain": [
       "dtype('int64')"
      ]
     },
     "execution_count": 18,
     "metadata": {},
     "output_type": "execute_result"
    }
   ],
   "source": [
    "sample_array.dtype"
   ]
  },
  {
   "cell_type": "code",
   "execution_count": 19,
   "id": "48274490-47c8-4479-a7f0-a089359b3cae",
   "metadata": {},
   "outputs": [],
   "source": [
    "ones = np.ones((2,3))"
   ]
  },
  {
   "cell_type": "code",
   "execution_count": 20,
   "id": "f9c412f5-5565-49bd-9b2c-845206666696",
   "metadata": {},
   "outputs": [
    {
     "data": {
      "text/plain": [
       "array([[1., 1., 1.],\n",
       "       [1., 1., 1.]])"
      ]
     },
     "execution_count": 20,
     "metadata": {},
     "output_type": "execute_result"
    }
   ],
   "source": [
    "ones\n"
   ]
  },
  {
   "cell_type": "code",
   "execution_count": 21,
   "id": "e492b4ab-8775-41b2-b8c7-c99f4b3f5aea",
   "metadata": {},
   "outputs": [
    {
     "data": {
      "text/plain": [
       "dtype('float64')"
      ]
     },
     "execution_count": 21,
     "metadata": {},
     "output_type": "execute_result"
    }
   ],
   "source": [
    "ones.dtype"
   ]
  },
  {
   "cell_type": "code",
   "execution_count": 22,
   "id": "44e3cb15-8144-4cba-aecd-e2613aa989d5",
   "metadata": {},
   "outputs": [
    {
     "data": {
      "text/plain": [
       "numpy.ndarray"
      ]
     },
     "execution_count": 22,
     "metadata": {},
     "output_type": "execute_result"
    }
   ],
   "source": [
    "type(ones)"
   ]
  },
  {
   "cell_type": "code",
   "execution_count": 23,
   "id": "5fa373f1-c0d8-4bcd-8050-103219f19313",
   "metadata": {},
   "outputs": [],
   "source": [
    "zeros = np.zeros((2,3))"
   ]
  },
  {
   "cell_type": "code",
   "execution_count": 24,
   "id": "d4ad9423-ca74-4f86-ae12-6b804bfa56ff",
   "metadata": {},
   "outputs": [
    {
     "data": {
      "text/plain": [
       "array([[0., 0., 0.],\n",
       "       [0., 0., 0.]])"
      ]
     },
     "execution_count": 24,
     "metadata": {},
     "output_type": "execute_result"
    }
   ],
   "source": [
    "zeros"
   ]
  },
  {
   "cell_type": "code",
   "execution_count": 25,
   "id": "3a5c1a91-f994-4f1e-8889-008bf271a1b2",
   "metadata": {},
   "outputs": [],
   "source": [
    "range_array = np.arange(0,10,3)"
   ]
  },
  {
   "cell_type": "code",
   "execution_count": 26,
   "id": "2fdc80b6-b373-42ae-ad76-21ae11bee483",
   "metadata": {},
   "outputs": [
    {
     "data": {
      "text/plain": [
       "array([0, 3, 6, 9])"
      ]
     },
     "execution_count": 26,
     "metadata": {},
     "output_type": "execute_result"
    }
   ],
   "source": [
    "range_array"
   ]
  },
  {
   "cell_type": "code",
   "execution_count": 27,
   "id": "0e37ae9b-8309-4eef-bc86-6485757ebc85",
   "metadata": {},
   "outputs": [],
   "source": [
    "random_array = np.random.randint(0,100, size = (5,6))"
   ]
  },
  {
   "cell_type": "code",
   "execution_count": 28,
   "id": "43ca476c-71e2-482a-b07b-d00b08e99b43",
   "metadata": {},
   "outputs": [
    {
     "data": {
      "text/plain": [
       "array([[26, 49, 65,  5, 77,  3],\n",
       "       [44, 29, 25, 54, 36, 13],\n",
       "       [64,  9,  1,  8, 98, 82],\n",
       "       [82, 51, 18, 90, 78, 35],\n",
       "       [40, 62, 83, 10, 79, 45]])"
      ]
     },
     "execution_count": 28,
     "metadata": {},
     "output_type": "execute_result"
    }
   ],
   "source": [
    "random_array"
   ]
  },
  {
   "cell_type": "code",
   "execution_count": 29,
   "id": "aeeac9eb-208a-47b2-b83d-c66438e0fdce",
   "metadata": {},
   "outputs": [],
   "source": [
    "random_arr2 = np.random.random((3,4))"
   ]
  },
  {
   "cell_type": "code",
   "execution_count": 30,
   "id": "41b8e131-3203-4499-8bc0-ed2838ca9ae5",
   "metadata": {},
   "outputs": [
    {
     "data": {
      "text/plain": [
       "(3, 4)"
      ]
     },
     "execution_count": 30,
     "metadata": {},
     "output_type": "execute_result"
    }
   ],
   "source": [
    "random_arr2.shape"
   ]
  },
  {
   "cell_type": "code",
   "execution_count": 31,
   "id": "b297e4da-37ff-44d4-a834-a3fe4bf2e663",
   "metadata": {},
   "outputs": [],
   "source": [
    "random_arr3 = np.random.rand(5,3)"
   ]
  },
  {
   "cell_type": "code",
   "execution_count": 32,
   "id": "0b6d165b-5151-4238-acef-1eff619782c4",
   "metadata": {},
   "outputs": [
    {
     "data": {
      "text/plain": [
       "array([[0.35344892, 0.64256316, 0.49371616],\n",
       "       [0.1645702 , 0.62009265, 0.91092674],\n",
       "       [0.35616901, 0.21930322, 0.40361189],\n",
       "       [0.27606831, 0.67060227, 0.88819374],\n",
       "       [0.08284556, 0.90393029, 0.12755262]])"
      ]
     },
     "execution_count": 32,
     "metadata": {},
     "output_type": "execute_result"
    }
   ],
   "source": [
    "random_arr3"
   ]
  },
  {
   "cell_type": "code",
   "execution_count": 33,
   "id": "71b294ed-78d2-4fc7-a9e9-e8fe1b10af84",
   "metadata": {},
   "outputs": [],
   "source": [
    "# Psuedo-random numbers"
   ]
  },
  {
   "cell_type": "code",
   "execution_count": 34,
   "id": "f0474523-7fc2-45e9-94c5-0a43210b4398",
   "metadata": {},
   "outputs": [
    {
     "data": {
      "text/plain": [
       "array([[0.07630829, 0.77991879, 0.43840923],\n",
       "       [0.72346518, 0.97798951, 0.53849587],\n",
       "       [0.50112046, 0.07205113, 0.26843898],\n",
       "       [0.4998825 , 0.67923   , 0.80373904],\n",
       "       [0.38094113, 0.06593635, 0.2881456 ]])"
      ]
     },
     "execution_count": 34,
     "metadata": {},
     "output_type": "execute_result"
    }
   ],
   "source": [
    "np.random.seed(seed= 7)\n",
    "random_arr5 = np.random.random((5,3))\n",
    "random_arr5"
   ]
  },
  {
   "cell_type": "markdown",
   "id": "72e2a5b4-98ec-496b-8ecb-ddba73dc5399",
   "metadata": {},
   "source": [
    "## 3. Viewing Arrays and Matrices"
   ]
  },
  {
   "cell_type": "code",
   "execution_count": 35,
   "id": "5ef307ca-41bd-4244-9dd1-ab0e310b40a1",
   "metadata": {},
   "outputs": [
    {
     "data": {
      "text/plain": [
       "array([0.05312172, 0.07890223, 0.29851655, 0.36002081, 0.40343315,\n",
       "       0.4265384 , 0.6923637 , 0.78762231, 0.82460797, 0.85785953,\n",
       "       0.98030356, 0.98344682])"
      ]
     },
     "execution_count": 35,
     "metadata": {},
     "output_type": "execute_result"
    }
   ],
   "source": [
    "np.unique(random_arr2)"
   ]
  },
  {
   "cell_type": "code",
   "execution_count": 36,
   "id": "c1104fe2-cba2-40a7-892c-3b26069bbd10",
   "metadata": {},
   "outputs": [
    {
     "data": {
      "text/plain": [
       "array([1, 2, 3])"
      ]
     },
     "execution_count": 36,
     "metadata": {},
     "output_type": "execute_result"
    }
   ],
   "source": [
    "a1\n"
   ]
  },
  {
   "cell_type": "code",
   "execution_count": 37,
   "id": "90b4ad86-eafd-43a1-be36-502613c8ff3c",
   "metadata": {},
   "outputs": [
    {
     "data": {
      "text/plain": [
       "1"
      ]
     },
     "execution_count": 37,
     "metadata": {},
     "output_type": "execute_result"
    }
   ],
   "source": [
    "a1[0]"
   ]
  },
  {
   "cell_type": "code",
   "execution_count": 38,
   "id": "89b75ff8-6c17-4812-875a-81da064c0ac2",
   "metadata": {},
   "outputs": [
    {
     "data": {
      "text/plain": [
       "array([[1, 2, 3],\n",
       "       [4, 5, 6]])"
      ]
     },
     "execution_count": 38,
     "metadata": {},
     "output_type": "execute_result"
    }
   ],
   "source": [
    "a2"
   ]
  },
  {
   "cell_type": "code",
   "execution_count": 39,
   "id": "b35f6e18-0d38-4c7b-a5d4-0ed92d8f7edb",
   "metadata": {},
   "outputs": [
    {
     "data": {
      "text/plain": [
       "array([1, 2, 3])"
      ]
     },
     "execution_count": 39,
     "metadata": {},
     "output_type": "execute_result"
    }
   ],
   "source": [
    "a2[0]"
   ]
  },
  {
   "cell_type": "code",
   "execution_count": 40,
   "id": "07036104-0372-4fa1-882a-c5b30ab18f17",
   "metadata": {},
   "outputs": [
    {
     "data": {
      "text/plain": [
       "array([4, 5, 6])"
      ]
     },
     "execution_count": 40,
     "metadata": {},
     "output_type": "execute_result"
    }
   ],
   "source": [
    "a2[1]"
   ]
  },
  {
   "cell_type": "code",
   "execution_count": 41,
   "id": "54be9567-2751-4970-a39d-f266e64d3b6e",
   "metadata": {},
   "outputs": [
    {
     "data": {
      "text/plain": [
       "array([[[ 1,  2,  3],\n",
       "        [ 4,  5,  6],\n",
       "        [ 7,  8,  9]],\n",
       "\n",
       "       [[10, 11, 12],\n",
       "        [13, 14, 15],\n",
       "        [16, 17, 18]]])"
      ]
     },
     "execution_count": 41,
     "metadata": {},
     "output_type": "execute_result"
    }
   ],
   "source": [
    "a3"
   ]
  },
  {
   "cell_type": "code",
   "execution_count": 42,
   "id": "7f157ec9-eebd-4882-a4c9-a2938f958fd5",
   "metadata": {},
   "outputs": [
    {
     "data": {
      "text/plain": [
       "array([[1, 2, 3],\n",
       "       [4, 5, 6],\n",
       "       [7, 8, 9]])"
      ]
     },
     "execution_count": 42,
     "metadata": {},
     "output_type": "execute_result"
    }
   ],
   "source": [
    "a3[0]"
   ]
  },
  {
   "cell_type": "code",
   "execution_count": 43,
   "id": "014a35db-0a10-4964-ae67-292464f334d5",
   "metadata": {},
   "outputs": [
    {
     "data": {
      "text/plain": [
       "array([[[ 1,  2,  3]],\n",
       "\n",
       "       [[10, 11, 12]]])"
      ]
     },
     "execution_count": 43,
     "metadata": {},
     "output_type": "execute_result"
    }
   ],
   "source": [
    "a3[:2,:1,:3] # Slicing"
   ]
  },
  {
   "cell_type": "code",
   "execution_count": 44,
   "id": "5453e66d-2d06-4a90-b1ba-e6dd14ac8dfa",
   "metadata": {},
   "outputs": [],
   "source": [
    "np.random.seed(seed=120)\n",
    "a4 = np.random.randint(10, size=(2,3,4,5))"
   ]
  },
  {
   "cell_type": "code",
   "execution_count": 45,
   "id": "57069e28-4545-427a-937d-359d59d9b891",
   "metadata": {},
   "outputs": [
    {
     "data": {
      "text/plain": [
       "array([[[[7, 0, 8, 4, 1],\n",
       "         [7, 1, 3, 8, 9],\n",
       "         [4, 9, 9, 6, 7],\n",
       "         [9, 1, 9, 4, 5]],\n",
       "\n",
       "        [[7, 2, 2, 2, 0],\n",
       "         [0, 7, 4, 2, 2],\n",
       "         [4, 8, 5, 6, 4],\n",
       "         [1, 9, 2, 0, 5]],\n",
       "\n",
       "        [[7, 5, 7, 8, 4],\n",
       "         [2, 1, 6, 9, 5],\n",
       "         [6, 1, 5, 7, 8],\n",
       "         [7, 4, 8, 9, 7]]],\n",
       "\n",
       "\n",
       "       [[[8, 5, 6, 0, 5],\n",
       "         [8, 6, 8, 5, 4],\n",
       "         [1, 9, 4, 5, 7],\n",
       "         [9, 1, 2, 9, 5]],\n",
       "\n",
       "        [[5, 8, 9, 2, 1],\n",
       "         [6, 1, 6, 4, 4],\n",
       "         [7, 8, 2, 8, 7],\n",
       "         [3, 4, 4, 5, 3]],\n",
       "\n",
       "        [[8, 6, 1, 6, 5],\n",
       "         [5, 3, 6, 6, 4],\n",
       "         [6, 8, 8, 5, 6],\n",
       "         [3, 3, 7, 8, 0]]]])"
      ]
     },
     "execution_count": 45,
     "metadata": {},
     "output_type": "execute_result"
    }
   ],
   "source": [
    "a4"
   ]
  },
  {
   "cell_type": "code",
   "execution_count": 46,
   "id": "6e1a7a4d-6ffb-4adc-a567-4f949e10b10d",
   "metadata": {},
   "outputs": [
    {
     "data": {
      "text/plain": [
       "((2, 3, 4, 5), 4)"
      ]
     },
     "execution_count": 46,
     "metadata": {},
     "output_type": "execute_result"
    }
   ],
   "source": [
    "a4.shape, a4.ndim"
   ]
  },
  {
   "cell_type": "code",
   "execution_count": 47,
   "id": "8f5d9905-d587-40b2-9487-9cd1c78aebff",
   "metadata": {},
   "outputs": [
    {
     "data": {
      "text/plain": [
       "array([[[[7, 0, 8, 4],\n",
       "         [7, 1, 3, 8],\n",
       "         [4, 9, 9, 6],\n",
       "         [9, 1, 9, 4]],\n",
       "\n",
       "        [[7, 2, 2, 2],\n",
       "         [0, 7, 4, 2],\n",
       "         [4, 8, 5, 6],\n",
       "         [1, 9, 2, 0]],\n",
       "\n",
       "        [[7, 5, 7, 8],\n",
       "         [2, 1, 6, 9],\n",
       "         [6, 1, 5, 7],\n",
       "         [7, 4, 8, 9]]],\n",
       "\n",
       "\n",
       "       [[[8, 5, 6, 0],\n",
       "         [8, 6, 8, 5],\n",
       "         [1, 9, 4, 5],\n",
       "         [9, 1, 2, 9]],\n",
       "\n",
       "        [[5, 8, 9, 2],\n",
       "         [6, 1, 6, 4],\n",
       "         [7, 8, 2, 8],\n",
       "         [3, 4, 4, 5]],\n",
       "\n",
       "        [[8, 6, 1, 6],\n",
       "         [5, 3, 6, 6],\n",
       "         [6, 8, 8, 5],\n",
       "         [3, 3, 7, 8]]]])"
      ]
     },
     "execution_count": 47,
     "metadata": {},
     "output_type": "execute_result"
    }
   ],
   "source": [
    "a4[:,:,:,:4]"
   ]
  },
  {
   "cell_type": "code",
   "execution_count": 48,
   "id": "e6e57062-2302-4f3a-857e-2874dc10da04",
   "metadata": {},
   "outputs": [],
   "source": [
    "a5 = np.random.randint(10, 50, size=(2,3,4,5,6))"
   ]
  },
  {
   "cell_type": "code",
   "execution_count": 49,
   "id": "68a1bd66-052c-410c-bb81-c362b67115ed",
   "metadata": {},
   "outputs": [
    {
     "data": {
      "text/plain": [
       "array([[[[[26, 37, 34, 11, 18, 33],\n",
       "          [24, 11, 13, 40, 15, 25],\n",
       "          [13, 28, 29, 43, 21, 33],\n",
       "          [32, 17, 27, 32, 32, 14],\n",
       "          [23, 20, 29, 48, 12, 25]],\n",
       "\n",
       "         [[46, 19, 32, 39, 46, 37],\n",
       "          [14, 47, 26, 28, 22, 17],\n",
       "          [23, 25, 11, 39, 35, 36],\n",
       "          [44, 41, 16, 14, 28, 34],\n",
       "          [30, 18, 44, 25, 37, 36]],\n",
       "\n",
       "         [[30, 21, 32, 37, 20, 18],\n",
       "          [35, 20, 16, 24, 16, 35],\n",
       "          [18, 38, 48, 30, 29, 33],\n",
       "          [41, 21, 37, 29, 26, 13],\n",
       "          [30, 38, 46, 36, 20, 10]],\n",
       "\n",
       "         [[37, 11, 44, 15, 49, 48],\n",
       "          [47, 39, 40, 29, 37, 26],\n",
       "          [27, 18, 19, 30, 42, 16],\n",
       "          [17, 26, 12, 32, 17, 33],\n",
       "          [37, 42, 42, 38, 10, 46]]],\n",
       "\n",
       "\n",
       "        [[[31, 38, 22, 36, 33, 12],\n",
       "          [33, 30, 17, 12, 47, 12],\n",
       "          [39, 25, 46, 35, 20, 10],\n",
       "          [16, 40, 33, 41, 39, 12],\n",
       "          [35, 18, 31, 21, 21, 26]],\n",
       "\n",
       "         [[49, 48, 39, 16, 28, 15],\n",
       "          [12, 30, 46, 40, 47, 48],\n",
       "          [30, 24, 20, 46, 19, 12],\n",
       "          [46, 13, 15, 30, 23, 45],\n",
       "          [16, 21, 42, 15, 45, 47]],\n",
       "\n",
       "         [[35, 21, 30, 26, 39, 21],\n",
       "          [25, 46, 16, 30, 33, 35],\n",
       "          [35, 47, 18, 19, 37, 45],\n",
       "          [46, 21, 38, 33, 31, 26],\n",
       "          [18, 21, 24, 38, 16, 30]],\n",
       "\n",
       "         [[47, 28, 11, 21, 46, 13],\n",
       "          [38, 48, 18, 36, 36, 23],\n",
       "          [42, 37, 26, 29, 35, 45],\n",
       "          [32, 29, 45, 25, 35, 40],\n",
       "          [23, 10, 19, 32, 19, 10]]],\n",
       "\n",
       "\n",
       "        [[[19, 18, 26, 32, 41, 39],\n",
       "          [18, 45, 38, 34, 34, 22],\n",
       "          [10, 38, 24, 33, 15, 37],\n",
       "          [22, 17, 38, 37, 46, 10],\n",
       "          [23, 45, 31, 26, 29, 10]],\n",
       "\n",
       "         [[14, 46, 27, 16, 19, 23],\n",
       "          [13, 33, 47, 45, 14, 38],\n",
       "          [15, 20, 10, 29, 24, 23],\n",
       "          [33, 47, 19, 44, 37, 23],\n",
       "          [26, 43, 44, 28, 25, 23]],\n",
       "\n",
       "         [[48, 22, 12, 22, 31, 22],\n",
       "          [17, 38, 10, 12, 15, 30],\n",
       "          [32, 25, 10, 26, 36, 21],\n",
       "          [27, 21, 45, 27, 13, 49],\n",
       "          [43, 41, 27, 15, 39, 30]],\n",
       "\n",
       "         [[19, 18, 24, 23, 32, 49],\n",
       "          [19, 10, 21, 21, 27, 19],\n",
       "          [14, 34, 17, 10, 33, 31],\n",
       "          [36, 41, 24, 31, 31, 40],\n",
       "          [34, 29, 32, 45, 25, 35]]]],\n",
       "\n",
       "\n",
       "\n",
       "       [[[[24, 35, 31, 33, 45, 37],\n",
       "          [27, 24, 20, 48, 21, 20],\n",
       "          [35, 40, 24, 30, 42, 26],\n",
       "          [18, 22, 11, 46, 29, 30],\n",
       "          [46, 29, 48, 16, 27, 45]],\n",
       "\n",
       "         [[16, 16, 32, 47, 18, 14],\n",
       "          [34, 16, 29, 13, 18, 39],\n",
       "          [40, 33, 41, 45, 13, 21],\n",
       "          [28, 21, 37, 20, 45, 29],\n",
       "          [32, 42, 24, 34, 43, 22]],\n",
       "\n",
       "         [[45, 39, 17, 38, 22, 35],\n",
       "          [31, 47, 45, 23, 35, 38],\n",
       "          [25, 30, 26, 11, 13, 43],\n",
       "          [26, 16, 46, 33, 43, 35],\n",
       "          [11, 41, 46, 38, 49, 44]],\n",
       "\n",
       "         [[37, 45, 48, 12, 20, 15],\n",
       "          [26, 21, 27, 18, 23, 11],\n",
       "          [39, 38, 10, 11, 15, 23],\n",
       "          [42, 33, 35, 43, 21, 12],\n",
       "          [30, 44, 17, 40, 41, 34]]],\n",
       "\n",
       "\n",
       "        [[[36, 48, 27, 35, 32, 49],\n",
       "          [43, 25, 43, 33, 23, 32],\n",
       "          [21, 15, 11, 28, 37, 24],\n",
       "          [49, 10, 21, 12, 10, 26],\n",
       "          [49, 28, 15, 42, 47, 25]],\n",
       "\n",
       "         [[43, 24, 28, 31, 19, 28],\n",
       "          [21, 24, 42, 19, 16, 40],\n",
       "          [25, 26, 34, 45, 34, 12],\n",
       "          [38, 36, 42, 17, 38, 18],\n",
       "          [17, 10, 17, 12, 19, 14]],\n",
       "\n",
       "         [[26, 33, 27, 38, 42, 42],\n",
       "          [20, 21, 19, 32, 12, 14],\n",
       "          [26, 43, 47, 28, 31, 42],\n",
       "          [44, 28, 42, 40, 39, 41],\n",
       "          [29, 24, 24, 39, 26, 32]],\n",
       "\n",
       "         [[39, 29, 45, 40, 46, 47],\n",
       "          [28, 16, 31, 20, 42, 41],\n",
       "          [10, 31, 48, 20, 28, 14],\n",
       "          [27, 34, 14, 39, 32, 40],\n",
       "          [18, 24, 28, 40, 16, 29]]],\n",
       "\n",
       "\n",
       "        [[[31, 28, 30, 26, 34, 26],\n",
       "          [40, 20, 20, 48, 14, 15],\n",
       "          [38, 12, 24, 36, 49, 31],\n",
       "          [22, 24, 21, 11, 19, 16],\n",
       "          [44, 43, 45, 19, 25, 18]],\n",
       "\n",
       "         [[32, 12, 42, 11, 10, 27],\n",
       "          [18, 22, 36, 43, 45, 36],\n",
       "          [21, 42, 29, 25, 31, 20],\n",
       "          [35, 27, 33, 48, 10, 30],\n",
       "          [20, 27, 44, 47, 24, 47]],\n",
       "\n",
       "         [[10, 30, 11, 46, 49, 46],\n",
       "          [46, 30, 34, 25, 10, 38],\n",
       "          [40, 23, 21, 32, 12, 46],\n",
       "          [30, 21, 37, 35, 13, 25],\n",
       "          [35, 43, 15, 34, 13, 33]],\n",
       "\n",
       "         [[16, 41, 42, 10, 15, 34],\n",
       "          [33, 33, 22, 13, 20, 16],\n",
       "          [14, 48, 44, 36, 25, 28],\n",
       "          [44, 45, 31, 40, 23, 37],\n",
       "          [26, 11, 26, 24, 14, 34]]]]])"
      ]
     },
     "execution_count": 49,
     "metadata": {},
     "output_type": "execute_result"
    }
   ],
   "source": [
    "a5"
   ]
  },
  {
   "cell_type": "code",
   "execution_count": 50,
   "id": "520fa808-97d9-4cec-b427-6ec49b0892c6",
   "metadata": {},
   "outputs": [
    {
     "data": {
      "text/plain": [
       "array([[[[[26, 37, 34],\n",
       "          [24, 11, 13],\n",
       "          [13, 28, 29],\n",
       "          [32, 17, 27]],\n",
       "\n",
       "         [[46, 19, 32],\n",
       "          [14, 47, 26],\n",
       "          [23, 25, 11],\n",
       "          [44, 41, 16]],\n",
       "\n",
       "         [[30, 21, 32],\n",
       "          [35, 20, 16],\n",
       "          [18, 38, 48],\n",
       "          [41, 21, 37]],\n",
       "\n",
       "         [[37, 11, 44],\n",
       "          [47, 39, 40],\n",
       "          [27, 18, 19],\n",
       "          [17, 26, 12]]],\n",
       "\n",
       "\n",
       "        [[[31, 38, 22],\n",
       "          [33, 30, 17],\n",
       "          [39, 25, 46],\n",
       "          [16, 40, 33]],\n",
       "\n",
       "         [[49, 48, 39],\n",
       "          [12, 30, 46],\n",
       "          [30, 24, 20],\n",
       "          [46, 13, 15]],\n",
       "\n",
       "         [[35, 21, 30],\n",
       "          [25, 46, 16],\n",
       "          [35, 47, 18],\n",
       "          [46, 21, 38]],\n",
       "\n",
       "         [[47, 28, 11],\n",
       "          [38, 48, 18],\n",
       "          [42, 37, 26],\n",
       "          [32, 29, 45]]]]])"
      ]
     },
     "execution_count": 50,
     "metadata": {},
     "output_type": "execute_result"
    }
   ],
   "source": [
    "a5[:1,:2,:,:4,:3]"
   ]
  },
  {
   "cell_type": "markdown",
   "id": "030e6bce-66f1-45bd-8fc3-e57e736a6b22",
   "metadata": {},
   "source": [
    "## Manipulating and Comparing Arrays"
   ]
  },
  {
   "cell_type": "markdown",
   "id": "8142fcd2-df8c-461f-b0b9-f0f5f2d37058",
   "metadata": {},
   "source": [
    "### Arithmetic"
   ]
  },
  {
   "cell_type": "code",
   "execution_count": 51,
   "id": "45db89e9-262b-415c-b637-7f5d5a56f578",
   "metadata": {},
   "outputs": [
    {
     "data": {
      "text/plain": [
       "array([1, 2, 3])"
      ]
     },
     "execution_count": 51,
     "metadata": {},
     "output_type": "execute_result"
    }
   ],
   "source": [
    "a1\n"
   ]
  },
  {
   "cell_type": "code",
   "execution_count": 52,
   "id": "05d2841a-448c-4221-aec8-7412f829ffd8",
   "metadata": {},
   "outputs": [],
   "source": [
    "ones = np.ones(3)"
   ]
  },
  {
   "cell_type": "code",
   "execution_count": 53,
   "id": "b9adc2b6-db22-4980-aaad-706fdbd1ffa1",
   "metadata": {},
   "outputs": [
    {
     "data": {
      "text/plain": [
       "array([2., 3., 4.])"
      ]
     },
     "execution_count": 53,
     "metadata": {},
     "output_type": "execute_result"
    }
   ],
   "source": [
    "a1 + ones"
   ]
  },
  {
   "cell_type": "code",
   "execution_count": 54,
   "id": "5f4debda-723e-4d8d-a1ed-b306f74f1eb3",
   "metadata": {},
   "outputs": [
    {
     "data": {
      "text/plain": [
       "array([0., 1., 2.])"
      ]
     },
     "execution_count": 54,
     "metadata": {},
     "output_type": "execute_result"
    }
   ],
   "source": [
    "a1 - ones"
   ]
  },
  {
   "cell_type": "code",
   "execution_count": 55,
   "id": "6941fb68-03db-48da-a87b-aa8cec6dc953",
   "metadata": {},
   "outputs": [
    {
     "data": {
      "text/plain": [
       "array([1., 2., 3.])"
      ]
     },
     "execution_count": 55,
     "metadata": {},
     "output_type": "execute_result"
    }
   ],
   "source": [
    "a1* ones\n",
    "\n"
   ]
  },
  {
   "cell_type": "code",
   "execution_count": 56,
   "id": "2f9ac252-75bf-41c8-92e8-cf8b48290625",
   "metadata": {},
   "outputs": [
    {
     "data": {
      "text/plain": [
       "array([[1, 2, 3],\n",
       "       [4, 5, 6]])"
      ]
     },
     "execution_count": 56,
     "metadata": {},
     "output_type": "execute_result"
    }
   ],
   "source": [
    "a2"
   ]
  },
  {
   "cell_type": "code",
   "execution_count": 57,
   "id": "169be726-3461-400b-9caf-81a657678833",
   "metadata": {},
   "outputs": [
    {
     "data": {
      "text/plain": [
       "array([[ 1,  4,  9],\n",
       "       [ 4, 10, 18]])"
      ]
     },
     "execution_count": 57,
     "metadata": {},
     "output_type": "execute_result"
    }
   ],
   "source": [
    "a1 * a2\n"
   ]
  },
  {
   "cell_type": "code",
   "execution_count": 58,
   "id": "6d5e0970-36cb-416a-b105-fac082aa50f5",
   "metadata": {},
   "outputs": [
    {
     "data": {
      "text/plain": [
       "array([[1.  , 1.  , 1.  ],\n",
       "       [0.25, 0.4 , 0.5 ]])"
      ]
     },
     "execution_count": 58,
     "metadata": {},
     "output_type": "execute_result"
    }
   ],
   "source": [
    "a1/a2"
   ]
  },
  {
   "cell_type": "code",
   "execution_count": 59,
   "id": "78d41830-74cb-4318-ad2f-0d2bae5d5ea9",
   "metadata": {},
   "outputs": [
    {
     "data": {
      "text/plain": [
       "array([[1, 1, 1],\n",
       "       [0, 0, 0]])"
      ]
     },
     "execution_count": 59,
     "metadata": {},
     "output_type": "execute_result"
    }
   ],
   "source": [
    "a1//a2"
   ]
  },
  {
   "cell_type": "code",
   "execution_count": 60,
   "id": "c9872b1a-730c-42f5-a10c-6eff539555c4",
   "metadata": {},
   "outputs": [
    {
     "data": {
      "text/plain": [
       "array([[  1,   4,  27],\n",
       "       [  4,  25, 216]])"
      ]
     },
     "execution_count": 60,
     "metadata": {},
     "output_type": "execute_result"
    }
   ],
   "source": [
    "a2 **a1"
   ]
  },
  {
   "cell_type": "code",
   "execution_count": 61,
   "id": "9995644d-47ce-410a-8e0f-13d1cc6d9887",
   "metadata": {},
   "outputs": [
    {
     "data": {
      "text/plain": [
       "array([ 1, 16, 81])"
      ]
     },
     "execution_count": 61,
     "metadata": {},
     "output_type": "execute_result"
    }
   ],
   "source": [
    "a1**4"
   ]
  },
  {
   "cell_type": "code",
   "execution_count": 62,
   "id": "2cf8b4c4-4fa5-4e5b-926b-d2294d7bee9b",
   "metadata": {},
   "outputs": [
    {
     "data": {
      "text/plain": [
       "array([[   1,   32,  243],\n",
       "       [1024, 3125, 7776]])"
      ]
     },
     "execution_count": 62,
     "metadata": {},
     "output_type": "execute_result"
    }
   ],
   "source": [
    "a2**5"
   ]
  },
  {
   "cell_type": "code",
   "execution_count": 63,
   "id": "d4d2812d-c8c9-41c4-a431-4b7d62759a06",
   "metadata": {},
   "outputs": [
    {
     "data": {
      "text/plain": [
       "array([[[[7, 0, 8, 4, 1],\n",
       "         [7, 1, 3, 8, 9],\n",
       "         [4, 9, 9, 6, 7],\n",
       "         [9, 1, 9, 4, 5]],\n",
       "\n",
       "        [[7, 2, 2, 2, 0],\n",
       "         [0, 7, 4, 2, 2],\n",
       "         [4, 8, 5, 6, 4],\n",
       "         [1, 9, 2, 0, 5]],\n",
       "\n",
       "        [[7, 5, 7, 8, 4],\n",
       "         [2, 1, 6, 9, 5],\n",
       "         [6, 1, 5, 7, 8],\n",
       "         [7, 4, 8, 9, 7]]],\n",
       "\n",
       "\n",
       "       [[[8, 5, 6, 0, 5],\n",
       "         [8, 6, 8, 5, 4],\n",
       "         [1, 9, 4, 5, 7],\n",
       "         [9, 1, 2, 9, 5]],\n",
       "\n",
       "        [[5, 8, 9, 2, 1],\n",
       "         [6, 1, 6, 4, 4],\n",
       "         [7, 8, 2, 8, 7],\n",
       "         [3, 4, 4, 5, 3]],\n",
       "\n",
       "        [[8, 6, 1, 6, 5],\n",
       "         [5, 3, 6, 6, 4],\n",
       "         [6, 8, 8, 5, 6],\n",
       "         [3, 3, 7, 8, 0]]]])"
      ]
     },
     "execution_count": 63,
     "metadata": {},
     "output_type": "execute_result"
    }
   ],
   "source": [
    "a4"
   ]
  },
  {
   "cell_type": "code",
   "execution_count": 64,
   "id": "cb316fd0",
   "metadata": {},
   "outputs": [
    {
     "data": {
      "text/plain": [
       "array([[1, 2, 3],\n",
       "       [4, 5, 6]])"
      ]
     },
     "execution_count": 64,
     "metadata": {},
     "output_type": "execute_result"
    }
   ],
   "source": [
    "a2"
   ]
  },
  {
   "cell_type": "markdown",
   "id": "712e5314",
   "metadata": {},
   "source": [
    "### Aggregation"
   ]
  },
  {
   "cell_type": "code",
   "execution_count": 65,
   "id": "2951cfe2",
   "metadata": {},
   "outputs": [],
   "source": [
    "list = [1,2,3]"
   ]
  },
  {
   "cell_type": "code",
   "execution_count": 66,
   "id": "3b08d7d9",
   "metadata": {},
   "outputs": [
    {
     "data": {
      "text/plain": [
       "list"
      ]
     },
     "execution_count": 66,
     "metadata": {},
     "output_type": "execute_result"
    }
   ],
   "source": [
    "type(list) "
   ]
  },
  {
   "cell_type": "code",
   "execution_count": 67,
   "id": "9b6142da",
   "metadata": {},
   "outputs": [
    {
     "data": {
      "text/plain": [
       "6"
      ]
     },
     "execution_count": 67,
     "metadata": {},
     "output_type": "execute_result"
    }
   ],
   "source": [
    "sum(list)"
   ]
  },
  {
   "cell_type": "code",
   "execution_count": 68,
   "id": "432907a7",
   "metadata": {},
   "outputs": [
    {
     "data": {
      "text/plain": [
       "array([1, 2, 3])"
      ]
     },
     "execution_count": 68,
     "metadata": {},
     "output_type": "execute_result"
    }
   ],
   "source": [
    "a1"
   ]
  },
  {
   "cell_type": "code",
   "execution_count": 69,
   "id": "8da9fb88",
   "metadata": {},
   "outputs": [
    {
     "data": {
      "text/plain": [
       "numpy.ndarray"
      ]
     },
     "execution_count": 69,
     "metadata": {},
     "output_type": "execute_result"
    }
   ],
   "source": [
    "type(a1)"
   ]
  },
  {
   "cell_type": "code",
   "execution_count": 70,
   "id": "1014b551",
   "metadata": {},
   "outputs": [
    {
     "data": {
      "text/plain": [
       "6"
      ]
     },
     "execution_count": 70,
     "metadata": {},
     "output_type": "execute_result"
    }
   ],
   "source": [
    "np.sum(a1)"
   ]
  },
  {
   "cell_type": "markdown",
   "id": "4e3ecfbe",
   "metadata": {},
   "source": [
    "#### Use puthons method 'sum()' on python data types and numpys 'np.sum()' method on numpy arrays "
   ]
  },
  {
   "cell_type": "code",
   "execution_count": 71,
   "id": "011e4400",
   "metadata": {},
   "outputs": [
    {
     "data": {
      "text/plain": [
       "100"
      ]
     },
     "execution_count": 71,
     "metadata": {},
     "output_type": "execute_result"
    }
   ],
   "source": [
    "massivearr = np.random.random(100)\n",
    "massivearr.size"
   ]
  },
  {
   "cell_type": "code",
   "execution_count": 72,
   "id": "62612adc",
   "metadata": {},
   "outputs": [
    {
     "name": "stdout",
     "output_type": "stream",
     "text": [
      "8.95 μs ± 1.17 μs per loop (mean ± std. dev. of 7 runs, 100,000 loops each)\n",
      "2.96 μs ± 157 ns per loop (mean ± std. dev. of 7 runs, 100,000 loops each)\n"
     ]
    }
   ],
   "source": [
    "%timeit sum(massivearr) #Pythons sum\n",
    "%timeit np.sum(massivearr) #Numpy sum"
   ]
  },
  {
   "cell_type": "code",
   "execution_count": 73,
   "id": "87d082a7",
   "metadata": {},
   "outputs": [
    {
     "data": {
      "text/plain": [
       "array([[1, 2, 3],\n",
       "       [4, 5, 6]])"
      ]
     },
     "execution_count": 73,
     "metadata": {},
     "output_type": "execute_result"
    }
   ],
   "source": [
    "a2"
   ]
  },
  {
   "cell_type": "code",
   "execution_count": 74,
   "id": "0f128a89",
   "metadata": {},
   "outputs": [
    {
     "data": {
      "text/plain": [
       "3.5"
      ]
     },
     "execution_count": 74,
     "metadata": {},
     "output_type": "execute_result"
    }
   ],
   "source": [
    "a2.mean()"
   ]
  },
  {
   "cell_type": "code",
   "execution_count": 75,
   "id": "20de1162",
   "metadata": {},
   "outputs": [
    {
     "data": {
      "text/plain": [
       "5.188127472091127"
      ]
     },
     "execution_count": 75,
     "metadata": {},
     "output_type": "execute_result"
    }
   ],
   "source": [
    "np.std(a3) # Standard Deviance is the measure of how spread out a group of numbers if from the mean"
   ]
  },
  {
   "cell_type": "code",
   "execution_count": 76,
   "id": "64d73d03",
   "metadata": {},
   "outputs": [
    {
     "data": {
      "text/plain": [
       "2.9166666666666665"
      ]
     },
     "execution_count": 76,
     "metadata": {},
     "output_type": "execute_result"
    }
   ],
   "source": [
    "np.var(a2)  # Variance is the measure of average degree to which each number if different to the mean\n",
    "#High Variance : Higher range\n",
    "#Low Variance : Lower Range"
   ]
  },
  {
   "cell_type": "code",
   "execution_count": 77,
   "id": "1f02b77a",
   "metadata": {},
   "outputs": [
    {
     "data": {
      "text/plain": [
       "5.188127472091127"
      ]
     },
     "execution_count": 77,
     "metadata": {},
     "output_type": "execute_result"
    }
   ],
   "source": [
    "np.sqrt(np.var(a3))"
   ]
  },
  {
   "cell_type": "markdown",
   "id": "5208f4af",
   "metadata": {},
   "source": [
    "### Reshaping and Transposing"
   ]
  },
  {
   "cell_type": "code",
   "execution_count": 78,
   "id": "6651cfe3",
   "metadata": {},
   "outputs": [
    {
     "data": {
      "text/plain": [
       "array([[[ 1,  2,  3],\n",
       "        [ 4,  5,  6],\n",
       "        [ 7,  8,  9]],\n",
       "\n",
       "       [[10, 11, 12],\n",
       "        [13, 14, 15],\n",
       "        [16, 17, 18]]])"
      ]
     },
     "execution_count": 78,
     "metadata": {},
     "output_type": "execute_result"
    }
   ],
   "source": [
    "a3"
   ]
  },
  {
   "cell_type": "code",
   "execution_count": 79,
   "id": "4daec54b",
   "metadata": {},
   "outputs": [
    {
     "data": {
      "text/plain": [
       "(2, 3)"
      ]
     },
     "execution_count": 79,
     "metadata": {},
     "output_type": "execute_result"
    }
   ],
   "source": [
    "a2.shape"
   ]
  },
  {
   "cell_type": "code",
   "execution_count": 80,
   "id": "cf188a19",
   "metadata": {},
   "outputs": [
    {
     "data": {
      "text/plain": [
       "(2, 3, 3)"
      ]
     },
     "execution_count": 80,
     "metadata": {},
     "output_type": "execute_result"
    }
   ],
   "source": [
    "a3.shape"
   ]
  },
  {
   "cell_type": "code",
   "execution_count": 81,
   "id": "8dc26e8e",
   "metadata": {},
   "outputs": [
    {
     "data": {
      "text/plain": [
       "array([[[1],\n",
       "        [2],\n",
       "        [3]],\n",
       "\n",
       "       [[4],\n",
       "        [5],\n",
       "        [6]]])"
      ]
     },
     "execution_count": 81,
     "metadata": {},
     "output_type": "execute_result"
    }
   ],
   "source": [
    "a2.reshape(2,3,1)"
   ]
  },
  {
   "cell_type": "code",
   "execution_count": 82,
   "id": "863ccd6b",
   "metadata": {},
   "outputs": [],
   "source": [
    "a2reshape = a2.reshape(2,3,1)"
   ]
  },
  {
   "cell_type": "code",
   "execution_count": 83,
   "id": "25767917",
   "metadata": {},
   "outputs": [
    {
     "data": {
      "text/plain": [
       "array([[[  1,   2,   3],\n",
       "        [  8,  10,  12],\n",
       "        [ 21,  24,  27]],\n",
       "\n",
       "       [[ 40,  44,  48],\n",
       "        [ 65,  70,  75],\n",
       "        [ 96, 102, 108]]])"
      ]
     },
     "execution_count": 83,
     "metadata": {},
     "output_type": "execute_result"
    }
   ],
   "source": [
    "a2reshape * a3"
   ]
  },
  {
   "cell_type": "code",
   "execution_count": 84,
   "id": "ee5d8960",
   "metadata": {},
   "outputs": [
    {
     "data": {
      "text/plain": [
       "array([[1, 4],\n",
       "       [2, 5],\n",
       "       [3, 6]])"
      ]
     },
     "execution_count": 84,
     "metadata": {},
     "output_type": "execute_result"
    }
   ],
   "source": [
    "a2.T  #Transpose : switching the axes"
   ]
  },
  {
   "cell_type": "code",
   "execution_count": 85,
   "id": "c5df9641",
   "metadata": {},
   "outputs": [
    {
     "data": {
      "text/plain": [
       "(3, 2)"
      ]
     },
     "execution_count": 85,
     "metadata": {},
     "output_type": "execute_result"
    }
   ],
   "source": [
    "a2.T.shape\n"
   ]
  },
  {
   "cell_type": "markdown",
   "id": "1320d328",
   "metadata": {},
   "source": [
    "#### Dot Product"
   ]
  },
  {
   "cell_type": "code",
   "execution_count": 86,
   "id": "1f741bd7",
   "metadata": {},
   "outputs": [],
   "source": [
    "np.random.seed(0)\n",
    "mat1 = np.random.randint(15,size = (5,3))\n",
    "mat2 = np.random.randint(15,size = (5,3))"
   ]
  },
  {
   "cell_type": "code",
   "execution_count": 87,
   "id": "912e975b",
   "metadata": {},
   "outputs": [
    {
     "data": {
      "text/plain": [
       "array([[12,  5,  0],\n",
       "       [ 3, 11,  3],\n",
       "       [ 7,  9,  3],\n",
       "       [ 5,  2,  4],\n",
       "       [ 7,  6,  8]])"
      ]
     },
     "execution_count": 87,
     "metadata": {},
     "output_type": "execute_result"
    }
   ],
   "source": [
    "mat1"
   ]
  },
  {
   "cell_type": "code",
   "execution_count": 88,
   "id": "ea41d74f",
   "metadata": {},
   "outputs": [
    {
     "data": {
      "text/plain": [
       "array([[ 8, 12, 10],\n",
       "       [ 1,  6,  7],\n",
       "       [ 7, 14,  8],\n",
       "       [ 1,  5,  9],\n",
       "       [13,  8,  9]])"
      ]
     },
     "execution_count": 88,
     "metadata": {},
     "output_type": "execute_result"
    }
   ],
   "source": [
    "mat2"
   ]
  },
  {
   "cell_type": "code",
   "execution_count": 89,
   "id": "4ad7810b",
   "metadata": {},
   "outputs": [
    {
     "data": {
      "text/plain": [
       "array([[ 96,  60,   0],\n",
       "       [  3,  66,  21],\n",
       "       [ 49, 126,  24],\n",
       "       [  5,  10,  36],\n",
       "       [ 91,  48,  72]])"
      ]
     },
     "execution_count": 89,
     "metadata": {},
     "output_type": "execute_result"
    }
   ],
   "source": [
    "#Multiplying element wise (Hardamard Product)\n",
    "mat1*mat2"
   ]
  },
  {
   "cell_type": "code",
   "execution_count": 90,
   "id": "c9941298",
   "metadata": {},
   "outputs": [
    {
     "ename": "ValueError",
     "evalue": "shapes (5,3) and (5,3) not aligned: 3 (dim 1) != 5 (dim 0)",
     "output_type": "error",
     "traceback": [
      "\u001b[0;31m---------------------------------------------------------------------------\u001b[0m",
      "\u001b[0;31mValueError\u001b[0m                                Traceback (most recent call last)",
      "Cell \u001b[0;32mIn[90], line 2\u001b[0m\n\u001b[1;32m      1\u001b[0m \u001b[38;5;66;03m#Dot Product\u001b[39;00m\n\u001b[0;32m----> 2\u001b[0m np\u001b[38;5;241m.\u001b[39mdot(mat1,mat2)\n",
      "\u001b[0;31mValueError\u001b[0m: shapes (5,3) and (5,3) not aligned: 3 (dim 1) != 5 (dim 0)"
     ]
    }
   ],
   "source": [
    "#Dot Product\n",
    "np.dot(mat1,mat2)"
   ]
  },
  {
   "cell_type": "code",
   "execution_count": null,
   "id": "884080ac",
   "metadata": {},
   "outputs": [
    {
     "data": {
      "text/plain": [
       "array([[244, 341, 305],\n",
       "       [194, 310, 271],\n",
       "       [132, 144, 153]])"
      ]
     },
     "execution_count": 91,
     "metadata": {},
     "output_type": "execute_result"
    }
   ],
   "source": [
    "np.dot(mat1.T,mat2)"
   ]
  },
  {
   "cell_type": "code",
   "execution_count": null,
   "id": "236aaf39",
   "metadata": {},
   "outputs": [
    {
     "data": {
      "text/plain": [
       "(3, 5)"
      ]
     },
     "execution_count": 92,
     "metadata": {},
     "output_type": "execute_result"
    }
   ],
   "source": [
    "mat1.T.shape"
   ]
  },
  {
   "cell_type": "markdown",
   "id": "6ff5d8e6",
   "metadata": {},
   "source": [
    "### Dot Product (nut butter sales)"
   ]
  },
  {
   "cell_type": "code",
   "execution_count": null,
   "id": "d6a785be",
   "metadata": {},
   "outputs": [
    {
     "data": {
      "text/plain": [
       "array([[16,  0, 11],\n",
       "       [13,  1,  4],\n",
       "       [ 6,  5,  6],\n",
       "       [13,  5,  2],\n",
       "       [ 7, 15,  4]])"
      ]
     },
     "execution_count": 93,
     "metadata": {},
     "output_type": "execute_result"
    }
   ],
   "source": [
    "np.random.seed(50)\n",
    "sales_amounts = np.random.randint(20, size = (5,3))\n",
    "sales_amounts"
   ]
  },
  {
   "cell_type": "code",
   "execution_count": null,
   "id": "97306ed2",
   "metadata": {},
   "outputs": [],
   "source": [
    "# Create a weekly sales DataFrame\n",
    "weekly_sales = pd.DataFrame(sales_amounts, index=[\"Mon\", \"Tue\", \"Wed\", \"Thu\", \"Fri\"],columns = [\"Almond Butter\", \"Peanut Butter\", \"Cashew Butter\"])"
   ]
  },
  {
   "cell_type": "code",
   "execution_count": null,
   "id": "3aa637e8",
   "metadata": {},
   "outputs": [
    {
     "data": {
      "text/html": [
       "<div>\n",
       "<style scoped>\n",
       "    .dataframe tbody tr th:only-of-type {\n",
       "        vertical-align: middle;\n",
       "    }\n",
       "\n",
       "    .dataframe tbody tr th {\n",
       "        vertical-align: top;\n",
       "    }\n",
       "\n",
       "    .dataframe thead th {\n",
       "        text-align: right;\n",
       "    }\n",
       "</style>\n",
       "<table border=\"1\" class=\"dataframe\">\n",
       "  <thead>\n",
       "    <tr style=\"text-align: right;\">\n",
       "      <th></th>\n",
       "      <th>Almond Butter</th>\n",
       "      <th>Peanut Butter</th>\n",
       "      <th>Cashew Butter</th>\n",
       "    </tr>\n",
       "  </thead>\n",
       "  <tbody>\n",
       "    <tr>\n",
       "      <th>Mon</th>\n",
       "      <td>16</td>\n",
       "      <td>0</td>\n",
       "      <td>11</td>\n",
       "    </tr>\n",
       "    <tr>\n",
       "      <th>Tue</th>\n",
       "      <td>13</td>\n",
       "      <td>1</td>\n",
       "      <td>4</td>\n",
       "    </tr>\n",
       "    <tr>\n",
       "      <th>Wed</th>\n",
       "      <td>6</td>\n",
       "      <td>5</td>\n",
       "      <td>6</td>\n",
       "    </tr>\n",
       "    <tr>\n",
       "      <th>Thu</th>\n",
       "      <td>13</td>\n",
       "      <td>5</td>\n",
       "      <td>2</td>\n",
       "    </tr>\n",
       "    <tr>\n",
       "      <th>Fri</th>\n",
       "      <td>7</td>\n",
       "      <td>15</td>\n",
       "      <td>4</td>\n",
       "    </tr>\n",
       "  </tbody>\n",
       "</table>\n",
       "</div>"
      ],
      "text/plain": [
       "     Almond Butter  Peanut Butter  Cashew Butter\n",
       "Mon             16              0             11\n",
       "Tue             13              1              4\n",
       "Wed              6              5              6\n",
       "Thu             13              5              2\n",
       "Fri              7             15              4"
      ]
     },
     "execution_count": 95,
     "metadata": {},
     "output_type": "execute_result"
    }
   ],
   "source": [
    "weekly_sales"
   ]
  },
  {
   "cell_type": "code",
   "execution_count": null,
   "id": "69961258",
   "metadata": {},
   "outputs": [],
   "source": [
    "prices = np.array([10,8,12])"
   ]
  },
  {
   "cell_type": "code",
   "execution_count": null,
   "id": "ff6f7586",
   "metadata": {},
   "outputs": [],
   "source": [
    "butter_prices = pd.DataFrame(prices.reshape(1,3), index=[\"Price\"], columns = [\"Almond Butter\", \"Peanut Butter\", \"Cashew Butter\"])"
   ]
  },
  {
   "cell_type": "code",
   "execution_count": null,
   "id": "6d8b6ec1",
   "metadata": {},
   "outputs": [
    {
     "data": {
      "text/html": [
       "<div>\n",
       "<style scoped>\n",
       "    .dataframe tbody tr th:only-of-type {\n",
       "        vertical-align: middle;\n",
       "    }\n",
       "\n",
       "    .dataframe tbody tr th {\n",
       "        vertical-align: top;\n",
       "    }\n",
       "\n",
       "    .dataframe thead th {\n",
       "        text-align: right;\n",
       "    }\n",
       "</style>\n",
       "<table border=\"1\" class=\"dataframe\">\n",
       "  <thead>\n",
       "    <tr style=\"text-align: right;\">\n",
       "      <th></th>\n",
       "      <th>Almond Butter</th>\n",
       "      <th>Peanut Butter</th>\n",
       "      <th>Cashew Butter</th>\n",
       "    </tr>\n",
       "  </thead>\n",
       "  <tbody>\n",
       "    <tr>\n",
       "      <th>Price</th>\n",
       "      <td>10</td>\n",
       "      <td>8</td>\n",
       "      <td>12</td>\n",
       "    </tr>\n",
       "  </tbody>\n",
       "</table>\n",
       "</div>"
      ],
      "text/plain": [
       "       Almond Butter  Peanut Butter  Cashew Butter\n",
       "Price             10              8             12"
      ]
     },
     "execution_count": 98,
     "metadata": {},
     "output_type": "execute_result"
    }
   ],
   "source": [
    "butter_prices"
   ]
  },
  {
   "cell_type": "code",
   "execution_count": null,
   "id": "9101c963",
   "metadata": {},
   "outputs": [
    {
     "data": {
      "text/plain": [
       "(3,)"
      ]
     },
     "execution_count": 101,
     "metadata": {},
     "output_type": "execute_result"
    }
   ],
   "source": [
    "prices.shape"
   ]
  },
  {
   "cell_type": "code",
   "execution_count": null,
   "id": "b026d8da",
   "metadata": {},
   "outputs": [
    {
     "data": {
      "text/plain": [
       "(5, 3)"
      ]
     },
     "execution_count": 102,
     "metadata": {},
     "output_type": "execute_result"
    }
   ],
   "source": [
    "sales_amounts.shape"
   ]
  },
  {
   "cell_type": "code",
   "execution_count": null,
   "id": "333975c8",
   "metadata": {},
   "outputs": [
    {
     "ename": "ValueError",
     "evalue": "shapes (3,) and (5,3) not aligned: 3 (dim 0) != 5 (dim 0)",
     "output_type": "error",
     "traceback": [
      "\u001b[0;31m---------------------------------------------------------------------------\u001b[0m",
      "\u001b[0;31mValueError\u001b[0m                                Traceback (most recent call last)",
      "Cell \u001b[0;32mIn[103], line 1\u001b[0m\n\u001b[0;32m----> 1\u001b[0m total_sale \u001b[38;5;241m=\u001b[39m prices\u001b[38;5;241m.\u001b[39mdot(sales_amounts)\n",
      "\u001b[0;31mValueError\u001b[0m: shapes (3,) and (5,3) not aligned: 3 (dim 0) != 5 (dim 0)"
     ]
    }
   ],
   "source": [
    "total_sale = prices.dot(sales_amounts)"
   ]
  },
  {
   "cell_type": "code",
   "execution_count": 91,
   "id": "9db12022",
   "metadata": {},
   "outputs": [
    {
     "ename": "NameError",
     "evalue": "name 'prices' is not defined",
     "output_type": "error",
     "traceback": [
      "\u001b[0;31m---------------------------------------------------------------------------\u001b[0m",
      "\u001b[0;31mNameError\u001b[0m                                 Traceback (most recent call last)",
      "Cell \u001b[0;32mIn[91], line 2\u001b[0m\n\u001b[1;32m      1\u001b[0m \u001b[38;5;66;03m#Shapes arent aligned , lets transpose\u001b[39;00m\n\u001b[0;32m----> 2\u001b[0m total_sale \u001b[38;5;241m=\u001b[39m prices\u001b[38;5;241m.\u001b[39mdot(sales_amounts\u001b[38;5;241m.\u001b[39mT)\n",
      "\u001b[0;31mNameError\u001b[0m: name 'prices' is not defined"
     ]
    }
   ],
   "source": [
    "#Shapes arent aligned , lets transpose\n",
    "total_sale = prices.dot(sales_amounts.T)"
   ]
  },
  {
   "cell_type": "code",
   "execution_count": 92,
   "id": "5c977383",
   "metadata": {},
   "outputs": [
    {
     "ename": "NameError",
     "evalue": "name 'total_sale' is not defined",
     "output_type": "error",
     "traceback": [
      "\u001b[0;31m---------------------------------------------------------------------------\u001b[0m",
      "\u001b[0;31mNameError\u001b[0m                                 Traceback (most recent call last)",
      "Cell \u001b[0;32mIn[92], line 1\u001b[0m\n\u001b[0;32m----> 1\u001b[0m total_sale\n",
      "\u001b[0;31mNameError\u001b[0m: name 'total_sale' is not defined"
     ]
    }
   ],
   "source": [
    "total_sale "
   ]
  },
  {
   "cell_type": "code",
   "execution_count": 93,
   "id": "a6f8ec12",
   "metadata": {},
   "outputs": [
    {
     "ename": "NameError",
     "evalue": "name 'butter_prices' is not defined",
     "output_type": "error",
     "traceback": [
      "\u001b[0;31m---------------------------------------------------------------------------\u001b[0m",
      "\u001b[0;31mNameError\u001b[0m                                 Traceback (most recent call last)",
      "Cell \u001b[0;32mIn[93], line 1\u001b[0m\n\u001b[0;32m----> 1\u001b[0m butter_prices\n",
      "\u001b[0;31mNameError\u001b[0m: name 'butter_prices' is not defined"
     ]
    }
   ],
   "source": [
    "butter_prices"
   ]
  },
  {
   "cell_type": "code",
   "execution_count": null,
   "id": "11faabc8",
   "metadata": {},
   "outputs": [
    {
     "data": {
      "text/html": [
       "<div>\n",
       "<style scoped>\n",
       "    .dataframe tbody tr th:only-of-type {\n",
       "        vertical-align: middle;\n",
       "    }\n",
       "\n",
       "    .dataframe tbody tr th {\n",
       "        vertical-align: top;\n",
       "    }\n",
       "\n",
       "    .dataframe thead th {\n",
       "        text-align: right;\n",
       "    }\n",
       "</style>\n",
       "<table border=\"1\" class=\"dataframe\">\n",
       "  <thead>\n",
       "    <tr style=\"text-align: right;\">\n",
       "      <th></th>\n",
       "      <th>Mon</th>\n",
       "      <th>Tue</th>\n",
       "      <th>Wed</th>\n",
       "      <th>Thu</th>\n",
       "      <th>Fri</th>\n",
       "    </tr>\n",
       "  </thead>\n",
       "  <tbody>\n",
       "    <tr>\n",
       "      <th>Almond Butter</th>\n",
       "      <td>16</td>\n",
       "      <td>13</td>\n",
       "      <td>6</td>\n",
       "      <td>13</td>\n",
       "      <td>7</td>\n",
       "    </tr>\n",
       "    <tr>\n",
       "      <th>Peanut Butter</th>\n",
       "      <td>0</td>\n",
       "      <td>1</td>\n",
       "      <td>5</td>\n",
       "      <td>5</td>\n",
       "      <td>15</td>\n",
       "    </tr>\n",
       "    <tr>\n",
       "      <th>Cashew Butter</th>\n",
       "      <td>11</td>\n",
       "      <td>4</td>\n",
       "      <td>6</td>\n",
       "      <td>2</td>\n",
       "      <td>4</td>\n",
       "    </tr>\n",
       "  </tbody>\n",
       "</table>\n",
       "</div>"
      ],
      "text/plain": [
       "               Mon  Tue  Wed  Thu  Fri\n",
       "Almond Butter   16   13    6   13    7\n",
       "Peanut Butter    0    1    5    5   15\n",
       "Cashew Butter   11    4    6    2    4"
      ]
     },
     "execution_count": 111,
     "metadata": {},
     "output_type": "execute_result"
    }
   ],
   "source": [
    "weekly_sales.T"
   ]
  },
  {
   "cell_type": "code",
   "execution_count": 94,
   "id": "b0b0ae2f",
   "metadata": {},
   "outputs": [
    {
     "ename": "NameError",
     "evalue": "name 'butter_prices' is not defined",
     "output_type": "error",
     "traceback": [
      "\u001b[0;31m---------------------------------------------------------------------------\u001b[0m",
      "\u001b[0;31mNameError\u001b[0m                                 Traceback (most recent call last)",
      "Cell \u001b[0;32mIn[94], line 1\u001b[0m\n\u001b[0;32m----> 1\u001b[0m daily_sales \u001b[38;5;241m=\u001b[39m butter_prices\u001b[38;5;241m.\u001b[39mdot(weekly_sales\u001b[38;5;241m.\u001b[39mT)\n",
      "\u001b[0;31mNameError\u001b[0m: name 'butter_prices' is not defined"
     ]
    }
   ],
   "source": [
    "daily_sales = butter_prices.dot(weekly_sales.T)"
   ]
  },
  {
   "cell_type": "code",
   "execution_count": null,
   "id": "3b05b8c9",
   "metadata": {},
   "outputs": [
    {
     "data": {
      "text/html": [
       "<div>\n",
       "<style scoped>\n",
       "    .dataframe tbody tr th:only-of-type {\n",
       "        vertical-align: middle;\n",
       "    }\n",
       "\n",
       "    .dataframe tbody tr th {\n",
       "        vertical-align: top;\n",
       "    }\n",
       "\n",
       "    .dataframe thead th {\n",
       "        text-align: right;\n",
       "    }\n",
       "</style>\n",
       "<table border=\"1\" class=\"dataframe\">\n",
       "  <thead>\n",
       "    <tr style=\"text-align: right;\">\n",
       "      <th></th>\n",
       "      <th>Mon</th>\n",
       "      <th>Tue</th>\n",
       "      <th>Wed</th>\n",
       "      <th>Thu</th>\n",
       "      <th>Fri</th>\n",
       "    </tr>\n",
       "  </thead>\n",
       "  <tbody>\n",
       "    <tr>\n",
       "      <th>Price</th>\n",
       "      <td>292</td>\n",
       "      <td>186</td>\n",
       "      <td>172</td>\n",
       "      <td>194</td>\n",
       "      <td>238</td>\n",
       "    </tr>\n",
       "  </tbody>\n",
       "</table>\n",
       "</div>"
      ],
      "text/plain": [
       "       Mon  Tue  Wed  Thu  Fri\n",
       "Price  292  186  172  194  238"
      ]
     },
     "execution_count": 110,
     "metadata": {},
     "output_type": "execute_result"
    }
   ],
   "source": [
    "daily_sales"
   ]
  },
  {
   "cell_type": "code",
   "execution_count": 95,
   "id": "89dab963",
   "metadata": {},
   "outputs": [
    {
     "ename": "NameError",
     "evalue": "name 'daily_sales' is not defined",
     "output_type": "error",
     "traceback": [
      "\u001b[0;31m---------------------------------------------------------------------------\u001b[0m",
      "\u001b[0;31mNameError\u001b[0m                                 Traceback (most recent call last)",
      "Cell \u001b[0;32mIn[95], line 1\u001b[0m\n\u001b[0;32m----> 1\u001b[0m weekly_sales[\u001b[38;5;124m\"\u001b[39m\u001b[38;5;124mTotal ($)\u001b[39m\u001b[38;5;124m\"\u001b[39m] \u001b[38;5;241m=\u001b[39m daily_sales\u001b[38;5;241m.\u001b[39mT\n",
      "\u001b[0;31mNameError\u001b[0m: name 'daily_sales' is not defined"
     ]
    }
   ],
   "source": [
    "weekly_sales[\"Total ($)\"] = daily_sales.T"
   ]
  },
  {
   "cell_type": "code",
   "execution_count": null,
   "id": "57ea72e3",
   "metadata": {},
   "outputs": [
    {
     "data": {
      "text/html": [
       "<div>\n",
       "<style scoped>\n",
       "    .dataframe tbody tr th:only-of-type {\n",
       "        vertical-align: middle;\n",
       "    }\n",
       "\n",
       "    .dataframe tbody tr th {\n",
       "        vertical-align: top;\n",
       "    }\n",
       "\n",
       "    .dataframe thead th {\n",
       "        text-align: right;\n",
       "    }\n",
       "</style>\n",
       "<table border=\"1\" class=\"dataframe\">\n",
       "  <thead>\n",
       "    <tr style=\"text-align: right;\">\n",
       "      <th></th>\n",
       "      <th>Almond Butter</th>\n",
       "      <th>Peanut Butter</th>\n",
       "      <th>Cashew Butter</th>\n",
       "      <th>Total</th>\n",
       "      <th>Total ($)</th>\n",
       "    </tr>\n",
       "  </thead>\n",
       "  <tbody>\n",
       "    <tr>\n",
       "      <th>Mon</th>\n",
       "      <td>16</td>\n",
       "      <td>0</td>\n",
       "      <td>11</td>\n",
       "      <td>292</td>\n",
       "      <td>292</td>\n",
       "    </tr>\n",
       "    <tr>\n",
       "      <th>Tue</th>\n",
       "      <td>13</td>\n",
       "      <td>1</td>\n",
       "      <td>4</td>\n",
       "      <td>186</td>\n",
       "      <td>186</td>\n",
       "    </tr>\n",
       "    <tr>\n",
       "      <th>Wed</th>\n",
       "      <td>6</td>\n",
       "      <td>5</td>\n",
       "      <td>6</td>\n",
       "      <td>172</td>\n",
       "      <td>172</td>\n",
       "    </tr>\n",
       "    <tr>\n",
       "      <th>Thu</th>\n",
       "      <td>13</td>\n",
       "      <td>5</td>\n",
       "      <td>2</td>\n",
       "      <td>194</td>\n",
       "      <td>194</td>\n",
       "    </tr>\n",
       "    <tr>\n",
       "      <th>Fri</th>\n",
       "      <td>7</td>\n",
       "      <td>15</td>\n",
       "      <td>4</td>\n",
       "      <td>238</td>\n",
       "      <td>238</td>\n",
       "    </tr>\n",
       "  </tbody>\n",
       "</table>\n",
       "</div>"
      ],
      "text/plain": [
       "     Almond Butter  Peanut Butter  Cashew Butter  Total  Total ($)\n",
       "Mon             16              0             11    292        292\n",
       "Tue             13              1              4    186        186\n",
       "Wed              6              5              6    172        172\n",
       "Thu             13              5              2    194        194\n",
       "Fri              7             15              4    238        238"
      ]
     },
     "execution_count": 115,
     "metadata": {},
     "output_type": "execute_result"
    }
   ],
   "source": [
    "weekly_sales"
   ]
  },
  {
   "cell_type": "code",
   "execution_count": 96,
   "id": "59db3bb1",
   "metadata": {},
   "outputs": [
    {
     "data": {
      "text/plain": [
       "array([[False, False, False],\n",
       "       [False, False, False]])"
      ]
     },
     "execution_count": 96,
     "metadata": {},
     "output_type": "execute_result"
    }
   ],
   "source": [
    "a1 >a2"
   ]
  },
  {
   "cell_type": "code",
   "execution_count": 97,
   "id": "a1f5405a",
   "metadata": {},
   "outputs": [
    {
     "data": {
      "text/plain": [
       "array([ True,  True,  True])"
      ]
     },
     "execution_count": 97,
     "metadata": {},
     "output_type": "execute_result"
    }
   ],
   "source": [
    "a1<5"
   ]
  },
  {
   "cell_type": "code",
   "execution_count": 98,
   "id": "ef0fe10c",
   "metadata": {},
   "outputs": [
    {
     "data": {
      "text/plain": [
       "array([ True,  True,  True])"
      ]
     },
     "execution_count": 98,
     "metadata": {},
     "output_type": "execute_result"
    }
   ],
   "source": [
    "a1==a1"
   ]
  },
  {
   "cell_type": "code",
   "execution_count": 99,
   "id": "fe75e3a2",
   "metadata": {},
   "outputs": [
    {
     "data": {
      "text/plain": [
       "array([[ True,  True,  True],\n",
       "       [False, False, False]])"
      ]
     },
     "execution_count": 99,
     "metadata": {},
     "output_type": "execute_result"
    }
   ],
   "source": [
    "a1==a2"
   ]
  },
  {
   "cell_type": "markdown",
   "id": "04dd0940",
   "metadata": {},
   "source": [
    "### Sorting Arrays"
   ]
  },
  {
   "cell_type": "code",
   "execution_count": 100,
   "id": "3b96767d",
   "metadata": {},
   "outputs": [
    {
     "data": {
      "text/plain": [
       "array([[1, 2, 3],\n",
       "       [4, 5, 6]])"
      ]
     },
     "execution_count": 100,
     "metadata": {},
     "output_type": "execute_result"
    }
   ],
   "source": [
    "np.sort(a2)"
   ]
  },
  {
   "cell_type": "code",
   "execution_count": 101,
   "id": "4c16a58d",
   "metadata": {},
   "outputs": [
    {
     "data": {
      "text/plain": [
       "array([[19, 16, 19,  5],\n",
       "       [15, 15,  0, 18]])"
      ]
     },
     "execution_count": 101,
     "metadata": {},
     "output_type": "execute_result"
    }
   ],
   "source": [
    "randomarr = np.random.randint(20, size = (2,4))\n",
    "randomarr"
   ]
  },
  {
   "cell_type": "code",
   "execution_count": 102,
   "id": "3ee37d4a",
   "metadata": {},
   "outputs": [
    {
     "data": {
      "text/plain": [
       "array([[ 5, 16, 19, 19],\n",
       "       [ 0, 15, 15, 18]])"
      ]
     },
     "execution_count": 102,
     "metadata": {},
     "output_type": "execute_result"
    }
   ],
   "source": [
    "np.sort(randomarr)"
   ]
  },
  {
   "cell_type": "code",
   "execution_count": 103,
   "id": "a071136e",
   "metadata": {},
   "outputs": [
    {
     "data": {
      "text/plain": [
       "array([[3, 1, 0, 2],\n",
       "       [2, 0, 1, 3]])"
      ]
     },
     "execution_count": 103,
     "metadata": {},
     "output_type": "execute_result"
    }
   ],
   "source": [
    "np.argsort(randomarr)"
   ]
  },
  {
   "cell_type": "code",
   "execution_count": 104,
   "id": "7dc1a2b0",
   "metadata": {},
   "outputs": [
    {
     "data": {
      "text/plain": [
       "array([1, 2, 3])"
      ]
     },
     "execution_count": 104,
     "metadata": {},
     "output_type": "execute_result"
    }
   ],
   "source": [
    "a1"
   ]
  },
  {
   "cell_type": "code",
   "execution_count": 105,
   "id": "a53db54c",
   "metadata": {},
   "outputs": [
    {
     "data": {
      "text/plain": [
       "array([0, 1, 2])"
      ]
     },
     "execution_count": 105,
     "metadata": {},
     "output_type": "execute_result"
    }
   ],
   "source": [
    "np.argsort(a1)"
   ]
  },
  {
   "cell_type": "code",
   "execution_count": 106,
   "id": "1640cef8",
   "metadata": {},
   "outputs": [
    {
     "data": {
      "text/plain": [
       "6"
      ]
     },
     "execution_count": 106,
     "metadata": {},
     "output_type": "execute_result"
    }
   ],
   "source": [
    "np.argmin(randomarr)"
   ]
  },
  {
   "cell_type": "code",
   "execution_count": 107,
   "id": "5453ab62",
   "metadata": {},
   "outputs": [
    {
     "data": {
      "text/plain": [
       "array([0, 0, 0, 1])"
      ]
     },
     "execution_count": 107,
     "metadata": {},
     "output_type": "execute_result"
    }
   ],
   "source": [
    "np.argmax(randomarr,axis = 0)"
   ]
  },
  {
   "cell_type": "code",
   "execution_count": 108,
   "id": "182fe19f",
   "metadata": {},
   "outputs": [
    {
     "data": {
      "text/plain": [
       "array([0, 3])"
      ]
     },
     "execution_count": 108,
     "metadata": {},
     "output_type": "execute_result"
    }
   ],
   "source": [
    "np.argmax(randomarr,axis = 1)"
   ]
  },
  {
   "cell_type": "markdown",
   "id": "79574870",
   "metadata": {},
   "source": [
    "### Images to Numpy Arrays"
   ]
  },
  {
   "cell_type": "code",
   "execution_count": 109,
   "id": "c1b16218",
   "metadata": {},
   "outputs": [
    {
     "name": "stdout",
     "output_type": "stream",
     "text": [
      "<class 'numpy.ndarray'>\n"
     ]
    }
   ],
   "source": [
    "from matplotlib.image import imread\n",
    "\n",
    "img = imread(\"/home/smayan/Desktop/AI-ML-DS/sample_project/6-step-ml-framework.png\")\n",
    "print(type(img))"
   ]
  },
  {
   "cell_type": "code",
   "execution_count": 110,
   "id": "80fc945b",
   "metadata": {},
   "outputs": [
    {
     "data": {
      "text/plain": [
       "(17127936, (1296, 3304, 4), 3)"
      ]
     },
     "execution_count": 110,
     "metadata": {},
     "output_type": "execute_result"
    }
   ],
   "source": [
    "img.size, img.shape, img.ndim"
   ]
  },
  {
   "cell_type": "code",
   "execution_count": 111,
   "id": "1ff92df5",
   "metadata": {},
   "outputs": [
    {
     "data": {
      "text/plain": [
       "array([[[0., 0., 0., 0.],\n",
       "        [0., 0., 0., 0.],\n",
       "        [0., 0., 0., 0.],\n",
       "        ...,\n",
       "        [0., 0., 0., 0.],\n",
       "        [0., 0., 0., 0.],\n",
       "        [0., 0., 0., 0.]],\n",
       "\n",
       "       [[0., 0., 0., 0.],\n",
       "        [0., 0., 0., 0.],\n",
       "        [0., 0., 0., 0.],\n",
       "        ...,\n",
       "        [0., 0., 0., 0.],\n",
       "        [0., 0., 0., 0.],\n",
       "        [0., 0., 0., 0.]],\n",
       "\n",
       "       [[0., 0., 0., 0.],\n",
       "        [0., 0., 0., 0.],\n",
       "        [0., 0., 0., 0.],\n",
       "        ...,\n",
       "        [0., 0., 0., 0.],\n",
       "        [0., 0., 0., 0.],\n",
       "        [0., 0., 0., 0.]],\n",
       "\n",
       "       [[0., 0., 0., 0.],\n",
       "        [0., 0., 0., 0.],\n",
       "        [0., 0., 0., 0.],\n",
       "        ...,\n",
       "        [0., 0., 0., 0.],\n",
       "        [0., 0., 0., 0.],\n",
       "        [0., 0., 0., 0.]],\n",
       "\n",
       "       [[0., 0., 0., 0.],\n",
       "        [0., 0., 0., 0.],\n",
       "        [0., 0., 0., 0.],\n",
       "        ...,\n",
       "        [0., 0., 0., 0.],\n",
       "        [0., 0., 0., 0.],\n",
       "        [0., 0., 0., 0.]]], dtype=float32)"
      ]
     },
     "execution_count": 111,
     "metadata": {},
     "output_type": "execute_result"
    }
   ],
   "source": [
    "img[:5]"
   ]
  }
 ],
 "metadata": {
  "kernelspec": {
   "display_name": "Python 3 (ipykernel)",
   "language": "python",
   "name": "python3"
  },
  "language_info": {
   "codemirror_mode": {
    "name": "ipython",
    "version": 3
   },
   "file_extension": ".py",
   "mimetype": "text/x-python",
   "name": "python",
   "nbconvert_exporter": "python",
   "pygments_lexer": "ipython3",
   "version": "3.11.6"
  }
 },
 "nbformat": 4,
 "nbformat_minor": 5
}
