{
 "cells": [
  {
   "cell_type": "code",
   "execution_count": 1,
   "metadata": {},
   "outputs": [],
   "source": [
    "import numpy as np"
   ]
  },
  {
   "cell_type": "markdown",
   "metadata": {},
   "source": [
    "# Task 1"
   ]
  },
  {
   "cell_type": "code",
   "execution_count": 2,
   "metadata": {},
   "outputs": [
    {
     "name": "stdout",
     "output_type": "stream",
     "text": [
      "5306.82\n"
     ]
    }
   ],
   "source": [
    "p = 5000\n",
    "r = 0.06\n",
    "t = 1\n",
    "n = 4\n",
    "fv = p * (1+(r)/n)**(n*t)\n",
    "print(round(fv, 2))"
   ]
  },
  {
   "cell_type": "markdown",
   "metadata": {},
   "source": [
    "# Task 2"
   ]
  },
  {
   "cell_type": "code",
   "execution_count": 3,
   "metadata": {},
   "outputs": [
    {
     "name": "stdout",
     "output_type": "stream",
     "text": [
      "5820.09\n"
     ]
    }
   ],
   "source": [
    "fv = 10000\n",
    "t = 8\n",
    "r = 0.07\n",
    "pv = fv/((1+r)**t)\n",
    "print(round(pv, 2))"
   ]
  },
  {
   "cell_type": "markdown",
   "metadata": {},
   "source": [
    "# Task 3"
   ]
  },
  {
   "cell_type": "code",
   "execution_count": 4,
   "metadata": {},
   "outputs": [
    {
     "name": "stdout",
     "output_type": "stream",
     "text": [
      "146211.88\n"
     ]
    }
   ],
   "source": [
    "p = 2000\n",
    "r = 0.08\n",
    "t = 25\n",
    "fv = p*(((1+r)**t - 1)/r)\n",
    "print(round(fv,2))"
   ]
  },
  {
   "cell_type": "markdown",
   "metadata": {},
   "source": [
    "# Task 4"
   ]
  },
  {
   "cell_type": "code",
   "execution_count": 5,
   "metadata": {},
   "outputs": [
    {
     "name": "stdout",
     "output_type": "stream",
     "text": [
      "66666.67\n"
     ]
    }
   ],
   "source": [
    "p = 4000\n",
    "r = 0.06\n",
    "pv = p/r\n",
    "print(round(pv, 2))"
   ]
  },
  {
   "cell_type": "markdown",
   "metadata": {},
   "source": [
    "# Task 5"
   ]
  },
  {
   "cell_type": "code",
   "execution_count": 6,
   "metadata": {},
   "outputs": [
    {
     "name": "stdout",
     "output_type": "stream",
     "text": [
      "17405.74\n"
     ]
    }
   ],
   "source": [
    "p = 3000\n",
    "t = 5\n",
    "r = 0.05\n",
    "fv_due = p*(((1+r)**t - 1)/r*(1+r))\n",
    "print(round(fv_due,2))"
   ]
  }
 ],
 "metadata": {
  "kernelspec": {
   "display_name": "Python 3",
   "language": "python",
   "name": "python3"
  },
  "language_info": {
   "codemirror_mode": {
    "name": "ipython",
    "version": 3
   },
   "file_extension": ".py",
   "mimetype": "text/x-python",
   "name": "python",
   "nbconvert_exporter": "python",
   "pygments_lexer": "ipython3",
   "version": "3.11.11"
  }
 },
 "nbformat": 4,
 "nbformat_minor": 2
}
