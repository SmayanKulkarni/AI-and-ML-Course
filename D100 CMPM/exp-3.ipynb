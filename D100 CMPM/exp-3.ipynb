{
 "cells": [
  {
   "cell_type": "code",
   "execution_count": 2,
   "metadata": {},
   "outputs": [],
   "source": [
    "import numpy as np\n",
    "import pandas as pd\n",
    "import matplotlib.pyplot as plt"
   ]
  },
  {
   "cell_type": "code",
   "execution_count": 3,
   "metadata": {},
   "outputs": [],
   "source": [
    "def cal_d1(S,K,sigma,T):\n",
    "    d1 = (np.log(S/K) + (0.5 * (sigma)**2) * T) / (sigma * np.sqrt(T))\n",
    "    return d1"
   ]
  },
  {
   "cell_type": "code",
   "execution_count": 4,
   "metadata": {},
   "outputs": [],
   "source": [
    "def cal_d2(d1, sigma,T):\n",
    "    d2 = d1 - (sigma * (np.sqrt(T)))\n",
    "    return d2"
   ]
  },
  {
   "cell_type": "code",
   "execution_count": 5,
   "metadata": {},
   "outputs": [],
   "source": [
    "from scipy.stats import norm\n",
    "import math\n",
    "def cal_C(S,K, d1,d2,r,T):\n",
    "    \"\"\"\n",
    "    S = Current stock price\n",
    "    K = Strike price \n",
    "    T = Time to maturity (in years) \n",
    "    r = Risk-free interest rate \n",
    "    σ = Volatility of the stock \n",
    "    N(d) = Cumulative distribution function (CDF) of the standard normal distribution\n",
    "    \"\"\"\n",
    "    c = S * norm.cdf(d1) - K * math.exp(- r  * T) * norm.cdf(d2)\n",
    "\n",
    "    return c"
   ]
  },
  {
   "cell_type": "code",
   "execution_count": null,
   "metadata": {},
   "outputs": [],
   "source": []
  }
 ],
 "metadata": {
  "kernelspec": {
   "display_name": "Python 3",
   "language": "python",
   "name": "python3"
  },
  "language_info": {
   "codemirror_mode": {
    "name": "ipython",
    "version": 3
   },
   "file_extension": ".py",
   "mimetype": "text/x-python",
   "name": "python",
   "nbconvert_exporter": "python",
   "pygments_lexer": "ipython3",
   "version": "3.11.7"
  }
 },
 "nbformat": 4,
 "nbformat_minor": 2
}
