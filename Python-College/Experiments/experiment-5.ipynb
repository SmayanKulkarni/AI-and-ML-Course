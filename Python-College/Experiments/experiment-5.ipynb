{
 "cells": [
  {
   "cell_type": "markdown",
   "metadata": {},
   "source": [
    "1. Write a function to extract all unique words from a text while ignoring case and\n",
    "punctuation and return the result as a sorted list.\n",
    "Input: \"Hello world! Welcome to the world of Data Science.\" Expected Output: ['data',\n",
    "'hello', 'of', 'science', 'the', 'to','welcome', 'world']."
   ]
  },
  {
   "cell_type": "code",
   "execution_count": 12,
   "metadata": {},
   "outputs": [
    {
     "name": "stdout",
     "output_type": "stream",
     "text": [
      "['data', 'hello', 'of', 'science', 'the', 'to', 'welcome', 'world']\n"
     ]
    }
   ],
   "source": [
    "import re\n",
    "\n",
    "def extract_unique_words(text):\n",
    "    text = text.lower()\n",
    "    words = re.findall(r'\\b\\w+\\b', text)\n",
    "    unique_words = sorted(set(words))\n",
    "    return unique_words\n",
    "input_text = \"Hello world! Welcome to the world of Data Science.\"\n",
    "print(extract_unique_words(input_text))\n"
   ]
  },
  {
   "cell_type": "markdown",
   "metadata": {},
   "source": [
    "2. Define a function to identify and count the number of distinct named entities (e.g.,\n",
    "names of people, places, organizations) using regular expressions in a text.\n",
    "Input: \"Barack Obama was born in Hawaii. Google is a major techcompany.\"\n",
    "Expected Output: {'Barack Obama': 1, 'Hawaii': 1, 'Google': 1}\n"
   ]
  },
  {
   "cell_type": "code",
   "execution_count": 24,
   "metadata": {},
   "outputs": [
    {
     "data": {
      "text/plain": [
       "{'Barack Obama': 1, 'Hawaii': 1, 'Google': 1}"
      ]
     },
     "execution_count": 24,
     "metadata": {},
     "output_type": "execute_result"
    }
   ],
   "source": [
    "s = \"Barack Obama was born in Hawaii. Google is a major tech company.\"\n",
    "pattern = r\"[A-Z][a-z]+\\s[A-Z][a-z]+|[A-Z][a-z]+\"\n",
    "s2 = re.findall(pattern,s)\n",
    "freq = {}\n",
    "\n",
    "for s in s2:\n",
    "    if s in freq:\n",
    "        freq[s] += 1\n",
    "    else:\n",
    "        freq[s] = 1\n",
    "freq\n"
   ]
  },
  {
   "cell_type": "markdown",
   "metadata": {},
   "source": [
    "3. Create a function to extract and normalize all dates from a text, converting them\n",
    "into a standard YYYY-MM-DDformat.\n",
    "Input: \"The event is scheduled for 12/31/2024 and the deadline is01-15-2024.\"\n",
    "Expected Output: ['2024-12-31', '2024-01-15']"
   ]
  },
  {
   "cell_type": "code",
   "execution_count": 31,
   "metadata": {},
   "outputs": [
    {
     "data": {
      "text/plain": [
       "['01-15-2024']"
      ]
     },
     "execution_count": 31,
     "metadata": {},
     "output_type": "execute_result"
    }
   ],
   "source": [
    "pattern = r\"[0-9]+-[0-9]+-[0-9]+\"\n",
    "input = \"The event is scheduled for 12/31/2024 and the deadline is 01-15-2024.\"\n",
    "dates = re.findall(pattern, input)\n",
    "dates"
   ]
  },
  {
   "cell_type": "markdown",
   "metadata": {},
   "source": [
    "4. Write a function to identify and extract key-value pairs from a structured textformat\n",
    "(e.g., \"key1: value1; key2: value2\") and return them as a dictionary.\n",
    "Input: \"name: John Doe; age: 30; profession: Data Scientist\" Expected Output: {'name':\n",
    "'John Doe', 'age': '30', 'profession':'Data Scientist'}"
   ]
  },
  {
   "cell_type": "markdown",
   "metadata": {},
   "source": [
    "5. Define a function to extract all phone numbers from a text and format them in the\n",
    "(XXX) XXX-XXXXpattern, regardless oftheir initialformat.\n",
    "Input: \"Contact me at 1234567890 or 987-654-3210.\"\n",
    "Expected Output: ['(123) 456-7890', '(987) 654-3210']\n"
   ]
  },
  {
   "cell_type": "markdown",
   "metadata": {},
   "source": [
    "6. Create a function that detects and extracts all currency amounts from a text and\n",
    "converts them to a standardized numeric format (e.g., \"$1,234.56\" to 1234.56).\n",
    "Input: \"The price is $1,234.56 and $789.00 for the additionalitems.\"\n",
    "Expected Output: [1234.56, 789.00]"
   ]
  },
  {
   "cell_type": "markdown",
   "metadata": {},
   "source": [
    "7. Write a function to identify and extract all instances of email addresses that are part of\n",
    "specific domains(e.g., @example.com) from a given text.\n",
    "Input: \"Please contact us at support@example.com orsales@otherdomain.com.\"\n",
    "Expected Output: ['support@example.com']"
   ]
  },
  {
   "cell_type": "markdown",
   "metadata": {},
   "source": [
    "8. Define a function that uses regular expressions to detect and extract complexpatterns\n",
    "such as ISBN numbers from a text, ensuring correct formatting.\n",
    "Input: \"The books have ISBN numbers like 978-3-16-148410-0 and 978-0-306-40615-\n",
    "7.\"\n",
    "Expected Output: ['978-3-16-148410-0', '978-0-306-40615-7']"
   ]
  },
  {
   "cell_type": "markdown",
   "metadata": {},
   "source": [
    "9. Create a function to identify and extract URLs from a text while distinguishing\n",
    "between different types of URLs(e.g.,HTTP, HTTPS,FTP).\n",
    "Input: \"Visit our sites at http://example.com, https://secure-site.org, and\n",
    "ftp://files.example.net.\"\n",
    "Expected Output: ['http://example.com', 'https://secure-site.org','ftp://files.example.net']"
   ]
  },
  {
   "cell_type": "markdown",
   "metadata": {},
   "source": [
    "10. Write a function to clean and preprocess text by removing HTML tags, unnecessary\n",
    "whitespace, and converting special characters to their plain textequivalents.\n",
    "Input: \"Hello <b>World</b>! This is a <a\n",
    "href='http://example.com'>link</a>.\" Expected Output:\n",
    "\"Hello World! This is a link.\""
   ]
  },
  {
   "cell_type": "markdown",
   "metadata": {},
   "source": [
    "11. Define a function to extract and sort all numerical values from a text, includinghandling\n",
    "numbers embedded in words or mixed with text.\n",
    "Input: \"The quantities are 12 apples, 2 oranges, and 25 bananas.\"\n",
    "Expected Output: [2, 12, 25]\n"
   ]
  },
  {
   "cell_type": "markdown",
   "metadata": {},
   "source": [
    "12. Create a function to identify and extract all instances of hashtags, mentions,and\n",
    "URLs from a social media post, ensuring proper separation and categorization.\n",
    "Input: \"Check out #DataScience and @JohnDoe's post athttp://example.com! #AI\"\n",
    "Expected Output: {'hashtags': ['#DataScience', '#AI'], 'mentions':['@JohnDoe'], 'urls':\n",
    "['http://example.com']}"
   ]
  }
 ],
 "metadata": {
  "kernelspec": {
   "display_name": "Python 3",
   "language": "python",
   "name": "python3"
  },
  "language_info": {
   "codemirror_mode": {
    "name": "ipython",
    "version": 3
   },
   "file_extension": ".py",
   "mimetype": "text/x-python",
   "name": "python",
   "nbconvert_exporter": "python",
   "pygments_lexer": "ipython3",
   "version": "3.11.9"
  }
 },
 "nbformat": 4,
 "nbformat_minor": 2
}
