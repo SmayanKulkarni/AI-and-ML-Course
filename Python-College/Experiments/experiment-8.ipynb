{
 "cells": [
  {
   "cell_type": "markdown",
   "metadata": {},
   "source": [
    "# **Experiment 8**"
   ]
  },
  {
   "cell_type": "markdown",
   "metadata": {},
   "source": [
    "### **Name : Smayan Kulkarni, SAP ID : 60009230142 , Roll Number : D100, Division : D2-2**"
   ]
  },
  {
   "cell_type": "code",
   "execution_count": 1,
   "metadata": {},
   "outputs": [],
   "source": [
    "import numpy as np\n",
    "from scipy import stats"
   ]
  },
  {
   "cell_type": "markdown",
   "metadata": {},
   "source": [
    "1. Calculate the mean of an array of numbers [3, 6, 9, 12, 15].\n",
    "Input: [3, 6, 9, 12, 15]\n",
    "Output: 9.0\n"
   ]
  },
  {
   "cell_type": "code",
   "execution_count": 2,
   "metadata": {},
   "outputs": [
    {
     "data": {
      "text/plain": [
       "np.float64(9.0)"
      ]
     },
     "execution_count": 2,
     "metadata": {},
     "output_type": "execute_result"
    }
   ],
   "source": [
    "arr = np.array([3, 6, 9, 12, 15])\n",
    "mean = np.mean(arr)\n",
    "mean"
   ]
  },
  {
   "cell_type": "markdown",
   "metadata": {},
   "source": [
    "2.\tDetermine the median of an array of numbers [7, 3, 9, 1, 5].\n",
    "Input: [7, 3, 9, 1, 5]\n",
    "Output: 5.0\n"
   ]
  },
  {
   "cell_type": "code",
   "execution_count": 3,
   "metadata": {},
   "outputs": [
    {
     "data": {
      "text/plain": [
       "np.float64(5.0)"
      ]
     },
     "execution_count": 3,
     "metadata": {},
     "output_type": "execute_result"
    }
   ],
   "source": [
    "arr2 = [7, 3, 9, 1, 5]\n",
    "median = np.median(arr2)\n",
    "median"
   ]
  },
  {
   "cell_type": "markdown",
   "metadata": {},
   "source": [
    "3.\tFind the mode of an array of integers [4, 1, 2, 2, 3, 4, 4].\n",
    "Input: [4, 1, 2, 2, 3, 4, 4]\n",
    "Output: 4\n"
   ]
  },
  {
   "cell_type": "code",
   "execution_count": 4,
   "metadata": {},
   "outputs": [
    {
     "data": {
      "text/plain": [
       "np.int64(4)"
      ]
     },
     "execution_count": 4,
     "metadata": {},
     "output_type": "execute_result"
    }
   ],
   "source": [
    "arr3 = np.array([4, 1, 2, 2, 3, 4, 4])\n",
    "mode = stats.mode(arr3)[0]\n",
    "mode"
   ]
  },
  {
   "cell_type": "markdown",
   "metadata": {},
   "source": [
    "4.\tCompute the variance of an array of numbers [2, 4, 4, 4, 5, 5, 7, 9].\n",
    "Input: [2, 4, 4, 4, 5, 5, 7, 9]\n",
    "Output: 4.0\n"
   ]
  },
  {
   "cell_type": "code",
   "execution_count": 5,
   "metadata": {},
   "outputs": [
    {
     "data": {
      "text/plain": [
       "np.float64(4.0)"
      ]
     },
     "execution_count": 5,
     "metadata": {},
     "output_type": "execute_result"
    }
   ],
   "source": [
    "arr4 = [2, 4, 4, 4, 5, 5, 7, 9]\n",
    "var = np.var(arr4)\n",
    "var"
   ]
  },
  {
   "cell_type": "markdown",
   "metadata": {},
   "source": [
    "5.\tCalculate the standard deviation of an array of numbers [10, 12, 23, 23, 16, 23, 21, 16].\n",
    "Input: [10, 12, 23, 23, 16, 23, 21, 16]\n",
    "Output: 4.898979485566356\n"
   ]
  },
  {
   "cell_type": "code",
   "execution_count": 6,
   "metadata": {},
   "outputs": [
    {
     "data": {
      "text/plain": [
       "np.float64(2.0)"
      ]
     },
     "execution_count": 6,
     "metadata": {},
     "output_type": "execute_result"
    }
   ],
   "source": [
    "arr5 = [10, 12, 23, 23, 16, 23, 21, 16]\n",
    "std = np.std(arr4)\n",
    "std"
   ]
  },
  {
   "cell_type": "markdown",
   "metadata": {},
   "source": [
    "6.\tDetermine the range of an array of numbers [3, 7, 8, 5, 12, 14, 21, 13, 18].\n",
    "Input: [3, 7, 8, 5, 12, 14, 21, 13, 18]\n",
    "Output: 18\n"
   ]
  },
  {
   "cell_type": "code",
   "execution_count": 7,
   "metadata": {},
   "outputs": [
    {
     "data": {
      "text/plain": [
       "np.int64(18)"
      ]
     },
     "execution_count": 7,
     "metadata": {},
     "output_type": "execute_result"
    }
   ],
   "source": [
    "arr6 = [3, 7, 8, 5, 12, 14, 21, 13, 18]\n",
    "range = np.max(arr6) - np.min(arr6)\n",
    "range"
   ]
  },
  {
   "cell_type": "markdown",
   "metadata": {},
   "source": [
    "7.\tCompute the Pearson correlation coefficient between two arrays [1, 2, 3, 4, 5] and [2, 4, 6, 8, 10].\n",
    "Input: [1, 2, 3, 4, 5], [2, 4, 6, 8, 10]\n",
    "Output: 1.0\n"
   ]
  },
  {
   "cell_type": "code",
   "execution_count": 8,
   "metadata": {},
   "outputs": [
    {
     "data": {
      "text/plain": [
       "np.float64(0.9999999999999999)"
      ]
     },
     "execution_count": 8,
     "metadata": {},
     "output_type": "execute_result"
    }
   ],
   "source": [
    "arr7_1 = [1, 2, 3, 4, 5]\n",
    "arr7_2 = [2, 4, 6, 8, 10]\n",
    "corr =np.corrcoef(arr7_1, arr7_2)[0][0]\n",
    "corr"
   ]
  },
  {
   "cell_type": "markdown",
   "metadata": {},
   "source": [
    "8.\tCreate an array of 20 zeros.\n",
    "Input: 20\n",
    "Output: [0, 0, 0, 0, 0, 0, 0, 0, 0, 0, 0, 0, 0, 0, 0, 0, 0, 0, 0,\n",
    "0]\n"
   ]
  },
  {
   "cell_type": "code",
   "execution_count": 9,
   "metadata": {},
   "outputs": [
    {
     "data": {
      "text/plain": [
       "array([0., 0., 0., 0., 0., 0., 0., 0., 0., 0., 0., 0., 0., 0., 0., 0., 0.,\n",
       "       0., 0., 0.])"
      ]
     },
     "execution_count": 9,
     "metadata": {},
     "output_type": "execute_result"
    }
   ],
   "source": [
    "arr8 = np.zeros(20)\n",
    "arr8"
   ]
  },
  {
   "cell_type": "markdown",
   "metadata": {},
   "source": [
    "9.\tGenerate a 4x4 identity matrix.\n",
    "Input: 4\n"
   ]
  },
  {
   "cell_type": "code",
   "execution_count": 10,
   "metadata": {},
   "outputs": [
    {
     "name": "stdout",
     "output_type": "stream",
     "text": [
      "[[1 0 0 0]\n",
      " [0 1 0 0]\n",
      " [0 0 1 0]\n",
      " [0 0 0 1]]\n",
      "[[1. 0. 0. 0.]\n",
      " [0. 1. 0. 0.]\n",
      " [0. 0. 1. 0.]\n",
      " [0. 0. 0. 1.]]\n"
     ]
    }
   ],
   "source": [
    "arr_9 = np.array([1,0,0,0,0,1,0,0,0,0,1,0,0,0,0,1]).reshape(4,4)\n",
    "print(arr_9)\n",
    "#or\n",
    "arr_92 = np.eye(4)\n",
    "print(arr_92)"
   ]
  },
  {
   "cell_type": "markdown",
   "metadata": {},
   "source": [
    "10.\tCalculate the dot product of arrays [1, 2, 3] and [4, 5, 6]."
   ]
  },
  {
   "cell_type": "code",
   "execution_count": 11,
   "metadata": {},
   "outputs": [
    {
     "data": {
      "text/plain": [
       "np.int64(32)"
      ]
     },
     "execution_count": 11,
     "metadata": {},
     "output_type": "execute_result"
    }
   ],
   "source": [
    "arr10_1 = np.array([1, 2, 3])\n",
    "arr10_2 = np.array([4, 5, 6])\n",
    "arr10_3 = np.dot(arr10_1, arr10_2)\n",
    "arr10_3"
   ]
  },
  {
   "cell_type": "markdown",
   "metadata": {},
   "source": [
    "11.\tReshape an array of 12 elements into a 3x4 matrix"
   ]
  },
  {
   "cell_type": "code",
   "execution_count": 12,
   "metadata": {},
   "outputs": [
    {
     "data": {
      "text/plain": [
       "array([[0.09749148, 0.8705868 , 0.62399143, 0.18366786],\n",
       "       [0.12430513, 0.34648965, 0.95980364, 0.55452797],\n",
       "       [0.27594022, 0.80647923, 0.55477256, 0.33911855]])"
      ]
     },
     "execution_count": 12,
     "metadata": {},
     "output_type": "execute_result"
    }
   ],
   "source": [
    "arr11 = np.random.rand(12)\n",
    "arr11 = arr11.reshape(3,4)\n",
    "arr11"
   ]
  },
  {
   "cell_type": "markdown",
   "metadata": {},
   "source": [
    "12.\tManually compute the Pearson correlation coefficient between two arrays [1, 2, 3, 5] and [2, 3, 4, 6] using the formula.\n",
    "Input: [1, 2, 3, 5], [2, 3, 4, 6]\n",
    "Output: 0.989743318610787\n"
   ]
  },
  {
   "cell_type": "code",
   "execution_count": 27,
   "metadata": {},
   "outputs": [
    {
     "data": {
      "text/plain": [
       "(35.0, 35.0, 1.0)"
      ]
     },
     "execution_count": 27,
     "metadata": {},
     "output_type": "execute_result"
    }
   ],
   "source": [
    "arr12_1 =  np.array([1.0,2.0, 3.0, 5.0])\n",
    "arr12_2 = np.array([2.0, 3.0, 4.0, 6.0])\n",
    "\n",
    "n = len(arr12_1)\n",
    "xsum = np.sum(arr12_1)\n",
    "ysum = np.sum(arr12_2)\n",
    "xysum = np.dot(arr12_1, arr12_2)\n",
    "xsqsum = np.sum(arr12_1**2)\n",
    "ysqsum = np.sum(arr12_2**2)\n",
    "\n",
    "numerator = float(np.array((n * (xysum)) - (xsum * ysum)))\n",
    "denominator = float(np.sqrt(((n * xsqsum) - (xsum)**2) * ((n * ysqsum) - (ysum)**2)))\n",
    "ans = numerator / denominator\n",
    "numerator, denominator, ans,"
   ]
  },
  {
   "cell_type": "code",
   "execution_count": 28,
   "metadata": {},
   "outputs": [
    {
     "data": {
      "text/plain": [
       "np.float64(1.0)"
      ]
     },
     "execution_count": 28,
     "metadata": {},
     "output_type": "execute_result"
    }
   ],
   "source": [
    "arr7_1 = np.array([1.0,2.0, 3.0, 5.0])\n",
    "arr7_2 = np.array([2.0, 3.0, 4.0, 6.0])\n",
    "corr =np.corrcoef(arr7_1, arr7_2)[0][0]\n",
    "corr"
   ]
  }
 ],
 "metadata": {
  "kernelspec": {
   "display_name": ".conda",
   "language": "python",
   "name": "python3"
  },
  "language_info": {
   "codemirror_mode": {
    "name": "ipython",
    "version": 3
   },
   "file_extension": ".py",
   "mimetype": "text/x-python",
   "name": "python",
   "nbconvert_exporter": "python",
   "pygments_lexer": "ipython3",
   "version": "3.10.13"
  }
 },
 "nbformat": 4,
 "nbformat_minor": 2
}
