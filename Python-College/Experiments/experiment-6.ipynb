{
 "cells": [
  {
   "cell_type": "markdown",
   "metadata": {},
   "source": [
    "# **Experiment 5**"
   ]
  },
  {
   "cell_type": "markdown",
   "metadata": {},
   "source": [
    "### **Name : Smayan Kulkarni, SAP ID : 60009230142 , Roll Number : D100, Division : D2-2**"
   ]
  },
  {
   "cell_type": "markdown",
   "metadata": {},
   "source": [
    "1. Create a Vehicle class without any variables and methods"
   ]
  },
  {
   "cell_type": "code",
   "execution_count": 2,
   "metadata": {},
   "outputs": [
    {
     "name": "stdout",
     "output_type": "stream",
     "text": [
      "<__main__.Vehicle object at 0x7a533c27f850>\n"
     ]
    }
   ],
   "source": [
    "class Vehicle:\n",
    "    pass\n",
    "vehicle_obj = Vehicle()\n",
    "print(vehicle_obj)"
   ]
  },
  {
   "cell_type": "markdown",
   "metadata": {},
   "source": [
    "2. Create a Class with instance attributes\n",
    "Write a Python program to create a Vehicle class with max_speed and mileage instance\n",
    "attributes."
   ]
  },
  {
   "cell_type": "code",
   "execution_count": 3,
   "metadata": {},
   "outputs": [
    {
     "name": "stdout",
     "output_type": "stream",
     "text": [
      "Max Speed: 150\n",
      "Mileage: 20000\n"
     ]
    }
   ],
   "source": [
    "class Vehicle:\n",
    "    def __init__(self, max_speed, mileage):\n",
    "        self.max_speed = max_speed\n",
    "        self.mileage = mileage\n",
    "car = Vehicle(150, 20000)\n",
    "print(f\"Max Speed: {car.max_speed}\")\n",
    "print(f\"Mileage: {car.mileage}\")"
   ]
  },
  {
   "cell_type": "markdown",
   "metadata": {},
   "source": [
    "3. Create a child class Bus that will inherit all of the variables and methods\n",
    "of the Vehicle class\n",
    "class Vehicle: def init (self, name, max_speed, mileage): self.name = name\n",
    "self.max_speed = max_speed self.mileage = mileage"
   ]
  },
  {
   "cell_type": "code",
   "execution_count": 4,
   "metadata": {},
   "outputs": [
    {
     "name": "stdout",
     "output_type": "stream",
     "text": [
      "Vehicle Name: School Bus\n",
      "Max Speed: 80\n",
      "Mileage: 12000\n"
     ]
    }
   ],
   "source": [
    "class Vehicle:\n",
    "    def __init__(self, name, max_speed, mileage):\n",
    "        self.name = name\n",
    "        self.max_speed = max_speed\n",
    "        self.mileage = mileage\n",
    "        \n",
    "class Bus(Vehicle):\n",
    "    pass\n",
    "bus = Bus(\"School Bus\", 80, 12000)\n",
    "print(f\"Vehicle Name: {bus.name}\")\n",
    "print(f\"Max Speed: {bus.max_speed}\")\n",
    "print(f\"Mileage: {bus.mileage}\")"
   ]
  },
  {
   "cell_type": "markdown",
   "metadata": {},
   "source": [
    "4. Create a Bus object that will inherit all of the variables and methods of\n",
    "the parent Vehicle class and display it."
   ]
  },
  {
   "cell_type": "code",
   "execution_count": 5,
   "metadata": {},
   "outputs": [
    {
     "name": "stdout",
     "output_type": "stream",
     "text": [
      "Vehicle Name: School Volvo Speed: 180 Mileage: 12\n"
     ]
    }
   ],
   "source": [
    "class Vehicle:\n",
    "    def __init__(self, name, max_speed, mileage):\n",
    "        self.name = name\n",
    "        self.max_speed = max_speed\n",
    "        self.mileage = mileage\n",
    "class Bus(Vehicle):\n",
    "    pass\n",
    "bus = Bus(\"School Volvo\", 180, 12)\n",
    "print(f\"Vehicle Name: {bus.name} Speed: {bus.max_speed} Mileage: {bus.mileage}\")\n"
   ]
  },
  {
   "cell_type": "markdown",
   "metadata": {},
   "source": [
    "5. Create a Bus class that inherits from the Vehicle class. Give the capacity\n",
    "argument of Bus.seating_capacity() a default value of 50.\n",
    "Use the following code for your parent Vehicle class.\n",
    "class Vehicle: def init (self, name, max_speed, mileage): self.name = name\n",
    "self.max_speed = max_speed self. mileage = mileage\n",
    "def seating_capacity(self, capacity): return f\"The seating capacity of a {self.name} is\n",
    "{capacity} passengers\""
   ]
  },
  {
   "cell_type": "code",
   "execution_count": 6,
   "metadata": {},
   "outputs": [
    {
     "name": "stdout",
     "output_type": "stream",
     "text": [
      "The seating capacity of a bus is 50 passengers\n"
     ]
    }
   ],
   "source": [
    "class Vehicle:\n",
    "    def __init__(self, name, max_speed, mileage):\n",
    "        self.name = name\n",
    "        self.max_speed = max_speed\n",
    "        self.mileage = mileage\n",
    "    def seating_capacity(self, capacity):\n",
    "        return f\"The seating capacity of a {self.name} is {capacity} passengers\"\n",
    "class Bus(Vehicle):\n",
    "    def seating_capacity(self, capacity=50):\n",
    "     return super().seating_capacity(capacity)\n",
    "bus = Bus(\"bus\", 180, 12)\n",
    "print(bus.seating_capacity())"
   ]
  },
  {
   "cell_type": "markdown",
   "metadata": {},
   "source": [
    "6. Class Inheritance\n",
    "Given:\n",
    "Create a Bus child class that inherits from the Vehicle class. The default fare charge of\n",
    "any vehicle is seating capacity * 100. If Vehicle is Bus instance, we need to add an extra\n",
    "10% on full fare as a maintenance charge. So total fare for bus instance will become the\n",
    "final amount = total fare + 10% of the total fare."
   ]
  },
  {
   "cell_type": "code",
   "execution_count": 7,
   "metadata": {},
   "outputs": [
    {
     "name": "stdout",
     "output_type": "stream",
     "text": [
      "Total Bus fare is: 5500.0\n"
     ]
    }
   ],
   "source": [
    "class Vehicle:\n",
    "    def __init__(self, name, mileage, capacity):\n",
    "        self.name = name\n",
    "        self.mileage = mileage\n",
    "        self.capacity = capacity\n",
    "    def fare(self):\n",
    "        return self.capacity * 100\n",
    "class Bus(Vehicle):\n",
    "    def fare(self):\n",
    "        total_fare = super().fare()\n",
    "        maintenance_charge = total_fare * 0.10\n",
    "        final_fare = total_fare + maintenance_charge\n",
    "        return final_fare\n",
    "School_bus = Bus(\"School Volvo\", 12, 50)\n",
    "print(\"Total Bus fare is:\", School_bus.fare())"
   ]
  },
  {
   "cell_type": "markdown",
   "metadata": {},
   "source": [
    "7. Check type of an object\n",
    "Write a program to determine which class a given Bus object belongs to."
   ]
  },
  {
   "cell_type": "code",
   "execution_count": 8,
   "metadata": {},
   "outputs": [
    {
     "name": "stdout",
     "output_type": "stream",
     "text": [
      "The object school_bus is of type: <class '__main__.Bus'>\n",
      "The object school_bus belongs to class: Bus\n"
     ]
    }
   ],
   "source": [
    "class Vehicle:\n",
    "    def __init__(self, name, mileage, capacity):\n",
    "        self.name = name\n",
    "        self.mileage = mileage\n",
    "        self.capacity = capacity\n",
    "class Bus(Vehicle):\n",
    "    def __init__(self, name, mileage, capacity, bus_type):\n",
    "        super().__init__(name, mileage, capacity)\n",
    "        self.bus_type = bus_type\n",
    "school_bus = Bus(\"School Volvo\", 12, 50, \"School Bus\")\n",
    "print(\"The object school_bus is of type:\", type(school_bus))\n",
    "print(\"The object school_bus belongs to class:\", school_bus.__class__.__name__)\n"
   ]
  },
  {
   "cell_type": "markdown",
   "metadata": {},
   "source": [
    "8. Determine if School_bus is also an instance of the Vehicle class"
   ]
  },
  {
   "cell_type": "code",
   "execution_count": 9,
   "metadata": {},
   "outputs": [
    {
     "name": "stdout",
     "output_type": "stream",
     "text": [
      "school_bus is an instance of the Vehicle class.\n"
     ]
    }
   ],
   "source": [
    "if isinstance(school_bus, Vehicle):\n",
    "    print(\"school_bus is an instance of the Vehicle class.\")\n",
    "else:\n",
    "    print(\"school_bus is not an instance of the Vehicle class.\")"
   ]
  },
  {
   "cell_type": "markdown",
   "metadata": {},
   "source": [
    "9. Determine if School_bus is Sub class of Vehicle Class"
   ]
  },
  {
   "cell_type": "code",
   "execution_count": 10,
   "metadata": {},
   "outputs": [
    {
     "name": "stdout",
     "output_type": "stream",
     "text": [
      "school_bus is an instance of the Bus class.\n",
      "school_bus is an instance of the Vehicle class.\n",
      "Bus is a subclass of Vehicle.\n"
     ]
    }
   ],
   "source": [
    "if isinstance(school_bus, Bus):\n",
    "    print(\"school_bus is an instance of the Bus class.\")\n",
    "else:\n",
    "    print(\"school_bus is not an instance of the Bus class.\")\n",
    "if isinstance(school_bus, Vehicle):\n",
    "    print(\"school_bus is an instance of the Vehicle class.\")\n",
    "else:\n",
    "    print(\"school_bus is not an instance of the Vehicle class.\")\n",
    "if issubclass(Bus, Vehicle):\n",
    "    print(\"Bus is a subclass of Vehicle.\")\n",
    "else:\n",
    "    print(\"Bus is not a subclass of Vehicle.\")"
   ]
  },
  {
   "cell_type": "markdown",
   "metadata": {},
   "source": [
    "10. Create a child class for Bus Class named Mini bus inheriting Bus class\n",
    "and price attribute and Print Price Method (Multilevel Inheritance)"
   ]
  },
  {
   "cell_type": "code",
   "execution_count": 11,
   "metadata": {},
   "outputs": [
    {
     "name": "stdout",
     "output_type": "stream",
     "text": [
      "Total Bus fare is: 3000\n",
      "The price of the Bus is: 15000\n"
     ]
    }
   ],
   "source": [
    "class Vehicle:\n",
    "    def __init__(self, name, mileage, capacity):\n",
    "        self.name = name\n",
    "        self.mileage = mileage\n",
    "        self.capacity = capacity\n",
    "    def fare(self):\n",
    "        return self.capacity * 100\n",
    "class Bus(Vehicle):\n",
    "    def __init__(self, name, mileage, capacity, price):\n",
    "        super().__init__(name, mileage, capacity)\n",
    "        self.price = price\n",
    "    def print_price(self):\n",
    "            print(\"The price of the Bus is:\", self.price)\n",
    "class MiniBus(Bus):\n",
    "    def __init__(self, name, mileage, capacity, price):\n",
    "        super().__init__(name, mileage, capacity, price)\n",
    "mini_bus = MiniBus(\"Mini Bus\", 10, 30, 15000)\n",
    "\n",
    "print(\"Total Bus fare is:\", mini_bus.fare())\n",
    "mini_bus.print_price()"
   ]
  },
  {
   "cell_type": "markdown",
   "metadata": {},
   "source": [
    "11. Create a car class inheriting Vehicle class and add type and Print\n",
    "attribute and display Type method method for the same"
   ]
  },
  {
   "cell_type": "code",
   "execution_count": 12,
   "metadata": {},
   "outputs": [
    {
     "name": "stdout",
     "output_type": "stream",
     "text": [
      "Total Car fare is: 500\n",
      "Vehicle Type: Sedan\n"
     ]
    }
   ],
   "source": [
    "class Vehicle:\n",
    "    def __init__(self, name, mileage, capacity):\n",
    "        self.name = name\n",
    "        self.mileage = mileage\n",
    "        self.capacity = capacity\n",
    "    def fare(self):\n",
    "        return self.capacity * 100\n",
    "class Car(Vehicle):\n",
    "    def __init__(self, name, mileage, capacity, car_type):\n",
    "        super().__init__(name, mileage, capacity)\n",
    "        self.car_type = car_type\n",
    "    def display_type(self):\n",
    "        print(f\"Vehicle Type: {self.car_type}\")\n",
    "my_car = Car(\"Toyota Camry\", 15, 5, \"Sedan\")\n",
    "print(\"Total Car fare is:\", my_car.fare())\n",
    "my_car.display_type()"
   ]
  },
  {
   "cell_type": "markdown",
   "metadata": {},
   "source": [
    "12. "
   ]
  },
  {
   "cell_type": "code",
   "execution_count": 7,
   "metadata": {},
   "outputs": [
    {
     "name": "stdout",
     "output_type": "stream",
     "text": [
      "It's a square\n",
      "Area of square is 169\n",
      "It's a circle\n",
      "Area of circle is 113.04\n"
     ]
    }
   ],
   "source": [
    "class Shape:\n",
    "    def __str__(self):\n",
    "        return \"It is a shape!\"\n",
    "    def fact(self):\n",
    "        return \"Shape has area and perimeter\"\n",
    "class Square(Shape):\n",
    "    def __str__(self):\n",
    "        return \"It's a square\"\n",
    "    def fact(self):\n",
    "        return \"A square has four equal sides\"\n",
    "    def area(self, s):\n",
    "        return f\"Area of square is {s**2}\"\n",
    "class Circle(Shape):\n",
    "    def __str__(self):\n",
    "        return \"It's a circle\"\n",
    "    def area(self, r):\n",
    "        return f\"Area of circle is {3.14 * r**2}\"\n",
    "sq = Square()\n",
    "print(sq)\n",
    "print(sq.area(13))\n",
    "cr = Circle()\n",
    "print(cr)\n",
    "print(cr.area(6))"
   ]
  },
  {
   "cell_type": "markdown",
   "metadata": {},
   "source": [
    "13. "
   ]
  },
  {
   "cell_type": "code",
   "execution_count": 8,
   "metadata": {},
   "outputs": [
    {
     "name": "stdout",
     "output_type": "stream",
     "text": [
      "Displaying the vehicle information.\n",
      "The maximum speed of the truck is 200 km/h.\n",
      "The truck has 8 gears.\n",
      "Displaying the vehicle information.\n",
      "The maximum speed of the car is 240 km/h.\n",
      "The car has 6 gears.\n"
     ]
    }
   ],
   "source": [
    "class Vehicle:\n",
    "    def speed(self):\n",
    "        print(\"The maximum speed of the vehicle is 150 km/h.\")\n",
    "    def change_gear(self):\n",
    "        print(\"The vehicle has 5 gears.\")\n",
    "    def show(self):\n",
    "        print(\"Displaying the vehicle information.\")\n",
    "class Car(Vehicle):\n",
    "    def speed(self):\n",
    "        print(\"The maximum speed of the car is 240 km/h.\")\n",
    "    def change_gear(self):\n",
    "        print(\"The car has 6 gears.\")\n",
    "class Truck(Vehicle):\n",
    "    def speed(self):\n",
    "        print(\"The maximum speed of the truck is 200 km/h.\")\n",
    "    def change_gear(self):\n",
    "        print(\"The truck has 8 gears.\")\n",
    "        \n",
    "truck = Truck()\n",
    "truck.show()\n",
    "truck.speed()\n",
    "truck.change_gear()\n",
    "car = Car()\n",
    "car.show()\n",
    "car.speed()\n",
    "car.change_gear()"
   ]
  },
  {
   "cell_type": "markdown",
   "metadata": {},
   "source": [
    "14. Write a program in python to demonstrate how method overloading is\n",
    "achieved. Create a function to perform addition operation. If 2 no’s are\n",
    "given it should perform addition of 2 no’s otherwise it should add 3 nos."
   ]
  },
  {
   "cell_type": "code",
   "execution_count": 13,
   "metadata": {},
   "outputs": [
    {
     "name": "stdout",
     "output_type": "stream",
     "text": [
      "Sum of two numbers: 15\n",
      "Sum of three numbers: 30\n"
     ]
    }
   ],
   "source": [
    "class Addition:\n",
    "    def add(self, a, b, c=0):\n",
    "     return a + b + c\n",
    "obj = Addition()\n",
    "print(\"Sum of two numbers:\", obj.add(5, 10))\n",
    "print(\"Sum of three numbers:\", obj.add(5, 10, 15))"
   ]
  },
  {
   "cell_type": "markdown",
   "metadata": {},
   "source": [
    "15. Write a program in python to perform method overloading. Create a\n",
    "function to calculate area of given shape. If 1 side is given calculate area\n",
    "of square, if Length and breadth is given calculate the area of Rectangle."
   ]
  },
  {
   "cell_type": "code",
   "execution_count": 14,
   "metadata": {},
   "outputs": [
    {
     "name": "stdout",
     "output_type": "stream",
     "text": [
      "Area of square: 25\n",
      "Area of rectangle: 50\n"
     ]
    }
   ],
   "source": [
    "class Shape:\n",
    "    def area(self, side, breadth=0):\n",
    "        if breadth == 0:\n",
    "            return side * side\n",
    "        else:\n",
    "            return side * breadth\n",
    "shape = Shape()\n",
    "print(\"Area of square:\", shape.area(5))\n",
    "print(\"Area of rectangle:\", shape.area(10, 5))"
   ]
  },
  {
   "cell_type": "markdown",
   "metadata": {},
   "source": [
    "16. Write a program to Implement Abstract class using Following problem\n",
    "statement"
   ]
  },
  {
   "cell_type": "markdown",
   "metadata": {},
   "source": [
    "The Employee class represents an employee, either full-time or hourly. the Employee\n",
    "class should be an abstract class because there’re only full-time employees and hourly\n",
    "employees, no general employees exist. The Employee class should have a property that\n",
    "returns the full name of an employee. In addition, it should have a method that calculates\n",
    "salary. The method for calculating salary should be an abstract method. The\n",
    "Full_time_Employee class inherits from the Employee class. It’ll provide the\n",
    "implementation for the get_salary () method. Since full-time employees get fixed\n",
    "salaries, you can initialize the salary in the constructor of the class. The HourlyEmployee\n",
    "also inherits from the Employee class. However, hourly employees get paid by working\n",
    "hours and their rates. Therefore, you can initialize this information in the constructor ofIn [ ]:In [2]:In [3]:\n",
    "the class. To calculate the salary for the hourly employees, you multiply the working\n",
    "hours and rates."
   ]
  },
  {
   "cell_type": "code",
   "execution_count": 19,
   "metadata": {},
   "outputs": [
    {
     "name": "stdout",
     "output_type": "stream",
     "text": [
      "Full-time employee Smayan Kulkarni salary: 750000\n",
      "Hourly employee Sian Rodrigues salary: 23500\n"
     ]
    }
   ],
   "source": [
    "from abc import ABC, abstractmethod\n",
    "\n",
    "class Employee(ABC):\n",
    "    def __init__(self, first_name, last_name):\n",
    "        self.first_name = first_name\n",
    "        self.last_name = last_name\n",
    "    @property\n",
    "    def full_name(self):\n",
    "        return f\"{self.first_name} {self.last_name}\"\n",
    "    @abstractmethod\n",
    "    def get_salary(self):\n",
    "        pass\n",
    "    \n",
    "class FullTimeEmployee(Employee):\n",
    "    def __init__(self, first_name, last_name, salary):\n",
    "        super().__init__(first_name, last_name)\n",
    "        self.salary = salary\n",
    "    def get_salary(self):\n",
    "        \n",
    "        return self.salary\n",
    "class HourlyEmployee(Employee):\n",
    "    def __init__(self, first_name, last_name, hourly_rate, hours_worked):\n",
    "        super().__init__(first_name, last_name)\n",
    "        self.hourly_rate = hourly_rate\n",
    "        self.hours_worked = hours_worked\n",
    "    def get_salary(self):\n",
    "        return self.hourly_rate * self.hours_worked\n",
    "\n",
    "\n",
    "    \n",
    "full_time_emp = FullTimeEmployee(\"Smayan\", \"Kulkarni\", 750000)\n",
    "hourly_emp = HourlyEmployee(\"Sian\", \"Rodrigues\", 50, 470)\n",
    "print(f\"Full-time employee {full_time_emp.full_name} salary: {full_time_emp.get_salary()}\")\n",
    "print(f\"Hourly employee {hourly_emp.full_name} salary: {hourly_emp.get_salary()}\")\n"
   ]
  },
  {
   "cell_type": "markdown",
   "metadata": {},
   "source": [
    "17. Write a Python Program to overload + operator to add Point (X1, Y1)\n",
    "and Point (X2, Y2)"
   ]
  },
  {
   "cell_type": "code",
   "execution_count": 16,
   "metadata": {},
   "outputs": [
    {
     "name": "stdout",
     "output_type": "stream",
     "text": [
      "Result of addition: (6, 8)\n"
     ]
    }
   ],
   "source": [
    "class Point:\n",
    "    def __init__(self, x, y):\n",
    "        self.x = x\n",
    "        self.y = y\n",
    "    def __add__(self, other):\n",
    "        return Point(self.x + other.x, self.y + other.y)\n",
    "    def __str__(self):\n",
    "        return f\"({self.x}, {self.y})\"\n",
    "point1 = Point(2, 3)\n",
    "point2 = Point(4, 5)\n",
    "result = point1 + point2\n",
    "print(\"Result of addition:\", result)"
   ]
  },
  {
   "cell_type": "markdown",
   "metadata": {},
   "source": [
    "18. Write a Python Program to perform division of Two Numbers, take both\n",
    "the nos from users from user, use TRY, EXCEPT and FINALLY block to\n",
    "raise an Exception when Diving Number by Zero."
   ]
  },
  {
   "cell_type": "code",
   "execution_count": 17,
   "metadata": {},
   "outputs": [
    {
     "name": "stdout",
     "output_type": "stream",
     "text": [
      "Error: Cannot divide by zero.\n",
      "Execution completed.\n"
     ]
    }
   ],
   "source": [
    "def divide_nos():\n",
    "    try:\n",
    "        num1 = float(input(\"Enter the first number: \"))\n",
    "        num2 = float(input(\"Enter the second number: \"))\n",
    "        result = num1 / num2\n",
    "    except ZeroDivisionError:\n",
    "        print(\"Error: Cannot divide by zero.\")\n",
    "    finally:\n",
    "        print(\"Execution completed.\")\n",
    "\n",
    "divide_nos()"
   ]
  },
  {
   "cell_type": "markdown",
   "metadata": {},
   "source": [
    "19. Write a program that creates two threads: one thread prints the even\n",
    "while the other prints the odd numbers. Display both once the threads\n",
    "have finished."
   ]
  },
  {
   "cell_type": "code",
   "execution_count": 3,
   "metadata": {},
   "outputs": [
    {
     "name": "stdout",
     "output_type": "stream",
     "text": [
      "Odd: 1\n",
      "Odd: 3\n",
      "Odd: 5\n",
      "Odd: 7\n",
      "Odd: 9\n",
      "Odd: 11\n",
      "Odd: 13\n",
      "Odd: 15\n",
      "Odd: 17\n",
      "Odd: 19\n",
      "Even: 0\n",
      "Even: 2\n",
      "Even: 4\n",
      "Even: 6\n",
      "Even: 8\n",
      "Even: 10\n",
      "Even: 12\n",
      "Even: 14\n",
      "Even: 16\n",
      "Even: 18\n",
      "Even: 20\n",
      "Both threads have finished execution.\n"
     ]
    }
   ],
   "source": [
    "import threading\n",
    "\n",
    "MAX_NUM = 50\n",
    "results = []\n",
    "lock = threading.Lock()\n",
    "\n",
    "def print_even():\n",
    "    for num in range(0, MAX_NUM + 1, 2):\n",
    "        with lock:\n",
    "            results.append(num)\n",
    "\n",
    "def print_odd():\n",
    "    for num in range(1, MAX_NUM + 1, 2):\n",
    "        with lock:\n",
    "            results.append(num)\n",
    "\n",
    "even_thread = threading.Thread(target=print_even)\n",
    "odd_thread = threading.Thread(target=print_odd)\n",
    "\n",
    "even_thread.start()\n",
    "odd_thread.start()\n",
    "\n",
    "even_thread.join()\n",
    "odd_thread.join()\n",
    "\n",
    "print(\"Numbers:\", results)\n",
    "print(\"Both threads have finished executing.\")\n",
    "\n"
   ]
  },
  {
   "cell_type": "markdown",
   "metadata": {},
   "source": [
    "20. Create a program that calculates the factorial of two different numbers\n",
    "concurrently using two threads. Print the results of both calculations once\n",
    "both threads are done."
   ]
  },
  {
   "cell_type": "code",
   "execution_count": 4,
   "metadata": {},
   "outputs": [
    {
     "name": "stdout",
     "output_type": "stream",
     "text": [
      "Factorial of 5 is 120\n",
      "Factorial of 7 is 5040\n"
     ]
    }
   ],
   "source": [
    "import threading\n",
    "\n",
    "def factorial(n):\n",
    "    fact = 1\n",
    "    for i in range(1, n + 1):\n",
    "        fact *= i\n",
    "    return fact\n",
    "\n",
    "def thread_factorial(n, result, index):\n",
    "    result[index] = factorial(n)\n",
    "\n",
    "num1 = 5\n",
    "num2 = 7\n",
    "\n",
    "results = [0, 0]\n",
    "\n",
    "thread1 = threading.Thread(target=thread_factorial, args=(num1, results, 0))\n",
    "thread2 = threading.Thread(target=thread_factorial, args=(num2, results, 1))\n",
    "\n",
    "thread1.start()\n",
    "thread2.start()\n",
    "\n",
    "thread1.join()\n",
    "thread2.join()\n",
    "\n",
    "print(f\"Factorial of {num1} is {results[0]}\")\n",
    "print(f\"Factorial of {num2} is {results[1]}\")\n"
   ]
  }
 ],
 "metadata": {
  "kernelspec": {
   "display_name": "Python 3",
   "language": "python",
   "name": "python3"
  },
  "language_info": {
   "codemirror_mode": {
    "name": "ipython",
    "version": 3
   },
   "file_extension": ".py",
   "mimetype": "text/x-python",
   "name": "python",
   "nbconvert_exporter": "python",
   "pygments_lexer": "ipython3",
   "version": "3.12.2"
  }
 },
 "nbformat": 4,
 "nbformat_minor": 2
}
