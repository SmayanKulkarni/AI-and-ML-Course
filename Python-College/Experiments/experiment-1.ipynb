{
 "cells": [
  {
   "cell_type": "markdown",
   "id": "02c4b223-b7cb-4234-9f86-b48828b4e167",
   "metadata": {},
   "source": [
    "# Experiment 1"
   ]
  },
  {
   "cell_type": "markdown",
   "id": "44ab0086-b583-427e-aee8-3d7b70c2dea7",
   "metadata": {},
   "source": [
    "#### 1. WAP to demonstrate the if,elif,else loop"
   ]
  },
  {
   "cell_type": "code",
   "execution_count": 1,
   "id": "462ddc12-bda4-4969-8406-2eacc69f4ce8",
   "metadata": {
    "scrolled": true
   },
   "outputs": [
    {
     "name": "stdout",
     "output_type": "stream",
     "text": [
      "5 is a positive number\n"
     ]
    }
   ],
   "source": [
    "n = int(input('Enter a number: '))\n",
    "if n>0:\n",
    "    print(f'{n} is a positive number')\n",
    "elif n<0:\n",
    "    print(f'{n} is a negative number')\n",
    "else:\n",
    "    print('Neither')"
   ]
  },
  {
   "cell_type": "markdown",
   "id": "2427be12-d278-4362-9353-ee9451c944bd",
   "metadata": {},
   "source": [
    "#### 2. WAP to demonstrate the for loop"
   ]
  },
  {
   "cell_type": "code",
   "execution_count": 7,
   "id": "67458f8e-9966-450e-8002-9f321d9a6b6a",
   "metadata": {
    "scrolled": true
   },
   "outputs": [
    {
     "name": "stdout",
     "output_type": "stream",
     "text": [
      "\n",
      "1:\n",
      "2:2:\n",
      "3:3:3:\n",
      "4:4:4:4:\n"
     ]
    }
   ],
   "source": [
    "for i in range(5):\n",
    "    for j in range(i):\n",
    "        print(i,end=':')\n",
    "    print()"
   ]
  },
  {
   "cell_type": "markdown",
   "id": "8fe46b27-0fb0-485b-80f8-0f96e1981292",
   "metadata": {},
   "source": [
    "#### 3. WAP to print the patterns"
   ]
  },
  {
   "cell_type": "code",
   "execution_count": 9,
   "id": "4f0ae152-adfd-4cb4-8fa2-c1333f382c53",
   "metadata": {
    "scrolled": true
   },
   "outputs": [
    {
     "name": "stdout",
     "output_type": "stream",
     "text": [
      "*****\n",
      "****\n",
      "***\n",
      "**\n",
      "*\n"
     ]
    }
   ],
   "source": [
    "for i in range(5,0,-1):\n",
    "    for j in range(i):\n",
    "        print('*',end='')\n",
    "    print()"
   ]
  },
  {
   "cell_type": "code",
   "execution_count": 15,
   "id": "1ca9265a-cb0a-49e5-b1e6-e8a971fda04b",
   "metadata": {
    "scrolled": true
   },
   "outputs": [
    {
     "name": "stdout",
     "output_type": "stream",
     "text": [
      "1\n",
      "12\n",
      "123\n",
      "1234\n",
      "12345\n"
     ]
    }
   ],
   "source": [
    "for i in range(1,6):\n",
    "    for j in range(1,i+1):\n",
    "        print(j,end='')\n",
    "    print()"
   ]
  },
  {
   "cell_type": "code",
   "execution_count": 23,
   "id": "60ab13ba-a9be-4ea6-85a7-f6583a299a2d",
   "metadata": {
    "scrolled": true
   },
   "outputs": [
    {
     "name": "stdout",
     "output_type": "stream",
     "text": [
      "\n",
      "*\n",
      "**\n",
      "***\n",
      "****\n",
      "*****\n",
      "****\n",
      "***\n",
      "**\n",
      "*\n"
     ]
    }
   ],
   "source": [
    "n=5\n",
    "for i in range(n+1):\n",
    "    for j in range(i):\n",
    "        print('*',end='')\n",
    "    print()\n",
    "for i in range(n-1):\n",
    "    for j in range(i,n-1):\n",
    "        print('*',end='')\n",
    "    print()"
   ]
  },
  {
   "cell_type": "markdown",
   "id": "cc129bb6-8b31-4a34-84ff-a3a1fd0adf61",
   "metadata": {},
   "source": [
    "#### 4. WAP to demonstrate use of break,pass and continue in a while loop"
   ]
  },
  {
   "cell_type": "code",
   "execution_count": 22,
   "id": "1f9d0c1d-ccaf-4a90-8b40-caa75b90eaea",
   "metadata": {
    "scrolled": true
   },
   "outputs": [
    {
     "name": "stdout",
     "output_type": "stream",
     "text": [
      "1\n",
      "2\n",
      "\n",
      "1\n",
      "2\n",
      "4\n",
      "\n",
      "1\n",
      "2\n",
      "3\n",
      "4\n"
     ]
    }
   ],
   "source": [
    "for i in range(1,5):\n",
    "    if i == 3:\n",
    "        break\n",
    "    print(i)\n",
    "print()\n",
    "for i in range(1,5):\n",
    "    if i == 3:\n",
    "        continue\n",
    "    print(i)\n",
    "print()\n",
    "for i in range(1,5):\n",
    "    if i == 3:\n",
    "        pass\n",
    "    print(i)"
   ]
  },
  {
   "cell_type": "markdown",
   "id": "5d628f3e-5aa7-4d26-b9a9-5e46e55a1663",
   "metadata": {},
   "source": [
    "#### 5. Write a program to calculate the electricity bill (accept number of units from user)"
   ]
  },
  {
   "cell_type": "code",
   "execution_count": 17,
   "id": "c92befb8-1034-4d5b-b161-221342bdf6a8",
   "metadata": {
    "scrolled": true
   },
   "outputs": [
    {
     "name": "stdout",
     "output_type": "stream",
     "text": [
      "Enter the number of units consumed:  300\n"
     ]
    },
    {
     "name": "stdout",
     "output_type": "stream",
     "text": [
      "Your electricity bill is Rs 1500\n"
     ]
    }
   ],
   "source": [
    "units = int(input('Enter the number of units consumed: '))\n",
    "bill = 0\n",
    "if units>100:\n",
    "    if units>200:\n",
    "        bill = 5*100 + (units-200)*10\n",
    "    else:\n",
    "        bill = (units-100)*5\n",
    "print('Your electricity bill is Rs',bill)"
   ]
  },
  {
   "cell_type": "markdown",
   "id": "5c2461ab-6094-4a99-bb3a-5a167ae13342",
   "metadata": {},
   "source": [
    "#### 6. Write a Python program to count the number of even and odd numbers in a series of numbers"
   ]
  },
  {
   "cell_type": "code",
   "execution_count": 12,
   "id": "dc1d1a01-2b99-4127-86da-65d0d5ed08fc",
   "metadata": {
    "scrolled": true
   },
   "outputs": [
    {
     "name": "stdout",
     "output_type": "stream",
     "text": [
      "Number of even numbers: 4\n",
      "Number of odd numbers: 5\n"
     ]
    }
   ],
   "source": [
    "numbers = (1,2,3,4,5,6,7,8,9)\n",
    "even = 0\n",
    "odd = 0\n",
    "for i in numbers:\n",
    "    if i%2==0:\n",
    "        even+=1\n",
    "    else:\n",
    "        odd+=1\n",
    "print('Number of even numbers:',even)\n",
    "print('Number of odd numbers:',odd)"
   ]
  },
  {
   "cell_type": "markdown",
   "id": "2e9b42dc-e34e-4e0a-a102-f36a51f9554d",
   "metadata": {},
   "source": [
    " 7. Write a Python program that iterates the integers from 1 to 50. For multiples of three print \"Fizz\" instead of\n",
    " the number and for multiples of five print \"Buzz\". For numbers that are multiples of three and five, print\n",
    " \"FizzBuzz\" ."
   ]
  },
  {
   "cell_type": "code",
   "execution_count": 25,
   "id": "fe30b4d9-d989-41d5-b815-e5b510c3dde8",
   "metadata": {
    "scrolled": true
   },
   "outputs": [
    {
     "name": "stdout",
     "output_type": "stream",
     "text": [
      "1\n",
      "2\n",
      "Fizz\n",
      "4\n",
      "Buzz\n",
      "Fizz\n",
      "7\n",
      "8\n",
      "Fizz\n",
      "Buzz\n",
      "11\n",
      "Fizz\n",
      "13\n",
      "14\n",
      "FizzBuzz\n",
      "16\n",
      "17\n",
      "Fizz\n",
      "19\n",
      "Buzz\n",
      "Fizz\n",
      "22\n",
      "23\n",
      "Fizz\n",
      "Buzz\n",
      "26\n",
      "Fizz\n",
      "28\n",
      "29\n",
      "FizzBuzz\n",
      "31\n",
      "32\n",
      "Fizz\n",
      "34\n",
      "Buzz\n",
      "Fizz\n",
      "37\n",
      "38\n",
      "Fizz\n",
      "Buzz\n",
      "41\n",
      "Fizz\n",
      "43\n",
      "44\n",
      "FizzBuzz\n",
      "46\n",
      "47\n",
      "Fizz\n",
      "49\n",
      "Buzz\n"
     ]
    }
   ],
   "source": [
    "for i in range(1,51):\n",
    "    if i%3==0 and i%5==0:\n",
    "        print('FizzBuzz')\n",
    "        continue\n",
    "    elif i%3==0:\n",
    "        print('Fizz')\n",
    "        continue\n",
    "    elif i%5==0:\n",
    "        print('Buzz')\n",
    "        continue\n",
    "    print(i)"
   ]
  }
 ],
 "metadata": {
  "kernelspec": {
   "display_name": "Python 3",
   "language": "python",
   "name": "python3"
  },
  "language_info": {
   "codemirror_mode": {
    "name": "ipython",
    "version": 3
   },
   "file_extension": ".py",
   "mimetype": "text/x-python",
   "name": "python",
   "nbconvert_exporter": "python",
   "pygments_lexer": "ipython3",
   "version": "3.11.10"
  }
 },
 "nbformat": 4,
 "nbformat_minor": 5
}
