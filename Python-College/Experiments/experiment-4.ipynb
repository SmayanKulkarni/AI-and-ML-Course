{
 "cells": [
  {
   "cell_type": "markdown",
   "metadata": {},
   "source": [
    "# **Experiment 4**"
   ]
  },
  {
   "cell_type": "markdown",
   "metadata": {},
   "source": [
    "### **Name : Smayan Kulkarni, SAP ID : 60009230142 , Roll Number : D100, Division : D2-2**"
   ]
  },
  {
   "cell_type": "markdown",
   "metadata": {},
   "source": [
    "**1. Define a function multiply(x, y) that returns the product of x and y.**"
   ]
  },
  {
   "cell_type": "code",
   "execution_count": 1,
   "metadata": {},
   "outputs": [
    {
     "data": {
      "text/plain": [
       "6"
      ]
     },
     "execution_count": 1,
     "metadata": {},
     "output_type": "execute_result"
    }
   ],
   "source": [
    "def multiply(x, y):\n",
    "    return x * y\n",
    "multiply(3,2)"
   ]
  },
  {
   "cell_type": "markdown",
   "metadata": {},
   "source": [
    "**2. Write a function is_even(num) that returns True if num is even, and False otherwise.**"
   ]
  },
  {
   "cell_type": "code",
   "execution_count": 2,
   "metadata": {},
   "outputs": [
    {
     "data": {
      "text/plain": [
       "False"
      ]
     },
     "execution_count": 2,
     "metadata": {},
     "output_type": "execute_result"
    }
   ],
   "source": [
    "def is_even(num):\n",
    "    return num % 2 == 0\n",
    "is_even(3)"
   ]
  },
  {
   "cell_type": "markdown",
   "metadata": {},
   "source": [
    "**3. Create a function concat_strings(s1, s2) that returns the concatenation of s1 and s2**"
   ]
  },
  {
   "cell_type": "code",
   "execution_count": 3,
   "metadata": {},
   "outputs": [
    {
     "data": {
      "text/plain": [
       "'Hello World'"
      ]
     },
     "execution_count": 3,
     "metadata": {},
     "output_type": "execute_result"
    }
   ],
   "source": [
    "def concat_strings(s1, s2):\n",
    "    return s1 + s2\n",
    "concat_strings(\"Hello\",\" World\")"
   ]
  },
  {
   "cell_type": "markdown",
   "metadata": {},
   "source": [
    "**4. Define max_of_two(a, b) that returns the larger of a and b.**"
   ]
  },
  {
   "cell_type": "code",
   "execution_count": 4,
   "metadata": {},
   "outputs": [
    {
     "data": {
      "text/plain": [
       "10"
      ]
     },
     "execution_count": 4,
     "metadata": {},
     "output_type": "execute_result"
    }
   ],
   "source": [
    "def max_of_two(a, b):\n",
    "    return a if a > b else b\n",
    "max_of_two(10,7)"
   ]
  },
  {
   "cell_type": "markdown",
   "metadata": {},
   "source": [
    "**5. Write a recursive function count_down(n) that prints numbers from n down to 1**"
   ]
  },
  {
   "cell_type": "code",
   "execution_count": 5,
   "metadata": {},
   "outputs": [
    {
     "name": "stdout",
     "output_type": "stream",
     "text": [
      "5\n",
      "4\n",
      "3\n",
      "2\n",
      "1\n"
     ]
    }
   ],
   "source": [
    "def count_down(n):\n",
    "    if n > 0:\n",
    "        print(n)\n",
    "        count_down(n - 1)\n",
    "count_down(5)"
   ]
  },
  {
   "cell_type": "markdown",
   "metadata": {},
   "source": [
    "**6. Create a recursive function sum_of_list(lst) that returns the sum of all elements in the list lst.**"
   ]
  },
  {
   "cell_type": "code",
   "execution_count": 6,
   "metadata": {},
   "outputs": [
    {
     "data": {
      "text/plain": [
       "19"
      ]
     },
     "execution_count": 6,
     "metadata": {},
     "output_type": "execute_result"
    }
   ],
   "source": [
    "def sum_of_list(lst):\n",
    "    if not lst:\n",
    "        return 0\n",
    "    return lst[0] + sum_of_list(lst[1:])\n",
    "sum_of_list([3,6,2,7,1])"
   ]
  },
  {
   "cell_type": "markdown",
   "metadata": {},
   "source": [
    "**7. Define a recursive function find_max(lst) that returns the maximum value in the list lst.**"
   ]
  },
  {
   "cell_type": "code",
   "execution_count": 7,
   "metadata": {},
   "outputs": [
    {
     "data": {
      "text/plain": [
       "10"
      ]
     },
     "execution_count": 7,
     "metadata": {},
     "output_type": "execute_result"
    }
   ],
   "source": [
    "def find_max(lst):\n",
    "    if len(lst) == 1:\n",
    "        return lst[0]\n",
    "    return max(lst[0], find_max(lst[1:]))\n",
    "find_max([3,6,1,10])"
   ]
  },
  {
   "cell_type": "markdown",
   "metadata": {},
   "source": [
    "**8. Write a function reverse_list(lst) that reverses the list lst using recursion**"
   ]
  },
  {
   "cell_type": "code",
   "execution_count": 8,
   "metadata": {},
   "outputs": [
    {
     "data": {
      "text/plain": [
       "[5, 4, 3, 2, 1]"
      ]
     },
     "execution_count": 8,
     "metadata": {},
     "output_type": "execute_result"
    }
   ],
   "source": [
    "def reverse_list(lst):\n",
    "    if len(lst) == 0:\n",
    "        return []\n",
    "    return [lst[-1]] + reverse_list(lst[:-1])\n",
    "reverse_list([1,2,3,4,5])"
   ]
  },
  {
   "cell_type": "markdown",
   "metadata": {},
   "source": [
    "**9. Create a recursive function string_length(s) that returns the length of the string s.**"
   ]
  },
  {
   "cell_type": "code",
   "execution_count": 9,
   "metadata": {},
   "outputs": [
    {
     "data": {
      "text/plain": [
       "14"
      ]
     },
     "execution_count": 9,
     "metadata": {},
     "output_type": "execute_result"
    }
   ],
   "source": [
    "def string_length(s):\n",
    "    if s == '':\n",
    "        return 0\n",
    "    return 1 + string_length(s[1:])\n",
    "string_length(\"SmayanKulkarni\")"
   ]
  },
  {
   "cell_type": "markdown",
   "metadata": {},
   "source": [
    "**10. Define power(base, exp) that calculates base raised to the power of exp using recursion.**"
   ]
  },
  {
   "cell_type": "code",
   "execution_count": 10,
   "metadata": {},
   "outputs": [
    {
     "data": {
      "text/plain": [
       "27"
      ]
     },
     "execution_count": 10,
     "metadata": {},
     "output_type": "execute_result"
    }
   ],
   "source": [
    "def power(base, exp):\n",
    "    if exp == 0:\n",
    "        return 1\n",
    "    return base * power(base, exp - 1)\n",
    "power(3,3)"
   ]
  },
  {
   "cell_type": "markdown",
   "metadata": {},
   "source": [
    "**11. Write a recursive function print_pattern(n) that prints a pattern of * in n rows.**"
   ]
  },
  {
   "cell_type": "code",
   "execution_count": 11,
   "metadata": {},
   "outputs": [
    {
     "name": "stdout",
     "output_type": "stream",
     "text": [
      "*\n",
      "**\n",
      "***\n",
      "****\n",
      "*****\n"
     ]
    }
   ],
   "source": [
    "def print_pattern(n):\n",
    "    if n > 0:\n",
    "        print_pattern(n - 1)\n",
    "        print('*' * n)\n",
    "print_pattern(5)"
   ]
  },
  {
   "cell_type": "markdown",
   "metadata": {},
   "source": [
    "**12. Create a recursive function factorial(n) that returns the factorial of n.**"
   ]
  },
  {
   "cell_type": "code",
   "execution_count": 12,
   "metadata": {},
   "outputs": [
    {
     "data": {
      "text/plain": [
       "120"
      ]
     },
     "execution_count": 12,
     "metadata": {},
     "output_type": "execute_result"
    }
   ],
   "source": [
    "def factorial(n):\n",
    "    if n == 0:\n",
    "        return 1\n",
    "    return n * factorial(n - 1)\n",
    "factorial(5)"
   ]
  },
  {
   "cell_type": "markdown",
   "metadata": {},
   "source": [
    "**13. Write a function that merges two dictionaries. The merger should handle cases where the dictionaries have overlapping keys by storing values in a list. If a key exists in both dictionaries, the value in the resulting dictionary should be a list containing the values from both dictionaries.**"
   ]
  },
  {
   "cell_type": "code",
   "execution_count": 13,
   "metadata": {},
   "outputs": [
    {
     "name": "stdout",
     "output_type": "stream",
     "text": [
      "{'a': 1, 'b': [2, 4], 'c': [3, 5], 'd': 6}\n"
     ]
    }
   ],
   "source": [
    "def merge_dicts(dict1, dict2):\n",
    "    merged_dict = dict1\n",
    "    \n",
    "    for key, value in dict2.items():\n",
    "        if key in merged_dict:\n",
    "            if type(merged_dict[key]) != list:\n",
    "                merged_dict[key] = [merged_dict[key]]\n",
    "            merged_dict[key].append(value)\n",
    "        else:\n",
    "            merged_dict[key] = value\n",
    "    return merged_dict\n",
    "dict1 = {'a': 1, 'b': 2, 'c': 3}\n",
    "dict2 = {'b': 4, 'c': 5, 'd': 6}\n",
    "\n",
    "result = merge_dicts(dict1, dict2)\n",
    "print(result)"
   ]
  },
  {
   "cell_type": "markdown",
   "metadata": {},
   "source": [
    "**14. Write program using lambda function to display numbers divisible by 9 from the given the list**"
   ]
  },
  {
   "cell_type": "code",
   "execution_count": 14,
   "metadata": {},
   "outputs": [
    {
     "name": "stdout",
     "output_type": "stream",
     "text": [
      "[9, 18, 45, 90]\n"
     ]
    }
   ],
   "source": [
    "lst = [10, 9, 18, 22, 45, 90]\n",
    "div_by_9 = list(filter(lambda x: x % 9 == 0, lst))\n",
    "print(div_by_9)"
   ]
  },
  {
   "cell_type": "markdown",
   "metadata": {},
   "source": [
    "**15. Write a Python program to sort a list of tuples using Lambda. Original list of tuples: [('English', 88), ('Science', 90), ('Maths', 97), ('Social sciences', 82)] Sorting the List of Tuples: [('Social sciences', 82), ('English', 88), ('Science', 90), ('Maths', 97)]**"
   ]
  },
  {
   "cell_type": "code",
   "execution_count": 15,
   "metadata": {},
   "outputs": [
    {
     "data": {
      "text/plain": [
       "[('Social sciences', 82), ('English', 88), ('Science', 90), ('Maths', 97)]"
      ]
     },
     "execution_count": 15,
     "metadata": {},
     "output_type": "execute_result"
    }
   ],
   "source": [
    "lst = [('English', 88), ('Science', 90), ('Maths', 97), ('Social sciences', 82)]\n",
    "lst.sort(key=lambda x: x[1])\n",
    "lst"
   ]
  },
  {
   "cell_type": "markdown",
   "metadata": {},
   "source": [
    "**16. Write a Python program to find the intersection of two given arrays using Lambda**\n",
    "**Original arrays:**\n",
    "**[1, 2, 3, 5, 7, 8, 9, 10]**\n",
    "**[1, 2, 4, 8, 9]**\n",
    "**Intersection of the said arrays: [1, 2, 8, 9]**"
   ]
  },
  {
   "cell_type": "code",
   "execution_count": 16,
   "metadata": {},
   "outputs": [
    {
     "data": {
      "text/plain": [
       "[1, 2, 8, 9, 2]"
      ]
     },
     "execution_count": 16,
     "metadata": {},
     "output_type": "execute_result"
    }
   ],
   "source": [
    "arr1 = [1, 2, 3, 5, 7, 8, 9, 10,2,35,345,7,68,3434]\n",
    "arr2 = [1, 2, 4, 8, 9,45,23,86,35457]\n",
    "intersection = list(filter(lambda x: x in arr2, arr1))\n",
    "intersection"
   ]
  },
  {
   "cell_type": "markdown",
   "metadata": {},
   "source": [
    "**17. Write a Python program to add two given lists using map and lambda.**\n",
    "**Original list:**\n",
    "**[1, 2, 3]**\n",
    "**[4, 5, 6]**\n",
    "**Result: after adding two list**\n",
    "**[5, 7, 9]**"
   ]
  },
  {
   "cell_type": "code",
   "execution_count": 17,
   "metadata": {},
   "outputs": [
    {
     "data": {
      "text/plain": [
       "[5, 7, 9]"
      ]
     },
     "execution_count": 17,
     "metadata": {},
     "output_type": "execute_result"
    }
   ],
   "source": [
    "lst1 = [1, 2, 3]\n",
    "lst2 = [4, 5, 6]\n",
    "result = list(map(lambda x, y: x + y, lst1, lst2))\n",
    "result"
   ]
  },
  {
   "cell_type": "markdown",
   "metadata": {},
   "source": [
    "**18. Write a Python program to remove all elements from a given list present in another**\n",
    "**list using lambda.**\n",
    "**Original lists:**\n",
    "**list1: [1, 2, 3, 4, 5, 6, 7, 8, 9, 10]**\n",
    "**list2: [2, 4, 6, 8]**\n",
    "**Remove all elements from 'list1' present in 'list2:**\n",
    "**[1, 3, 5, 7, 9, 10]**"
   ]
  },
  {
   "cell_type": "code",
   "execution_count": 18,
   "metadata": {},
   "outputs": [
    {
     "data": {
      "text/plain": [
       "[1, 3, 5, 7, 9, 10]"
      ]
     },
     "execution_count": 18,
     "metadata": {},
     "output_type": "execute_result"
    }
   ],
   "source": [
    "list1 = [1, 2, 3, 4, 5, 6, 7, 8, 9, 10]\n",
    "list2 = [2, 4, 6, 8]\n",
    "filtered_list = list(filter(lambda x: x not in list2, list1))\n",
    "filtered_list"
   ]
  },
  {
   "cell_type": "markdown",
   "metadata": {},
   "source": [
    "**19. Read the total marks of 5 students and convert it to the percentage.**\n",
    "**1. Filter the top 3 students percentage from above result**\n",
    "**2. In the list of numbers from 1 to 20, replace multiples of 3 with \"Fizz\", multiples of**\n",
    "**5 with \"Buzz\", and multiples of both 3 and 5 with \"FizzBuzz\". Use the lambda**\n",
    "**function to get the task done**\n",
    "**3. Takes a list of numbers as input, computes the sum of the numbers, and prints the**\n",
    "**sum along with the average**"
   ]
  },
  {
   "cell_type": "code",
   "execution_count": 19,
   "metadata": {},
   "outputs": [
    {
     "name": "stdout",
     "output_type": "stream",
     "text": [
      "Top 3 Percentages: [92.0, 90.0, 88.0]\n",
      "FizzBuzz Result: [1, 2, 'Fizz', 4, 'Buzz', 'Fizz', 7, 8, 'Fizz', 'Buzz', 11, 'Fizz', 13, 14, 'FizzBuzz', 16, 17, 'Fizz', 19, 'Buzz']\n",
      "Sum: 150\n",
      "Average: 30.0\n"
     ]
    }
   ],
   "source": [
    "def get_top_3_percentages(marks, total_marks):\n",
    "    percentages = [(mark / total_marks) * 100 for mark in marks]\n",
    "    return sorted(percentages, reverse=True)[:3]\n",
    "numbers = list(range(1, 21))\n",
    "fizz_buzz = lambda x: \"FizzBuzz\" if x % 15 == 0 else \"Fizz\" if x % 3 == 0 else \"Buzz\" if x % 5 == 0 else x\n",
    "fizz_buzz_result = [fizz_buzz(num) for num in numbers]\n",
    "\n",
    "def compute_sum_and_average(numbers):\n",
    "    total_sum = sum(numbers)\n",
    "    average = total_sum / len(numbers) if numbers else 0\n",
    "    return total_sum, average\n",
    "\n",
    "# Example usage\n",
    "total_marks = 100 \n",
    "marks = [85, 90, 78, 88, 92] \n",
    "\n",
    "top_3 = get_top_3_percentages(marks, total_marks)\n",
    "print(\"Top 3 Percentages:\", top_3) \n",
    "print(\"FizzBuzz Result:\", fizz_buzz_result)\n",
    "numbers_list = [10, 20, 30, 40, 50] \n",
    "total_sum, average = compute_sum_and_average(numbers_list)\n",
    "print(\"Sum:\", total_sum)\n",
    "print(\"Average:\", average)\n"
   ]
  },
  {
   "cell_type": "markdown",
   "metadata": {},
   "source": [
    "**20. Write a Python program to count the occurrences of items in a given list using lambda.**\n",
    "**Original list:**\n",
    "**[3, 4, 5, 8, 0, 3, 8, 5, 0, 3, 1, 5, 2, 3, 4, 2]**\n",
    "**Count the occurrences of the items in the said list:**\n",
    "**{3: 4, 4: 2, 5: 3, 8: 2, 0: 2, 1: 1, 2: 2}****"
   ]
  },
  {
   "cell_type": "code",
   "execution_count": 20,
   "metadata": {},
   "outputs": [
    {
     "data": {
      "text/plain": [
       "{0: 2, 1: 1, 2: 2, 3: 4, 4: 2, 5: 3, 8: 2}"
      ]
     },
     "execution_count": 20,
     "metadata": {},
     "output_type": "execute_result"
    }
   ],
   "source": [
    "lst = [3, 4, 5, 8, 0, 3, 8, 5, 0, 3, 1, 5, 2, 3, 4, 2]\n",
    "occurrences = {i: lst.count(i) for i in set(lst)}\n",
    "occurrences"
   ]
  }
 ],
 "metadata": {
  "kernelspec": {
   "display_name": "Python 3 (ipykernel)",
   "language": "python",
   "name": "python3"
  },
  "language_info": {
   "codemirror_mode": {
    "name": "ipython",
    "version": 3
   },
   "file_extension": ".py",
   "mimetype": "text/x-python",
   "name": "python",
   "nbconvert_exporter": "python",
   "pygments_lexer": "ipython3",
   "version": "3.12.4"
  }
 },
 "nbformat": 4,
 "nbformat_minor": 4
}
