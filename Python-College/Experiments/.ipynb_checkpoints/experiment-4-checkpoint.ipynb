{
 "cells": [
  {
   "cell_type": "markdown",
   "metadata": {},
   "source": [
    "**1. Define a function multiply(x, y) that returns the product of x and y.**"
   ]
  },
  {
   "cell_type": "markdown",
   "metadata": {},
   "source": [
    "**2. Write a function is_even(num) that returns True if num is even, and False otherwise.**"
   ]
  },
  {
   "cell_type": "markdown",
   "metadata": {},
   "source": [
    "**3. Create a function concat_strings(s1, s2) that returns the concatenation of s1 and s2**"
   ]
  },
  {
   "cell_type": "markdown",
   "metadata": {},
   "source": [
    "**4. Define max_of_two(a, b) that returns the larger of a and b.**"
   ]
  },
  {
   "cell_type": "markdown",
   "metadata": {},
   "source": [
    "**5. Write a recursive function count_down(n) that prints numbers from n down to 1**"
   ]
  },
  {
   "cell_type": "markdown",
   "metadata": {},
   "source": [
    "**6. Create a recursive function sum_of_list(lst) that returns the sum of all elements in the list lst.**"
   ]
  },
  {
   "cell_type": "markdown",
   "metadata": {},
   "source": [
    "**7. Define a recursive function find_max(lst) that returns the maximum value in the list lst.**"
   ]
  },
  {
   "cell_type": "markdown",
   "metadata": {},
   "source": [
    "**8. Write a function reverse_list(lst) that reverses the list lst using recursion**"
   ]
  },
  {
   "cell_type": "markdown",
   "metadata": {},
   "source": [
    "**9. Create a recursive function string_length(s) that returns the length of the string s.**"
   ]
  },
  {
   "cell_type": "markdown",
   "metadata": {},
   "source": [
    "**10. Define power(base, exp) that calculates base raised to the power of exp using recursion.**"
   ]
  },
  {
   "cell_type": "markdown",
   "metadata": {},
   "source": [
    "**11. Write a recursive function print_pattern(n) that prints a pattern of * in n rows.**"
   ]
  },
  {
   "cell_type": "markdown",
   "metadata": {},
   "source": [
    "**12. Create a recursive function factorial(n) that returns the factorial of n.**"
   ]
  },
  {
   "cell_type": "markdown",
   "metadata": {},
   "source": [
    "**13. Write a function that merges two dictionaries. The merger should handle cases where the dictionaries have overlapping keys by storing values in a list. If a key exists in both dictionaries, the value in the resulting dictionary should be a list containing the values from both dictionaries.**"
   ]
  },
  {
   "cell_type": "markdown",
   "metadata": {},
   "source": [
    "**14. Write program using lambda function to display numbers divisible by 9 from the given the list**"
   ]
  },
  {
   "cell_type": "markdown",
   "metadata": {},
   "source": [
    "**15. Write a Python program to sort a list of tuples using Lambda. Original list of tuples: [('English', 88), ('Science', 90), ('Maths', 97), ('Social sciences', 82)] Sorting the List of Tuples: [('Social sciences', 82), ('English', 88), ('Science', 90), ('Maths', 97)]**"
   ]
  },
  {
   "cell_type": "markdown",
   "metadata": {},
   "source": [
    "**16. Write a Python program to find the intersection of two given arrays using Lambda**\n",
    "**Original arrays:**\n",
    "**[1, 2, 3, 5, 7, 8, 9, 10]**\n",
    "**[1, 2, 4, 8, 9]**\n",
    "**Intersection of the said arrays: [1, 2, 8, 9]**"
   ]
  },
  {
   "cell_type": "markdown",
   "metadata": {},
   "source": [
    "**17. Write a Python program to add two given lists using map and lambda.**\n",
    "**Original list:**\n",
    "**[1, 2, 3]**\n",
    "**[4, 5, 6]**\n",
    "**Result: after adding two list**\n",
    "**[5, 7, 9]**"
   ]
  },
  {
   "cell_type": "markdown",
   "metadata": {},
   "source": [
    "**18. Write a Python program to remove all elements from a given list present in another**\n",
    "**list using lambda.**\n",
    "**Original lists:**\n",
    "**list1: [1, 2, 3, 4, 5, 6, 7, 8, 9, 10]**\n",
    "**list2: [2, 4, 6, 8]**\n",
    "**Remove all elements from 'list1' present in 'list2:**\n",
    "**[1, 3, 5, 7, 9, 10]**"
   ]
  },
  {
   "cell_type": "markdown",
   "metadata": {},
   "source": [
    "**19. Read the total marks of 5 students and convert it to the percentage.**\n",
    "**1. Filter the top 3 students percentage from above result**\n",
    "**2. In the list of numbers from 1 to 20, replace multiples of 3 with \"Fizz\", multiples of**\n",
    "**5 with \"Buzz\", and multiples of both 3 and 5 with \"FizzBuzz\". Use the lambda**\n",
    "**function to get the task done**\n",
    "**3. Takes a list of numbers as input, computes the sum of the numbers, and prints the**\n",
    "**sum along with the average**"
   ]
  },
  {
   "cell_type": "markdown",
   "metadata": {},
   "source": [
    "**20. Write a Python program to count the occurrences of items in a given list using lambda.**\n",
    "**Original list:**\n",
    "**[3, 4, 5, 8, 0, 3, 8, 5, 0, 3, 1, 5, 2, 3, 4, 2]**\n",
    "**Count the occurrences of the items in the said list:**\n",
    "**{3: 4, 4: 2, 5: 3, 8: 2, 0: 2, 1: 1, 2: 2}****"
   ]
  },
  {
   "cell_type": "markdown",
   "metadata": {},
   "source": []
  }
 ],
 "metadata": {
  "language_info": {
   "name": "python"
  }
 },
 "nbformat": 4,
 "nbformat_minor": 2
}
