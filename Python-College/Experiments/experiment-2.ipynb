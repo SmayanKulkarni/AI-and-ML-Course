{
 "cells": [
  {
   "cell_type": "markdown",
   "metadata": {},
   "source": [
    "# **Experiment 2**"
   ]
  },
  {
   "cell_type": "markdown",
   "metadata": {},
   "source": [
    "### **Name : Smayan Kulkarni, SAP ID : 60009230142 , Roll Number : D100, Division : D2-2**"
   ]
  },
  {
   "cell_type": "markdown",
   "metadata": {},
   "source": [
    "**1. Create a string variable s with the value \"Hello World\" and print its length.**"
   ]
  },
  {
   "cell_type": "code",
   "execution_count": 1,
   "metadata": {},
   "outputs": [
    {
     "data": {
      "text/plain": [
       "11"
      ]
     },
     "execution_count": 1,
     "metadata": {},
     "output_type": "execute_result"
    }
   ],
   "source": [
    "a = 'Hello World'\n",
    "len(a)"
   ]
  },
  {
   "cell_type": "markdown",
   "metadata": {},
   "source": [
    "**2. Convert the string \"Python Programming\" to lowercase and print it.**"
   ]
  },
  {
   "cell_type": "code",
   "execution_count": 2,
   "metadata": {},
   "outputs": [
    {
     "name": "stdout",
     "output_type": "stream",
     "text": [
      "python programming\n"
     ]
    }
   ],
   "source": [
    "a = \"Python Programming\"\n",
    "a= a.lower()\n",
    "print(a)"
   ]
  },
  {
   "cell_type": "code",
   "execution_count": 3,
   "metadata": {},
   "outputs": [
    {
     "name": "stdout",
     "output_type": "stream",
     "text": [
      "Data Science\n"
     ]
    }
   ],
   "source": [
    "a = \"Data\"\n",
    "b = \"Science\"\n",
    "print(a + \" \" + b)"
   ]
  },
  {
   "cell_type": "markdown",
   "metadata": {},
   "source": [
    "**4. Remove all leading and trailing whitespace from the string \" Data Analysis \" and print\n",
    "it**"
   ]
  },
  {
   "cell_type": "code",
   "execution_count": 4,
   "metadata": {},
   "outputs": [
    {
     "name": "stdout",
     "output_type": "stream",
     "text": [
      "Data Analysis\n"
     ]
    }
   ],
   "source": [
    "str = \" Data Analysis \"\n",
    "str = str.strip()\n",
    "print(str)"
   ]
  },
  {
   "cell_type": "markdown",
   "metadata": {},
   "source": [
    "**5. Check if the string \"level\" is a palindrome (reads the same forwards and\n",
    "backwards) and print the result**"
   ]
  },
  {
   "cell_type": "code",
   "execution_count": 5,
   "metadata": {},
   "outputs": [
    {
     "name": "stdout",
     "output_type": "stream",
     "text": [
      "True\n"
     ]
    }
   ],
   "source": [
    "string = \"level\"\n",
    "ispali = (string == string[::-1])\n",
    "print(ispali)"
   ]
  },
  {
   "cell_type": "markdown",
   "metadata": {},
   "source": [
    "**6. WAP to print all even length words in a string**"
   ]
  },
  {
   "cell_type": "code",
   "execution_count": 6,
   "metadata": {},
   "outputs": [
    {
     "name": "stdout",
     "output_type": "stream",
     "text": [
      "This\n",
      "is\n",
      "sample\n",
      "string\n",
      "with\n",
      "of\n"
     ]
    }
   ],
   "source": [
    "string = \"This is a sample string with words of varying lengths\"\n",
    "words = string.split()\n",
    "\n",
    "for word in words:\n",
    "  if len(word) % 2 == 0:\n",
    "    print(word)\n"
   ]
  },
  {
   "cell_type": "markdown",
   "metadata": {},
   "source": [
    "**7.  WAP to print number of cvc (consonant-vowel-consonant) pairs in each string.**"
   ]
  },
  {
   "cell_type": "code",
   "execution_count": 7,
   "metadata": {},
   "outputs": [
    {
     "name": "stdout",
     "output_type": "stream",
     "text": [
      "2\n"
     ]
    }
   ],
   "source": [
    "vowels = \"aeiouAEIOU\"\n",
    "consonants = input(\"Enter any string\")\n",
    "count = 0\n",
    "\n",
    "for i in range(len(string) - 2):\n",
    "  if string[i] in consonants and string[i + 1] in vowels and string[i + 2] in consonants:\n",
    "    count += 1\n",
    "\n",
    "print(count)"
   ]
  },
  {
   "cell_type": "markdown",
   "metadata": {},
   "source": [
    "**8. Reverse the string ‘Hello’ only using string slicing**"
   ]
  },
  {
   "cell_type": "code",
   "execution_count": 8,
   "metadata": {},
   "outputs": [
    {
     "name": "stdout",
     "output_type": "stream",
     "text": [
      "olleH\n"
     ]
    }
   ],
   "source": [
    "str = \"Hello\"\n",
    "print(str[::-1])"
   ]
  },
  {
   "cell_type": "markdown",
   "metadata": {},
   "source": [
    "**9. WAP to remove more than 2 successive occurrences of the same alphabet in a sentence, example: “India is theeee besssst” must be made “India is the best”**"
   ]
  },
  {
   "cell_type": "code",
   "execution_count": 9,
   "metadata": {},
   "outputs": [
    {
     "name": "stdout",
     "output_type": "stream",
     "text": [
      "India is the best\n"
     ]
    }
   ],
   "source": [
    "import re\n",
    "\n",
    "def remove_consecutive_duplicates(string, max_occurrences=2):\n",
    "    pattern = f\"([a-zA-Z])\\\\1{{{max_occurrences},}}\"\n",
    "    return re.sub(pattern, r\"\\1\", string)\n",
    "\n",
    "string = \"India is theeee besssst\"\n",
    "result = remove_consecutive_duplicates(string)\n",
    "print(result)  "
   ]
  },
  {
   "cell_type": "markdown",
   "metadata": {},
   "source": [
    "**10. WAP to find minimum number of rotations to obtain actual string. Example: given string is “lohel” actual string is “hello” thus 2 rotations as l,o has to be rotated to the right to get actual string**"
   ]
  },
  {
   "cell_type": "code",
   "execution_count": 10,
   "metadata": {},
   "outputs": [
    {
     "name": "stdout",
     "output_type": "stream",
     "text": [
      "lohellohel\n",
      "Minimum number of rotations required: 2\n"
     ]
    }
   ],
   "source": [
    "def find_min_rotations(string, actual_string):\n",
    "\n",
    "    if len(string) != len(actual_string):\n",
    "        return -1  # different lengths\n",
    "    concat = string + string # Joining both will create the word in some manner\n",
    "    print(concat) # to check the word formed\n",
    "    i = concat.find(actual_string)\n",
    "    return i if i != -1 else len(string)\n",
    "\n",
    "string = \"lohel\"\n",
    "corstr = \"hello\"\n",
    "minr = find_min_rotations(string, corstr)\n",
    "print(f\"Minimum number of rotations required: {minr}\")"
   ]
  },
  {
   "cell_type": "markdown",
   "metadata": {},
   "source": [
    "**11. WAP to trim leading and trailing whitespaces from the string**"
   ]
  },
  {
   "cell_type": "code",
   "execution_count": 11,
   "metadata": {},
   "outputs": [
    {
     "name": "stdout",
     "output_type": "stream",
     "text": [
      "stupid  whitespace\n"
     ]
    }
   ],
   "source": [
    "str = \"              stupid  whitespace           \"\n",
    "print(str.strip())"
   ]
  },
  {
   "cell_type": "markdown",
   "metadata": {},
   "source": [
    "**12. WAP to extract and display a substring using slicing based on user-specified start and end indices.**"
   ]
  },
  {
   "cell_type": "code",
   "execution_count": 12,
   "metadata": {},
   "outputs": [
    {
     "name": "stdout",
     "output_type": "stream",
     "text": [
      "The valid indexes are o to :  13\n",
      "Hel\n"
     ]
    }
   ],
   "source": [
    "string = \"Hello, World!\"\n",
    "print(\"The valid indexes are o to : \",len(string))\n",
    "try: \n",
    "    start_index = int(input(\"Enter start index: \"))\n",
    "    end_index = int(input(\"Enter end index: \"))\n",
    "    substring = string[start_index:end_index]\n",
    "    print(substring) \n",
    "except ValueError:\n",
    "    print('not a valid number')\n",
    "\n",
    " "
   ]
  },
  {
   "cell_type": "markdown",
   "metadata": {},
   "source": [
    "**13. WAP to count the number of words in the string.**"
   ]
  },
  {
   "cell_type": "code",
   "execution_count": 13,
   "metadata": {},
   "outputs": [
    {
     "name": "stdout",
     "output_type": "stream",
     "text": [
      "8\n"
     ]
    }
   ],
   "source": [
    "str = \"This is the string that i have now\"\n",
    "list = str.split()\n",
    "print(len(list))"
   ]
  },
  {
   "cell_type": "markdown",
   "metadata": {},
   "source": [
    "**14. WAP to split the string into a list of words and then join them back into a single string with a user-defined delimiter**"
   ]
  },
  {
   "cell_type": "code",
   "execution_count": null,
   "metadata": {},
   "outputs": [
    {
     "name": "stdout",
     "output_type": "stream",
     "text": [
      "enter the str\n",
      "enterthestr\n"
     ]
    }
   ],
   "source": [
    "sentence = input()\n",
    "print(sentence)\n",
    "words = sentence.split()\n",
    "delimiter = input(\"Enter a delimiter to join the words: \")\n",
    "result = delimiter.join(words)\n",
    "\n",
    "# Print the result\n",
    "print(result)\n"
   ]
  },
  {
   "cell_type": "markdown",
   "metadata": {},
   "source": [
    "**15. WAP to allow the user to input multiple values (e.g., name, age, city) and format them into a sentence using placeholders**"
   ]
  },
  {
   "cell_type": "code",
   "execution_count": 15,
   "metadata": {},
   "outputs": [
    {
     "name": "stdout",
     "output_type": "stream",
     "text": [
      "My name is smayan. I am 18 years old and I live in mumbai.\n"
     ]
    }
   ],
   "source": [
    "name = input(\"Enter your name: \")\n",
    "age = input(\"Enter your age: \")\n",
    "city = input(\"Enter your city: \")\n",
    "sentence = f\"My name is {name}. I am {age} years old and I live in {city}.\"\n",
    "print(sentence)\n"
   ]
  },
  {
   "cell_type": "markdown",
   "metadata": {},
   "source": [
    "**16. WAP to display the frequency of each character in the string.**"
   ]
  },
  {
   "cell_type": "code",
   "execution_count": 16,
   "metadata": {},
   "outputs": [
    {
     "name": "stdout",
     "output_type": "stream",
     "text": [
      "hello\n",
      "'h': 1\n",
      "'e': 1\n",
      "'l': 2\n",
      "'o': 1\n"
     ]
    }
   ],
   "source": [
    "# Input string from the user\n",
    "string = input(\"Enter a string: \")\n",
    "print(string)\n",
    "frequency = {} # dictionary is best to handle a key and value pair\n",
    "for char in string:\n",
    "    if char in frequency:\n",
    "        frequency[char] += 1\n",
    "    else:\n",
    "        frequency[char] = 1\n",
    "\n",
    "for char, count in frequency.items():\n",
    "    print(f\"'{char}': {count}\")\n"
   ]
  },
  {
   "cell_type": "markdown",
   "metadata": {},
   "source": [
    "**17. Write a python program to takes a list of words, reverses the order of the words, and then joins them into a single string with a hyphen - as the separator**"
   ]
  },
  {
   "cell_type": "code",
   "execution_count": 17,
   "metadata": {},
   "outputs": [
    {
     "name": "stdout",
     "output_type": "stream",
     "text": [
      "['this', 'is', 'a', 'sentence']\n",
      "sentence-a-is-this\n"
     ]
    }
   ],
   "source": [
    "words = input(\"Enter a list of words or sentence : \").split()\n",
    "print(words)\n",
    "words.reverse()\n",
    "result = \"-\".join(words)\n",
    "print(result)"
   ]
  }
 ],
 "metadata": {
  "kernelspec": {
   "display_name": "Python 3",
   "language": "python",
   "name": "python3"
  },
  "language_info": {
   "codemirror_mode": {
    "name": "ipython",
    "version": 3
   },
   "file_extension": ".py",
   "mimetype": "text/x-python",
   "name": "python",
   "nbconvert_exporter": "python",
   "pygments_lexer": "ipython3",
   "version": "3.11.10"
  }
 },
 "nbformat": 4,
 "nbformat_minor": 2
}
