{
 "cells": [
  {
   "cell_type": "markdown",
   "metadata": {},
   "source": [
    "## **Experiment 9**"
   ]
  },
  {
   "cell_type": "markdown",
   "metadata": {},
   "source": [
    "#### **Name : Smayan Kulkarni, SAP ID : 60009230142 , Roll Number : D100, Division : D2-2**"
   ]
  },
  {
   "cell_type": "code",
   "execution_count": 1,
   "metadata": {},
   "outputs": [],
   "source": [
    "import pandas as pd\n",
    "import numpy as np"
   ]
  },
  {
   "cell_type": "markdown",
   "metadata": {},
   "source": [
    "\n",
    "\n",
    "1. Create a Pandas Series from a list of 10 random integers and calculate its mean.\n",
    "\n"
   ]
  },
  {
   "cell_type": "code",
   "execution_count": 2,
   "metadata": {},
   "outputs": [
    {
     "name": "stdout",
     "output_type": "stream",
     "text": [
      "Mean: 39.6\n"
     ]
    }
   ],
   "source": [
    "random_integers = np.random.randint(1, 100, 10)\n",
    "series = pd.Series(random_integers)\n",
    "mean_value = series.mean()\n",
    "print(\"Mean:\", mean_value)"
   ]
  },
  {
   "cell_type": "markdown",
   "metadata": {},
   "source": [
    "2. Create a DataFrame from a dictionary with columns 'Name', 'Age', and 'City'.\n",
    "\n"
   ]
  },
  {
   "cell_type": "code",
   "execution_count": 3,
   "metadata": {},
   "outputs": [
    {
     "data": {
      "text/html": [
       "<div>\n",
       "<style scoped>\n",
       "    .dataframe tbody tr th:only-of-type {\n",
       "        vertical-align: middle;\n",
       "    }\n",
       "\n",
       "    .dataframe tbody tr th {\n",
       "        vertical-align: top;\n",
       "    }\n",
       "\n",
       "    .dataframe thead th {\n",
       "        text-align: right;\n",
       "    }\n",
       "</style>\n",
       "<table border=\"1\" class=\"dataframe\">\n",
       "  <thead>\n",
       "    <tr style=\"text-align: right;\">\n",
       "      <th></th>\n",
       "      <th>Name</th>\n",
       "      <th>Age</th>\n",
       "      <th>City</th>\n",
       "    </tr>\n",
       "  </thead>\n",
       "  <tbody>\n",
       "    <tr>\n",
       "      <th>0</th>\n",
       "      <td>Smayan</td>\n",
       "      <td>24</td>\n",
       "      <td>New York</td>\n",
       "    </tr>\n",
       "    <tr>\n",
       "      <th>1</th>\n",
       "      <td>Sian</td>\n",
       "      <td>36</td>\n",
       "      <td>Mumbai</td>\n",
       "    </tr>\n",
       "    <tr>\n",
       "      <th>2</th>\n",
       "      <td>Varun</td>\n",
       "      <td>22</td>\n",
       "      <td>Chicago</td>\n",
       "    </tr>\n",
       "  </tbody>\n",
       "</table>\n",
       "</div>"
      ],
      "text/plain": [
       "     Name  Age      City\n",
       "0  Smayan   24  New York\n",
       "1    Sian   36    Mumbai\n",
       "2   Varun   22   Chicago"
      ]
     },
     "execution_count": 3,
     "metadata": {},
     "output_type": "execute_result"
    }
   ],
   "source": [
    "data = {\n",
    "    'Name': ['Smayan', 'Sian', 'Varun'],\n",
    "    'Age': [24, 36, 22],\n",
    "    'City': ['New York', 'Mumbai', 'Chicago']\n",
    "}\n",
    "df = pd.DataFrame(data)\n",
    "df\n"
   ]
  },
  {
   "cell_type": "markdown",
   "metadata": {},
   "source": [
    "3. Access the first 5 elements of a Pandas Series using slicing.\n",
    "\n"
   ]
  },
  {
   "cell_type": "code",
   "execution_count": 4,
   "metadata": {},
   "outputs": [
    {
     "name": "stdout",
     "output_type": "stream",
     "text": [
      "0    35\n",
      "1    60\n",
      "2    62\n",
      "3    72\n",
      "4    28\n",
      "dtype: int64\n"
     ]
    }
   ],
   "source": [
    "first_five = series[:5]\n",
    "print(first_five)\n"
   ]
  },
  {
   "cell_type": "markdown",
   "metadata": {},
   "source": [
    "4. Add a new column 'Score' to a DataFrame with values [85, 90, 78, 92].\n",
    "\n"
   ]
  },
  {
   "cell_type": "code",
   "execution_count": 5,
   "metadata": {},
   "outputs": [
    {
     "data": {
      "text/html": [
       "<div>\n",
       "<style scoped>\n",
       "    .dataframe tbody tr th:only-of-type {\n",
       "        vertical-align: middle;\n",
       "    }\n",
       "\n",
       "    .dataframe tbody tr th {\n",
       "        vertical-align: top;\n",
       "    }\n",
       "\n",
       "    .dataframe thead th {\n",
       "        text-align: right;\n",
       "    }\n",
       "</style>\n",
       "<table border=\"1\" class=\"dataframe\">\n",
       "  <thead>\n",
       "    <tr style=\"text-align: right;\">\n",
       "      <th></th>\n",
       "      <th>Name</th>\n",
       "      <th>Age</th>\n",
       "      <th>City</th>\n",
       "      <th>Score</th>\n",
       "    </tr>\n",
       "  </thead>\n",
       "  <tbody>\n",
       "    <tr>\n",
       "      <th>0</th>\n",
       "      <td>Smayan</td>\n",
       "      <td>24</td>\n",
       "      <td>New York</td>\n",
       "      <td>85</td>\n",
       "    </tr>\n",
       "    <tr>\n",
       "      <th>1</th>\n",
       "      <td>Sian</td>\n",
       "      <td>36</td>\n",
       "      <td>Mumbai</td>\n",
       "      <td>90</td>\n",
       "    </tr>\n",
       "    <tr>\n",
       "      <th>2</th>\n",
       "      <td>Varun</td>\n",
       "      <td>22</td>\n",
       "      <td>Chicago</td>\n",
       "      <td>78</td>\n",
       "    </tr>\n",
       "  </tbody>\n",
       "</table>\n",
       "</div>"
      ],
      "text/plain": [
       "     Name  Age      City  Score\n",
       "0  Smayan   24  New York     85\n",
       "1    Sian   36    Mumbai     90\n",
       "2   Varun   22   Chicago     78"
      ]
     },
     "execution_count": 5,
     "metadata": {},
     "output_type": "execute_result"
    }
   ],
   "source": [
    "df['Score'] = [85, 90, 78]  \n",
    "df\n"
   ]
  },
  {
   "cell_type": "markdown",
   "metadata": {},
   "source": [
    "5. Use .iloc to access the first row of a DataFrame.\n",
    "\n"
   ]
  },
  {
   "cell_type": "code",
   "execution_count": 6,
   "metadata": {},
   "outputs": [
    {
     "name": "stdout",
     "output_type": "stream",
     "text": [
      "Name       Smayan\n",
      "Age            24\n",
      "City     New York\n",
      "Score          85\n",
      "Name: 0, dtype: object\n"
     ]
    }
   ],
   "source": [
    "first_row = df.iloc[0]\n",
    "print(first_row)\n"
   ]
  },
  {
   "cell_type": "markdown",
   "metadata": {},
   "source": [
    "6. Use .loc to select the rows where 'Age' is 25 in a DataFrame.\n",
    "\n"
   ]
  },
  {
   "cell_type": "code",
   "execution_count": 7,
   "metadata": {},
   "outputs": [
    {
     "data": {
      "text/html": [
       "<div>\n",
       "<style scoped>\n",
       "    .dataframe tbody tr th:only-of-type {\n",
       "        vertical-align: middle;\n",
       "    }\n",
       "\n",
       "    .dataframe tbody tr th {\n",
       "        vertical-align: top;\n",
       "    }\n",
       "\n",
       "    .dataframe thead th {\n",
       "        text-align: right;\n",
       "    }\n",
       "</style>\n",
       "<table border=\"1\" class=\"dataframe\">\n",
       "  <thead>\n",
       "    <tr style=\"text-align: right;\">\n",
       "      <th></th>\n",
       "      <th>Name</th>\n",
       "      <th>Age</th>\n",
       "      <th>City</th>\n",
       "      <th>Score</th>\n",
       "    </tr>\n",
       "  </thead>\n",
       "  <tbody>\n",
       "  </tbody>\n",
       "</table>\n",
       "</div>"
      ],
      "text/plain": [
       "Empty DataFrame\n",
       "Columns: [Name, Age, City, Score]\n",
       "Index: []"
      ]
     },
     "execution_count": 7,
     "metadata": {},
     "output_type": "execute_result"
    }
   ],
   "source": [
    "age_25 = df.loc[df['Age'] == 25]\n",
    "\n",
    "(age_25)\n"
   ]
  },
  {
   "cell_type": "markdown",
   "metadata": {},
   "source": [
    "7. Create a Series with a custom index ['a', 'b', 'c'] and access the value at index 'b'.\n",
    "\n"
   ]
  },
  {
   "cell_type": "code",
   "execution_count": 8,
   "metadata": {},
   "outputs": [
    {
     "name": "stdout",
     "output_type": "stream",
     "text": [
      "20\n"
     ]
    }
   ],
   "source": [
    "cust_series = pd.Series([10, 20, 30], index=['a', 'b', 'c'])\n",
    "value_b = cust_series['b']\n",
    "print(value_b)\n"
   ]
  },
  {
   "cell_type": "markdown",
   "metadata": {},
   "source": [
    "\n",
    "8. Calculate the standard deviation of a Series containing numerical values.\n",
    "\n"
   ]
  },
  {
   "cell_type": "code",
   "execution_count": 9,
   "metadata": {},
   "outputs": [
    {
     "name": "stdout",
     "output_type": "stream",
     "text": [
      "Standard Deviation: 21.100710888498522\n"
     ]
    }
   ],
   "source": [
    "std_dev = np.std(series)\n",
    "print(\"Standard Deviation:\", std_dev)\n"
   ]
  },
  {
   "cell_type": "markdown",
   "metadata": {},
   "source": [
    "9. Create a DataFrame and drop the 'City' column using the drop method.\n",
    "\n"
   ]
  },
  {
   "cell_type": "code",
   "execution_count": 10,
   "metadata": {},
   "outputs": [
    {
     "data": {
      "text/html": [
       "<div>\n",
       "<style scoped>\n",
       "    .dataframe tbody tr th:only-of-type {\n",
       "        vertical-align: middle;\n",
       "    }\n",
       "\n",
       "    .dataframe tbody tr th {\n",
       "        vertical-align: top;\n",
       "    }\n",
       "\n",
       "    .dataframe thead th {\n",
       "        text-align: right;\n",
       "    }\n",
       "</style>\n",
       "<table border=\"1\" class=\"dataframe\">\n",
       "  <thead>\n",
       "    <tr style=\"text-align: right;\">\n",
       "      <th></th>\n",
       "      <th>Name</th>\n",
       "      <th>Age</th>\n",
       "      <th>Score</th>\n",
       "    </tr>\n",
       "  </thead>\n",
       "  <tbody>\n",
       "    <tr>\n",
       "      <th>0</th>\n",
       "      <td>Smayan</td>\n",
       "      <td>24</td>\n",
       "      <td>85</td>\n",
       "    </tr>\n",
       "    <tr>\n",
       "      <th>1</th>\n",
       "      <td>Sian</td>\n",
       "      <td>36</td>\n",
       "      <td>90</td>\n",
       "    </tr>\n",
       "    <tr>\n",
       "      <th>2</th>\n",
       "      <td>Varun</td>\n",
       "      <td>22</td>\n",
       "      <td>78</td>\n",
       "    </tr>\n",
       "  </tbody>\n",
       "</table>\n",
       "</div>"
      ],
      "text/plain": [
       "     Name  Age  Score\n",
       "0  Smayan   24     85\n",
       "1    Sian   36     90\n",
       "2   Varun   22     78"
      ]
     },
     "execution_count": 10,
     "metadata": {},
     "output_type": "execute_result"
    }
   ],
   "source": [
    "df_dropped = df.drop('City', axis=1)\n",
    "df_dropped\n"
   ]
  },
  {
   "cell_type": "markdown",
   "metadata": {},
   "source": [
    "10. Filter a DataFrame to show rows where 'Age' is greater than 30 using boolean indexing.\n",
    "\n"
   ]
  },
  {
   "cell_type": "code",
   "execution_count": 11,
   "metadata": {},
   "outputs": [
    {
     "name": "stdout",
     "output_type": "stream",
     "text": [
      "   Name  Age    City  Score\n",
      "1  Sian   36  Mumbai     90\n"
     ]
    }
   ],
   "source": [
    "age_greater_30 = df[df['Age'] > 30]\n",
    "print(age_greater_30)\n"
   ]
  },
  {
   "cell_type": "markdown",
   "metadata": {},
   "source": [
    "11. Apply a lambda function to a DataFrame column to square the values.\n"
   ]
  },
  {
   "cell_type": "code",
   "execution_count": 12,
   "metadata": {},
   "outputs": [
    {
     "data": {
      "text/html": [
       "<div>\n",
       "<style scoped>\n",
       "    .dataframe tbody tr th:only-of-type {\n",
       "        vertical-align: middle;\n",
       "    }\n",
       "\n",
       "    .dataframe tbody tr th {\n",
       "        vertical-align: top;\n",
       "    }\n",
       "\n",
       "    .dataframe thead th {\n",
       "        text-align: right;\n",
       "    }\n",
       "</style>\n",
       "<table border=\"1\" class=\"dataframe\">\n",
       "  <thead>\n",
       "    <tr style=\"text-align: right;\">\n",
       "      <th></th>\n",
       "      <th>Name</th>\n",
       "      <th>Age</th>\n",
       "      <th>City</th>\n",
       "      <th>Score</th>\n",
       "    </tr>\n",
       "  </thead>\n",
       "  <tbody>\n",
       "    <tr>\n",
       "      <th>0</th>\n",
       "      <td>Smayan</td>\n",
       "      <td>24</td>\n",
       "      <td>New York</td>\n",
       "      <td>7225</td>\n",
       "    </tr>\n",
       "    <tr>\n",
       "      <th>1</th>\n",
       "      <td>Sian</td>\n",
       "      <td>36</td>\n",
       "      <td>Mumbai</td>\n",
       "      <td>8100</td>\n",
       "    </tr>\n",
       "    <tr>\n",
       "      <th>2</th>\n",
       "      <td>Varun</td>\n",
       "      <td>22</td>\n",
       "      <td>Chicago</td>\n",
       "      <td>6084</td>\n",
       "    </tr>\n",
       "  </tbody>\n",
       "</table>\n",
       "</div>"
      ],
      "text/plain": [
       "     Name  Age      City  Score\n",
       "0  Smayan   24  New York   7225\n",
       "1    Sian   36    Mumbai   8100\n",
       "2   Varun   22   Chicago   6084"
      ]
     },
     "execution_count": 12,
     "metadata": {},
     "output_type": "execute_result"
    }
   ],
   "source": [
    "df['Score'] = df['Score'].apply(lambda x: x**2)\n",
    "df"
   ]
  },
  {
   "cell_type": "markdown",
   "metadata": {},
   "source": [
    "\n",
    "12. Use .iloc to select the last 3 rows of a DataFrame.\n",
    "\n"
   ]
  },
  {
   "cell_type": "code",
   "execution_count": 13,
   "metadata": {},
   "outputs": [
    {
     "name": "stdout",
     "output_type": "stream",
     "text": [
      "     Name  Age      City  Score\n",
      "0  Smayan   24  New York   7225\n",
      "1    Sian   36    Mumbai   8100\n",
      "2   Varun   22   Chicago   6084\n"
     ]
    }
   ],
   "source": [
    "last_three_rows = df.iloc[-3:]\n",
    "print(last_three_rows)\n"
   ]
  },
  {
   "cell_type": "markdown",
   "metadata": {},
   "source": [
    "13. Rename the 'Name' column to 'FullName' in a DataFrame and display the DataFrame.\n"
   ]
  },
  {
   "cell_type": "code",
   "execution_count": 14,
   "metadata": {},
   "outputs": [
    {
     "name": "stdout",
     "output_type": "stream",
     "text": [
      "  FullName  Age      City  Score\n",
      "0   Smayan   24  New York   7225\n",
      "1     Sian   36    Mumbai   8100\n",
      "2    Varun   22   Chicago   6084\n"
     ]
    }
   ],
   "source": [
    "df.rename(columns={'Name': 'FullName'}, inplace=True)\n",
    "print(df)\n"
   ]
  },
  {
   "cell_type": "markdown",
   "metadata": {},
   "source": [
    "\n",
    "14. Use .loc to select rows based on a condition and specific columns.\n",
    "\n"
   ]
  },
  {
   "cell_type": "code",
   "execution_count": 15,
   "metadata": {},
   "outputs": [
    {
     "name": "stdout",
     "output_type": "stream",
     "text": [
      "  FullName  Age\n",
      "1     Sian   36\n"
     ]
    }
   ],
   "source": [
    "specific_columns = df.loc[df['Age'] > 25, ['FullName', 'Age']]\n",
    "print(specific_columns)\n"
   ]
  },
  {
   "cell_type": "markdown",
   "metadata": {},
   "source": [
    "15. Create a DataFrame from a list of lists with columns ['A', 'B', 'C'] and calculate the mean of each column.\n",
    "\n"
   ]
  },
  {
   "cell_type": "code",
   "execution_count": 16,
   "metadata": {},
   "outputs": [
    {
     "name": "stdout",
     "output_type": "stream",
     "text": [
      "A    4.0\n",
      "B    5.0\n",
      "C    6.0\n",
      "dtype: float64\n"
     ]
    }
   ],
   "source": [
    "list_of_lists = [[1, 2, 3], [4, 5, 6], [7, 8, 9]]\n",
    "df_lists = pd.DataFrame(list_of_lists, columns=['A', 'B', 'C'])\n",
    "means = df_lists.mean()\n",
    "print(means)\n"
   ]
  },
  {
   "cell_type": "markdown",
   "metadata": {},
   "source": [
    "16. Load the Titanic dataset from kaggle into a DataFrame and display the first 5 rows.\n",
    "\n"
   ]
  },
  {
   "cell_type": "code",
   "execution_count": 18,
   "metadata": {},
   "outputs": [
    {
     "data": {
      "text/html": [
       "<div>\n",
       "<style scoped>\n",
       "    .dataframe tbody tr th:only-of-type {\n",
       "        vertical-align: middle;\n",
       "    }\n",
       "\n",
       "    .dataframe tbody tr th {\n",
       "        vertical-align: top;\n",
       "    }\n",
       "\n",
       "    .dataframe thead th {\n",
       "        text-align: right;\n",
       "    }\n",
       "</style>\n",
       "<table border=\"1\" class=\"dataframe\">\n",
       "  <thead>\n",
       "    <tr style=\"text-align: right;\">\n",
       "      <th></th>\n",
       "      <th>PassengerId</th>\n",
       "      <th>Survived</th>\n",
       "      <th>Pclass</th>\n",
       "      <th>Name</th>\n",
       "      <th>Sex</th>\n",
       "      <th>Age</th>\n",
       "      <th>SibSp</th>\n",
       "      <th>Parch</th>\n",
       "      <th>Ticket</th>\n",
       "      <th>Fare</th>\n",
       "      <th>Cabin</th>\n",
       "      <th>Embarked</th>\n",
       "    </tr>\n",
       "  </thead>\n",
       "  <tbody>\n",
       "    <tr>\n",
       "      <th>0</th>\n",
       "      <td>1</td>\n",
       "      <td>0</td>\n",
       "      <td>3</td>\n",
       "      <td>Braund, Mr. Owen Harris</td>\n",
       "      <td>male</td>\n",
       "      <td>22.0</td>\n",
       "      <td>1</td>\n",
       "      <td>0</td>\n",
       "      <td>A/5 21171</td>\n",
       "      <td>7.2500</td>\n",
       "      <td>NaN</td>\n",
       "      <td>S</td>\n",
       "    </tr>\n",
       "    <tr>\n",
       "      <th>1</th>\n",
       "      <td>2</td>\n",
       "      <td>1</td>\n",
       "      <td>1</td>\n",
       "      <td>Cumings, Mrs. John Bradley (Florence Briggs Th...</td>\n",
       "      <td>female</td>\n",
       "      <td>38.0</td>\n",
       "      <td>1</td>\n",
       "      <td>0</td>\n",
       "      <td>PC 17599</td>\n",
       "      <td>71.2833</td>\n",
       "      <td>C85</td>\n",
       "      <td>C</td>\n",
       "    </tr>\n",
       "    <tr>\n",
       "      <th>2</th>\n",
       "      <td>3</td>\n",
       "      <td>1</td>\n",
       "      <td>3</td>\n",
       "      <td>Heikkinen, Miss. Laina</td>\n",
       "      <td>female</td>\n",
       "      <td>26.0</td>\n",
       "      <td>0</td>\n",
       "      <td>0</td>\n",
       "      <td>STON/O2. 3101282</td>\n",
       "      <td>7.9250</td>\n",
       "      <td>NaN</td>\n",
       "      <td>S</td>\n",
       "    </tr>\n",
       "    <tr>\n",
       "      <th>3</th>\n",
       "      <td>4</td>\n",
       "      <td>1</td>\n",
       "      <td>1</td>\n",
       "      <td>Futrelle, Mrs. Jacques Heath (Lily May Peel)</td>\n",
       "      <td>female</td>\n",
       "      <td>35.0</td>\n",
       "      <td>1</td>\n",
       "      <td>0</td>\n",
       "      <td>113803</td>\n",
       "      <td>53.1000</td>\n",
       "      <td>C123</td>\n",
       "      <td>S</td>\n",
       "    </tr>\n",
       "    <tr>\n",
       "      <th>4</th>\n",
       "      <td>5</td>\n",
       "      <td>0</td>\n",
       "      <td>3</td>\n",
       "      <td>Allen, Mr. William Henry</td>\n",
       "      <td>male</td>\n",
       "      <td>35.0</td>\n",
       "      <td>0</td>\n",
       "      <td>0</td>\n",
       "      <td>373450</td>\n",
       "      <td>8.0500</td>\n",
       "      <td>NaN</td>\n",
       "      <td>S</td>\n",
       "    </tr>\n",
       "  </tbody>\n",
       "</table>\n",
       "</div>"
      ],
      "text/plain": [
       "   PassengerId  Survived  Pclass  \\\n",
       "0            1         0       3   \n",
       "1            2         1       1   \n",
       "2            3         1       3   \n",
       "3            4         1       1   \n",
       "4            5         0       3   \n",
       "\n",
       "                                                Name     Sex   Age  SibSp  \\\n",
       "0                            Braund, Mr. Owen Harris    male  22.0      1   \n",
       "1  Cumings, Mrs. John Bradley (Florence Briggs Th...  female  38.0      1   \n",
       "2                             Heikkinen, Miss. Laina  female  26.0      0   \n",
       "3       Futrelle, Mrs. Jacques Heath (Lily May Peel)  female  35.0      1   \n",
       "4                           Allen, Mr. William Henry    male  35.0      0   \n",
       "\n",
       "   Parch            Ticket     Fare Cabin Embarked  \n",
       "0      0         A/5 21171   7.2500   NaN        S  \n",
       "1      0          PC 17599  71.2833   C85        C  \n",
       "2      0  STON/O2. 3101282   7.9250   NaN        S  \n",
       "3      0            113803  53.1000  C123        S  \n",
       "4      0            373450   8.0500   NaN        S  "
      ]
     },
     "execution_count": 18,
     "metadata": {},
     "output_type": "execute_result"
    }
   ],
   "source": [
    "titanic_df = pd.read_csv(\"train.csv\")\n",
    "titanic_df.iloc[:5]"
   ]
  },
  {
   "cell_type": "markdown",
   "metadata": {},
   "source": [
    "17. Calculate the correlation matrix of a DataFrame with numerical columns from the Wine Quality dataset .\n",
    "\n"
   ]
  },
  {
   "cell_type": "code",
   "execution_count": null,
   "metadata": {},
   "outputs": [
    {
     "data": {
      "text/html": [
       "<div>\n",
       "<style scoped>\n",
       "    .dataframe tbody tr th:only-of-type {\n",
       "        vertical-align: middle;\n",
       "    }\n",
       "\n",
       "    .dataframe tbody tr th {\n",
       "        vertical-align: top;\n",
       "    }\n",
       "\n",
       "    .dataframe thead th {\n",
       "        text-align: right;\n",
       "    }\n",
       "</style>\n",
       "<table border=\"1\" class=\"dataframe\">\n",
       "  <thead>\n",
       "    <tr style=\"text-align: right;\">\n",
       "      <th></th>\n",
       "      <th>fixed acidity</th>\n",
       "      <th>volatile acidity</th>\n",
       "      <th>citric acid</th>\n",
       "      <th>residual sugar</th>\n",
       "      <th>chlorides</th>\n",
       "      <th>free sulfur dioxide</th>\n",
       "      <th>total sulfur dioxide</th>\n",
       "      <th>density</th>\n",
       "      <th>pH</th>\n",
       "      <th>sulphates</th>\n",
       "      <th>alcohol</th>\n",
       "      <th>quality</th>\n",
       "      <th>Id</th>\n",
       "    </tr>\n",
       "  </thead>\n",
       "  <tbody>\n",
       "    <tr>\n",
       "      <th>fixed acidity</th>\n",
       "      <td>1.000000</td>\n",
       "      <td>-0.250728</td>\n",
       "      <td>0.673157</td>\n",
       "      <td>0.171831</td>\n",
       "      <td>0.107889</td>\n",
       "      <td>-0.164831</td>\n",
       "      <td>-0.110628</td>\n",
       "      <td>0.681501</td>\n",
       "      <td>-0.685163</td>\n",
       "      <td>0.174592</td>\n",
       "      <td>-0.075055</td>\n",
       "      <td>0.121970</td>\n",
       "      <td>-0.275826</td>\n",
       "    </tr>\n",
       "    <tr>\n",
       "      <th>volatile acidity</th>\n",
       "      <td>-0.250728</td>\n",
       "      <td>1.000000</td>\n",
       "      <td>-0.544187</td>\n",
       "      <td>-0.005751</td>\n",
       "      <td>0.056336</td>\n",
       "      <td>-0.001962</td>\n",
       "      <td>0.077748</td>\n",
       "      <td>0.016512</td>\n",
       "      <td>0.221492</td>\n",
       "      <td>-0.276079</td>\n",
       "      <td>-0.203909</td>\n",
       "      <td>-0.407394</td>\n",
       "      <td>-0.007892</td>\n",
       "    </tr>\n",
       "    <tr>\n",
       "      <th>citric acid</th>\n",
       "      <td>0.673157</td>\n",
       "      <td>-0.544187</td>\n",
       "      <td>1.000000</td>\n",
       "      <td>0.175815</td>\n",
       "      <td>0.245312</td>\n",
       "      <td>-0.057589</td>\n",
       "      <td>0.036871</td>\n",
       "      <td>0.375243</td>\n",
       "      <td>-0.546339</td>\n",
       "      <td>0.331232</td>\n",
       "      <td>0.106250</td>\n",
       "      <td>0.240821</td>\n",
       "      <td>-0.139011</td>\n",
       "    </tr>\n",
       "    <tr>\n",
       "      <th>residual sugar</th>\n",
       "      <td>0.171831</td>\n",
       "      <td>-0.005751</td>\n",
       "      <td>0.175815</td>\n",
       "      <td>1.000000</td>\n",
       "      <td>0.070863</td>\n",
       "      <td>0.165339</td>\n",
       "      <td>0.190790</td>\n",
       "      <td>0.380147</td>\n",
       "      <td>-0.116959</td>\n",
       "      <td>0.017475</td>\n",
       "      <td>0.058421</td>\n",
       "      <td>0.022002</td>\n",
       "      <td>-0.046344</td>\n",
       "    </tr>\n",
       "    <tr>\n",
       "      <th>chlorides</th>\n",
       "      <td>0.107889</td>\n",
       "      <td>0.056336</td>\n",
       "      <td>0.245312</td>\n",
       "      <td>0.070863</td>\n",
       "      <td>1.000000</td>\n",
       "      <td>0.015280</td>\n",
       "      <td>0.048163</td>\n",
       "      <td>0.208901</td>\n",
       "      <td>-0.277759</td>\n",
       "      <td>0.374784</td>\n",
       "      <td>-0.229917</td>\n",
       "      <td>-0.124085</td>\n",
       "      <td>-0.088099</td>\n",
       "    </tr>\n",
       "    <tr>\n",
       "      <th>free sulfur dioxide</th>\n",
       "      <td>-0.164831</td>\n",
       "      <td>-0.001962</td>\n",
       "      <td>-0.057589</td>\n",
       "      <td>0.165339</td>\n",
       "      <td>0.015280</td>\n",
       "      <td>1.000000</td>\n",
       "      <td>0.661093</td>\n",
       "      <td>-0.054150</td>\n",
       "      <td>0.072804</td>\n",
       "      <td>0.034445</td>\n",
       "      <td>-0.047095</td>\n",
       "      <td>-0.063260</td>\n",
       "      <td>0.095268</td>\n",
       "    </tr>\n",
       "    <tr>\n",
       "      <th>total sulfur dioxide</th>\n",
       "      <td>-0.110628</td>\n",
       "      <td>0.077748</td>\n",
       "      <td>0.036871</td>\n",
       "      <td>0.190790</td>\n",
       "      <td>0.048163</td>\n",
       "      <td>0.661093</td>\n",
       "      <td>1.000000</td>\n",
       "      <td>0.050175</td>\n",
       "      <td>-0.059126</td>\n",
       "      <td>0.026894</td>\n",
       "      <td>-0.188165</td>\n",
       "      <td>-0.183339</td>\n",
       "      <td>-0.107389</td>\n",
       "    </tr>\n",
       "    <tr>\n",
       "      <th>density</th>\n",
       "      <td>0.681501</td>\n",
       "      <td>0.016512</td>\n",
       "      <td>0.375243</td>\n",
       "      <td>0.380147</td>\n",
       "      <td>0.208901</td>\n",
       "      <td>-0.054150</td>\n",
       "      <td>0.050175</td>\n",
       "      <td>1.000000</td>\n",
       "      <td>-0.352775</td>\n",
       "      <td>0.143139</td>\n",
       "      <td>-0.494727</td>\n",
       "      <td>-0.175208</td>\n",
       "      <td>-0.363926</td>\n",
       "    </tr>\n",
       "    <tr>\n",
       "      <th>pH</th>\n",
       "      <td>-0.685163</td>\n",
       "      <td>0.221492</td>\n",
       "      <td>-0.546339</td>\n",
       "      <td>-0.116959</td>\n",
       "      <td>-0.277759</td>\n",
       "      <td>0.072804</td>\n",
       "      <td>-0.059126</td>\n",
       "      <td>-0.352775</td>\n",
       "      <td>1.000000</td>\n",
       "      <td>-0.185499</td>\n",
       "      <td>0.225322</td>\n",
       "      <td>-0.052453</td>\n",
       "      <td>0.132904</td>\n",
       "    </tr>\n",
       "    <tr>\n",
       "      <th>sulphates</th>\n",
       "      <td>0.174592</td>\n",
       "      <td>-0.276079</td>\n",
       "      <td>0.331232</td>\n",
       "      <td>0.017475</td>\n",
       "      <td>0.374784</td>\n",
       "      <td>0.034445</td>\n",
       "      <td>0.026894</td>\n",
       "      <td>0.143139</td>\n",
       "      <td>-0.185499</td>\n",
       "      <td>1.000000</td>\n",
       "      <td>0.094421</td>\n",
       "      <td>0.257710</td>\n",
       "      <td>-0.103954</td>\n",
       "    </tr>\n",
       "    <tr>\n",
       "      <th>alcohol</th>\n",
       "      <td>-0.075055</td>\n",
       "      <td>-0.203909</td>\n",
       "      <td>0.106250</td>\n",
       "      <td>0.058421</td>\n",
       "      <td>-0.229917</td>\n",
       "      <td>-0.047095</td>\n",
       "      <td>-0.188165</td>\n",
       "      <td>-0.494727</td>\n",
       "      <td>0.225322</td>\n",
       "      <td>0.094421</td>\n",
       "      <td>1.000000</td>\n",
       "      <td>0.484866</td>\n",
       "      <td>0.238087</td>\n",
       "    </tr>\n",
       "    <tr>\n",
       "      <th>quality</th>\n",
       "      <td>0.121970</td>\n",
       "      <td>-0.407394</td>\n",
       "      <td>0.240821</td>\n",
       "      <td>0.022002</td>\n",
       "      <td>-0.124085</td>\n",
       "      <td>-0.063260</td>\n",
       "      <td>-0.183339</td>\n",
       "      <td>-0.175208</td>\n",
       "      <td>-0.052453</td>\n",
       "      <td>0.257710</td>\n",
       "      <td>0.484866</td>\n",
       "      <td>1.000000</td>\n",
       "      <td>0.069708</td>\n",
       "    </tr>\n",
       "    <tr>\n",
       "      <th>Id</th>\n",
       "      <td>-0.275826</td>\n",
       "      <td>-0.007892</td>\n",
       "      <td>-0.139011</td>\n",
       "      <td>-0.046344</td>\n",
       "      <td>-0.088099</td>\n",
       "      <td>0.095268</td>\n",
       "      <td>-0.107389</td>\n",
       "      <td>-0.363926</td>\n",
       "      <td>0.132904</td>\n",
       "      <td>-0.103954</td>\n",
       "      <td>0.238087</td>\n",
       "      <td>0.069708</td>\n",
       "      <td>1.000000</td>\n",
       "    </tr>\n",
       "  </tbody>\n",
       "</table>\n",
       "</div>"
      ],
      "text/plain": [
       "                      fixed acidity  volatile acidity  citric acid  \\\n",
       "fixed acidity              1.000000         -0.250728     0.673157   \n",
       "volatile acidity          -0.250728          1.000000    -0.544187   \n",
       "citric acid                0.673157         -0.544187     1.000000   \n",
       "residual sugar             0.171831         -0.005751     0.175815   \n",
       "chlorides                  0.107889          0.056336     0.245312   \n",
       "free sulfur dioxide       -0.164831         -0.001962    -0.057589   \n",
       "total sulfur dioxide      -0.110628          0.077748     0.036871   \n",
       "density                    0.681501          0.016512     0.375243   \n",
       "pH                        -0.685163          0.221492    -0.546339   \n",
       "sulphates                  0.174592         -0.276079     0.331232   \n",
       "alcohol                   -0.075055         -0.203909     0.106250   \n",
       "quality                    0.121970         -0.407394     0.240821   \n",
       "Id                        -0.275826         -0.007892    -0.139011   \n",
       "\n",
       "                      residual sugar  chlorides  free sulfur dioxide  \\\n",
       "fixed acidity               0.171831   0.107889            -0.164831   \n",
       "volatile acidity           -0.005751   0.056336            -0.001962   \n",
       "citric acid                 0.175815   0.245312            -0.057589   \n",
       "residual sugar              1.000000   0.070863             0.165339   \n",
       "chlorides                   0.070863   1.000000             0.015280   \n",
       "free sulfur dioxide         0.165339   0.015280             1.000000   \n",
       "total sulfur dioxide        0.190790   0.048163             0.661093   \n",
       "density                     0.380147   0.208901            -0.054150   \n",
       "pH                         -0.116959  -0.277759             0.072804   \n",
       "sulphates                   0.017475   0.374784             0.034445   \n",
       "alcohol                     0.058421  -0.229917            -0.047095   \n",
       "quality                     0.022002  -0.124085            -0.063260   \n",
       "Id                         -0.046344  -0.088099             0.095268   \n",
       "\n",
       "                      total sulfur dioxide   density        pH  sulphates  \\\n",
       "fixed acidity                    -0.110628  0.681501 -0.685163   0.174592   \n",
       "volatile acidity                  0.077748  0.016512  0.221492  -0.276079   \n",
       "citric acid                       0.036871  0.375243 -0.546339   0.331232   \n",
       "residual sugar                    0.190790  0.380147 -0.116959   0.017475   \n",
       "chlorides                         0.048163  0.208901 -0.277759   0.374784   \n",
       "free sulfur dioxide               0.661093 -0.054150  0.072804   0.034445   \n",
       "total sulfur dioxide              1.000000  0.050175 -0.059126   0.026894   \n",
       "density                           0.050175  1.000000 -0.352775   0.143139   \n",
       "pH                               -0.059126 -0.352775  1.000000  -0.185499   \n",
       "sulphates                         0.026894  0.143139 -0.185499   1.000000   \n",
       "alcohol                          -0.188165 -0.494727  0.225322   0.094421   \n",
       "quality                          -0.183339 -0.175208 -0.052453   0.257710   \n",
       "Id                               -0.107389 -0.363926  0.132904  -0.103954   \n",
       "\n",
       "                       alcohol   quality        Id  \n",
       "fixed acidity        -0.075055  0.121970 -0.275826  \n",
       "volatile acidity     -0.203909 -0.407394 -0.007892  \n",
       "citric acid           0.106250  0.240821 -0.139011  \n",
       "residual sugar        0.058421  0.022002 -0.046344  \n",
       "chlorides            -0.229917 -0.124085 -0.088099  \n",
       "free sulfur dioxide  -0.047095 -0.063260  0.095268  \n",
       "total sulfur dioxide -0.188165 -0.183339 -0.107389  \n",
       "density              -0.494727 -0.175208 -0.363926  \n",
       "pH                    0.225322 -0.052453  0.132904  \n",
       "sulphates             0.094421  0.257710 -0.103954  \n",
       "alcohol               1.000000  0.484866  0.238087  \n",
       "quality               0.484866  1.000000  0.069708  \n",
       "Id                    0.238087  0.069708  1.000000  "
      ]
     },
     "execution_count": 19,
     "metadata": {},
     "output_type": "execute_result"
    }
   ],
   "source": [
    "wine_df = pd.read_csv('WineQT.csv')\n",
    "corrmatrix = wine_df.corr()\n",
    "corrmatrix"
   ]
  },
  {
   "cell_type": "markdown",
   "metadata": {},
   "source": [
    "18. Create a DataFrame with a 'Date' column and set it as the index, then resample the data by month.\n"
   ]
  },
  {
   "cell_type": "code",
   "execution_count": 20,
   "metadata": {},
   "outputs": [
    {
     "name": "stdout",
     "output_type": "stream",
     "text": [
      "            Value\n",
      "Date             \n",
      "2023-01-31   1401\n",
      "2023-02-28   1374\n",
      "2023-03-31   1585\n",
      "2023-04-30   1576\n",
      "2023-05-31   1364\n",
      "2023-06-30   1480\n",
      "2023-07-31   1183\n",
      "2023-08-31   1427\n",
      "2023-09-30   1505\n",
      "2023-10-31   1125\n",
      "2023-11-30   1370\n",
      "2023-12-31   1567\n"
     ]
    },
    {
     "name": "stderr",
     "output_type": "stream",
     "text": [
      "/tmp/ipykernel_4030/771239444.py:8: FutureWarning: 'M' is deprecated and will be removed in a future version, please use 'ME' instead.\n",
      "  monthly_resampled = df_date.resample('M').sum()\n"
     ]
    }
   ],
   "source": [
    "date_rng = pd.date_range(start='2023-01-01', end='2023-12-31', freq='D')\n",
    "\n",
    "df_date = pd.DataFrame(date_rng, columns=['Date'])\n",
    "df_date['Value'] = np.random.randint(0, 100, size=(len(date_rng)))\n",
    "\n",
    "df_date.set_index('Date', inplace=True)\n",
    "\n",
    "monthly_resampled = df_date.resample('M').sum()\n",
    "\n",
    "print(monthly_resampled)"
   ]
  }
 ],
 "metadata": {
  "kernelspec": {
   "display_name": "Python 3",
   "language": "python",
   "name": "python3"
  },
  "language_info": {
   "codemirror_mode": {
    "name": "ipython",
    "version": 3
   },
   "file_extension": ".py",
   "mimetype": "text/x-python",
   "name": "python",
   "nbconvert_exporter": "python",
   "pygments_lexer": "ipython3",
   "version": "3.10.13"
  }
 },
 "nbformat": 4,
 "nbformat_minor": 2
}
