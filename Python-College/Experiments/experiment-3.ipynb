{
 "cells": [
  {
   "cell_type": "markdown",
   "metadata": {},
   "source": [
    "**1. Create a list of the first 10 positive integers and print the sum of the even numbers in the list.**"
   ]
  },
  {
   "cell_type": "code",
   "execution_count": 12,
   "metadata": {},
   "outputs": [
    {
     "name": "stdout",
     "output_type": "stream",
     "text": [
      "30\n"
     ]
    }
   ],
   "source": [
    "list = [1,2,3,4,5,6,7,8,9,10]\n",
    "sum =0;\n",
    "for num in list:\n",
    "    if num%2 ==0:\n",
    "        sum+=num\n",
    "    \n",
    "print(sum)"
   ]
  },
  {
   "cell_type": "markdown",
   "metadata": {},
   "source": [
    "**2. Given the tuple (10, 20, 30, 40, 50), use slicing to print a new tuple containing only the last three elements.**"
   ]
  },
  {
   "cell_type": "code",
   "execution_count": 13,
   "metadata": {},
   "outputs": [
    {
     "data": {
      "text/plain": [
       "(30, 40, 50)"
      ]
     },
     "execution_count": 13,
     "metadata": {},
     "output_type": "execute_result"
    }
   ],
   "source": [
    "tup = (10, 20, 30, 40, 50)\n",
    "tup[2:]"
   ]
  },
  {
   "cell_type": "markdown",
   "metadata": {},
   "source": [
    "**3. Create a set of the numbers {1, 2, 3, 4, 5} and compute the intersection with {4, 5, 6, 7}; print the result.**"
   ]
  },
  {
   "cell_type": "code",
   "execution_count": 14,
   "metadata": {},
   "outputs": [
    {
     "name": "stdout",
     "output_type": "stream",
     "text": [
      "{4, 5}\n"
     ]
    }
   ],
   "source": [
    "set1 = {1, 2, 3, 4, 5}\n",
    "set2 = {4, 5, 6, 7}\n",
    "set3 = set1&set2\n",
    "print(set3)"
   ]
  },
  {
   "cell_type": "markdown",
   "metadata": {},
   "source": [
    "**4. Define a dictionary with the keys 'a', 'b', and 'c' and their respective values 1, 2, and 3, then update the value for key 'b' to 10 and print the updated dictionary**"
   ]
  },
  {
   "cell_type": "code",
   "execution_count": 15,
   "metadata": {},
   "outputs": [
    {
     "data": {
      "text/plain": [
       "{'a': 1, 'b': 10, 'c': 3}"
      ]
     },
     "execution_count": 15,
     "metadata": {},
     "output_type": "execute_result"
    }
   ],
   "source": [
    "dict = {'a' : 1, 'b' : 2, 'c' : 3}\n",
    "dict['b'] = 10\n",
    "dict"
   ]
  },
  {
   "cell_type": "markdown",
   "metadata": {},
   "source": [
    "**5. Using a list comprehension, create a list of squares for the numbers from 1 to 5 and print the resulting list.**"
   ]
  },
  {
   "cell_type": "code",
   "execution_count": 16,
   "metadata": {},
   "outputs": [
    {
     "data": {
      "text/plain": [
       "[1, 4, 9, 16, 25]"
      ]
     },
     "execution_count": 16,
     "metadata": {},
     "output_type": "execute_result"
    }
   ],
   "source": [
    "list2  = [num**2 for num in range(1,6)]\n",
    "list2"
   ]
  },
  {
   "cell_type": "markdown",
   "metadata": {},
   "source": [
    "**6. Create a tuple with elements 'cat', 'dog', and 'bird', then check and print whether 'dog' is in the tuple**"
   ]
  },
  {
   "cell_type": "code",
   "execution_count": 17,
   "metadata": {},
   "outputs": [
    {
     "name": "stdout",
     "output_type": "stream",
     "text": [
      "dog is in the tuple\n"
     ]
    }
   ],
   "source": [
    "tup = ('cat','dog','bird')\n",
    "if 'dog' in tup: \n",
    "    print(\"dog is in the tuple\")"
   ]
  },
  {
   "cell_type": "markdown",
   "metadata": {},
   "source": [
    "**7. Given the list [1, 1, 2, 3, 5, 8, 13], convert it to a set and print the set’s length.**"
   ]
  },
  {
   "cell_type": "code",
   "execution_count": 18,
   "metadata": {},
   "outputs": [
    {
     "data": {
      "text/plain": [
       "6"
      ]
     },
     "execution_count": 18,
     "metadata": {},
     "output_type": "execute_result"
    }
   ],
   "source": [
    "list = [1, 1, 2, 3, 5, 8, 13]\n",
    "list =set(list)\n",
    "type(list)\n",
    "len(list)"
   ]
  },
  {
   "cell_type": "markdown",
   "metadata": {},
   "source": [
    "**8. Create two dictionaries {'A': [1, 2], 'B': [3, 4]} and {'B': [5, 6], 'C': [7, 8]}, then merge them into one dictionary and print the result.**"
   ]
  },
  {
   "cell_type": "code",
   "execution_count": 19,
   "metadata": {},
   "outputs": [],
   "source": [
    "dict1 = {'A': [1, 2], 'B': [3, 4]}\n",
    "dict2 = {'B': [5, 6], 'C': [7, 8]}\n",
    "dict1.update(dict2)"
   ]
  },
  {
   "cell_type": "markdown",
   "metadata": {},
   "source": [
    "**9. For the list [3, 5, 7, 3, 5, 9, 3], create a dictionary to count the occurrences of each element and print the dictionary.**"
   ]
  },
  {
   "cell_type": "code",
   "execution_count": 20,
   "metadata": {},
   "outputs": [
    {
     "name": "stdout",
     "output_type": "stream",
     "text": [
      "{3: 3, 5: 2, 7: 1, 9: 1}\n"
     ]
    }
   ],
   "source": [
    "numbers = [3, 5, 7, 3, 5, 9, 3]\n",
    "\n",
    "count_dict = {}\n",
    "\n",
    "for number in numbers:\n",
    "    if number in count_dict:\n",
    "        count_dict[number] += 1\n",
    "    else:\n",
    "        count_dict[number] = 1\n",
    "print(count_dict)"
   ]
  },
  {
   "cell_type": "markdown",
   "metadata": {},
   "source": [
    "**10. Define a tuple (1, 2, 3, 4, 5) and find the maximum and minimum values in the tuple; print both values.**"
   ]
  },
  {
   "cell_type": "code",
   "execution_count": 21,
   "metadata": {},
   "outputs": [
    {
     "name": "stdout",
     "output_type": "stream",
     "text": [
      "5\n",
      "1\n"
     ]
    }
   ],
   "source": [
    "tup  = (1, 2, 3, 4, 5)\n",
    "print(max(tup))\n",
    "print(min(tup))"
   ]
  },
  {
   "cell_type": "markdown",
   "metadata": {},
   "source": [
    "**11. Given a list of integers [12, 15, 18, 20, 22, 25, 30], calculate and print the variance using the statistics module.**"
   ]
  },
  {
   "cell_type": "code",
   "execution_count": 25,
   "metadata": {},
   "outputs": [
    {
     "name": "stdout",
     "output_type": "stream",
     "text": [
      "The variance is: 36.90\n"
     ]
    }
   ],
   "source": [
    "numbers = [12, 15, 18, 20, 22, 25, 30]\n",
    "total_sum = 0\n",
    "for num in numbers:\n",
    "    total_sum += num\n",
    "mean = total_sum / len(numbers)\n",
    "sum_squared_deviations = 0\n",
    "for num in numbers:\n",
    "    deviation = num - mean\n",
    "    squared_deviation = deviation ** 2\n",
    "    sum_squared_deviations += squared_deviation\n",
    "variance = sum_squared_deviations / (len(numbers) - 1)\n",
    "\n",
    "print(f\"The variance is: {variance:.2f}\")\n"
   ]
  },
  {
   "cell_type": "markdown",
   "metadata": {},
   "source": [
    "**12. Create a dictionary where keys are product names and values are their sales numbers; calculate and print the total sales across all products.**"
   ]
  },
  {
   "cell_type": "code",
   "execution_count": null,
   "metadata": {},
   "outputs": [
    {
     "name": "stdout",
     "output_type": "stream",
     "text": [
      "30\n"
     ]
    }
   ],
   "source": [
    "dict = {'Ice Cream' : 10, 'Mobile phone': 20}\n",
    "sum =0;\n",
    "for key in dict:\n",
    "    sum = sum + dict[key]\n",
    "print(sum)"
   ]
  },
  {
   "cell_type": "markdown",
   "metadata": {},
   "source": [
    "**13. From a list of temperatures [22, 25, 19, 30, 28, 32, 26], find and print the highest and lowest temperatures using the max () and min() functions.**"
   ]
  },
  {
   "cell_type": "code",
   "execution_count": null,
   "metadata": {},
   "outputs": [
    {
     "name": "stdout",
     "output_type": "stream",
     "text": [
      "32\n",
      "19\n"
     ]
    }
   ],
   "source": [
    "temps =   [22, 25, 19, 30, 28, 32, 26]\n",
    "print(max(temps))\n",
    "print(min(temps))"
   ]
  },
  {
   "cell_type": "markdown",
   "metadata": {},
   "source": [
    "**14. Create a list of tuples representing student scores [(90, 'Alice'), (85, 'Bob'), (88, 'Charlie')] and print the name of the student with the highest score.**"
   ]
  },
  {
   "cell_type": "code",
   "execution_count": null,
   "metadata": {},
   "outputs": [
    {
     "name": "stdout",
     "output_type": "stream",
     "text": [
      "The name fo the student is: Alice\n"
     ]
    }
   ],
   "source": [
    "students = [(90, 'Alice'), (85, 'Bob'), (88, 'Charlie')]\n",
    "print(\"The name fo the student is: \" + max(students)[1])"
   ]
  },
  {
   "cell_type": "markdown",
   "metadata": {},
   "source": [
    "**15. Given a list of numbers [2, 4, 6, 8, 10], compute and print the cumulative sum of the list using a loop.**"
   ]
  },
  {
   "cell_type": "code",
   "execution_count": null,
   "metadata": {},
   "outputs": [
    {
     "name": "stdout",
     "output_type": "stream",
     "text": [
      "30\n"
     ]
    }
   ],
   "source": [
    "list = [2,4,6,8,10]\n",
    "sum=0\n",
    "for ele in list:\n",
    "    sum += ele\n",
    "print(sum)"
   ]
  },
  {
   "cell_type": "markdown",
   "metadata": {},
   "source": [
    "**16. Create a list of squares for numbers 1 through 10 using a list comprehension.**"
   ]
  },
  {
   "cell_type": "code",
   "execution_count": null,
   "metadata": {},
   "outputs": [
    {
     "data": {
      "text/plain": [
       "[1, 4, 9, 16, 25, 36, 49, 64, 81, 100]"
      ]
     },
     "execution_count": 29,
     "metadata": {},
     "output_type": "execute_result"
    }
   ],
   "source": [
    "list = [num**2 for num in range(1,11)]\n",
    "list"
   ]
  },
  {
   "cell_type": "markdown",
   "metadata": {},
   "source": [
    "**17. Create a list that replaces every number divisible by 3 with \"Fizz\", every number divisible by 5 with \"Buzz\", and numbers divisible by both with \"FizzBuzz\", for numbers 1 through 15.**"
   ]
  },
  {
   "cell_type": "code",
   "execution_count": null,
   "metadata": {},
   "outputs": [
    {
     "data": {
      "text/plain": [
       "[1,\n",
       " 2,\n",
       " 'Fizz',\n",
       " 4,\n",
       " 'Buzz',\n",
       " 'Fizz',\n",
       " 7,\n",
       " 8,\n",
       " 'Fizz',\n",
       " 'Buzz',\n",
       " 11,\n",
       " 'Fizz',\n",
       " 13,\n",
       " 14,\n",
       " 'FizzBuzz']"
      ]
     },
     "execution_count": 39,
     "metadata": {},
     "output_type": "execute_result"
    }
   ],
   "source": [
    "list = [num for num in range(1,16)]\n",
    "for num in list: \n",
    "    if num%3==0 and num%5==0:\n",
    "        list[num-1] = \"FizzBuzz\"\n",
    "    elif num % 3 == 0:\n",
    "        list[num-1] =  \"Fizz\"\n",
    "    elif num %5==0: \n",
    "        list[num-1] = \"Buzz\"\n",
    "    \n",
    "        \n",
    "list\n"
   ]
  },
  {
   "cell_type": "markdown",
   "metadata": {},
   "source": [
    "**18. Create a list of numbers from 1 to 100 that are divi\tsible by both 2 and 5.**"
   ]
  },
  {
   "cell_type": "code",
   "execution_count": null,
   "metadata": {},
   "outputs": [
    {
     "data": {
      "text/plain": [
       "[10, 20, 30, 40, 50, 60, 70, 80, 90, 100]"
      ]
     },
     "execution_count": 43,
     "metadata": {},
     "output_type": "execute_result"
    }
   ],
   "source": [
    "list = [num for num in range(1,101) if num%2==0 and num%5==0]\n",
    "list"
   ]
  },
  {
   "cell_type": "markdown",
   "metadata": {},
   "source": [
    "**19. Write a program that takes a dictionary where each value is a list and converts it into a dictionary where each value is a set containing the unique elements from the original list.**"
   ]
  },
  {
   "cell_type": "code",
   "execution_count": 36,
   "metadata": {},
   "outputs": [
    {
     "name": "stdout",
     "output_type": "stream",
     "text": [
      "{'a': {1, 2, 3, 4}, 'b': {8, 5, 6, 7}, 'c': {9, 10}}\n"
     ]
    }
   ],
   "source": [
    "\n",
    "original_dict = {\n",
    "    'a': [1, 2, 3, 4],\n",
    "    'b': [5,6,7,8],\n",
    "    'c': [9,10,10]\n",
    "}\n",
    "\n",
    "converted_dict = {key: set(value) for key, value in original_dict.items()}\n",
    "\n",
    "print(converted_dict)\n"
   ]
  },
  {
   "cell_type": "markdown",
   "metadata": {},
   "source": [
    "**20. Write a program that takes two dictionaries and returns a set of keys that are present in the first dictionary but not in the second.**"
   ]
  },
  {
   "cell_type": "code",
   "execution_count": 41,
   "metadata": {},
   "outputs": [
    {
     "name": "stdout",
     "output_type": "stream",
     "text": [
      "{'d', 'a', 'q'}\n"
     ]
    }
   ],
   "source": [
    "dict1 = {'a': 1, 'b': 2, 'c': 3, 'd': 4, 'q' : 50}\n",
    "dict2 = {'b': 20, 'c': 30, 'e': 50, 'f': 53, 'z':43}\n",
    "keys_in_dict1_not_in_dict2 = set(dict1.keys()) - set(dict2.keys())\n",
    "print(keys_in_dict1_not_in_dict2)\n"
   ]
  },
  {
   "cell_type": "markdown",
   "metadata": {},
   "source": [
    "**21.Write a function that takes two sets of tuples and returns a tuple containing three sets:**\n",
    "Elements that are in both sets.\n",
    "Elements that are only in the first set.\n",
    "Elements that are only in the second set."
   ]
  },
  {
   "cell_type": "code",
   "execution_count": 43,
   "metadata": {},
   "outputs": [
    {
     "name": "stdout",
     "output_type": "stream",
     "text": [
      "({(3, 4)}, {(1, 2), (5, 6)}, {(7, 8)})\n"
     ]
    }
   ],
   "source": [
    "def compare_sets(set1, set2):\n",
    "    intersection = set1.intersection(set2)\n",
    "    only_in_set1 = set1 - set2\n",
    "    only_in_set2 = set2 - set1\n",
    "    return (intersection, only_in_set1, only_in_set2)\n",
    "set1 = {(1, 2), (3, 4), (5, 6)}\n",
    "set2 = {(3, 4), (7, 8)}\n",
    "\n",
    "result = compare_sets(set1, set2)\n",
    "\n",
    "print(result)\n"
   ]
  },
  {
   "cell_type": "markdown",
   "metadata": {},
   "source": [
    "**22.Write a program that takes a list of sets and returns a single set that is the union of all the    \tsets in the list.**"
   ]
  },
  {
   "cell_type": "code",
   "execution_count": 47,
   "metadata": {},
   "outputs": [
    {
     "name": "stdout",
     "output_type": "stream",
     "text": [
      "{1, 2, 3, 4, 5, 6, 7, 8, 9}\n"
     ]
    }
   ],
   "source": [
    "list_of_sets = [{1, 2, 3}, {3, 4, 5}, {5, 6, 7}, {8, 9}]\n",
    "union_of_all_sets = set()\n",
    "\n",
    "for s in list_of_sets:\n",
    "    union_of_all_sets = union_of_all_sets.union(s)\n",
    "print(union_of_all_sets)\n"
   ]
  },
  {
   "cell_type": "markdown",
   "metadata": {},
   "source": [
    "**23. Write a program that takes a list of tuples and rotates each tuple by a given number of      \tpositions. For example, rotating (1, 2, 3, 4) by 2 positions would result in (3, 4, 1,2).**"
   ]
  },
  {
   "cell_type": "code",
   "execution_count": 49,
   "metadata": {},
   "outputs": [
    {
     "name": "stdout",
     "output_type": "stream",
     "text": [
      "[(3, 4, 1, 2), (7, 8, 9, 5, 6), (12, 10, 11)]\n"
     ]
    }
   ],
   "source": [
    "def rotate_tuple(tup, positions):\n",
    "    return tup[positions:] + tup[:positions] \n",
    "list_of_tuples = [(1, 2, 3, 4), (5, 6, 7, 8, 9), (10, 11, 12)]\n",
    "positions = 2\n",
    "rotated_tuples = [rotate_tuple(tup, positions) for tup in list_of_tuples]\n",
    "print(rotated_tuples)\n"
   ]
  },
  {
   "cell_type": "markdown",
   "metadata": {},
   "source": [
    "**24. Write a program that takes a list of tuples where each tuple contains integers and returns the     \t tuple with the highest sum of its elements.**"
   ]
  },
  {
   "cell_type": "code",
   "execution_count": 52,
   "metadata": {},
   "outputs": [
    {
     "ename": "TypeError",
     "evalue": "'int' object is not callable",
     "output_type": "error",
     "traceback": [
      "\u001b[0;31m---------------------------------------------------------------------------\u001b[0m",
      "\u001b[0;31mTypeError\u001b[0m                                 Traceback (most recent call last)",
      "Cell \u001b[0;32mIn[52], line 22\u001b[0m\n\u001b[1;32m     19\u001b[0m list_of_tuples \u001b[38;5;241m=\u001b[39m [(\u001b[38;5;241m1\u001b[39m, \u001b[38;5;241m2\u001b[39m, \u001b[38;5;241m3\u001b[39m), (\u001b[38;5;241m4\u001b[39m, \u001b[38;5;241m5\u001b[39m, \u001b[38;5;241m6\u001b[39m), (\u001b[38;5;241m7\u001b[39m, \u001b[38;5;241m8\u001b[39m), (\u001b[38;5;241m1\u001b[39m, \u001b[38;5;241m1\u001b[39m, \u001b[38;5;241m1\u001b[39m, \u001b[38;5;241m1\u001b[39m)]\n\u001b[1;32m     21\u001b[0m \u001b[38;5;66;03m# Get the tuple with the highest sum\u001b[39;00m\n\u001b[0;32m---> 22\u001b[0m result \u001b[38;5;241m=\u001b[39m tuple_with_highest_sum(list_of_tuples)\n\u001b[1;32m     24\u001b[0m \u001b[38;5;28mprint\u001b[39m(result)\n",
      "Cell \u001b[0;32mIn[52], line 8\u001b[0m, in \u001b[0;36mtuple_with_highest_sum\u001b[0;34m(tuple_list)\u001b[0m\n\u001b[1;32m      6\u001b[0m \u001b[38;5;66;03m# Initialize variables to track the tuple with the highest sum\u001b[39;00m\n\u001b[1;32m      7\u001b[0m max_tuple \u001b[38;5;241m=\u001b[39m tuple_list[\u001b[38;5;241m0\u001b[39m]\n\u001b[0;32m----> 8\u001b[0m max_sum \u001b[38;5;241m=\u001b[39m \u001b[38;5;28msum\u001b[39m(max_tuple)\n\u001b[1;32m     10\u001b[0m \u001b[38;5;28;01mfor\u001b[39;00m t \u001b[38;5;129;01min\u001b[39;00m tuple_list[\u001b[38;5;241m1\u001b[39m:]:\n\u001b[1;32m     11\u001b[0m     current_sum \u001b[38;5;241m=\u001b[39m \u001b[38;5;28msum\u001b[39m(t)\n",
      "\u001b[0;31mTypeError\u001b[0m: 'int' object is not callable"
     ]
    }
   ],
   "source": [
    "def tuple_with_highest_sum(tuple_list):\n",
    "    \"\"\"Return the tuple with the highest sum of its elements from a list of tuples.\"\"\"\n",
    "    if not tuple_list:\n",
    "        return None  # Handle empty list case\n",
    "\n",
    "    # Initialize variables to track the tuple with the highest sum\n",
    "    max_tuple = tuple_list[0]\n",
    "    max_sum = sum(max_tuple)\n",
    "\n",
    "    for t in tuple_list[1:]:\n",
    "        current_sum = sum(t)\n",
    "        if current_sum > max_sum:\n",
    "            max_sum = current_sum\n",
    "            max_tuple = t\n",
    "\n",
    "    return max_tuple\n",
    "\n",
    "# Example usage\n",
    "list_of_tuples = [(1, 2, 3), (4, 5, 6), (7, 8), (1, 1, 1, 1)]\n",
    "\n",
    "# Get the tuple with the highest sum\n",
    "result = tuple_with_highest_sum(list_of_tuples)\n",
    "\n",
    "print(result)\n"
   ]
  },
  {
   "cell_type": "code",
   "execution_count": null,
   "metadata": {},
   "outputs": [],
   "source": []
  }
 ],
 "metadata": {
  "kernelspec": {
   "display_name": "Python 3",
   "language": "python",
   "name": "python3"
  },
  "language_info": {
   "codemirror_mode": {
    "name": "ipython",
    "version": 3
   },
   "file_extension": ".py",
   "mimetype": "text/x-python",
   "name": "python",
   "nbconvert_exporter": "python",
   "pygments_lexer": "ipython3",
   "version": "3.12.4"
  }
 },
 "nbformat": 4,
 "nbformat_minor": 2
}
