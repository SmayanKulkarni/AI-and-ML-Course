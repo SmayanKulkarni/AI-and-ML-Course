{
 "cells": [
  {
   "cell_type": "markdown",
   "metadata": {},
   "source": [
    "# **Experiment 7**"
   ]
  },
  {
   "cell_type": "markdown",
   "metadata": {},
   "source": [
    "### **Name : Smayan Kulkarni, SAP ID : 60009230142 , Roll Number : D100, Division : D2-2**"
   ]
  },
  {
   "cell_type": "code",
   "execution_count": 43,
   "metadata": {},
   "outputs": [],
   "source": [
    "import numpy as np"
   ]
  },
  {
   "cell_type": "markdown",
   "metadata": {},
   "source": [
    "1.\tCreate a 3x3 matrix of random integers between 1 and 10 and find the total sum of its elements."
   ]
  },
  {
   "cell_type": "code",
   "execution_count": 44,
   "metadata": {},
   "outputs": [
    {
     "data": {
      "text/plain": [
       "array([[1, 2, 3],\n",
       "       [4, 5, 6],\n",
       "       [7, 8, 9]])"
      ]
     },
     "execution_count": 44,
     "metadata": {},
     "output_type": "execute_result"
    }
   ],
   "source": [
    "arr1 = np.arange(1,10).reshape(3,3)\n",
    "arr1"
   ]
  },
  {
   "cell_type": "markdown",
   "metadata": {},
   "source": [
    "2.\tGenerate a 4x4 matrix of random numbers and compute the average of all its elements.\n"
   ]
  },
  {
   "cell_type": "code",
   "execution_count": 45,
   "metadata": {},
   "outputs": [
    {
     "data": {
      "text/plain": [
       "np.float64(7.5)"
      ]
     },
     "execution_count": 45,
     "metadata": {},
     "output_type": "execute_result"
    }
   ],
   "source": [
    "arr2 = np.arange(16).reshape(4,4)\n",
    "arr2.mean()"
   ]
  },
  {
   "cell_type": "markdown",
   "metadata": {},
   "source": [
    "3.\tCreate a 2x3 matrix and find the sum of all elements in the second row.\n"
   ]
  },
  {
   "cell_type": "code",
   "execution_count": 46,
   "metadata": {},
   "outputs": [
    {
     "name": "stdout",
     "output_type": "stream",
     "text": [
      "[[0.77832938 0.81218706 0.80593382]\n",
      " [0.47383528 0.70121873 0.8469607 ]]\n",
      "2.396450255193513\n",
      "2.0220147173488\n"
     ]
    }
   ],
   "source": [
    "arr3 = np.random.rand(6).reshape(2,3)\n",
    "print(arr3)\n",
    "for i in range(2) :\n",
    "    print(arr3[i].sum())"
   ]
  },
  {
   "cell_type": "markdown",
   "metadata": {},
   "source": [
    "4.\tGenerate a 5x5 matrix of random integers and determine the highest value in each column.\n"
   ]
  },
  {
   "cell_type": "code",
   "execution_count": 47,
   "metadata": {},
   "outputs": [
    {
     "name": "stdout",
     "output_type": "stream",
     "text": [
      "[[0.77168925 0.2007156  0.1531792  0.33632183 0.17543724]\n",
      " [0.03725477 0.91231499 0.23453876 0.29892252 0.22934923]\n",
      " [0.38091769 0.2755385  0.86899951 0.99916212 0.61763016]\n",
      " [0.06761361 0.40706373 0.89343895 0.61966237 0.80292686]\n",
      " [0.50207052 0.5111385  0.15958073 0.63560156 0.16881159]]\n"
     ]
    },
    {
     "data": {
      "text/plain": [
       "array([0.38091769, 0.2755385 , 0.86899951, 0.99916212, 0.61763016])"
      ]
     },
     "execution_count": 47,
     "metadata": {},
     "output_type": "execute_result"
    }
   ],
   "source": [
    "np.random.seed(2384)\n",
    "arr3 = np.random.rand(25).reshape(5,5)\n",
    "print(arr3)\n",
    "arr3[0::1][2]"
   ]
  },
  {
   "cell_type": "markdown",
   "metadata": {},
   "source": [
    "5.\tCreate a 4x4 matrix and calculate the sum of its main diagonal elements.\n",
    "\n"
   ]
  },
  {
   "cell_type": "markdown",
   "metadata": {},
   "source": [
    "6.\tGenerate a 3x3 matrix and find the smallest value among all its elements.\n"
   ]
  },
  {
   "cell_type": "markdown",
   "metadata": {},
   "source": [
    "7.\tCreate a 4x4 matrix of random integers between 1 and 20 and compute the sum of all elements that are greater than 10.\n"
   ]
  },
  {
   "cell_type": "markdown",
   "metadata": {},
   "source": [
    "8.\tGenerate a 5x5 matrix of random numbers and find the mean of the maximum values of each row.\n"
   ]
  },
  {
   "cell_type": "markdown",
   "metadata": {},
   "source": [
    "9.\tCreate a 3x3 matrix and calculate the difference between the sum of the elements in the first row and the sum of the elements in the last row.\n"
   ]
  },
  {
   "cell_type": "markdown",
   "metadata": {},
   "source": [
    "10.\tGenerate a 6x6 matrix of random integers and replace all values below the median with zero.\n"
   ]
  },
  {
   "cell_type": "markdown",
   "metadata": {},
   "source": [
    "11.\tCreate a 4x4 matrix and compute the sum of elements in the upper triangular part of the matrix.\n"
   ]
  },
  {
   "cell_type": "markdown",
   "metadata": {},
   "source": [
    "12.\tGenerate a 3x4 matrix of random values and find the standard deviation of the elements in the third column."
   ]
  },
  {
   "cell_type": "markdown",
   "metadata": {},
   "source": []
  }
 ],
 "metadata": {
  "kernelspec": {
   "display_name": "Python 3",
   "language": "python",
   "name": "python3"
  },
  "language_info": {
   "codemirror_mode": {
    "name": "ipython",
    "version": 3
   },
   "file_extension": ".py",
   "mimetype": "text/x-python",
   "name": "python",
   "nbconvert_exporter": "python",
   "pygments_lexer": "ipython3",
   "version": "3.10.13"
  }
 },
 "nbformat": 4,
 "nbformat_minor": 2
}
