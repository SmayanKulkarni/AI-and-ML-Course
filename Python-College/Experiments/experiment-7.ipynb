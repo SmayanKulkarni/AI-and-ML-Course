{
 "cells": [
  {
   "cell_type": "markdown",
   "metadata": {},
   "source": [
    "# **Experiment 7**"
   ]
  },
  {
   "cell_type": "markdown",
   "metadata": {},
   "source": [
    "### **Name : Smayan Kulkarni, SAP ID : 60009230142 , Roll Number : D100, Division : D2-2**"
   ]
  },
  {
   "cell_type": "code",
   "execution_count": 1,
   "metadata": {},
   "outputs": [],
   "source": [
    "import numpy as np"
   ]
  },
  {
   "cell_type": "markdown",
   "metadata": {},
   "source": [
    "1.\tCreate a 3x3 matrix of random integers between 1 and 10 and find the total sum of its elements."
   ]
  },
  {
   "cell_type": "code",
   "execution_count": 2,
   "metadata": {},
   "outputs": [
    {
     "data": {
      "text/plain": [
       "array([[1, 2, 3],\n",
       "       [4, 5, 6],\n",
       "       [7, 8, 9]])"
      ]
     },
     "execution_count": 2,
     "metadata": {},
     "output_type": "execute_result"
    }
   ],
   "source": [
    "arr1 = np.arange(1,10).reshape(3,3)\n",
    "arr1"
   ]
  },
  {
   "cell_type": "markdown",
   "metadata": {},
   "source": [
    "2.\tGenerate a 4x4 matrix of random numbers and compute the average of all its elements.\n"
   ]
  },
  {
   "cell_type": "code",
   "execution_count": 3,
   "metadata": {},
   "outputs": [
    {
     "data": {
      "text/plain": [
       "7.5"
      ]
     },
     "execution_count": 3,
     "metadata": {},
     "output_type": "execute_result"
    }
   ],
   "source": [
    "arr2 = np.arange(16).reshape(4,4)\n",
    "arr2.mean()"
   ]
  },
  {
   "cell_type": "markdown",
   "metadata": {},
   "source": [
    "3.\tCreate a 2x3 matrix and find the sum of all elements in the second row.\n"
   ]
  },
  {
   "cell_type": "code",
   "execution_count": 4,
   "metadata": {},
   "outputs": [
    {
     "name": "stdout",
     "output_type": "stream",
     "text": [
      "[[0.21589245 0.08186401 0.4689839 ]\n",
      " [0.12366065 0.69405717 0.21344663]]\n",
      "0.7667403565378322\n",
      "1.0311644470384016\n"
     ]
    }
   ],
   "source": [
    "arr3 = np.random.rand(6).reshape(2,3)\n",
    "print(arr3)\n",
    "for i in range(2) :\n",
    "    print(arr3[i].sum())"
   ]
  },
  {
   "cell_type": "markdown",
   "metadata": {},
   "source": [
    "4.\tGenerate a 5x5 matrix of random integers and determine the highest value in each column.\n"
   ]
  },
  {
   "cell_type": "code",
   "execution_count": 5,
   "metadata": {},
   "outputs": [
    {
     "name": "stdout",
     "output_type": "stream",
     "text": [
      "[[0.77168925 0.2007156  0.1531792  0.33632183 0.17543724]\n",
      " [0.03725477 0.91231499 0.23453876 0.29892252 0.22934923]\n",
      " [0.38091769 0.2755385  0.86899951 0.99916212 0.61763016]\n",
      " [0.06761361 0.40706373 0.89343895 0.61966237 0.80292686]\n",
      " [0.50207052 0.5111385  0.15958073 0.63560156 0.16881159]]\n"
     ]
    },
    {
     "data": {
      "text/plain": [
       "array([0.38091769, 0.2755385 , 0.86899951, 0.99916212, 0.61763016])"
      ]
     },
     "execution_count": 5,
     "metadata": {},
     "output_type": "execute_result"
    }
   ],
   "source": [
    "np.random.seed(2384)\n",
    "arr3 = np.random.rand(25).reshape(5,5)\n",
    "print(arr3)\n",
    "arr3[0::1][2]"
   ]
  },
  {
   "cell_type": "markdown",
   "metadata": {},
   "source": [
    "5.\tCreate a 4x4 matrix and calculate the sum of its main diagonal elements.\n",
    "\n"
   ]
  },
  {
   "cell_type": "code",
   "execution_count": 6,
   "metadata": {},
   "outputs": [
    {
     "data": {
      "text/plain": [
       "3.5401223238135895"
      ]
     },
     "execution_count": 6,
     "metadata": {},
     "output_type": "execute_result"
    }
   ],
   "source": [
    "arr4 = np.random.rand(16).reshape(4,4)\n",
    "sum = 0\n",
    "for i in range(4):\n",
    "    for j in range(4):\n",
    "        if(i==j):\n",
    "            sum+=arr4[i][j]\n",
    "sum   "
   ]
  },
  {
   "cell_type": "markdown",
   "metadata": {},
   "source": [
    "6.\tGenerate a 3x3 matrix and find the smallest value among all its elements.\n"
   ]
  },
  {
   "cell_type": "code",
   "execution_count": 7,
   "metadata": {},
   "outputs": [
    {
     "name": "stdout",
     "output_type": "stream",
     "text": [
      "[[0.02193189 0.38540863 0.94458542]\n",
      " [0.04809152 0.43420625 0.91827789]\n",
      " [0.51904897 0.56734419 0.5434014 ]]\n"
     ]
    },
    {
     "data": {
      "text/plain": [
       "0.021931888057477367"
      ]
     },
     "execution_count": 7,
     "metadata": {},
     "output_type": "execute_result"
    }
   ],
   "source": [
    "arr6 = np.random.rand(9).reshape(3,3)\n",
    "minimum = min(arr6[0])\n",
    "for i in range(len(arr6)):\n",
    "    for j in range(len(arr6)):\n",
    "        if arr6[i][j] < minimum:\n",
    "            minimum = arr6[i][j]\n",
    "print(arr6)           \n",
    "minimum"
   ]
  },
  {
   "cell_type": "markdown",
   "metadata": {},
   "source": [
    "7.\tCreate a 4x4 matrix of random integers between 1 and 20 and compute the sum of all elements that are greater than 10.\n"
   ]
  },
  {
   "cell_type": "code",
   "execution_count": 8,
   "metadata": {},
   "outputs": [
    {
     "name": "stdout",
     "output_type": "stream",
     "text": [
      "[[ 3  7 19 14]\n",
      " [ 8  4 14  5]\n",
      " [18 15  4 18]\n",
      " [ 3 13  2 20]]\n",
      "131\n"
     ]
    }
   ],
   "source": [
    "matrix = np.random.randint(1, 21, size=(4, 4))\n",
    "print(matrix)\n",
    "sum_greater_than_10 = np.sum(matrix[matrix > 10])\n",
    "print(sum_greater_than_10)\n"
   ]
  },
  {
   "cell_type": "markdown",
   "metadata": {},
   "source": [
    "8.\tGenerate a 5x5 matrix of random numbers and find the mean of the maximum values of each row.\n"
   ]
  },
  {
   "cell_type": "code",
   "execution_count": 9,
   "metadata": {},
   "outputs": [
    {
     "name": "stdout",
     "output_type": "stream",
     "text": [
      "[[85 45 44 32 49]\n",
      " [11 90 20  6 38]\n",
      " [62 16 12 73 67]\n",
      " [46 71 34  1 55]\n",
      " [75 56 19 97 70]]\n",
      "The mean neded is: 83.2\n"
     ]
    }
   ],
   "source": [
    "arr8 = np.random.randint(1,100, size = (5,5))\n",
    "maxvals = [0]*5\n",
    "print(arr8)\n",
    "for i in range(arr8.shape[1]):\n",
    "    for j in range(arr8.shape[1]):\n",
    "        if(maxvals[i] < arr8[i][j]):\n",
    "            maxvals[i] = arr8[i][j]\n",
    "    \n",
    "print(f'The mean neded is: {np.mean(maxvals)}')\n",
    "        "
   ]
  },
  {
   "cell_type": "markdown",
   "metadata": {},
   "source": [
    "9.\tCreate a 3x3 matrix and calculate the difference between the sum of the elements in the first row and the sum of the elements in the last row.\n"
   ]
  },
  {
   "cell_type": "code",
   "execution_count": 10,
   "metadata": {},
   "outputs": [
    {
     "data": {
      "text/plain": [
       "-26"
      ]
     },
     "execution_count": 10,
     "metadata": {},
     "output_type": "execute_result"
    }
   ],
   "source": [
    "arr9 = np.random.randint(1,50, size = (3,3))\n",
    "diff = np.sum(arr9[-1]) - np.sum(arr9[0])\n",
    "diff"
   ]
  },
  {
   "cell_type": "markdown",
   "metadata": {},
   "source": [
    "10.\tGenerate a 6x6 matrix of random integers and replace all values below the median with zero.\n"
   ]
  },
  {
   "cell_type": "code",
   "execution_count": 11,
   "metadata": {},
   "outputs": [
    {
     "name": "stdout",
     "output_type": "stream",
     "text": [
      "[[77 60 68 91 19 77]\n",
      " [37 76 46 94 77 72]\n",
      " [56 22 89 33 67 34]\n",
      " [25 60 15 30 63 84]\n",
      " [24 10 92 94 93 27]\n",
      " [14 10 32 87 10 97]] \n",
      "\n",
      "60.0 \n",
      "\n",
      "[[77 60 68 91 19 77]\n",
      " [ 0 76  0 94 77 72]\n",
      " [ 0  0 89 33 67 34]\n",
      " [25 60 15 30 63 84]\n",
      " [24 10 92 94 93 27]\n",
      " [14 10 32 87 10 97]]\n"
     ]
    }
   ],
   "source": [
    "arr10 = np.random.randint(1, 100, size = (6,6))\n",
    "median = np.median(arr10)\n",
    "print(arr10, '\\n')\n",
    "for i in range(len(arr6)):\n",
    "    for j in range(len(arr6)):\n",
    "        if arr10[i][j] < median: \n",
    "            arr10[i][j] = 0\n",
    "\n",
    "print(median, '\\n')\n",
    "print(arr10)"
   ]
  },
  {
   "cell_type": "markdown",
   "metadata": {},
   "source": [
    "11.\tCreate a 4x4 matrix and compute the sum of elements in the upper triangular part of the matrix.\n"
   ]
  },
  {
   "cell_type": "code",
   "execution_count": 12,
   "metadata": {},
   "outputs": [
    {
     "name": "stdout",
     "output_type": "stream",
     "text": [
      "[[52 93 15 72]\n",
      " [61 21 83 87]\n",
      " [75 75 88 24]\n",
      " [ 3 22 53  2]]\n",
      "537\n"
     ]
    }
   ],
   "source": [
    "np.random.seed(42) ## cuz output kept changing always\n",
    "arr11 = np.random.randint(1, 100, size = (4,4),)\n",
    "print(arr11)\n",
    "sum = 0\n",
    "\n",
    "for i in range(len(arr11)):\n",
    "    for j in range(i, 4):\n",
    "        sum = sum + arr11[i][j]\n",
    "\n",
    "print(sum)\n"
   ]
  },
  {
   "cell_type": "markdown",
   "metadata": {},
   "source": [
    "12.\tGenerate a 3x4 matrix of random values and find the standard deviation of the elements in the third column."
   ]
  },
  {
   "cell_type": "code",
   "execution_count": 14,
   "metadata": {},
   "outputs": [
    {
     "name": "stdout",
     "output_type": "stream",
     "text": [
      "0.020312146490465754\n"
     ]
    }
   ],
   "source": [
    "matrix = np.random.rand(3, 4)\n",
    "std_dev_third_column = np.std(matrix[:, 2])\n",
    "print(std_dev_third_column)"
   ]
  }
 ],
 "metadata": {
  "kernelspec": {
   "display_name": "Python 3 (ipykernel)",
   "language": "python",
   "name": "python3"
  }
 },
 "nbformat": 4,
 "nbformat_minor": 2
}
