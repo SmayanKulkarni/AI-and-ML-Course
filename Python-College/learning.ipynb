{
 "cells": [
  {
   "cell_type": "markdown",
   "metadata": {},
   "source": [
    "# Lecture 1"
   ]
  },
  {
   "cell_type": "markdown",
   "metadata": {},
   "source": [
    "## Operates in Python\n",
    "* \"+\"  : Add two operands or unary plus\n",
    "* \"-\"  : Subtract two operands or unary minus\n",
    "* \"*\"  : Multiplies two operands\n",
    "* \"/\"  : Divides two operands\n",
    "* \"//\"  : Divides two operands using integer division, eg: 7//2 = 3\n",
    "* \"%\"  : Finds modulus or remainder after division of two numbers\n",
    "* \"**\"  : Finds exponent of the given values"
   ]
  },
  {
   "cell_type": "markdown",
   "metadata": {},
   "source": [
    "## Taking inputs in Python\n",
    "\n",
    "* All inputs taken are taken as string inputs without typecasting, therefore typecasting is needed to be done for appropriate data types.\n",
    "    * ex: a = int(input(\"Enter the given option\")) -> here the value entered will be an integer variable\n",
    "    * ex : a = input(\"enter the given option\") -> here the value entered will be a string variable"
   ]
  },
  {
   "cell_type": "code",
   "execution_count": 1,
   "metadata": {},
   "outputs": [
    {
     "name": "stdout",
     "output_type": "stream",
     "text": [
      "Good morning,it is a rainy day today\n",
      "New line\n"
     ]
    }
   ],
   "source": [
    "print(\"Good morning,it is a rainy day today\")\n",
    "print(\"New line\")"
   ]
  },
  {
   "cell_type": "code",
   "execution_count": 2,
   "metadata": {},
   "outputs": [
    {
     "name": "stdout",
     "output_type": "stream",
     "text": [
      "Good Morning, it is rainy today\tNew line?\n"
     ]
    }
   ],
   "source": [
    "print(\"Good Morning, it is rainy today\", end='\\t')\n",
    "print(\"New line?\")"
   ]
  },
  {
   "cell_type": "code",
   "execution_count": 3,
   "metadata": {},
   "outputs": [
    {
     "name": "stdout",
     "output_type": "stream",
     "text": [
      "New Year,2023,see you soon!\n"
     ]
    }
   ],
   "source": [
    "print('New Year', 2023,'see you soon!', sep=',')"
   ]
  },
  {
   "cell_type": "code",
   "execution_count": 4,
   "metadata": {},
   "outputs": [],
   "source": [
    "num = input(\"enter a number\")"
   ]
  },
  {
   "cell_type": "code",
   "execution_count": 5,
   "metadata": {},
   "outputs": [
    {
     "data": {
      "text/plain": [
       "'5'"
      ]
     },
     "execution_count": 5,
     "metadata": {},
     "output_type": "execute_result"
    }
   ],
   "source": [
    "num"
   ]
  },
  {
   "cell_type": "code",
   "execution_count": 6,
   "metadata": {},
   "outputs": [
    {
     "data": {
      "text/plain": [
       "str"
      ]
     },
     "execution_count": 6,
     "metadata": {},
     "output_type": "execute_result"
    }
   ],
   "source": [
    "type(num)"
   ]
  },
  {
   "cell_type": "code",
   "execution_count": 7,
   "metadata": {},
   "outputs": [],
   "source": [
    "num = int(input(\"enter a number\"))"
   ]
  },
  {
   "cell_type": "code",
   "execution_count": 8,
   "metadata": {},
   "outputs": [
    {
     "data": {
      "text/plain": [
       "int"
      ]
     },
     "execution_count": 8,
     "metadata": {},
     "output_type": "execute_result"
    }
   ],
   "source": [
    "type(num)"
   ]
  },
  {
   "cell_type": "code",
   "execution_count": 9,
   "metadata": {},
   "outputs": [
    {
     "name": "stdout",
     "output_type": "stream",
     "text": [
      "5 <class 'int'>\n"
     ]
    }
   ],
   "source": [
    "print(num,type(num))"
   ]
  },
  {
   "cell_type": "markdown",
   "metadata": {},
   "source": [
    "### Exercise: 1"
   ]
  },
  {
   "cell_type": "markdown",
   "metadata": {},
   "source": [
    "1. WAP to display your name and college name\n",
    "2. Modify first program but add your designation with your name, but it should be displayed on new line\n",
    "3. WAP to calculate area of circle. Define p = 3.14 and radius is 2.\n",
    "4. Modify the program number 2 in such a way that area will be rounded number\n",
    "5. Modify program number 4 - take radius as input from user."
   ]
  },
  {
   "cell_type": "code",
   "execution_count": 10,
   "metadata": {},
   "outputs": [
    {
     "name": "stdout",
     "output_type": "stream",
     "text": [
      "Smayan Kulkarni, DJ Sanghvi College of engineering\n"
     ]
    }
   ],
   "source": [
    "#1. \n",
    "print(\"Smayan Kulkarni, DJ Sanghvi College of engineering\")"
   ]
  },
  {
   "cell_type": "code",
   "execution_count": 11,
   "metadata": {},
   "outputs": [
    {
     "name": "stdout",
     "output_type": "stream",
     "text": [
      "student: Smayan Kulkarni\n"
     ]
    }
   ],
   "source": [
    "#2. \n",
    "print(\"student: Smayan Kulkarni\")"
   ]
  },
  {
   "cell_type": "code",
   "execution_count": 12,
   "metadata": {},
   "outputs": [
    {
     "data": {
      "text/plain": [
       "12.56"
      ]
     },
     "execution_count": 12,
     "metadata": {},
     "output_type": "execute_result"
    }
   ],
   "source": [
    "pi = 3.14\n",
    "r =2\n",
    "area = pi * r**2\n",
    "area"
   ]
  },
  {
   "cell_type": "code",
   "execution_count": 13,
   "metadata": {},
   "outputs": [
    {
     "data": {
      "text/plain": [
       "12"
      ]
     },
     "execution_count": 13,
     "metadata": {},
     "output_type": "execute_result"
    }
   ],
   "source": [
    "pi = 3.14\n",
    "r =2\n",
    "area = pi * r**2\n",
    "a =int(area)\n",
    "a"
   ]
  },
  {
   "cell_type": "code",
   "execution_count": 14,
   "metadata": {},
   "outputs": [
    {
     "data": {
      "text/plain": [
       "153.86"
      ]
     },
     "execution_count": 14,
     "metadata": {},
     "output_type": "execute_result"
    }
   ],
   "source": [
    "pi = 3.14\n",
    "r =int(input(\"Enter the radius\"))\n",
    "area = pi * r**2\n",
    "area"
   ]
  },
  {
   "cell_type": "code",
   "execution_count": 17,
   "metadata": {},
   "outputs": [
    {
     "name": "stdout",
     "output_type": "stream",
     "text": [
      " printer 1 REGULAR CALL\n",
      " printer 2 REGULAR CALL\n",
      "printer one lambda called\n",
      "printer two lambda called\n"
     ]
    }
   ],
   "source": [
    "# A regular function\n",
    "def fun1(funct , *args):\n",
    "    funct(*args)\n",
    "def printer_one(arg):\n",
    "    return print(arg)\n",
    "def printer_two(arg):\n",
    "    print(arg)\n",
    "    \n",
    "fun1(printer_one, ' printer 1 REGULAR CALL')\n",
    "fun1(printer_two, ' printer 2 REGULAR CALL')\n",
    "\n",
    "\n",
    "fun1(lambda : printer_one('printer one lambda called'))\n",
    "fun1(lambda : printer_two('printer two lambda called'))"
   ]
  },
  {
   "cell_type": "code",
   "execution_count": null,
   "metadata": {},
   "outputs": [],
   "source": []
  }
 ],
 "metadata": {
  "kernelspec": {
   "display_name": "Python 3",
   "language": "python",
   "name": "python3"
  },
  "language_info": {
   "codemirror_mode": {
    "name": "ipython",
    "version": 3
   },
   "file_extension": ".py",
   "mimetype": "text/x-python",
   "name": "python",
   "nbconvert_exporter": "python",
   "pygments_lexer": "ipython3",
   "version": "3.11.9"
  }
 },
 "nbformat": 4,
 "nbformat_minor": 2
}
