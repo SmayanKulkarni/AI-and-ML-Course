{
 "cells": [
  {
   "cell_type": "code",
   "execution_count": 2,
   "metadata": {},
   "outputs": [],
   "source": [
    "a = \"Hellow world\""
   ]
  },
  {
   "cell_type": "code",
   "execution_count": 4,
   "metadata": {},
   "outputs": [
    {
     "data": {
      "text/plain": [
       "'Hellow world'"
      ]
     },
     "execution_count": 4,
     "metadata": {},
     "output_type": "execute_result"
    }
   ],
   "source": [
    "a"
   ]
  },
  {
   "cell_type": "code",
   "execution_count": 5,
   "metadata": {},
   "outputs": [
    {
     "name": "stdout",
     "output_type": "stream",
     "text": [
      "python is powerful\n"
     ]
    }
   ],
   "source": [
    "print('python is powerful')"
   ]
  },
  {
   "cell_type": "markdown",
   "metadata": {},
   "source": [
    "## Operates in Python\n",
    "* \"+\"  : Add two operands or unary plus\n",
    "* \"-\"  : Subtract two operands or unary minus\n",
    "* \"*\"  : Multiplies two operands\n",
    "* \"/\"  : Divides two operands\n",
    "* \"//\"  : Divides two operands using integer division, eg: 7//2 = 3\n",
    "* \"%\"  : Finds modulus or remainder after division of two numbers\n",
    "* \"**\"  : Finds exponent of the given values"
   ]
  },
  {
   "cell_type": "markdown",
   "metadata": {},
   "source": [
    "## Taking inputs in Python\n",
    "\n",
    "* All inputs taken are taken as string inputs without typecasting, therefore typecasting is needed to be done for appropriate data types.\n",
    "    * ex: a = int(input(\"Enter the given option\"))\n",
    "    * ex : a = input(\"enter the given option\") "
   ]
  },
  {
   "cell_type": "code",
   "execution_count": 9,
   "metadata": {},
   "outputs": [
    {
     "name": "stdout",
     "output_type": "stream",
     "text": [
      "Good morning,it is a rainy day today\n",
      "New line\n"
     ]
    }
   ],
   "source": [
    "print(\"Good morning,it is a rainy day today\")\n",
    "print(\"New line\")"
   ]
  },
  {
   "cell_type": "code",
   "execution_count": 10,
   "metadata": {},
   "outputs": [
    {
     "name": "stdout",
     "output_type": "stream",
     "text": [
      "Good Morning, it is rainy today\tNew line?\n"
     ]
    }
   ],
   "source": [
    "print(\"Good Morning, it is rainy today\", end='\\t')\n",
    "print(\"New line?\")"
   ]
  },
  {
   "cell_type": "code",
   "execution_count": 14,
   "metadata": {},
   "outputs": [
    {
     "name": "stdout",
     "output_type": "stream",
     "text": [
      "New Year,2023,see you soon!\n"
     ]
    }
   ],
   "source": [
    "print('New Year', 2023,'see you soon!', sep=',')"
   ]
  },
  {
   "cell_type": "code",
   "execution_count": null,
   "metadata": {},
   "outputs": [],
   "source": []
  }
 ],
 "metadata": {
  "kernelspec": {
   "display_name": "Python 3",
   "language": "python",
   "name": "python3"
  },
  "language_info": {
   "codemirror_mode": {
    "name": "ipython",
    "version": 3
   },
   "file_extension": ".py",
   "mimetype": "text/x-python",
   "name": "python",
   "nbconvert_exporter": "python",
   "pygments_lexer": "ipython3",
   "version": "3.10.13"
  }
 },
 "nbformat": 4,
 "nbformat_minor": 2
}
