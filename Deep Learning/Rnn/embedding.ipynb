{
 "cells": [
  {
   "cell_type": "code",
   "execution_count": 1,
   "metadata": {},
   "outputs": [
    {
     "name": "stderr",
     "output_type": "stream",
     "text": [
      "2025-07-05 11:44:57.104942: I tensorflow/core/util/port.cc:153] oneDNN custom operations are on. You may see slightly different numerical results due to floating-point round-off errors from different computation orders. To turn them off, set the environment variable `TF_ENABLE_ONEDNN_OPTS=0`.\n",
      "2025-07-05 11:44:57.112062: E external/local_xla/xla/stream_executor/cuda/cuda_fft.cc:467] Unable to register cuFFT factory: Attempting to register factory for plugin cuFFT when one has already been registered\n",
      "WARNING: All log messages before absl::InitializeLog() is called are written to STDERR\n",
      "E0000 00:00:1751696097.120413   17190 cuda_dnn.cc:8579] Unable to register cuDNN factory: Attempting to register factory for plugin cuDNN when one has already been registered\n",
      "E0000 00:00:1751696097.122988   17190 cuda_blas.cc:1407] Unable to register cuBLAS factory: Attempting to register factory for plugin cuBLAS when one has already been registered\n",
      "W0000 00:00:1751696097.129150   17190 computation_placer.cc:177] computation placer already registered. Please check linkage and avoid linking the same target more than once.\n",
      "W0000 00:00:1751696097.129160   17190 computation_placer.cc:177] computation placer already registered. Please check linkage and avoid linking the same target more than once.\n",
      "W0000 00:00:1751696097.129162   17190 computation_placer.cc:177] computation placer already registered. Please check linkage and avoid linking the same target more than once.\n",
      "W0000 00:00:1751696097.129162   17190 computation_placer.cc:177] computation placer already registered. Please check linkage and avoid linking the same target more than once.\n",
      "2025-07-05 11:44:57.131679: I tensorflow/core/platform/cpu_feature_guard.cc:210] This TensorFlow binary is optimized to use available CPU instructions in performance-critical operations.\n",
      "To enable the following instructions: AVX2 AVX_VNNI FMA, in other operations, rebuild TensorFlow with the appropriate compiler flags.\n"
     ]
    }
   ],
   "source": [
    "from tensorflow.keras.preprocessing.text import one_hot"
   ]
  },
  {
   "cell_type": "code",
   "execution_count": 2,
   "metadata": {},
   "outputs": [],
   "source": [
    "### sentences\n",
    "sent=[  'the glass of milk',\n",
    "     'the glass of juice',\n",
    "     'the cup of tea',\n",
    "    'I am a good boy',\n",
    "     'I am a good developer',\n",
    "     'understand the meaning of words',\n",
    "     'your videos are good',]"
   ]
  },
  {
   "cell_type": "code",
   "execution_count": 3,
   "metadata": {},
   "outputs": [
    {
     "data": {
      "text/plain": [
       "['the glass of milk',\n",
       " 'the glass of juice',\n",
       " 'the cup of tea',\n",
       " 'I am a good boy',\n",
       " 'I am a good developer',\n",
       " 'understand the meaning of words',\n",
       " 'your videos are good']"
      ]
     },
     "execution_count": 3,
     "metadata": {},
     "output_type": "execute_result"
    }
   ],
   "source": [
    "sent"
   ]
  },
  {
   "cell_type": "code",
   "execution_count": 4,
   "metadata": {},
   "outputs": [],
   "source": [
    "## Define the vocabulary size\n",
    "voc_size=10000"
   ]
  },
  {
   "cell_type": "code",
   "execution_count": 5,
   "metadata": {},
   "outputs": [
    {
     "data": {
      "text/plain": [
       "['the glass of milk',\n",
       " 'the glass of juice',\n",
       " 'the cup of tea',\n",
       " 'I am a good boy',\n",
       " 'I am a good developer',\n",
       " 'understand the meaning of words',\n",
       " 'your videos are good']"
      ]
     },
     "execution_count": 5,
     "metadata": {},
     "output_type": "execute_result"
    }
   ],
   "source": [
    "sent"
   ]
  },
  {
   "cell_type": "code",
   "execution_count": 6,
   "metadata": {},
   "outputs": [
    {
     "data": {
      "text/plain": [
       "[[2857, 950, 6313, 589],\n",
       " [2857, 950, 6313, 8871],\n",
       " [2857, 9959, 6313, 1411],\n",
       " [1787, 4722, 8275, 9645, 3401],\n",
       " [1787, 4722, 8275, 9645, 2610],\n",
       " [8431, 2857, 1605, 6313, 778],\n",
       " [7101, 8649, 1032, 9645]]"
      ]
     },
     "execution_count": 6,
     "metadata": {},
     "output_type": "execute_result"
    }
   ],
   "source": [
    "### One Hot Representation\n",
    "one_hot_repr=[one_hot(words,voc_size)for words in sent]\n",
    "one_hot_repr"
   ]
  },
  {
   "cell_type": "code",
   "execution_count": 7,
   "metadata": {},
   "outputs": [],
   "source": [
    "## word Embedding Representation\n",
    "\n",
    "from tensorflow.keras.layers import Embedding\n",
    "#from tensorflow.keras.processing.sequence import pad_sequences\n",
    "from tensorflow.keras.utils import pad_sequences\n",
    "from tensorflow.keras.models import Sequential"
   ]
  },
  {
   "cell_type": "code",
   "execution_count": 8,
   "metadata": {},
   "outputs": [],
   "source": [
    "import numpy as np"
   ]
  },
  {
   "cell_type": "code",
   "execution_count": 9,
   "metadata": {},
   "outputs": [
    {
     "name": "stdout",
     "output_type": "stream",
     "text": [
      "[[   0    0    0    0 2857  950 6313  589]\n",
      " [   0    0    0    0 2857  950 6313 8871]\n",
      " [   0    0    0    0 2857 9959 6313 1411]\n",
      " [   0    0    0 1787 4722 8275 9645 3401]\n",
      " [   0    0    0 1787 4722 8275 9645 2610]\n",
      " [   0    0    0 8431 2857 1605 6313  778]\n",
      " [   0    0    0    0 7101 8649 1032 9645]]\n"
     ]
    }
   ],
   "source": [
    "sent_length=8\n",
    "embedded_docs=pad_sequences(one_hot_repr,padding='pre',maxlen=sent_length)\n",
    "print(embedded_docs)"
   ]
  },
  {
   "cell_type": "code",
   "execution_count": 10,
   "metadata": {},
   "outputs": [],
   "source": [
    "## feature representation\n",
    "dim=10"
   ]
  },
  {
   "cell_type": "code",
   "execution_count": 11,
   "metadata": {},
   "outputs": [
    {
     "name": "stderr",
     "output_type": "stream",
     "text": [
      "I0000 00:00:1751696098.496411   17190 gpu_device.cc:2019] Created device /job:localhost/replica:0/task:0/device:GPU:0 with 9279 MB memory:  -> device: 0, name: NVIDIA GeForce RTX 4070 SUPER, pci bus id: 0000:01:00.0, compute capability: 8.9\n"
     ]
    }
   ],
   "source": [
    "model=Sequential()\n",
    "\n",
    "model.add(Embedding(voc_size,dim))\n",
    "model.build((None,sent_length ))\n",
    "model.compile('adam','mse')"
   ]
  },
  {
   "cell_type": "code",
   "execution_count": 12,
   "metadata": {},
   "outputs": [
    {
     "data": {
      "text/html": [
       "<pre style=\"white-space:pre;overflow-x:auto;line-height:normal;font-family:Menlo,'DejaVu Sans Mono',consolas,'Courier New',monospace\"><span style=\"font-weight: bold\">Model: \"sequential\"</span>\n",
       "</pre>\n"
      ],
      "text/plain": [
       "\u001b[1mModel: \"sequential\"\u001b[0m\n"
      ]
     },
     "metadata": {},
     "output_type": "display_data"
    },
    {
     "data": {
      "text/html": [
       "<pre style=\"white-space:pre;overflow-x:auto;line-height:normal;font-family:Menlo,'DejaVu Sans Mono',consolas,'Courier New',monospace\">┏━━━━━━━━━━━━━━━━━━━━━━━━━━━━━━━━━┳━━━━━━━━━━━━━━━━━━━━━━━━┳━━━━━━━━━━━━━━━┓\n",
       "┃<span style=\"font-weight: bold\"> Layer (type)                    </span>┃<span style=\"font-weight: bold\"> Output Shape           </span>┃<span style=\"font-weight: bold\">       Param # </span>┃\n",
       "┡━━━━━━━━━━━━━━━━━━━━━━━━━━━━━━━━━╇━━━━━━━━━━━━━━━━━━━━━━━━╇━━━━━━━━━━━━━━━┩\n",
       "│ embedding (<span style=\"color: #0087ff; text-decoration-color: #0087ff\">Embedding</span>)           │ (<span style=\"color: #00d7ff; text-decoration-color: #00d7ff\">None</span>, <span style=\"color: #00af00; text-decoration-color: #00af00\">8</span>, <span style=\"color: #00af00; text-decoration-color: #00af00\">10</span>)          │       <span style=\"color: #00af00; text-decoration-color: #00af00\">100,000</span> │\n",
       "└─────────────────────────────────┴────────────────────────┴───────────────┘\n",
       "</pre>\n"
      ],
      "text/plain": [
       "┏━━━━━━━━━━━━━━━━━━━━━━━━━━━━━━━━━┳━━━━━━━━━━━━━━━━━━━━━━━━┳━━━━━━━━━━━━━━━┓\n",
       "┃\u001b[1m \u001b[0m\u001b[1mLayer (type)                   \u001b[0m\u001b[1m \u001b[0m┃\u001b[1m \u001b[0m\u001b[1mOutput Shape          \u001b[0m\u001b[1m \u001b[0m┃\u001b[1m \u001b[0m\u001b[1m      Param #\u001b[0m\u001b[1m \u001b[0m┃\n",
       "┡━━━━━━━━━━━━━━━━━━━━━━━━━━━━━━━━━╇━━━━━━━━━━━━━━━━━━━━━━━━╇━━━━━━━━━━━━━━━┩\n",
       "│ embedding (\u001b[38;5;33mEmbedding\u001b[0m)           │ (\u001b[38;5;45mNone\u001b[0m, \u001b[38;5;34m8\u001b[0m, \u001b[38;5;34m10\u001b[0m)          │       \u001b[38;5;34m100,000\u001b[0m │\n",
       "└─────────────────────────────────┴────────────────────────┴───────────────┘\n"
      ]
     },
     "metadata": {},
     "output_type": "display_data"
    },
    {
     "data": {
      "text/html": [
       "<pre style=\"white-space:pre;overflow-x:auto;line-height:normal;font-family:Menlo,'DejaVu Sans Mono',consolas,'Courier New',monospace\"><span style=\"font-weight: bold\"> Total params: </span><span style=\"color: #00af00; text-decoration-color: #00af00\">100,000</span> (390.62 KB)\n",
       "</pre>\n"
      ],
      "text/plain": [
       "\u001b[1m Total params: \u001b[0m\u001b[38;5;34m100,000\u001b[0m (390.62 KB)\n"
      ]
     },
     "metadata": {},
     "output_type": "display_data"
    },
    {
     "data": {
      "text/html": [
       "<pre style=\"white-space:pre;overflow-x:auto;line-height:normal;font-family:Menlo,'DejaVu Sans Mono',consolas,'Courier New',monospace\"><span style=\"font-weight: bold\"> Trainable params: </span><span style=\"color: #00af00; text-decoration-color: #00af00\">100,000</span> (390.62 KB)\n",
       "</pre>\n"
      ],
      "text/plain": [
       "\u001b[1m Trainable params: \u001b[0m\u001b[38;5;34m100,000\u001b[0m (390.62 KB)\n"
      ]
     },
     "metadata": {},
     "output_type": "display_data"
    },
    {
     "data": {
      "text/html": [
       "<pre style=\"white-space:pre;overflow-x:auto;line-height:normal;font-family:Menlo,'DejaVu Sans Mono',consolas,'Courier New',monospace\"><span style=\"font-weight: bold\"> Non-trainable params: </span><span style=\"color: #00af00; text-decoration-color: #00af00\">0</span> (0.00 B)\n",
       "</pre>\n"
      ],
      "text/plain": [
       "\u001b[1m Non-trainable params: \u001b[0m\u001b[38;5;34m0\u001b[0m (0.00 B)\n"
      ]
     },
     "metadata": {},
     "output_type": "display_data"
    }
   ],
   "source": [
    "model.summary()"
   ]
  },
  {
   "cell_type": "code",
   "execution_count": 13,
   "metadata": {},
   "outputs": [
    {
     "name": "stdout",
     "output_type": "stream",
     "text": [
      "\u001b[1m1/1\u001b[0m \u001b[32m━━━━━━━━━━━━━━━━━━━━\u001b[0m\u001b[37m\u001b[0m \u001b[1m0s\u001b[0m 93ms/step\n"
     ]
    },
    {
     "name": "stderr",
     "output_type": "stream",
     "text": [
      "WARNING: All log messages before absl::InitializeLog() is called are written to STDERR\n",
      "I0000 00:00:1751696098.968087   17338 service.cc:152] XLA service 0x715cdc003120 initialized for platform CUDA (this does not guarantee that XLA will be used). Devices:\n",
      "I0000 00:00:1751696098.968101   17338 service.cc:160]   StreamExecutor device (0): NVIDIA GeForce RTX 4070 SUPER, Compute Capability 8.9\n",
      "I0000 00:00:1751696098.974004   17338 cuda_dnn.cc:529] Loaded cuDNN version 91002\n",
      "I0000 00:00:1751696099.020466   17338 device_compiler.h:188] Compiled cluster using XLA!  This line is logged at most once for the lifetime of the process.\n"
     ]
    },
    {
     "data": {
      "text/plain": [
       "array([[[ 0.00711452,  0.00733985,  0.02747783,  0.04355154,\n",
       "         -0.04977702, -0.03959248, -0.00355226, -0.03311235,\n",
       "          0.00366913,  0.03864921],\n",
       "        [ 0.00711452,  0.00733985,  0.02747783,  0.04355154,\n",
       "         -0.04977702, -0.03959248, -0.00355226, -0.03311235,\n",
       "          0.00366913,  0.03864921],\n",
       "        [ 0.00711452,  0.00733985,  0.02747783,  0.04355154,\n",
       "         -0.04977702, -0.03959248, -0.00355226, -0.03311235,\n",
       "          0.00366913,  0.03864921],\n",
       "        [ 0.00711452,  0.00733985,  0.02747783,  0.04355154,\n",
       "         -0.04977702, -0.03959248, -0.00355226, -0.03311235,\n",
       "          0.00366913,  0.03864921],\n",
       "        [ 0.00012126,  0.02346918,  0.04877954, -0.03591298,\n",
       "         -0.04396044, -0.0386856 , -0.0168656 ,  0.01911117,\n",
       "          0.01447851, -0.04620352],\n",
       "        [-0.00654273, -0.01966271, -0.01356839, -0.04932113,\n",
       "          0.04391326, -0.02635979, -0.02611834, -0.02087054,\n",
       "         -0.04669993,  0.00187136],\n",
       "        [ 0.04024649, -0.03963844, -0.02508347, -0.00285868,\n",
       "          0.03531236, -0.00504344,  0.02911753,  0.00146999,\n",
       "         -0.02889904, -0.01810111],\n",
       "        [ 0.02469972,  0.01208528, -0.02242219, -0.00116713,\n",
       "          0.02859476,  0.03632255, -0.03629011,  0.03313662,\n",
       "         -0.02583092,  0.01100491]],\n",
       "\n",
       "       [[ 0.00711452,  0.00733985,  0.02747783,  0.04355154,\n",
       "         -0.04977702, -0.03959248, -0.00355226, -0.03311235,\n",
       "          0.00366913,  0.03864921],\n",
       "        [ 0.00711452,  0.00733985,  0.02747783,  0.04355154,\n",
       "         -0.04977702, -0.03959248, -0.00355226, -0.03311235,\n",
       "          0.00366913,  0.03864921],\n",
       "        [ 0.00711452,  0.00733985,  0.02747783,  0.04355154,\n",
       "         -0.04977702, -0.03959248, -0.00355226, -0.03311235,\n",
       "          0.00366913,  0.03864921],\n",
       "        [ 0.00711452,  0.00733985,  0.02747783,  0.04355154,\n",
       "         -0.04977702, -0.03959248, -0.00355226, -0.03311235,\n",
       "          0.00366913,  0.03864921],\n",
       "        [ 0.00012126,  0.02346918,  0.04877954, -0.03591298,\n",
       "         -0.04396044, -0.0386856 , -0.0168656 ,  0.01911117,\n",
       "          0.01447851, -0.04620352],\n",
       "        [-0.00654273, -0.01966271, -0.01356839, -0.04932113,\n",
       "          0.04391326, -0.02635979, -0.02611834, -0.02087054,\n",
       "         -0.04669993,  0.00187136],\n",
       "        [ 0.04024649, -0.03963844, -0.02508347, -0.00285868,\n",
       "          0.03531236, -0.00504344,  0.02911753,  0.00146999,\n",
       "         -0.02889904, -0.01810111],\n",
       "        [ 0.00240058,  0.01572234,  0.00795814,  0.02450258,\n",
       "         -0.0151567 , -0.03740587, -0.03606416,  0.04747374,\n",
       "          0.01402742,  0.00428103]],\n",
       "\n",
       "       [[ 0.00711452,  0.00733985,  0.02747783,  0.04355154,\n",
       "         -0.04977702, -0.03959248, -0.00355226, -0.03311235,\n",
       "          0.00366913,  0.03864921],\n",
       "        [ 0.00711452,  0.00733985,  0.02747783,  0.04355154,\n",
       "         -0.04977702, -0.03959248, -0.00355226, -0.03311235,\n",
       "          0.00366913,  0.03864921],\n",
       "        [ 0.00711452,  0.00733985,  0.02747783,  0.04355154,\n",
       "         -0.04977702, -0.03959248, -0.00355226, -0.03311235,\n",
       "          0.00366913,  0.03864921],\n",
       "        [ 0.00711452,  0.00733985,  0.02747783,  0.04355154,\n",
       "         -0.04977702, -0.03959248, -0.00355226, -0.03311235,\n",
       "          0.00366913,  0.03864921],\n",
       "        [ 0.00012126,  0.02346918,  0.04877954, -0.03591298,\n",
       "         -0.04396044, -0.0386856 , -0.0168656 ,  0.01911117,\n",
       "          0.01447851, -0.04620352],\n",
       "        [ 0.03901708, -0.04962529, -0.04604122,  0.03183922,\n",
       "          0.01667578,  0.0358987 ,  0.00103589,  0.04749549,\n",
       "          0.02367919,  0.02172834],\n",
       "        [ 0.04024649, -0.03963844, -0.02508347, -0.00285868,\n",
       "          0.03531236, -0.00504344,  0.02911753,  0.00146999,\n",
       "         -0.02889904, -0.01810111],\n",
       "        [ 0.04962138, -0.03517339, -0.02439765,  0.04248979,\n",
       "         -0.01548707,  0.0028173 ,  0.01261996, -0.03107526,\n",
       "          0.0444825 , -0.03167874]],\n",
       "\n",
       "       [[ 0.00711452,  0.00733985,  0.02747783,  0.04355154,\n",
       "         -0.04977702, -0.03959248, -0.00355226, -0.03311235,\n",
       "          0.00366913,  0.03864921],\n",
       "        [ 0.00711452,  0.00733985,  0.02747783,  0.04355154,\n",
       "         -0.04977702, -0.03959248, -0.00355226, -0.03311235,\n",
       "          0.00366913,  0.03864921],\n",
       "        [ 0.00711452,  0.00733985,  0.02747783,  0.04355154,\n",
       "         -0.04977702, -0.03959248, -0.00355226, -0.03311235,\n",
       "          0.00366913,  0.03864921],\n",
       "        [-0.04434187,  0.03027734, -0.03527061,  0.01969594,\n",
       "          0.04502083, -0.04668954, -0.0394649 , -0.01964537,\n",
       "          0.01243005, -0.03343397],\n",
       "        [-0.02473166, -0.00709492,  0.02206403, -0.01496508,\n",
       "          0.01078064,  0.01040914,  0.03436956,  0.02726276,\n",
       "         -0.01660359, -0.02545624],\n",
       "        [-0.04239644, -0.00465409, -0.04445995, -0.04586629,\n",
       "          0.03337772,  0.0451798 ,  0.03255261, -0.00929222,\n",
       "          0.03427395, -0.01983688],\n",
       "        [ 0.01064337,  0.00709139,  0.03608647,  0.02335856,\n",
       "         -0.00172471,  0.03349345, -0.00909209,  0.03524745,\n",
       "         -0.00487227,  0.01825492],\n",
       "        [ 0.04584923, -0.02949334,  0.02599074, -0.04353757,\n",
       "          0.0252572 , -0.03127193, -0.00437846,  0.01144866,\n",
       "         -0.02254373,  0.0078833 ]],\n",
       "\n",
       "       [[ 0.00711452,  0.00733985,  0.02747783,  0.04355154,\n",
       "         -0.04977702, -0.03959248, -0.00355226, -0.03311235,\n",
       "          0.00366913,  0.03864921],\n",
       "        [ 0.00711452,  0.00733985,  0.02747783,  0.04355154,\n",
       "         -0.04977702, -0.03959248, -0.00355226, -0.03311235,\n",
       "          0.00366913,  0.03864921],\n",
       "        [ 0.00711452,  0.00733985,  0.02747783,  0.04355154,\n",
       "         -0.04977702, -0.03959248, -0.00355226, -0.03311235,\n",
       "          0.00366913,  0.03864921],\n",
       "        [-0.04434187,  0.03027734, -0.03527061,  0.01969594,\n",
       "          0.04502083, -0.04668954, -0.0394649 , -0.01964537,\n",
       "          0.01243005, -0.03343397],\n",
       "        [-0.02473166, -0.00709492,  0.02206403, -0.01496508,\n",
       "          0.01078064,  0.01040914,  0.03436956,  0.02726276,\n",
       "         -0.01660359, -0.02545624],\n",
       "        [-0.04239644, -0.00465409, -0.04445995, -0.04586629,\n",
       "          0.03337772,  0.0451798 ,  0.03255261, -0.00929222,\n",
       "          0.03427395, -0.01983688],\n",
       "        [ 0.01064337,  0.00709139,  0.03608647,  0.02335856,\n",
       "         -0.00172471,  0.03349345, -0.00909209,  0.03524745,\n",
       "         -0.00487227,  0.01825492],\n",
       "        [ 0.03135114, -0.0023638 , -0.01240681,  0.04460672,\n",
       "          0.01646915, -0.00031941,  0.04665602, -0.01793658,\n",
       "         -0.01291537,  0.0055535 ]],\n",
       "\n",
       "       [[ 0.00711452,  0.00733985,  0.02747783,  0.04355154,\n",
       "         -0.04977702, -0.03959248, -0.00355226, -0.03311235,\n",
       "          0.00366913,  0.03864921],\n",
       "        [ 0.00711452,  0.00733985,  0.02747783,  0.04355154,\n",
       "         -0.04977702, -0.03959248, -0.00355226, -0.03311235,\n",
       "          0.00366913,  0.03864921],\n",
       "        [ 0.00711452,  0.00733985,  0.02747783,  0.04355154,\n",
       "         -0.04977702, -0.03959248, -0.00355226, -0.03311235,\n",
       "          0.00366913,  0.03864921],\n",
       "        [-0.03962541, -0.03079168,  0.04873432, -0.03408724,\n",
       "          0.00554233, -0.00809854, -0.03168132,  0.02727088,\n",
       "         -0.01713125, -0.00278748],\n",
       "        [ 0.00012126,  0.02346918,  0.04877954, -0.03591298,\n",
       "         -0.04396044, -0.0386856 , -0.0168656 ,  0.01911117,\n",
       "          0.01447851, -0.04620352],\n",
       "        [ 0.00079387,  0.04512126, -0.00184862,  0.04718966,\n",
       "         -0.02967792, -0.00690449, -0.01434239,  0.01039904,\n",
       "         -0.01173555,  0.03977552],\n",
       "        [ 0.04024649, -0.03963844, -0.02508347, -0.00285868,\n",
       "          0.03531236, -0.00504344,  0.02911753,  0.00146999,\n",
       "         -0.02889904, -0.01810111],\n",
       "        [ 0.01171577, -0.00956285, -0.03941717,  0.03696943,\n",
       "         -0.02859595, -0.01782675, -0.02689056, -0.00862401,\n",
       "          0.01958605, -0.02831342]],\n",
       "\n",
       "       [[ 0.00711452,  0.00733985,  0.02747783,  0.04355154,\n",
       "         -0.04977702, -0.03959248, -0.00355226, -0.03311235,\n",
       "          0.00366913,  0.03864921],\n",
       "        [ 0.00711452,  0.00733985,  0.02747783,  0.04355154,\n",
       "         -0.04977702, -0.03959248, -0.00355226, -0.03311235,\n",
       "          0.00366913,  0.03864921],\n",
       "        [ 0.00711452,  0.00733985,  0.02747783,  0.04355154,\n",
       "         -0.04977702, -0.03959248, -0.00355226, -0.03311235,\n",
       "          0.00366913,  0.03864921],\n",
       "        [ 0.00711452,  0.00733985,  0.02747783,  0.04355154,\n",
       "         -0.04977702, -0.03959248, -0.00355226, -0.03311235,\n",
       "          0.00366913,  0.03864921],\n",
       "        [-0.03318876, -0.03880379, -0.01607189,  0.02834182,\n",
       "          0.03033162, -0.01248705,  0.01799713, -0.04741178,\n",
       "         -0.00110749, -0.04782412],\n",
       "        [-0.01829256,  0.03228184,  0.02530316, -0.0323413 ,\n",
       "         -0.01985939,  0.03419936,  0.03593316,  0.00871514,\n",
       "          0.03254062, -0.00700054],\n",
       "        [ 0.02671211,  0.03405842, -0.0303277 ,  0.04928574,\n",
       "          0.02435656, -0.03587154, -0.03792859, -0.04557336,\n",
       "         -0.04041158,  0.03033898],\n",
       "        [ 0.01064337,  0.00709139,  0.03608647,  0.02335856,\n",
       "         -0.00172471,  0.03349345, -0.00909209,  0.03524745,\n",
       "         -0.00487227,  0.01825492]]], dtype=float32)"
      ]
     },
     "execution_count": 13,
     "metadata": {},
     "output_type": "execute_result"
    }
   ],
   "source": [
    "model.predict(embedded_docs)"
   ]
  },
  {
   "cell_type": "code",
   "execution_count": 14,
   "metadata": {},
   "outputs": [
    {
     "data": {
      "text/plain": [
       "array([   0,    0,    0,    0, 2857,  950, 6313,  589], dtype=int32)"
      ]
     },
     "execution_count": 14,
     "metadata": {},
     "output_type": "execute_result"
    }
   ],
   "source": [
    "embedded_docs[0]"
   ]
  },
  {
   "cell_type": "code",
   "execution_count": 22,
   "metadata": {},
   "outputs": [
    {
     "name": "stdout",
     "output_type": "stream",
     "text": [
      "\u001b[1m1/1\u001b[0m \u001b[32m━━━━━━━━━━━━━━━━━━━━\u001b[0m\u001b[37m\u001b[0m \u001b[1m0s\u001b[0m 20ms/step\n"
     ]
    },
    {
     "data": {
      "text/plain": [
       "array([[[ 0.00711452,  0.00733985,  0.02747783,  0.04355154,\n",
       "         -0.04977702, -0.03959248, -0.00355226, -0.03311235,\n",
       "          0.00366913,  0.03864921],\n",
       "        [ 0.00711452,  0.00733985,  0.02747783,  0.04355154,\n",
       "         -0.04977702, -0.03959248, -0.00355226, -0.03311235,\n",
       "          0.00366913,  0.03864921],\n",
       "        [ 0.00711452,  0.00733985,  0.02747783,  0.04355154,\n",
       "         -0.04977702, -0.03959248, -0.00355226, -0.03311235,\n",
       "          0.00366913,  0.03864921],\n",
       "        [ 0.00711452,  0.00733985,  0.02747783,  0.04355154,\n",
       "         -0.04977702, -0.03959248, -0.00355226, -0.03311235,\n",
       "          0.00366913,  0.03864921],\n",
       "        [ 0.00012126,  0.02346918,  0.04877954, -0.03591298,\n",
       "         -0.04396044, -0.0386856 , -0.0168656 ,  0.01911117,\n",
       "          0.01447851, -0.04620352],\n",
       "        [-0.00654273, -0.01966271, -0.01356839, -0.04932113,\n",
       "          0.04391326, -0.02635979, -0.02611834, -0.02087054,\n",
       "         -0.04669993,  0.00187136],\n",
       "        [ 0.04024649, -0.03963844, -0.02508347, -0.00285868,\n",
       "          0.03531236, -0.00504344,  0.02911753,  0.00146999,\n",
       "         -0.02889904, -0.01810111],\n",
       "        [ 0.02469972,  0.01208528, -0.02242219, -0.00116713,\n",
       "          0.02859476,  0.03632255, -0.03629011,  0.03313662,\n",
       "         -0.02583092,  0.01100491]]], dtype=float32)"
      ]
     },
     "execution_count": 22,
     "metadata": {},
     "output_type": "execute_result"
    }
   ],
   "source": [
    "model.predict(np.expand_dims(embedded_docs[0], axis = 0))"
   ]
  }
 ],
 "metadata": {
  "kernelspec": {
   "display_name": "Python 3",
   "language": "python",
   "name": "python3"
  },
  "language_info": {
   "codemirror_mode": {
    "name": "ipython",
    "version": 3
   },
   "file_extension": ".py",
   "mimetype": "text/x-python",
   "name": "python",
   "nbconvert_exporter": "python",
   "pygments_lexer": "ipython3",
   "version": "3.11.9"
  }
 },
 "nbformat": 4,
 "nbformat_minor": 2
}
