{
 "cells": [
  {
   "cell_type": "code",
   "execution_count": 1,
   "metadata": {},
   "outputs": [
    {
     "name": "stderr",
     "output_type": "stream",
     "text": [
      "2025-07-07 16:54:26.642590: I tensorflow/core/util/port.cc:153] oneDNN custom operations are on. You may see slightly different numerical results due to floating-point round-off errors from different computation orders. To turn them off, set the environment variable `TF_ENABLE_ONEDNN_OPTS=0`.\n",
      "2025-07-07 16:54:26.649757: E external/local_xla/xla/stream_executor/cuda/cuda_fft.cc:467] Unable to register cuFFT factory: Attempting to register factory for plugin cuFFT when one has already been registered\n",
      "WARNING: All log messages before absl::InitializeLog() is called are written to STDERR\n",
      "E0000 00:00:1751887466.658091   13094 cuda_dnn.cc:8579] Unable to register cuDNN factory: Attempting to register factory for plugin cuDNN when one has already been registered\n",
      "E0000 00:00:1751887466.660503   13094 cuda_blas.cc:1407] Unable to register cuBLAS factory: Attempting to register factory for plugin cuBLAS when one has already been registered\n",
      "W0000 00:00:1751887466.666892   13094 computation_placer.cc:177] computation placer already registered. Please check linkage and avoid linking the same target more than once.\n",
      "W0000 00:00:1751887466.666901   13094 computation_placer.cc:177] computation placer already registered. Please check linkage and avoid linking the same target more than once.\n",
      "W0000 00:00:1751887466.666902   13094 computation_placer.cc:177] computation placer already registered. Please check linkage and avoid linking the same target more than once.\n",
      "W0000 00:00:1751887466.666903   13094 computation_placer.cc:177] computation placer already registered. Please check linkage and avoid linking the same target more than once.\n",
      "2025-07-07 16:54:26.669076: I tensorflow/core/platform/cpu_feature_guard.cc:210] This TensorFlow binary is optimized to use available CPU instructions in performance-critical operations.\n",
      "To enable the following instructions: AVX2 AVX_VNNI FMA, in other operations, rebuild TensorFlow with the appropriate compiler flags.\n"
     ]
    }
   ],
   "source": [
    "# Step 1: Import Libraries and Load the Model\n",
    "import numpy as np\n",
    "import tensorflow as tf\n",
    "from tensorflow.keras.datasets import imdb\n",
    "from tensorflow.keras.preprocessing import sequence\n",
    "from tensorflow.keras.models import load_model"
   ]
  },
  {
   "cell_type": "code",
   "execution_count": 2,
   "metadata": {},
   "outputs": [],
   "source": [
    "\n",
    "# Load the IMDB dataset word index\n",
    "word_index = imdb.get_word_index()\n",
    "reverse_word_index = {value: key for key, value in word_index.items()}"
   ]
  },
  {
   "cell_type": "code",
   "execution_count": 3,
   "metadata": {},
   "outputs": [
    {
     "name": "stderr",
     "output_type": "stream",
     "text": [
      "I0000 00:00:1751887467.966989   13094 gpu_device.cc:2019] Created device /job:localhost/replica:0/task:0/device:GPU:0 with 1026 MB memory:  -> device: 0, name: NVIDIA GeForce RTX 4070 SUPER, pci bus id: 0000:01:00.0, compute capability: 8.9\n",
      "WARNING:absl:Compiled the loaded model, but the compiled metrics have yet to be built. `model.compile_metrics` will be empty until you train or evaluate the model.\n"
     ]
    },
    {
     "data": {
      "text/html": [
       "<pre style=\"white-space:pre;overflow-x:auto;line-height:normal;font-family:Menlo,'DejaVu Sans Mono',consolas,'Courier New',monospace\"><span style=\"font-weight: bold\">Model: \"sequential_1\"</span>\n",
       "</pre>\n"
      ],
      "text/plain": [
       "\u001b[1mModel: \"sequential_1\"\u001b[0m\n"
      ]
     },
     "metadata": {},
     "output_type": "display_data"
    },
    {
     "data": {
      "text/html": [
       "<pre style=\"white-space:pre;overflow-x:auto;line-height:normal;font-family:Menlo,'DejaVu Sans Mono',consolas,'Courier New',monospace\">┏━━━━━━━━━━━━━━━━━━━━━━━━━━━━━━━━━┳━━━━━━━━━━━━━━━━━━━━━━━━┳━━━━━━━━━━━━━━━┓\n",
       "┃<span style=\"font-weight: bold\"> Layer (type)                    </span>┃<span style=\"font-weight: bold\"> Output Shape           </span>┃<span style=\"font-weight: bold\">       Param # </span>┃\n",
       "┡━━━━━━━━━━━━━━━━━━━━━━━━━━━━━━━━━╇━━━━━━━━━━━━━━━━━━━━━━━━╇━━━━━━━━━━━━━━━┩\n",
       "│ embedding_1 (<span style=\"color: #0087ff; text-decoration-color: #0087ff\">Embedding</span>)         │ (<span style=\"color: #00d7ff; text-decoration-color: #00d7ff\">None</span>, <span style=\"color: #00af00; text-decoration-color: #00af00\">500</span>, <span style=\"color: #00af00; text-decoration-color: #00af00\">256</span>)       │     <span style=\"color: #00af00; text-decoration-color: #00af00\">2,560,000</span> │\n",
       "├─────────────────────────────────┼────────────────────────┼───────────────┤\n",
       "│ simple_rnn_2 (<span style=\"color: #0087ff; text-decoration-color: #0087ff\">SimpleRNN</span>)        │ (<span style=\"color: #00d7ff; text-decoration-color: #00d7ff\">None</span>, <span style=\"color: #00af00; text-decoration-color: #00af00\">500</span>, <span style=\"color: #00af00; text-decoration-color: #00af00\">256</span>)       │       <span style=\"color: #00af00; text-decoration-color: #00af00\">131,328</span> │\n",
       "├─────────────────────────────────┼────────────────────────┼───────────────┤\n",
       "│ simple_rnn_3 (<span style=\"color: #0087ff; text-decoration-color: #0087ff\">SimpleRNN</span>)        │ (<span style=\"color: #00d7ff; text-decoration-color: #00d7ff\">None</span>, <span style=\"color: #00af00; text-decoration-color: #00af00\">128</span>)            │        <span style=\"color: #00af00; text-decoration-color: #00af00\">49,280</span> │\n",
       "├─────────────────────────────────┼────────────────────────┼───────────────┤\n",
       "│ dense_1 (<span style=\"color: #0087ff; text-decoration-color: #0087ff\">Dense</span>)                 │ (<span style=\"color: #00d7ff; text-decoration-color: #00d7ff\">None</span>, <span style=\"color: #00af00; text-decoration-color: #00af00\">1</span>)              │           <span style=\"color: #00af00; text-decoration-color: #00af00\">129</span> │\n",
       "└─────────────────────────────────┴────────────────────────┴───────────────┘\n",
       "</pre>\n"
      ],
      "text/plain": [
       "┏━━━━━━━━━━━━━━━━━━━━━━━━━━━━━━━━━┳━━━━━━━━━━━━━━━━━━━━━━━━┳━━━━━━━━━━━━━━━┓\n",
       "┃\u001b[1m \u001b[0m\u001b[1mLayer (type)                   \u001b[0m\u001b[1m \u001b[0m┃\u001b[1m \u001b[0m\u001b[1mOutput Shape          \u001b[0m\u001b[1m \u001b[0m┃\u001b[1m \u001b[0m\u001b[1m      Param #\u001b[0m\u001b[1m \u001b[0m┃\n",
       "┡━━━━━━━━━━━━━━━━━━━━━━━━━━━━━━━━━╇━━━━━━━━━━━━━━━━━━━━━━━━╇━━━━━━━━━━━━━━━┩\n",
       "│ embedding_1 (\u001b[38;5;33mEmbedding\u001b[0m)         │ (\u001b[38;5;45mNone\u001b[0m, \u001b[38;5;34m500\u001b[0m, \u001b[38;5;34m256\u001b[0m)       │     \u001b[38;5;34m2,560,000\u001b[0m │\n",
       "├─────────────────────────────────┼────────────────────────┼───────────────┤\n",
       "│ simple_rnn_2 (\u001b[38;5;33mSimpleRNN\u001b[0m)        │ (\u001b[38;5;45mNone\u001b[0m, \u001b[38;5;34m500\u001b[0m, \u001b[38;5;34m256\u001b[0m)       │       \u001b[38;5;34m131,328\u001b[0m │\n",
       "├─────────────────────────────────┼────────────────────────┼───────────────┤\n",
       "│ simple_rnn_3 (\u001b[38;5;33mSimpleRNN\u001b[0m)        │ (\u001b[38;5;45mNone\u001b[0m, \u001b[38;5;34m128\u001b[0m)            │        \u001b[38;5;34m49,280\u001b[0m │\n",
       "├─────────────────────────────────┼────────────────────────┼───────────────┤\n",
       "│ dense_1 (\u001b[38;5;33mDense\u001b[0m)                 │ (\u001b[38;5;45mNone\u001b[0m, \u001b[38;5;34m1\u001b[0m)              │           \u001b[38;5;34m129\u001b[0m │\n",
       "└─────────────────────────────────┴────────────────────────┴───────────────┘\n"
      ]
     },
     "metadata": {},
     "output_type": "display_data"
    },
    {
     "data": {
      "text/html": [
       "<pre style=\"white-space:pre;overflow-x:auto;line-height:normal;font-family:Menlo,'DejaVu Sans Mono',consolas,'Courier New',monospace\"><span style=\"font-weight: bold\"> Total params: </span><span style=\"color: #00af00; text-decoration-color: #00af00\">2,740,739</span> (10.46 MB)\n",
       "</pre>\n"
      ],
      "text/plain": [
       "\u001b[1m Total params: \u001b[0m\u001b[38;5;34m2,740,739\u001b[0m (10.46 MB)\n"
      ]
     },
     "metadata": {},
     "output_type": "display_data"
    },
    {
     "data": {
      "text/html": [
       "<pre style=\"white-space:pre;overflow-x:auto;line-height:normal;font-family:Menlo,'DejaVu Sans Mono',consolas,'Courier New',monospace\"><span style=\"font-weight: bold\"> Trainable params: </span><span style=\"color: #00af00; text-decoration-color: #00af00\">2,740,737</span> (10.46 MB)\n",
       "</pre>\n"
      ],
      "text/plain": [
       "\u001b[1m Trainable params: \u001b[0m\u001b[38;5;34m2,740,737\u001b[0m (10.46 MB)\n"
      ]
     },
     "metadata": {},
     "output_type": "display_data"
    },
    {
     "data": {
      "text/html": [
       "<pre style=\"white-space:pre;overflow-x:auto;line-height:normal;font-family:Menlo,'DejaVu Sans Mono',consolas,'Courier New',monospace\"><span style=\"font-weight: bold\"> Non-trainable params: </span><span style=\"color: #00af00; text-decoration-color: #00af00\">0</span> (0.00 B)\n",
       "</pre>\n"
      ],
      "text/plain": [
       "\u001b[1m Non-trainable params: \u001b[0m\u001b[38;5;34m0\u001b[0m (0.00 B)\n"
      ]
     },
     "metadata": {},
     "output_type": "display_data"
    },
    {
     "data": {
      "text/html": [
       "<pre style=\"white-space:pre;overflow-x:auto;line-height:normal;font-family:Menlo,'DejaVu Sans Mono',consolas,'Courier New',monospace\"><span style=\"font-weight: bold\"> Optimizer params: </span><span style=\"color: #00af00; text-decoration-color: #00af00\">2</span> (12.00 B)\n",
       "</pre>\n"
      ],
      "text/plain": [
       "\u001b[1m Optimizer params: \u001b[0m\u001b[38;5;34m2\u001b[0m (12.00 B)\n"
      ]
     },
     "metadata": {},
     "output_type": "display_data"
    }
   ],
   "source": [
    "# Load the pre-trained model with ReLU activation\n",
    "model = load_model('simple_rnn_imdb.h5')\n",
    "model.summary()"
   ]
  },
  {
   "cell_type": "code",
   "execution_count": 4,
   "metadata": {},
   "outputs": [
    {
     "data": {
      "text/plain": [
       "[array([[ 6.29046783e-02, -7.40102053e-01,  4.34879392e-01, ...,\n",
       "         -5.58545232e-01,  4.74583693e-02,  5.14978051e-01],\n",
       "        [-5.20558991e-02, -8.32785964e-02,  2.93717589e-02, ...,\n",
       "          2.48580202e-02,  2.14379339e-04,  6.10844977e-02],\n",
       "        [-2.06722561e-02, -4.85054515e-02,  1.22122586e-01, ...,\n",
       "         -8.48675147e-02,  3.98941450e-02,  5.75511940e-02],\n",
       "        ...,\n",
       "        [ 1.52703792e-01,  2.44462281e-03,  1.73439123e-02, ...,\n",
       "          5.63957393e-02,  6.16405942e-02, -8.90927240e-02],\n",
       "        [ 2.97740530e-02,  6.18023127e-02,  5.02433395e-03, ...,\n",
       "         -4.80964081e-03, -6.11005537e-02,  1.30348448e-02],\n",
       "        [ 1.31295681e-01,  7.83312246e-02, -1.54340258e-02, ...,\n",
       "         -8.11702088e-02,  4.51706946e-02, -1.14183977e-01]], dtype=float32),\n",
       " array([[ 0.05403183,  0.010295  ,  0.08897924, ...,  0.10088381,\n",
       "          0.05683538, -0.045393  ],\n",
       "        [-0.05599511, -0.00015113,  0.07060649, ...,  0.05953872,\n",
       "          0.05720568,  0.00250059],\n",
       "        [-0.02158493, -0.04404472, -0.07273769, ..., -0.07192666,\n",
       "         -0.02637256, -0.01483387],\n",
       "        ...,\n",
       "        [ 0.0137148 , -0.05881674,  0.10014019, ...,  0.11510272,\n",
       "         -0.08460235, -0.00756001],\n",
       "        [ 0.00535173, -0.04953772,  0.04660911, ...,  0.00654878,\n",
       "          0.052647  , -0.04866959],\n",
       "        [ 0.00033568,  0.05422774, -0.08140506, ...,  0.05650726,\n",
       "         -0.04005913,  0.03629267]], dtype=float32),\n",
       " array([[-0.0568769 , -0.01188958, -0.05280538, ..., -0.03775597,\n",
       "         -0.05905141,  0.00483249],\n",
       "        [-0.01863244,  0.00667335,  0.00670431, ...,  0.00575944,\n",
       "          0.00977015,  0.16558957],\n",
       "        [-0.03763195, -0.00696087, -0.02580956, ..., -0.07293336,\n",
       "          0.01797684,  0.02795556],\n",
       "        ...,\n",
       "        [-0.08657587,  0.02431685,  0.04013459, ..., -0.08409806,\n",
       "         -0.04474556,  0.00610743],\n",
       "        [-0.09447587, -0.0563037 ,  0.00565544, ..., -0.04657315,\n",
       "         -0.00164423, -0.11470875],\n",
       "        [-0.06421978, -0.11582923, -0.0270662 , ..., -0.04602732,\n",
       "          0.01288551, -0.01034083]], dtype=float32),\n",
       " array([-4.98476587e-02, -1.22176912e-02,  3.66667099e-03,  1.81069598e-03,\n",
       "        -2.36212593e-02, -6.71152677e-03,  4.56424756e-03, -3.88828106e-02,\n",
       "        -3.81207652e-02, -1.20061841e-02,  2.07956843e-02, -7.47778565e-02,\n",
       "        -7.33603304e-03, -1.87865142e-02, -4.24118750e-02,  3.07506439e-03,\n",
       "        -1.53574571e-02,  1.78779457e-02, -2.69096177e-02, -2.84187440e-02,\n",
       "        -3.06884740e-02, -1.08159790e-02,  5.82235958e-03, -2.76897941e-02,\n",
       "         3.31335925e-02, -2.53119282e-02,  2.07390077e-02, -1.15150865e-02,\n",
       "         4.63226670e-03, -2.73990631e-02, -3.27104889e-02,  1.96532477e-02,\n",
       "        -2.35898513e-02, -1.60938094e-03, -2.97382679e-02, -2.99786050e-02,\n",
       "        -9.65076406e-03, -3.25385891e-02, -1.79169066e-02, -1.72864385e-02,\n",
       "        -4.30015847e-02,  6.55999361e-03, -1.39120053e-02, -3.53749692e-02,\n",
       "        -2.99614072e-02, -4.04338576e-02, -1.28191533e-02, -4.29801568e-02,\n",
       "        -1.64168328e-02, -1.08730830e-02, -1.16021438e-02, -1.03505356e-02,\n",
       "        -2.44958047e-02, -5.74406516e-03, -1.20054865e-02,  6.43057749e-04,\n",
       "        -1.31762121e-02, -1.96037553e-02,  2.70990450e-02,  9.94842406e-03,\n",
       "        -3.92302126e-03, -2.40519010e-02, -1.25444969e-02, -2.03243420e-02,\n",
       "         3.63187719e-05, -2.42004450e-02, -4.66664438e-04, -2.03396510e-02,\n",
       "        -2.19510198e-02, -5.67546627e-03, -2.77944822e-02, -3.37759331e-02,\n",
       "        -3.57455574e-02, -3.26230302e-02, -4.99182008e-02, -3.14705372e-02,\n",
       "        -1.35071380e-02, -1.15897749e-02, -2.74001770e-02,  9.82026977e-05,\n",
       "         2.82091065e-03, -1.80481542e-02, -4.83909063e-03,  2.58691404e-02,\n",
       "         1.02284439e-02, -2.44807377e-02, -2.23873388e-02, -1.89687740e-02,\n",
       "        -1.22256279e-02, -6.32144976e-03, -1.96081139e-02, -2.68112477e-02,\n",
       "        -5.18420758e-03, -2.32245456e-02, -1.64593309e-02, -9.08884406e-03,\n",
       "        -1.67915244e-02, -2.54185684e-03, -1.52434944e-03, -1.68113783e-02,\n",
       "        -3.17539833e-02,  3.03029809e-02,  4.04863199e-03, -2.01245653e-04,\n",
       "        -2.21422017e-02, -1.82236172e-02, -1.01055484e-02, -6.18777052e-03,\n",
       "        -1.53620020e-02, -3.19124274e-02, -4.29770201e-02, -9.20824800e-03,\n",
       "         2.18045320e-02, -4.07803096e-02,  1.09479902e-02, -1.23722609e-02,\n",
       "        -3.51960622e-02, -2.81483196e-02, -3.98028642e-02, -1.80621445e-02,\n",
       "        -8.34625494e-03,  2.67988741e-02, -1.87127087e-02, -8.61201994e-03,\n",
       "         1.01181527e-03, -2.63227671e-02,  1.54278940e-03,  3.53840180e-02,\n",
       "        -2.20253244e-02, -2.74912138e-02, -1.31694265e-02, -5.43219363e-03,\n",
       "        -2.82322448e-02, -3.11104506e-02, -5.10001630e-02, -1.65425073e-02,\n",
       "        -2.06871424e-02, -1.53067801e-02, -1.20695457e-02, -1.44409379e-02,\n",
       "        -2.76505202e-02, -5.94458822e-03,  2.17224676e-02, -1.21806888e-03,\n",
       "         1.40716769e-02, -6.87345490e-03,  5.25521580e-04, -3.22859269e-03,\n",
       "        -3.91420238e-02,  7.01419497e-03, -2.22377639e-04,  1.74737610e-02,\n",
       "        -3.89474221e-02, -4.81701829e-02, -2.52507795e-02, -2.62764608e-03,\n",
       "        -5.67836827e-03, -2.37176660e-02, -4.00555693e-02, -2.81718019e-02,\n",
       "        -1.78936273e-02, -4.31784131e-02, -1.72225069e-02, -1.13778096e-02,\n",
       "        -1.59455091e-02, -6.42711250e-03,  9.05267149e-03, -2.45882366e-02,\n",
       "        -9.85574163e-03, -3.37695261e-03, -3.14683877e-02, -4.68762480e-02,\n",
       "         8.31875671e-03,  1.47108147e-02, -1.05664751e-03, -1.19415938e-03,\n",
       "         3.11738881e-03,  5.90119604e-03,  7.49754859e-03, -3.72502543e-02,\n",
       "        -3.35220993e-02, -2.70877331e-02, -1.45870764e-02,  3.52965062e-03,\n",
       "        -3.72239538e-02, -1.95685662e-02, -1.86095592e-02, -1.25838192e-02,\n",
       "        -2.25270446e-02,  2.28846781e-02, -8.22740234e-03, -2.46989517e-03,\n",
       "         1.09403962e-02,  7.75550818e-03, -6.35763025e-03, -2.78289132e-02,\n",
       "        -1.87484603e-02, -2.56193317e-02,  6.40831003e-03, -1.74245536e-02,\n",
       "        -2.10449304e-02, -3.24301571e-02, -2.26660818e-02, -8.95779859e-03,\n",
       "         2.65092007e-03, -3.06476764e-02,  1.57403089e-02, -1.38824694e-02,\n",
       "         2.16463804e-02, -3.88532877e-03,  1.27393170e-03, -1.80662796e-02,\n",
       "        -2.51888558e-02,  1.20131462e-03, -1.91998221e-02,  2.53016059e-03,\n",
       "        -3.56202084e-03, -3.45409475e-02, -3.02366819e-02, -7.58655230e-03,\n",
       "        -1.65127181e-02, -5.70708560e-03, -1.98142044e-02, -1.07079162e-03,\n",
       "        -2.32765432e-02, -7.25175347e-03, -3.74448411e-02, -1.21271024e-02,\n",
       "        -4.04580832e-02,  1.38859004e-02, -8.17478634e-03, -9.33175348e-03,\n",
       "        -3.07511948e-02, -2.25130618e-02, -1.04545504e-02, -4.84016091e-02,\n",
       "        -5.05617708e-02,  1.09467260e-03, -1.52777741e-03,  8.72692466e-03,\n",
       "        -2.64940923e-03, -1.43487426e-02, -2.00666692e-02, -3.78783233e-02,\n",
       "         4.39617969e-02, -4.52682041e-02, -1.40293920e-02, -1.18985893e-02,\n",
       "        -1.96818300e-02, -5.29963290e-03, -5.58632202e-02,  1.35944393e-02,\n",
       "        -9.30046011e-03, -2.23452467e-02, -2.37590522e-02, -7.09229009e-03],\n",
       "       dtype=float32),\n",
       " array([[ 0.00788617, -0.08948578,  0.10003234, ..., -0.02259633,\n",
       "          0.05089859, -0.09653697],\n",
       "        [ 0.10467418, -0.1843891 , -0.00031628, ..., -0.04051974,\n",
       "          0.07998523, -0.09048644],\n",
       "        [-0.00038826,  0.06924503,  0.17235436, ...,  0.07285745,\n",
       "         -0.03563049, -0.1042405 ],\n",
       "        ...,\n",
       "        [ 0.00752013, -0.053505  , -0.05653115, ..., -0.06071633,\n",
       "          0.02505987, -0.07296012],\n",
       "        [ 0.08711434, -0.02356456, -0.06382179, ...,  0.13939668,\n",
       "          0.01614063,  0.0034363 ],\n",
       "        [-0.04953495,  0.14383534, -0.02043634, ..., -0.0726342 ,\n",
       "          0.0589035 ,  0.03246338]], dtype=float32),\n",
       " array([[ 0.083002  , -0.1134746 ,  0.02186647, ..., -0.09744292,\n",
       "          0.06631903,  0.04224503],\n",
       "        [-0.04370271,  0.04909542, -0.06553172, ...,  0.02362783,\n",
       "          0.12752815,  0.13950968],\n",
       "        [-0.12293106, -0.08999097, -0.05678777, ..., -0.03364524,\n",
       "          0.01252647, -0.04125734],\n",
       "        ...,\n",
       "        [ 0.09789577, -0.0482967 , -0.0735339 , ..., -0.03906166,\n",
       "          0.00104025, -0.13006783],\n",
       "        [-0.25971714,  0.06184325,  0.02629745, ...,  0.19423503,\n",
       "          0.02291751,  0.02668206],\n",
       "        [ 0.01770259,  0.09104393, -0.02490126, ...,  0.02197924,\n",
       "          0.04877515,  0.00360366]], dtype=float32),\n",
       " array([-1.9598821e-02, -8.1049986e-03,  3.3085953e-02,  2.5945328e-02,\n",
       "        -3.2929301e-02,  2.7694028e-02, -6.3663898e-03, -2.6755735e-02,\n",
       "        -3.5609987e-02, -2.3489302e-02,  1.3198832e-02,  4.7075741e-02,\n",
       "         6.5603363e-03, -2.8839512e-02, -2.3601441e-02, -2.5883667e-02,\n",
       "        -1.1800249e-02, -6.1146789e-03,  1.1377695e-03,  7.0631732e-03,\n",
       "        -7.7276481e-03, -1.5528280e-02,  1.3196191e-02, -4.7868574e-03,\n",
       "         7.1916725e-03, -2.3063280e-02, -5.8896518e-03,  1.0470526e-02,\n",
       "         5.7246909e-02, -2.6273593e-02, -1.3173200e-02,  1.9067659e-03,\n",
       "        -3.3541556e-02,  1.2646318e-02,  1.2851516e-02, -2.1477468e-02,\n",
       "         1.5292845e-02, -3.2958076e-03,  8.2965577e-03, -2.5515152e-02,\n",
       "        -1.6052725e-02, -1.2902713e-02, -1.8897884e-02, -3.2257068e-04,\n",
       "        -3.9982263e-02,  4.4263821e-02, -4.7578663e-03, -1.9736612e-02,\n",
       "        -1.9847463e-04,  2.4983164e-02,  2.1665357e-03, -4.8359662e-02,\n",
       "         3.7147656e-02,  1.4715455e-02, -3.2715134e-02,  1.7636975e-02,\n",
       "        -4.3165453e-02, -2.4507385e-02, -1.1234044e-02,  1.2113426e-02,\n",
       "        -2.0603379e-02, -3.9945386e-02,  7.1234659e-05,  6.2946472e-03,\n",
       "        -2.4065198e-02, -2.3185398e-02, -3.6420874e-02,  1.9705983e-02,\n",
       "         7.0914932e-02,  1.9304510e-02,  8.2963984e-03, -3.3299815e-02,\n",
       "         1.1387348e-02,  1.1591033e-02,  2.3274431e-03, -1.6341817e-03,\n",
       "        -4.4219173e-02,  6.3177937e-04, -3.7262820e-02, -1.0671112e-02,\n",
       "        -3.0375720e-04, -2.0983294e-02, -4.0330473e-02, -2.1793449e-02,\n",
       "        -2.3654172e-02, -3.3004005e-02,  2.5002155e-03,  2.8801817e-03,\n",
       "         1.2429310e-02,  2.2414380e-03,  1.3614287e-02,  9.3874577e-03,\n",
       "        -1.8358488e-02,  3.9004586e-03, -1.3334228e-02, -2.7936783e-02,\n",
       "        -2.2850908e-02,  1.0109786e-03, -3.4736216e-02, -5.5666929e-03,\n",
       "         7.5778193e-03, -3.7409101e-02,  1.2487408e-02, -1.4695420e-02,\n",
       "        -3.2094002e-02,  8.6194379e-03, -3.0579329e-02, -1.3627277e-02,\n",
       "        -2.8798360e-02, -4.7359066e-04, -4.8534852e-03, -2.4671391e-02,\n",
       "         1.7046729e-02, -4.4666524e-03, -1.1925235e-02, -8.2060490e-03,\n",
       "        -1.3418064e-02,  2.6321432e-02, -4.9469601e-03,  2.1949239e-02,\n",
       "         1.2175646e-02,  1.3508801e-02,  2.1298056e-02, -1.5955279e-02,\n",
       "         1.4966498e-02,  1.4421759e-02, -1.7481351e-02, -7.2921403e-03],\n",
       "       dtype=float32),\n",
       " array([[-0.05892337],\n",
       "        [ 0.10257082],\n",
       "        [-0.20160648],\n",
       "        [-0.13271768],\n",
       "        [-0.0480963 ],\n",
       "        [-0.14582874],\n",
       "        [-0.46251318],\n",
       "        [ 0.11628493],\n",
       "        [-0.19283165],\n",
       "        [ 0.09965789],\n",
       "        [ 0.05094584],\n",
       "        [-0.10868018],\n",
       "        [-0.16194445],\n",
       "        [ 0.21838899],\n",
       "        [ 0.2178051 ],\n",
       "        [ 0.13888814],\n",
       "        [ 0.0956079 ],\n",
       "        [-0.30854538],\n",
       "        [ 0.1707613 ],\n",
       "        [ 0.10446516],\n",
       "        [-0.17770983],\n",
       "        [-0.20520326],\n",
       "        [-0.03111443],\n",
       "        [-0.04258677],\n",
       "        [ 0.02927534],\n",
       "        [ 0.17461681],\n",
       "        [-0.14500272],\n",
       "        [ 0.18014407],\n",
       "        [-0.11894158],\n",
       "        [ 0.07893581],\n",
       "        [ 0.02886004],\n",
       "        [-0.02844417],\n",
       "        [-0.08328199],\n",
       "        [ 0.12769881],\n",
       "        [-0.16606818],\n",
       "        [ 0.18282929],\n",
       "        [ 0.07865585],\n",
       "        [-0.08716443],\n",
       "        [ 0.13704401],\n",
       "        [-0.18640494],\n",
       "        [ 0.03416977],\n",
       "        [ 0.06237125],\n",
       "        [-0.13534768],\n",
       "        [-0.16314055],\n",
       "        [-0.08786009],\n",
       "        [-0.09636165],\n",
       "        [ 0.00088548],\n",
       "        [-0.00145431],\n",
       "        [-0.11277144],\n",
       "        [-0.14308763],\n",
       "        [ 0.13466367],\n",
       "        [ 0.17558026],\n",
       "        [-0.19879128],\n",
       "        [ 0.20935188],\n",
       "        [ 0.23714046],\n",
       "        [ 0.02440545],\n",
       "        [-0.16127133],\n",
       "        [-0.13975391],\n",
       "        [-0.19591223],\n",
       "        [-0.10489004],\n",
       "        [ 0.04118308],\n",
       "        [-0.02553313],\n",
       "        [ 0.03890534],\n",
       "        [ 0.2228579 ],\n",
       "        [ 0.02149595],\n",
       "        [ 0.11928596],\n",
       "        [ 0.05596119],\n",
       "        [-0.07276934],\n",
       "        [-0.17410102],\n",
       "        [ 0.1790209 ],\n",
       "        [-0.18220532],\n",
       "        [-0.13387248],\n",
       "        [-0.03564988],\n",
       "        [ 0.04474115],\n",
       "        [-0.03040892],\n",
       "        [-0.15741321],\n",
       "        [ 0.15624472],\n",
       "        [ 0.00457772],\n",
       "        [-0.01556944],\n",
       "        [ 0.13742107],\n",
       "        [ 0.09721286],\n",
       "        [-0.08921778],\n",
       "        [ 0.13823111],\n",
       "        [ 0.21999231],\n",
       "        [ 0.14184476],\n",
       "        [ 0.24409647],\n",
       "        [-0.1267376 ],\n",
       "        [-0.03571605],\n",
       "        [-0.05919081],\n",
       "        [ 0.1686942 ],\n",
       "        [-0.06059992],\n",
       "        [-0.13658476],\n",
       "        [-0.15672012],\n",
       "        [-0.06288224],\n",
       "        [ 0.26361603],\n",
       "        [ 0.01406506],\n",
       "        [ 0.03791132],\n",
       "        [-0.05543499],\n",
       "        [ 0.00518324],\n",
       "        [-0.20256297],\n",
       "        [ 0.14426851],\n",
       "        [ 0.15363853],\n",
       "        [-0.16568469],\n",
       "        [ 0.3464412 ],\n",
       "        [ 0.13172442],\n",
       "        [ 0.04768661],\n",
       "        [ 0.15089925],\n",
       "        [ 0.04910355],\n",
       "        [-0.06193467],\n",
       "        [ 0.18405361],\n",
       "        [ 0.13958032],\n",
       "        [ 0.03268246],\n",
       "        [-0.0409031 ],\n",
       "        [ 0.05803361],\n",
       "        [-0.09799505],\n",
       "        [-0.06046622],\n",
       "        [-0.07559408],\n",
       "        [-0.11194153],\n",
       "        [-0.04780861],\n",
       "        [-0.09469116],\n",
       "        [-0.00995109],\n",
       "        [-0.15699208],\n",
       "        [-0.10918765],\n",
       "        [-0.09860076],\n",
       "        [ 0.04845539],\n",
       "        [-0.20602186],\n",
       "        [ 0.05602854],\n",
       "        [ 0.09892344]], dtype=float32),\n",
       " array([-0.05197544], dtype=float32)]"
      ]
     },
     "execution_count": 4,
     "metadata": {},
     "output_type": "execute_result"
    }
   ],
   "source": [
    "model.get_weights()"
   ]
  },
  {
   "cell_type": "code",
   "execution_count": 5,
   "metadata": {},
   "outputs": [],
   "source": [
    "# Step 2: Helper Functions\n",
    "# Function to decode reviews\n",
    "def decode_review(encoded_review):\n",
    "    return ' '.join([reverse_word_index.get(i - 3, '?') for i in encoded_review])\n",
    "\n",
    "# Function to preprocess user input\n",
    "def preprocess_text(text):\n",
    "    words = text.lower().split()\n",
    "    encoded_review = [word_index.get(word, 2) + 3 for word in words]\n",
    "    padded_review = sequence.pad_sequences([encoded_review], maxlen=500)\n",
    "    return padded_review"
   ]
  },
  {
   "cell_type": "code",
   "execution_count": 6,
   "metadata": {},
   "outputs": [],
   "source": [
    "### Prediction  function\n",
    "\n",
    "def predict_sentiment(review):\n",
    "    preprocessed_input=preprocess_text(review)\n",
    "\n",
    "    prediction=model.predict(preprocessed_input)\n",
    "\n",
    "    sentiment = 'Positive' if prediction[0][0] > 0.5 else 'Negative'\n",
    "    \n",
    "    return sentiment, prediction[0][0]\n",
    "\n"
   ]
  },
  {
   "cell_type": "code",
   "execution_count": 7,
   "metadata": {},
   "outputs": [
    {
     "name": "stdout",
     "output_type": "stream",
     "text": [
      "\u001b[1m1/1\u001b[0m \u001b[32m━━━━━━━━━━━━━━━━━━━━\u001b[0m\u001b[37m\u001b[0m \u001b[1m0s\u001b[0m 273ms/step\n",
      "Review: This movie was fantastic! The acting was great and the plot was thrilling.\n",
      "Sentiment: Positive\n",
      "Prediction Score: 0.7872692942619324\n"
     ]
    },
    {
     "name": "stderr",
     "output_type": "stream",
     "text": [
      "WARNING: All log messages before absl::InitializeLog() is called are written to STDERR\n",
      "I0000 00:00:1751887468.558701   25431 service.cc:152] XLA service 0x5fbe1afdd1f0 initialized for platform CUDA (this does not guarantee that XLA will be used). Devices:\n",
      "I0000 00:00:1751887468.558713   25431 service.cc:160]   StreamExecutor device (0): NVIDIA GeForce RTX 4070 SUPER, Compute Capability 8.9\n",
      "2025-07-07 16:54:28.568132: I tensorflow/compiler/mlir/tensorflow/utils/dump_mlir_util.cc:269] disabling MLIR crash reproducer, set env var `MLIR_CRASH_REPRODUCER_DIRECTORY` to enable.\n",
      "I0000 00:00:1751887468.591111   25431 cuda_dnn.cc:529] Loaded cuDNN version 91002\n",
      "I0000 00:00:1751887468.717086   25431 device_compiler.h:188] Compiled cluster using XLA!  This line is logged at most once for the lifetime of the process.\n"
     ]
    }
   ],
   "source": [
    "# Step 4: User Input and Prediction\n",
    "# Example review for prediction\n",
    "example_review = \"This movie was fantastic! The acting was great and the plot was thrilling.\"\n",
    "\n",
    "sentiment,score=predict_sentiment(example_review)\n",
    "\n",
    "print(f'Review: {example_review}')\n",
    "print(f'Sentiment: {sentiment}')\n",
    "print(f'Prediction Score: {score}')"
   ]
  },
  {
   "cell_type": "code",
   "execution_count": null,
   "metadata": {},
   "outputs": [],
   "source": []
  },
  {
   "cell_type": "code",
   "execution_count": null,
   "metadata": {},
   "outputs": [],
   "source": []
  },
  {
   "cell_type": "code",
   "execution_count": null,
   "metadata": {},
   "outputs": [],
   "source": []
  },
  {
   "cell_type": "code",
   "execution_count": null,
   "metadata": {},
   "outputs": [],
   "source": []
  }
 ],
 "metadata": {
  "kernelspec": {
   "display_name": "Python 3",
   "language": "python",
   "name": "python3"
  },
  "language_info": {
   "codemirror_mode": {
    "name": "ipython",
    "version": 3
   },
   "file_extension": ".py",
   "mimetype": "text/x-python",
   "name": "python",
   "nbconvert_exporter": "python",
   "pygments_lexer": "ipython3",
   "version": "3.11.9"
  }
 },
 "nbformat": 4,
 "nbformat_minor": 2
}
