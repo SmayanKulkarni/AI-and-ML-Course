{
 "cells": [
  {
   "cell_type": "code",
   "execution_count": 1,
   "metadata": {},
   "outputs": [
    {
     "name": "stderr",
     "output_type": "stream",
     "text": [
      "2025-06-27 19:35:30.944838: I tensorflow/core/util/port.cc:153] oneDNN custom operations are on. You may see slightly different numerical results due to floating-point round-off errors from different computation orders. To turn them off, set the environment variable `TF_ENABLE_ONEDNN_OPTS=0`.\n",
      "2025-06-27 19:35:30.951819: E external/local_xla/xla/stream_executor/cuda/cuda_fft.cc:467] Unable to register cuFFT factory: Attempting to register factory for plugin cuFFT when one has already been registered\n",
      "WARNING: All log messages before absl::InitializeLog() is called are written to STDERR\n",
      "E0000 00:00:1751033130.960034   14671 cuda_dnn.cc:8579] Unable to register cuDNN factory: Attempting to register factory for plugin cuDNN when one has already been registered\n",
      "E0000 00:00:1751033130.962607   14671 cuda_blas.cc:1407] Unable to register cuBLAS factory: Attempting to register factory for plugin cuBLAS when one has already been registered\n",
      "W0000 00:00:1751033130.969129   14671 computation_placer.cc:177] computation placer already registered. Please check linkage and avoid linking the same target more than once.\n",
      "W0000 00:00:1751033130.969138   14671 computation_placer.cc:177] computation placer already registered. Please check linkage and avoid linking the same target more than once.\n",
      "W0000 00:00:1751033130.969139   14671 computation_placer.cc:177] computation placer already registered. Please check linkage and avoid linking the same target more than once.\n",
      "W0000 00:00:1751033130.969140   14671 computation_placer.cc:177] computation placer already registered. Please check linkage and avoid linking the same target more than once.\n",
      "2025-06-27 19:35:30.971424: I tensorflow/core/platform/cpu_feature_guard.cc:210] This TensorFlow binary is optimized to use available CPU instructions in performance-critical operations.\n",
      "To enable the following instructions: AVX2 AVX_VNNI FMA, in other operations, rebuild TensorFlow with the appropriate compiler flags.\n"
     ]
    }
   ],
   "source": [
    "# Step 1: Import Libraries and Load the Model\n",
    "import numpy as np\n",
    "import tensorflow as tf\n",
    "from tensorflow.keras.datasets import imdb\n",
    "from tensorflow.keras.preprocessing import sequence\n",
    "from tensorflow.keras.models import load_model"
   ]
  },
  {
   "cell_type": "code",
   "execution_count": 2,
   "metadata": {},
   "outputs": [],
   "source": [
    "\n",
    "# Load the IMDB dataset word index\n",
    "word_index = imdb.get_word_index()\n",
    "reverse_word_index = {value: key for key, value in word_index.items()}"
   ]
  },
  {
   "cell_type": "code",
   "execution_count": 3,
   "metadata": {},
   "outputs": [
    {
     "name": "stderr",
     "output_type": "stream",
     "text": [
      "I0000 00:00:1751033132.265358   14671 gpu_device.cc:2019] Created device /job:localhost/replica:0/task:0/device:GPU:0 with 9136 MB memory:  -> device: 0, name: NVIDIA GeForce RTX 4070 SUPER, pci bus id: 0000:01:00.0, compute capability: 8.9\n",
      "WARNING:absl:Compiled the loaded model, but the compiled metrics have yet to be built. `model.compile_metrics` will be empty until you train or evaluate the model.\n"
     ]
    },
    {
     "data": {
      "text/html": [
       "<pre style=\"white-space:pre;overflow-x:auto;line-height:normal;font-family:Menlo,'DejaVu Sans Mono',consolas,'Courier New',monospace\"><span style=\"font-weight: bold\">Model: \"sequential\"</span>\n",
       "</pre>\n"
      ],
      "text/plain": [
       "\u001b[1mModel: \"sequential\"\u001b[0m\n"
      ]
     },
     "metadata": {},
     "output_type": "display_data"
    },
    {
     "data": {
      "text/html": [
       "<pre style=\"white-space:pre;overflow-x:auto;line-height:normal;font-family:Menlo,'DejaVu Sans Mono',consolas,'Courier New',monospace\">┏━━━━━━━━━━━━━━━━━━━━━━━━━━━━━━━━━┳━━━━━━━━━━━━━━━━━━━━━━━━┳━━━━━━━━━━━━━━━┓\n",
       "┃<span style=\"font-weight: bold\"> Layer (type)                    </span>┃<span style=\"font-weight: bold\"> Output Shape           </span>┃<span style=\"font-weight: bold\">       Param # </span>┃\n",
       "┡━━━━━━━━━━━━━━━━━━━━━━━━━━━━━━━━━╇━━━━━━━━━━━━━━━━━━━━━━━━╇━━━━━━━━━━━━━━━┩\n",
       "│ embedding (<span style=\"color: #0087ff; text-decoration-color: #0087ff\">Embedding</span>)           │ (<span style=\"color: #00af00; text-decoration-color: #00af00\">32</span>, <span style=\"color: #00af00; text-decoration-color: #00af00\">500</span>, <span style=\"color: #00af00; text-decoration-color: #00af00\">128</span>)         │     <span style=\"color: #00af00; text-decoration-color: #00af00\">1,280,000</span> │\n",
       "├─────────────────────────────────┼────────────────────────┼───────────────┤\n",
       "│ simple_rnn (<span style=\"color: #0087ff; text-decoration-color: #0087ff\">SimpleRNN</span>)          │ (<span style=\"color: #00af00; text-decoration-color: #00af00\">32</span>, <span style=\"color: #00af00; text-decoration-color: #00af00\">128</span>)              │        <span style=\"color: #00af00; text-decoration-color: #00af00\">32,896</span> │\n",
       "├─────────────────────────────────┼────────────────────────┼───────────────┤\n",
       "│ dense (<span style=\"color: #0087ff; text-decoration-color: #0087ff\">Dense</span>)                   │ (<span style=\"color: #00af00; text-decoration-color: #00af00\">32</span>, <span style=\"color: #00af00; text-decoration-color: #00af00\">1</span>)                │           <span style=\"color: #00af00; text-decoration-color: #00af00\">129</span> │\n",
       "└─────────────────────────────────┴────────────────────────┴───────────────┘\n",
       "</pre>\n"
      ],
      "text/plain": [
       "┏━━━━━━━━━━━━━━━━━━━━━━━━━━━━━━━━━┳━━━━━━━━━━━━━━━━━━━━━━━━┳━━━━━━━━━━━━━━━┓\n",
       "┃\u001b[1m \u001b[0m\u001b[1mLayer (type)                   \u001b[0m\u001b[1m \u001b[0m┃\u001b[1m \u001b[0m\u001b[1mOutput Shape          \u001b[0m\u001b[1m \u001b[0m┃\u001b[1m \u001b[0m\u001b[1m      Param #\u001b[0m\u001b[1m \u001b[0m┃\n",
       "┡━━━━━━━━━━━━━━━━━━━━━━━━━━━━━━━━━╇━━━━━━━━━━━━━━━━━━━━━━━━╇━━━━━━━━━━━━━━━┩\n",
       "│ embedding (\u001b[38;5;33mEmbedding\u001b[0m)           │ (\u001b[38;5;34m32\u001b[0m, \u001b[38;5;34m500\u001b[0m, \u001b[38;5;34m128\u001b[0m)         │     \u001b[38;5;34m1,280,000\u001b[0m │\n",
       "├─────────────────────────────────┼────────────────────────┼───────────────┤\n",
       "│ simple_rnn (\u001b[38;5;33mSimpleRNN\u001b[0m)          │ (\u001b[38;5;34m32\u001b[0m, \u001b[38;5;34m128\u001b[0m)              │        \u001b[38;5;34m32,896\u001b[0m │\n",
       "├─────────────────────────────────┼────────────────────────┼───────────────┤\n",
       "│ dense (\u001b[38;5;33mDense\u001b[0m)                   │ (\u001b[38;5;34m32\u001b[0m, \u001b[38;5;34m1\u001b[0m)                │           \u001b[38;5;34m129\u001b[0m │\n",
       "└─────────────────────────────────┴────────────────────────┴───────────────┘\n"
      ]
     },
     "metadata": {},
     "output_type": "display_data"
    },
    {
     "data": {
      "text/html": [
       "<pre style=\"white-space:pre;overflow-x:auto;line-height:normal;font-family:Menlo,'DejaVu Sans Mono',consolas,'Courier New',monospace\"><span style=\"font-weight: bold\"> Total params: </span><span style=\"color: #00af00; text-decoration-color: #00af00\">1,313,027</span> (5.01 MB)\n",
       "</pre>\n"
      ],
      "text/plain": [
       "\u001b[1m Total params: \u001b[0m\u001b[38;5;34m1,313,027\u001b[0m (5.01 MB)\n"
      ]
     },
     "metadata": {},
     "output_type": "display_data"
    },
    {
     "data": {
      "text/html": [
       "<pre style=\"white-space:pre;overflow-x:auto;line-height:normal;font-family:Menlo,'DejaVu Sans Mono',consolas,'Courier New',monospace\"><span style=\"font-weight: bold\"> Trainable params: </span><span style=\"color: #00af00; text-decoration-color: #00af00\">1,313,025</span> (5.01 MB)\n",
       "</pre>\n"
      ],
      "text/plain": [
       "\u001b[1m Trainable params: \u001b[0m\u001b[38;5;34m1,313,025\u001b[0m (5.01 MB)\n"
      ]
     },
     "metadata": {},
     "output_type": "display_data"
    },
    {
     "data": {
      "text/html": [
       "<pre style=\"white-space:pre;overflow-x:auto;line-height:normal;font-family:Menlo,'DejaVu Sans Mono',consolas,'Courier New',monospace\"><span style=\"font-weight: bold\"> Non-trainable params: </span><span style=\"color: #00af00; text-decoration-color: #00af00\">0</span> (0.00 B)\n",
       "</pre>\n"
      ],
      "text/plain": [
       "\u001b[1m Non-trainable params: \u001b[0m\u001b[38;5;34m0\u001b[0m (0.00 B)\n"
      ]
     },
     "metadata": {},
     "output_type": "display_data"
    },
    {
     "data": {
      "text/html": [
       "<pre style=\"white-space:pre;overflow-x:auto;line-height:normal;font-family:Menlo,'DejaVu Sans Mono',consolas,'Courier New',monospace\"><span style=\"font-weight: bold\"> Optimizer params: </span><span style=\"color: #00af00; text-decoration-color: #00af00\">2</span> (12.00 B)\n",
       "</pre>\n"
      ],
      "text/plain": [
       "\u001b[1m Optimizer params: \u001b[0m\u001b[38;5;34m2\u001b[0m (12.00 B)\n"
      ]
     },
     "metadata": {},
     "output_type": "display_data"
    }
   ],
   "source": [
    "# Load the pre-trained model with ReLU activation\n",
    "model = load_model('simple_rnn_imdb.h5')\n",
    "model.summary()"
   ]
  },
  {
   "cell_type": "code",
   "execution_count": 4,
   "metadata": {},
   "outputs": [
    {
     "data": {
      "text/plain": [
       "[array([[-0.01671417,  0.84433335,  0.02247376, ...,  1.5693456 ,\n",
       "          0.27649668, -0.08896331],\n",
       "        [-0.01210979,  0.0676417 ,  0.07450798, ...,  0.09044255,\n",
       "         -0.03374785, -0.03541043],\n",
       "        [ 0.04229767,  0.15869424,  0.11836717, ...,  0.07697936,\n",
       "         -0.05990582,  0.15147002],\n",
       "        ...,\n",
       "        [-0.00425397, -0.07441056, -0.01275525, ...,  0.02481508,\n",
       "          0.03513112, -0.03584582],\n",
       "        [-0.0228104 , -0.0439289 , -0.05080882, ...,  0.13743754,\n",
       "          0.00313594,  0.00724281],\n",
       "        [-0.01297579, -0.03554784, -0.01053631, ...,  0.02957895,\n",
       "          0.06342031, -0.00188209]], dtype=float32),\n",
       " array([[-0.05493634, -0.13811763, -0.05244634, ..., -0.04855314,\n",
       "         -0.0836825 , -0.12663332],\n",
       "        [-0.05041579, -0.14176482,  0.0113081 , ...,  0.08439913,\n",
       "          0.05324774, -0.04171776],\n",
       "        [ 0.08612095, -0.16921747,  0.03346435, ..., -0.13392226,\n",
       "         -0.06675691, -0.12130336],\n",
       "        ...,\n",
       "        [ 0.04308471, -0.18161832, -0.13520129, ..., -0.21008371,\n",
       "         -0.11964609,  0.04664972],\n",
       "        [ 0.01119532,  0.09616919, -0.12577441, ..., -0.08751151,\n",
       "          0.09025443,  0.04033962],\n",
       "        [-0.03005684, -0.132428  , -0.14188091, ..., -0.0607726 ,\n",
       "          0.06711105,  0.07850081]], dtype=float32),\n",
       " array([[-0.02340088, -0.03077748, -0.07832291, ..., -0.02011663,\n",
       "          0.0983557 , -0.11432014],\n",
       "        [ 0.12906747, -0.04596908, -0.19956493, ..., -0.05238477,\n",
       "          0.08247035, -0.07499802],\n",
       "        [ 0.07649147, -0.11228593, -0.13203177, ...,  0.03508504,\n",
       "         -0.07316497, -0.00666287],\n",
       "        ...,\n",
       "        [-0.01904976, -0.00256594,  0.14643183, ...,  0.03492107,\n",
       "         -0.03650847, -0.00171208],\n",
       "        [-0.03961576, -0.04089138, -0.14577413, ..., -0.15836415,\n",
       "          0.04041104,  0.07402489],\n",
       "        [ 0.16137409, -0.00484463,  0.05850412, ..., -0.14276677,\n",
       "         -0.0307342 , -0.03658385]], dtype=float32),\n",
       " array([ 0.00788381, -0.04385285, -0.0320993 ,  0.02632225, -0.00398308,\n",
       "        -0.01660768, -0.01849532,  0.01344755, -0.02172683, -0.01787197,\n",
       "        -0.01336515,  0.01077475, -0.04733232, -0.00984689,  0.03619719,\n",
       "        -0.03033071, -0.01382393, -0.02284216,  0.04166482,  0.02011011,\n",
       "        -0.01438036, -0.04248334,  0.03164267, -0.02160163, -0.03221394,\n",
       "        -0.03751735,  0.01799223, -0.01702693, -0.02006164, -0.0252095 ,\n",
       "        -0.01912474, -0.00551729, -0.00640324,  0.00947203, -0.00998296,\n",
       "        -0.03024951, -0.03421434,  0.00982679, -0.03416631, -0.03747242,\n",
       "         0.03196581, -0.02307766, -0.00899434, -0.04177938, -0.05627354,\n",
       "        -0.00609876, -0.01589331,  0.01106283, -0.00840074,  0.03028704,\n",
       "         0.01241229,  0.00109702, -0.02253829, -0.00658773,  0.02265947,\n",
       "        -0.02783248,  0.00922807,  0.01635554, -0.02956809,  0.00678813,\n",
       "        -0.02043997,  0.0272732 , -0.01981741, -0.01574717, -0.01591847,\n",
       "        -0.03764336,  0.00257122, -0.01808527, -0.03521077, -0.02780241,\n",
       "        -0.00425634,  0.03098436, -0.01656002, -0.00985467, -0.03319546,\n",
       "         0.04274251, -0.03899046, -0.01811043, -0.00556496, -0.04986215,\n",
       "        -0.01768628, -0.05838495, -0.00245992, -0.03932187, -0.01958256,\n",
       "        -0.01527339,  0.04133666, -0.01799009, -0.02494026, -0.02694717,\n",
       "        -0.03285565,  0.05106304, -0.01455416, -0.04647918, -0.02942782,\n",
       "         0.02160957,  0.02188582,  0.03037011, -0.03488035,  0.04447979,\n",
       "         0.00889576,  0.01446017, -0.0312526 , -0.01467123, -0.02742629,\n",
       "         0.01100426, -0.01010397, -0.00374201, -0.01705232,  0.00323207,\n",
       "        -0.02977242, -0.01242676, -0.01194306,  0.02145126, -0.00494247,\n",
       "        -0.01177518, -0.02476577,  0.01685927, -0.02501721,  0.02128879,\n",
       "        -0.00598481, -0.01048145,  0.02940699,  0.0245572 , -0.04799097,\n",
       "        -0.03752979, -0.00646285, -0.00373623], dtype=float32),\n",
       " array([[ 8.11173469e-02],\n",
       "        [ 1.35734573e-01],\n",
       "        [ 9.44193378e-02],\n",
       "        [-2.63975700e-03],\n",
       "        [ 1.15696341e-01],\n",
       "        [-3.51923890e-02],\n",
       "        [-6.43042699e-02],\n",
       "        [ 4.09388058e-02],\n",
       "        [ 1.52434096e-01],\n",
       "        [ 1.34432629e-01],\n",
       "        [ 1.11637890e-01],\n",
       "        [-7.84124732e-02],\n",
       "        [-1.00161277e-01],\n",
       "        [-5.24010360e-02],\n",
       "        [-2.07187727e-01],\n",
       "        [ 1.49878055e-01],\n",
       "        [-1.00517616e-01],\n",
       "        [ 3.65119241e-02],\n",
       "        [-7.84084424e-02],\n",
       "        [-1.54504731e-01],\n",
       "        [-6.04444891e-02],\n",
       "        [ 1.12308323e-01],\n",
       "        [-8.89636353e-02],\n",
       "        [ 4.47832346e-02],\n",
       "        [-3.61294299e-02],\n",
       "        [ 8.23811889e-02],\n",
       "        [ 9.79775116e-02],\n",
       "        [ 4.52844426e-02],\n",
       "        [ 1.89167082e-01],\n",
       "        [-5.86284399e-02],\n",
       "        [ 1.95172668e-01],\n",
       "        [-2.16984481e-01],\n",
       "        [ 6.84088320e-02],\n",
       "        [-3.53172392e-01],\n",
       "        [-1.35349303e-01],\n",
       "        [ 1.28701061e-01],\n",
       "        [ 1.07790969e-01],\n",
       "        [-1.17443494e-01],\n",
       "        [-4.24586684e-02],\n",
       "        [-8.99913684e-02],\n",
       "        [ 1.28943935e-01],\n",
       "        [ 4.09421846e-02],\n",
       "        [ 3.78570706e-02],\n",
       "        [ 9.70833078e-02],\n",
       "        [ 2.16128021e-01],\n",
       "        [ 1.62764877e-01],\n",
       "        [ 2.86144149e-02],\n",
       "        [ 2.99184859e-01],\n",
       "        [ 1.67279541e-01],\n",
       "        [ 2.20341340e-01],\n",
       "        [-4.90188450e-02],\n",
       "        [ 1.68206692e-01],\n",
       "        [ 7.91460276e-02],\n",
       "        [ 2.48352528e-01],\n",
       "        [-1.50326848e-01],\n",
       "        [-4.44483384e-02],\n",
       "        [-5.24897687e-02],\n",
       "        [-1.99221343e-01],\n",
       "        [ 2.25218255e-02],\n",
       "        [-2.03485802e-01],\n",
       "        [ 2.28633843e-02],\n",
       "        [-1.74440607e-01],\n",
       "        [-2.15507418e-01],\n",
       "        [ 1.76037058e-01],\n",
       "        [ 9.66153070e-02],\n",
       "        [ 1.23864397e-01],\n",
       "        [ 9.54150856e-02],\n",
       "        [ 1.68961585e-02],\n",
       "        [ 1.11112058e-01],\n",
       "        [ 3.50092649e-02],\n",
       "        [-1.72563970e-01],\n",
       "        [-7.77583420e-02],\n",
       "        [-3.30674827e-01],\n",
       "        [-1.46050733e-02],\n",
       "        [ 1.50450990e-01],\n",
       "        [-2.31354922e-01],\n",
       "        [ 8.65680818e-03],\n",
       "        [ 1.04575688e-02],\n",
       "        [ 1.93388715e-01],\n",
       "        [-3.07393372e-02],\n",
       "        [-1.13551043e-01],\n",
       "        [ 7.99667612e-02],\n",
       "        [ 4.11677584e-02],\n",
       "        [-2.03638196e-01],\n",
       "        [ 1.21527418e-01],\n",
       "        [ 1.57810763e-01],\n",
       "        [-1.91781029e-01],\n",
       "        [ 1.45868480e-01],\n",
       "        [ 2.60089964e-01],\n",
       "        [ 1.72299057e-01],\n",
       "        [-1.24168344e-01],\n",
       "        [ 1.22531787e-01],\n",
       "        [ 2.11022913e-01],\n",
       "        [-4.63729054e-02],\n",
       "        [ 8.14673454e-02],\n",
       "        [-1.94523379e-01],\n",
       "        [-1.84666008e-01],\n",
       "        [-2.42469057e-01],\n",
       "        [ 1.28984943e-01],\n",
       "        [-1.19452924e-01],\n",
       "        [-3.04518035e-04],\n",
       "        [-1.72965109e-01],\n",
       "        [ 3.12255509e-02],\n",
       "        [ 4.51561511e-02],\n",
       "        [ 1.17034525e-01],\n",
       "        [ 9.46558416e-02],\n",
       "        [ 3.70967507e-01],\n",
       "        [ 1.25797614e-01],\n",
       "        [-1.03470244e-01],\n",
       "        [ 6.20728992e-02],\n",
       "        [ 1.89551294e-01],\n",
       "        [ 8.43764618e-02],\n",
       "        [-9.32387337e-02],\n",
       "        [-1.07556768e-01],\n",
       "        [ 6.98427334e-02],\n",
       "        [-6.78649098e-02],\n",
       "        [-1.61453232e-01],\n",
       "        [ 1.01531804e-01],\n",
       "        [-1.00288711e-01],\n",
       "        [ 2.48411708e-02],\n",
       "        [ 1.85428485e-02],\n",
       "        [ 1.03318363e-01],\n",
       "        [-1.48908138e-01],\n",
       "        [ 1.30911052e-01],\n",
       "        [ 1.50398031e-01],\n",
       "        [ 1.49890438e-01],\n",
       "        [-1.35763764e-01],\n",
       "        [-2.31372714e-01]], dtype=float32),\n",
       " array([0.8702904], dtype=float32)]"
      ]
     },
     "execution_count": 4,
     "metadata": {},
     "output_type": "execute_result"
    }
   ],
   "source": [
    "model.get_weights()"
   ]
  },
  {
   "cell_type": "code",
   "execution_count": 5,
   "metadata": {},
   "outputs": [],
   "source": [
    "# Step 2: Helper Functions\n",
    "# Function to decode reviews\n",
    "def decode_review(encoded_review):\n",
    "    return ' '.join([reverse_word_index.get(i - 3, '?') for i in encoded_review])\n",
    "\n",
    "# Function to preprocess user input\n",
    "def preprocess_text(text):\n",
    "    words = text.lower().split()\n",
    "    encoded_review = [word_index.get(word, 2) + 3 for word in words]\n",
    "    padded_review = sequence.pad_sequences([encoded_review], maxlen=500)\n",
    "    return padded_review"
   ]
  },
  {
   "cell_type": "code",
   "execution_count": 6,
   "metadata": {},
   "outputs": [],
   "source": [
    "### Prediction  function\n",
    "\n",
    "def predict_sentiment(review):\n",
    "    preprocessed_input=preprocess_text(review)\n",
    "\n",
    "    prediction=model.predict(preprocessed_input)\n",
    "\n",
    "    sentiment = 'Positive' if prediction[0][0] > 0.5 else 'Negative'\n",
    "    \n",
    "    return sentiment, prediction[0][0]\n",
    "\n"
   ]
  },
  {
   "cell_type": "code",
   "execution_count": 7,
   "metadata": {},
   "outputs": [
    {
     "name": "stderr",
     "output_type": "stream",
     "text": [
      "WARNING: All log messages before absl::InitializeLog() is called are written to STDERR\n",
      "I0000 00:00:1751033132.847821   14814 service.cc:152] XLA service 0x7c0a6c004ab0 initialized for platform CUDA (this does not guarantee that XLA will be used). Devices:\n",
      "I0000 00:00:1751033132.847836   14814 service.cc:160]   StreamExecutor device (0): NVIDIA GeForce RTX 4070 SUPER, Compute Capability 8.9\n",
      "2025-06-27 19:35:32.858279: I tensorflow/compiler/mlir/tensorflow/utils/dump_mlir_util.cc:269] disabling MLIR crash reproducer, set env var `MLIR_CRASH_REPRODUCER_DIRECTORY` to enable.\n"
     ]
    },
    {
     "name": "stdout",
     "output_type": "stream",
     "text": [
      "\u001b[1m1/1\u001b[0m \u001b[32m━━━━━━━━━━━━━━━━━━━━\u001b[0m\u001b[37m\u001b[0m \u001b[1m0s\u001b[0m 191ms/step\n",
      "Review: This movie was fantastic! The acting was great and the plot was thrilling.\n",
      "Sentiment: Negative\n",
      "Prediction Score: 0.0845642238855362\n"
     ]
    },
    {
     "name": "stderr",
     "output_type": "stream",
     "text": [
      "I0000 00:00:1751033132.872804   14814 cuda_dnn.cc:529] Loaded cuDNN version 91002\n",
      "I0000 00:00:1751033132.958714   14814 device_compiler.h:188] Compiled cluster using XLA!  This line is logged at most once for the lifetime of the process.\n"
     ]
    }
   ],
   "source": [
    "# Step 4: User Input and Prediction\n",
    "# Example review for prediction\n",
    "example_review = \"This movie was fantastic! The acting was great and the plot was thrilling.\"\n",
    "\n",
    "sentiment,score=predict_sentiment(example_review)\n",
    "\n",
    "print(f'Review: {example_review}')\n",
    "print(f'Sentiment: {sentiment}')\n",
    "print(f'Prediction Score: {score}')"
   ]
  },
  {
   "cell_type": "code",
   "execution_count": null,
   "metadata": {},
   "outputs": [],
   "source": []
  },
  {
   "cell_type": "code",
   "execution_count": null,
   "metadata": {},
   "outputs": [],
   "source": []
  },
  {
   "cell_type": "code",
   "execution_count": null,
   "metadata": {},
   "outputs": [],
   "source": []
  },
  {
   "cell_type": "code",
   "execution_count": null,
   "metadata": {},
   "outputs": [],
   "source": []
  }
 ],
 "metadata": {
  "kernelspec": {
   "display_name": "Python 3",
   "language": "python",
   "name": "python3"
  },
  "language_info": {
   "codemirror_mode": {
    "name": "ipython",
    "version": 3
   },
   "file_extension": ".py",
   "mimetype": "text/x-python",
   "name": "python",
   "nbconvert_exporter": "python",
   "pygments_lexer": "ipython3",
   "version": "3.11.9"
  }
 },
 "nbformat": 4,
 "nbformat_minor": 2
}
